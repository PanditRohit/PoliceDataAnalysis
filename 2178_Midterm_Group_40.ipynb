{
  "nbformat": 4,
  "nbformat_minor": 0,
  "metadata": {
    "colab": {
      "provenance": [],
      "toc_visible": true
    },
    "kernelspec": {
      "name": "python3",
      "display_name": "Python 3"
    },
    "language_info": {
      "name": "python"
    }
  },
  "cells": [
    {
      "cell_type": "code",
      "execution_count": null,
      "metadata": {
        "id": "qmqHgOuImbdf",
        "colab": {
          "base_uri": "https://localhost:8080/"
        },
        "outputId": "76ec207b-0786-42c1-c843-4b0cd1abdfb6"
      },
      "outputs": [
        {
          "output_type": "stream",
          "name": "stdout",
          "text": [
            "Looking in indexes: https://pypi.org/simple, https://us-python.pkg.dev/colab-wheels/public/simple/\n",
            "Requirement already satisfied: scikit_posthocs in /usr/local/lib/python3.9/dist-packages (0.7.0)\n",
            "Requirement already satisfied: numpy in /usr/local/lib/python3.9/dist-packages (from scikit_posthocs) (1.22.4)\n",
            "Requirement already satisfied: pandas>=0.20.0 in /usr/local/lib/python3.9/dist-packages (from scikit_posthocs) (1.4.4)\n",
            "Requirement already satisfied: seaborn in /usr/local/lib/python3.9/dist-packages (from scikit_posthocs) (0.12.2)\n",
            "Requirement already satisfied: scipy in /usr/local/lib/python3.9/dist-packages (from scikit_posthocs) (1.10.1)\n",
            "Requirement already satisfied: matplotlib in /usr/local/lib/python3.9/dist-packages (from scikit_posthocs) (3.7.1)\n",
            "Requirement already satisfied: statsmodels in /usr/local/lib/python3.9/dist-packages (from scikit_posthocs) (0.13.5)\n",
            "Requirement already satisfied: pytz>=2020.1 in /usr/local/lib/python3.9/dist-packages (from pandas>=0.20.0->scikit_posthocs) (2022.7.1)\n",
            "Requirement already satisfied: python-dateutil>=2.8.1 in /usr/local/lib/python3.9/dist-packages (from pandas>=0.20.0->scikit_posthocs) (2.8.2)\n",
            "Requirement already satisfied: packaging>=20.0 in /usr/local/lib/python3.9/dist-packages (from matplotlib->scikit_posthocs) (23.0)\n",
            "Requirement already satisfied: cycler>=0.10 in /usr/local/lib/python3.9/dist-packages (from matplotlib->scikit_posthocs) (0.11.0)\n",
            "Requirement already satisfied: importlib-resources>=3.2.0 in /usr/local/lib/python3.9/dist-packages (from matplotlib->scikit_posthocs) (5.12.0)\n",
            "Requirement already satisfied: pyparsing>=2.3.1 in /usr/local/lib/python3.9/dist-packages (from matplotlib->scikit_posthocs) (3.0.9)\n",
            "Requirement already satisfied: pillow>=6.2.0 in /usr/local/lib/python3.9/dist-packages (from matplotlib->scikit_posthocs) (8.4.0)\n",
            "Requirement already satisfied: kiwisolver>=1.0.1 in /usr/local/lib/python3.9/dist-packages (from matplotlib->scikit_posthocs) (1.4.4)\n",
            "Requirement already satisfied: fonttools>=4.22.0 in /usr/local/lib/python3.9/dist-packages (from matplotlib->scikit_posthocs) (4.39.2)\n",
            "Requirement already satisfied: contourpy>=1.0.1 in /usr/local/lib/python3.9/dist-packages (from matplotlib->scikit_posthocs) (1.0.7)\n",
            "Requirement already satisfied: patsy>=0.5.2 in /usr/local/lib/python3.9/dist-packages (from statsmodels->scikit_posthocs) (0.5.3)\n",
            "Requirement already satisfied: zipp>=3.1.0 in /usr/local/lib/python3.9/dist-packages (from importlib-resources>=3.2.0->matplotlib->scikit_posthocs) (3.15.0)\n",
            "Requirement already satisfied: six in /usr/local/lib/python3.9/dist-packages (from patsy>=0.5.2->statsmodels->scikit_posthocs) (1.16.0)\n",
            "Looking in indexes: https://pypi.org/simple, https://us-python.pkg.dev/colab-wheels/public/simple/\n",
            "Requirement already satisfied: researchpy in /usr/local/lib/python3.9/dist-packages (0.3.5)\n",
            "Requirement already satisfied: scipy in /usr/local/lib/python3.9/dist-packages (from researchpy) (1.10.1)\n",
            "Requirement already satisfied: statsmodels in /usr/local/lib/python3.9/dist-packages (from researchpy) (0.13.5)\n",
            "Requirement already satisfied: pandas in /usr/local/lib/python3.9/dist-packages (from researchpy) (1.4.4)\n",
            "Requirement already satisfied: patsy in /usr/local/lib/python3.9/dist-packages (from researchpy) (0.5.3)\n",
            "Requirement already satisfied: numpy in /usr/local/lib/python3.9/dist-packages (from researchpy) (1.22.4)\n",
            "Requirement already satisfied: python-dateutil>=2.8.1 in /usr/local/lib/python3.9/dist-packages (from pandas->researchpy) (2.8.2)\n",
            "Requirement already satisfied: pytz>=2020.1 in /usr/local/lib/python3.9/dist-packages (from pandas->researchpy) (2022.7.1)\n",
            "Requirement already satisfied: six in /usr/local/lib/python3.9/dist-packages (from patsy->researchpy) (1.16.0)\n",
            "Requirement already satisfied: packaging>=21.3 in /usr/local/lib/python3.9/dist-packages (from statsmodels->researchpy) (23.0)\n"
          ]
        }
      ],
      "source": [
        "#Import libraries\n",
        "import pandas as pd\n",
        "import numpy as np\n",
        "import matplotlib.pyplot as plt\n",
        "plt.style.use('fivethirtyeight')\n",
        "import seaborn as sns\n",
        "%matplotlib inline \n",
        "import statsmodels\n",
        "from scipy import stats\n",
        "from scipy.stats import levene\n",
        "import scipy.stats\n",
        "import math\n",
        "import random\n",
        "import statistics\n",
        "import scipy.stats as sp\n",
        "from sklearn import linear_model\n",
        "import seaborn as sns\n",
        "\n",
        "import plotly\n",
        "import plotly.express as px\n",
        "import plotly.graph_objects as go\n",
        "\n",
        "!pip install scikit_posthocs\n",
        "!pip install researchpy\n",
        "import researchpy as rp\n",
        "\n",
        "from scipy.stats import f_oneway\n",
        "import scipy.stats as stats\n",
        "from scipy.stats import ttest_ind\n",
        "from statsmodels.stats.multicomp import pairwise_tukeyhsd\n",
        "from scipy.stats import shapiro\n",
        "from tabulate import tabulate\n",
        "import statsmodels.api as sm\n",
        "from statsmodels.formula.api import ols\n",
        "from scipy.stats import levene\n",
        "from tabulate import tabulate\n",
        "import statsmodels.stats.api as sms\n"
      ]
    },
    {
      "cell_type": "code",
      "source": [
        "#Define dataset url\n",
        "url = \"https://raw.githubusercontent.com/shionguha/inf2178-expdesignfordatascience-w23/main/project%20dataset/Arrests_and_Strip_Searches_(RBDC-ARR-TBL-001).csv\""
      ],
      "metadata": {
        "id": "vLErX0lLS-yA"
      },
      "execution_count": null,
      "outputs": []
    },
    {
      "cell_type": "code",
      "source": [
        "#Read dataset\n",
        "dataset = pd.read_csv(url, delimiter = ',')"
      ],
      "metadata": {
        "id": "KfshgMfeTQHl"
      },
      "execution_count": null,
      "outputs": []
    },
    {
      "cell_type": "code",
      "source": [
        "dataset.head()"
      ],
      "metadata": {
        "id": "Gupa-JwkuqVS",
        "colab": {
          "base_uri": "https://localhost:8080/",
          "height": 317
        },
        "outputId": "399a3d55-a75d-45d7-aa43-6d0fd85cfb27"
      },
      "execution_count": null,
      "outputs": [
        {
          "output_type": "execute_result",
          "data": {
            "text/plain": [
              "   Arrest_Year Arrest_Month  EventID   ArrestID  PersonID     Perceived_Race  \\\n",
              "0         2020    July-Sept  1005907  6017884.0    326622              White   \n",
              "1         2020    July-Sept  1014562  6056669.0    326622              White   \n",
              "2         2020      Oct-Dec  1029922  6057065.0    326622  Unknown or Legacy   \n",
              "3         2021      Jan-Mar  1052190  6029059.0    327535              Black   \n",
              "4         2021      Jan-Mar  1015512  6040372.0    327535        South Asian   \n",
              "\n",
              "  Sex Age_group__at_arrest_ Youth_at_arrest__under_18_years ArrestLocDiv  ...  \\\n",
              "0   M   Aged 35 to 44 years                     Not a youth           54  ...   \n",
              "1   M   Aged 35 to 44 years                     Not a youth           54  ...   \n",
              "2   M   Aged 35 to 44 years                     Not a youth           54  ...   \n",
              "3   M   Aged 25 to 34 years                     Not a youth           XX  ...   \n",
              "4   M   Aged 25 to 34 years                     Not a youth           XX  ...   \n",
              "\n",
              "   Actions_at_arrest___Resisted__d  Actions_at_arrest___Mental_inst  \\\n",
              "0                                0                                0   \n",
              "1                                0                                0   \n",
              "2                                0                                0   \n",
              "3                                0                                0   \n",
              "4                                0                                0   \n",
              "\n",
              "  Actions_at_arrest___Assaulted_o  Actions_at_arrest___Cooperative  \\\n",
              "0                               0                                1   \n",
              "1                               0                                0   \n",
              "2                               0                                0   \n",
              "3                               0                                0   \n",
              "4                               0                                0   \n",
              "\n",
              "   SearchReason_CauseInjury  SearchReason_AssistEscape  \\\n",
              "0                       NaN                        NaN   \n",
              "1                       NaN                        NaN   \n",
              "2                       NaN                        NaN   \n",
              "3                       NaN                        NaN   \n",
              "4                       NaN                        NaN   \n",
              "\n",
              "   SearchReason_PossessWeapons  SearchReason_PossessEvidence  ItemsFound  \\\n",
              "0                          NaN                           NaN         NaN   \n",
              "1                          NaN                           NaN         NaN   \n",
              "2                          NaN                           NaN         NaN   \n",
              "3                          NaN                           NaN         NaN   \n",
              "4                          NaN                           NaN         NaN   \n",
              "\n",
              "   ObjectId  \n",
              "0         1  \n",
              "1         2  \n",
              "2         3  \n",
              "3         4  \n",
              "4         5  \n",
              "\n",
              "[5 rows x 25 columns]"
            ],
            "text/html": [
              "\n",
              "  <div id=\"df-5b9915e1-20ac-4b5d-8c3d-4e91cc801171\">\n",
              "    <div class=\"colab-df-container\">\n",
              "      <div>\n",
              "<style scoped>\n",
              "    .dataframe tbody tr th:only-of-type {\n",
              "        vertical-align: middle;\n",
              "    }\n",
              "\n",
              "    .dataframe tbody tr th {\n",
              "        vertical-align: top;\n",
              "    }\n",
              "\n",
              "    .dataframe thead th {\n",
              "        text-align: right;\n",
              "    }\n",
              "</style>\n",
              "<table border=\"1\" class=\"dataframe\">\n",
              "  <thead>\n",
              "    <tr style=\"text-align: right;\">\n",
              "      <th></th>\n",
              "      <th>Arrest_Year</th>\n",
              "      <th>Arrest_Month</th>\n",
              "      <th>EventID</th>\n",
              "      <th>ArrestID</th>\n",
              "      <th>PersonID</th>\n",
              "      <th>Perceived_Race</th>\n",
              "      <th>Sex</th>\n",
              "      <th>Age_group__at_arrest_</th>\n",
              "      <th>Youth_at_arrest__under_18_years</th>\n",
              "      <th>ArrestLocDiv</th>\n",
              "      <th>...</th>\n",
              "      <th>Actions_at_arrest___Resisted__d</th>\n",
              "      <th>Actions_at_arrest___Mental_inst</th>\n",
              "      <th>Actions_at_arrest___Assaulted_o</th>\n",
              "      <th>Actions_at_arrest___Cooperative</th>\n",
              "      <th>SearchReason_CauseInjury</th>\n",
              "      <th>SearchReason_AssistEscape</th>\n",
              "      <th>SearchReason_PossessWeapons</th>\n",
              "      <th>SearchReason_PossessEvidence</th>\n",
              "      <th>ItemsFound</th>\n",
              "      <th>ObjectId</th>\n",
              "    </tr>\n",
              "  </thead>\n",
              "  <tbody>\n",
              "    <tr>\n",
              "      <th>0</th>\n",
              "      <td>2020</td>\n",
              "      <td>July-Sept</td>\n",
              "      <td>1005907</td>\n",
              "      <td>6017884.0</td>\n",
              "      <td>326622</td>\n",
              "      <td>White</td>\n",
              "      <td>M</td>\n",
              "      <td>Aged 35 to 44 years</td>\n",
              "      <td>Not a youth</td>\n",
              "      <td>54</td>\n",
              "      <td>...</td>\n",
              "      <td>0</td>\n",
              "      <td>0</td>\n",
              "      <td>0</td>\n",
              "      <td>1</td>\n",
              "      <td>NaN</td>\n",
              "      <td>NaN</td>\n",
              "      <td>NaN</td>\n",
              "      <td>NaN</td>\n",
              "      <td>NaN</td>\n",
              "      <td>1</td>\n",
              "    </tr>\n",
              "    <tr>\n",
              "      <th>1</th>\n",
              "      <td>2020</td>\n",
              "      <td>July-Sept</td>\n",
              "      <td>1014562</td>\n",
              "      <td>6056669.0</td>\n",
              "      <td>326622</td>\n",
              "      <td>White</td>\n",
              "      <td>M</td>\n",
              "      <td>Aged 35 to 44 years</td>\n",
              "      <td>Not a youth</td>\n",
              "      <td>54</td>\n",
              "      <td>...</td>\n",
              "      <td>0</td>\n",
              "      <td>0</td>\n",
              "      <td>0</td>\n",
              "      <td>0</td>\n",
              "      <td>NaN</td>\n",
              "      <td>NaN</td>\n",
              "      <td>NaN</td>\n",
              "      <td>NaN</td>\n",
              "      <td>NaN</td>\n",
              "      <td>2</td>\n",
              "    </tr>\n",
              "    <tr>\n",
              "      <th>2</th>\n",
              "      <td>2020</td>\n",
              "      <td>Oct-Dec</td>\n",
              "      <td>1029922</td>\n",
              "      <td>6057065.0</td>\n",
              "      <td>326622</td>\n",
              "      <td>Unknown or Legacy</td>\n",
              "      <td>M</td>\n",
              "      <td>Aged 35 to 44 years</td>\n",
              "      <td>Not a youth</td>\n",
              "      <td>54</td>\n",
              "      <td>...</td>\n",
              "      <td>0</td>\n",
              "      <td>0</td>\n",
              "      <td>0</td>\n",
              "      <td>0</td>\n",
              "      <td>NaN</td>\n",
              "      <td>NaN</td>\n",
              "      <td>NaN</td>\n",
              "      <td>NaN</td>\n",
              "      <td>NaN</td>\n",
              "      <td>3</td>\n",
              "    </tr>\n",
              "    <tr>\n",
              "      <th>3</th>\n",
              "      <td>2021</td>\n",
              "      <td>Jan-Mar</td>\n",
              "      <td>1052190</td>\n",
              "      <td>6029059.0</td>\n",
              "      <td>327535</td>\n",
              "      <td>Black</td>\n",
              "      <td>M</td>\n",
              "      <td>Aged 25 to 34 years</td>\n",
              "      <td>Not a youth</td>\n",
              "      <td>XX</td>\n",
              "      <td>...</td>\n",
              "      <td>0</td>\n",
              "      <td>0</td>\n",
              "      <td>0</td>\n",
              "      <td>0</td>\n",
              "      <td>NaN</td>\n",
              "      <td>NaN</td>\n",
              "      <td>NaN</td>\n",
              "      <td>NaN</td>\n",
              "      <td>NaN</td>\n",
              "      <td>4</td>\n",
              "    </tr>\n",
              "    <tr>\n",
              "      <th>4</th>\n",
              "      <td>2021</td>\n",
              "      <td>Jan-Mar</td>\n",
              "      <td>1015512</td>\n",
              "      <td>6040372.0</td>\n",
              "      <td>327535</td>\n",
              "      <td>South Asian</td>\n",
              "      <td>M</td>\n",
              "      <td>Aged 25 to 34 years</td>\n",
              "      <td>Not a youth</td>\n",
              "      <td>XX</td>\n",
              "      <td>...</td>\n",
              "      <td>0</td>\n",
              "      <td>0</td>\n",
              "      <td>0</td>\n",
              "      <td>0</td>\n",
              "      <td>NaN</td>\n",
              "      <td>NaN</td>\n",
              "      <td>NaN</td>\n",
              "      <td>NaN</td>\n",
              "      <td>NaN</td>\n",
              "      <td>5</td>\n",
              "    </tr>\n",
              "  </tbody>\n",
              "</table>\n",
              "<p>5 rows × 25 columns</p>\n",
              "</div>\n",
              "      <button class=\"colab-df-convert\" onclick=\"convertToInteractive('df-5b9915e1-20ac-4b5d-8c3d-4e91cc801171')\"\n",
              "              title=\"Convert this dataframe to an interactive table.\"\n",
              "              style=\"display:none;\">\n",
              "        \n",
              "  <svg xmlns=\"http://www.w3.org/2000/svg\" height=\"24px\"viewBox=\"0 0 24 24\"\n",
              "       width=\"24px\">\n",
              "    <path d=\"M0 0h24v24H0V0z\" fill=\"none\"/>\n",
              "    <path d=\"M18.56 5.44l.94 2.06.94-2.06 2.06-.94-2.06-.94-.94-2.06-.94 2.06-2.06.94zm-11 1L8.5 8.5l.94-2.06 2.06-.94-2.06-.94L8.5 2.5l-.94 2.06-2.06.94zm10 10l.94 2.06.94-2.06 2.06-.94-2.06-.94-.94-2.06-.94 2.06-2.06.94z\"/><path d=\"M17.41 7.96l-1.37-1.37c-.4-.4-.92-.59-1.43-.59-.52 0-1.04.2-1.43.59L10.3 9.45l-7.72 7.72c-.78.78-.78 2.05 0 2.83L4 21.41c.39.39.9.59 1.41.59.51 0 1.02-.2 1.41-.59l7.78-7.78 2.81-2.81c.8-.78.8-2.07 0-2.86zM5.41 20L4 18.59l7.72-7.72 1.47 1.35L5.41 20z\"/>\n",
              "  </svg>\n",
              "      </button>\n",
              "      \n",
              "  <style>\n",
              "    .colab-df-container {\n",
              "      display:flex;\n",
              "      flex-wrap:wrap;\n",
              "      gap: 12px;\n",
              "    }\n",
              "\n",
              "    .colab-df-convert {\n",
              "      background-color: #E8F0FE;\n",
              "      border: none;\n",
              "      border-radius: 50%;\n",
              "      cursor: pointer;\n",
              "      display: none;\n",
              "      fill: #1967D2;\n",
              "      height: 32px;\n",
              "      padding: 0 0 0 0;\n",
              "      width: 32px;\n",
              "    }\n",
              "\n",
              "    .colab-df-convert:hover {\n",
              "      background-color: #E2EBFA;\n",
              "      box-shadow: 0px 1px 2px rgba(60, 64, 67, 0.3), 0px 1px 3px 1px rgba(60, 64, 67, 0.15);\n",
              "      fill: #174EA6;\n",
              "    }\n",
              "\n",
              "    [theme=dark] .colab-df-convert {\n",
              "      background-color: #3B4455;\n",
              "      fill: #D2E3FC;\n",
              "    }\n",
              "\n",
              "    [theme=dark] .colab-df-convert:hover {\n",
              "      background-color: #434B5C;\n",
              "      box-shadow: 0px 1px 3px 1px rgba(0, 0, 0, 0.15);\n",
              "      filter: drop-shadow(0px 1px 2px rgba(0, 0, 0, 0.3));\n",
              "      fill: #FFFFFF;\n",
              "    }\n",
              "  </style>\n",
              "\n",
              "      <script>\n",
              "        const buttonEl =\n",
              "          document.querySelector('#df-5b9915e1-20ac-4b5d-8c3d-4e91cc801171 button.colab-df-convert');\n",
              "        buttonEl.style.display =\n",
              "          google.colab.kernel.accessAllowed ? 'block' : 'none';\n",
              "\n",
              "        async function convertToInteractive(key) {\n",
              "          const element = document.querySelector('#df-5b9915e1-20ac-4b5d-8c3d-4e91cc801171');\n",
              "          const dataTable =\n",
              "            await google.colab.kernel.invokeFunction('convertToInteractive',\n",
              "                                                     [key], {});\n",
              "          if (!dataTable) return;\n",
              "\n",
              "          const docLinkHtml = 'Like what you see? Visit the ' +\n",
              "            '<a target=\"_blank\" href=https://colab.research.google.com/notebooks/data_table.ipynb>data table notebook</a>'\n",
              "            + ' to learn more about interactive tables.';\n",
              "          element.innerHTML = '';\n",
              "          dataTable['output_type'] = 'display_data';\n",
              "          await google.colab.output.renderOutput(dataTable, element);\n",
              "          const docLink = document.createElement('div');\n",
              "          docLink.innerHTML = docLinkHtml;\n",
              "          element.appendChild(docLink);\n",
              "        }\n",
              "      </script>\n",
              "    </div>\n",
              "  </div>\n",
              "  "
            ]
          },
          "metadata": {},
          "execution_count": 90
        }
      ]
    },
    {
      "cell_type": "markdown",
      "source": [
        "### Data Cleaning "
      ],
      "metadata": {
        "id": "f308o98EXWKn"
      }
    },
    {
      "cell_type": "code",
      "source": [
        "#Check for duplicate and null values in a dataset\n",
        "duplicate_df = []\n",
        "print(\"Number of duplicate values in the dataset are-\",dataset.duplicated().sum())\n",
        "print(\"\\n\")\n",
        "print(dataset.isnull().sum())"
      ],
      "metadata": {
        "id": "YLAhkpBHVH_C",
        "colab": {
          "base_uri": "https://localhost:8080/"
        },
        "outputId": "082f8327-1cb0-4bb4-8644-9def58274db7"
      },
      "execution_count": null,
      "outputs": [
        {
          "output_type": "stream",
          "name": "stdout",
          "text": [
            "Number of duplicate values in the dataset are- 0\n",
            "\n",
            "\n",
            "Arrest_Year                            0\n",
            "Arrest_Month                           0\n",
            "EventID                                0\n",
            "ArrestID                             469\n",
            "PersonID                               0\n",
            "Perceived_Race                         4\n",
            "Sex                                    0\n",
            "Age_group__at_arrest_                 24\n",
            "Youth_at_arrest__under_18_years        0\n",
            "ArrestLocDiv                           0\n",
            "StripSearch                            0\n",
            "Booked                                 0\n",
            "Occurrence_Category                  165\n",
            "Actions_at_arrest___Concealed_i        0\n",
            "Actions_at_arrest___Combative__        0\n",
            "Actions_at_arrest___Resisted__d        0\n",
            "Actions_at_arrest___Mental_inst        0\n",
            "Actions_at_arrest___Assaulted_o        0\n",
            "Actions_at_arrest___Cooperative        0\n",
            "SearchReason_CauseInjury           57475\n",
            "SearchReason_AssistEscape          57475\n",
            "SearchReason_PossessWeapons        57475\n",
            "SearchReason_PossessEvidence       57475\n",
            "ItemsFound                         57475\n",
            "ObjectId                               0\n",
            "dtype: int64\n"
          ]
        }
      ]
    },
    {
      "cell_type": "code",
      "source": [
        "#Data Cleaning\n",
        "numeric_columns = [\"ArrestID\",\"SearchReason_CauseInjury\",\"SearchReason_AssistEscape\",\"SearchReason_PossessWeapons\",\"SearchReason_PossessEvidence\",\"ItemsFound\"]\n",
        "dataset[numeric_columns] = dataset[numeric_columns].fillna(0)\n",
        "categorical_columns = [\"Age_group__at_arrest_\", \"Occurrence_Category\",\"Perceived_Race\"]\n",
        "dataset[categorical_columns]=dataset[categorical_columns].fillna(dataset.mode().iloc[0])\n",
        "clean_dataset = dataset\n",
        "print(clean_dataset.isnull().sum())"
      ],
      "metadata": {
        "id": "nFgEhaPKV1w9",
        "colab": {
          "base_uri": "https://localhost:8080/"
        },
        "outputId": "17af2e84-e147-4832-a0cd-c741bd084c09"
      },
      "execution_count": null,
      "outputs": [
        {
          "output_type": "stream",
          "name": "stdout",
          "text": [
            "Arrest_Year                        0\n",
            "Arrest_Month                       0\n",
            "EventID                            0\n",
            "ArrestID                           0\n",
            "PersonID                           0\n",
            "Perceived_Race                     0\n",
            "Sex                                0\n",
            "Age_group__at_arrest_              0\n",
            "Youth_at_arrest__under_18_years    0\n",
            "ArrestLocDiv                       0\n",
            "StripSearch                        0\n",
            "Booked                             0\n",
            "Occurrence_Category                0\n",
            "Actions_at_arrest___Concealed_i    0\n",
            "Actions_at_arrest___Combative__    0\n",
            "Actions_at_arrest___Resisted__d    0\n",
            "Actions_at_arrest___Mental_inst    0\n",
            "Actions_at_arrest___Assaulted_o    0\n",
            "Actions_at_arrest___Cooperative    0\n",
            "SearchReason_CauseInjury           0\n",
            "SearchReason_AssistEscape          0\n",
            "SearchReason_PossessWeapons        0\n",
            "SearchReason_PossessEvidence       0\n",
            "ItemsFound                         0\n",
            "ObjectId                           0\n",
            "dtype: int64\n"
          ]
        }
      ]
    },
    {
      "cell_type": "code",
      "source": [
        "clean_dataset.head()\n",
        "clean_dataset.to_csv('clean_dataset.csv', index=False)"
      ],
      "metadata": {
        "id": "I9bhf-bPFU1f"
      },
      "execution_count": null,
      "outputs": []
    },
    {
      "cell_type": "code",
      "source": [
        "#Remove column values \n",
        "clean_dataset = clean_dataset.drop(clean_dataset[clean_dataset['Sex'] == 'U'].index)\n",
        "clean_dataset = clean_dataset.drop(clean_dataset[clean_dataset['Perceived_Race'] == 'Unknown or Legacy'].index)\n",
        "#Replace values\n",
        "clean_dataset=(clean_dataset.replace(to_replace =[\"Youth (aged 17 years and under)\"],value =[\"Youth (aged 17 and younger)\"]))"
      ],
      "metadata": {
        "id": "AcFNos25HInG"
      },
      "execution_count": null,
      "outputs": []
    },
    {
      "cell_type": "code",
      "source": [
        "clean_dataset.info()"
      ],
      "metadata": {
        "colab": {
          "base_uri": "https://localhost:8080/"
        },
        "id": "VT0IGbgJ-dmE",
        "outputId": "18745479-0c27-4684-8ce3-50034b7aa16a"
      },
      "execution_count": null,
      "outputs": [
        {
          "output_type": "stream",
          "name": "stdout",
          "text": [
            "<class 'pandas.core.frame.DataFrame'>\n",
            "Int64Index: 60214 entries, 0 to 65275\n",
            "Data columns (total 25 columns):\n",
            " #   Column                           Non-Null Count  Dtype  \n",
            "---  ------                           --------------  -----  \n",
            " 0   Arrest_Year                      60214 non-null  int64  \n",
            " 1   Arrest_Month                     60214 non-null  object \n",
            " 2   EventID                          60214 non-null  int64  \n",
            " 3   ArrestID                         60214 non-null  float64\n",
            " 4   PersonID                         60214 non-null  int64  \n",
            " 5   Perceived_Race                   60214 non-null  object \n",
            " 6   Sex                              60214 non-null  object \n",
            " 7   Age_group__at_arrest_            60214 non-null  object \n",
            " 8   Youth_at_arrest__under_18_years  60214 non-null  object \n",
            " 9   ArrestLocDiv                     60214 non-null  object \n",
            " 10  StripSearch                      60214 non-null  int64  \n",
            " 11  Booked                           60214 non-null  int64  \n",
            " 12  Occurrence_Category              60214 non-null  object \n",
            " 13  Actions_at_arrest___Concealed_i  60214 non-null  int64  \n",
            " 14  Actions_at_arrest___Combative__  60214 non-null  int64  \n",
            " 15  Actions_at_arrest___Resisted__d  60214 non-null  int64  \n",
            " 16  Actions_at_arrest___Mental_inst  60214 non-null  int64  \n",
            " 17  Actions_at_arrest___Assaulted_o  60214 non-null  int64  \n",
            " 18  Actions_at_arrest___Cooperative  60214 non-null  int64  \n",
            " 19  SearchReason_CauseInjury         60214 non-null  float64\n",
            " 20  SearchReason_AssistEscape        60214 non-null  float64\n",
            " 21  SearchReason_PossessWeapons      60214 non-null  float64\n",
            " 22  SearchReason_PossessEvidence     60214 non-null  float64\n",
            " 23  ItemsFound                       60214 non-null  float64\n",
            " 24  ObjectId                         60214 non-null  int64  \n",
            "dtypes: float64(6), int64(12), object(7)\n",
            "memory usage: 11.9+ MB\n"
          ]
        }
      ]
    },
    {
      "cell_type": "code",
      "source": [
        "clean_dataset.describe()"
      ],
      "metadata": {
        "colab": {
          "base_uri": "https://localhost:8080/",
          "height": 364
        },
        "id": "-bQecLEJ-exG",
        "outputId": "896bbc28-5b09-471b-8a1b-e4f090aeaac9"
      },
      "execution_count": null,
      "outputs": [
        {
          "output_type": "execute_result",
          "data": {
            "text/plain": [
              "        Arrest_Year       EventID      ArrestID       PersonID   StripSearch  \\\n",
              "count  60214.000000  6.021400e+04  6.021400e+04   60214.000000  60214.000000   \n",
              "mean    2020.512339  1.030005e+06  5.989662e+06  318584.185339      0.120653   \n",
              "std        0.499852  1.731831e+04  5.065369e+05   10824.009603      0.325726   \n",
              "min     2020.000000  1.000000e+06  0.000000e+00  300000.000000      0.000000   \n",
              "25%     2020.000000  1.015006e+06  6.015893e+06  309176.250000      0.000000   \n",
              "50%     2021.000000  1.030034e+06  6.032216e+06  318593.000000      0.000000   \n",
              "75%     2021.000000  1.045015e+06  6.048549e+06  327907.750000      0.000000   \n",
              "max     2021.000000  1.060002e+06  6.064804e+06  337346.000000      1.000000   \n",
              "\n",
              "             Booked  Actions_at_arrest___Concealed_i  \\\n",
              "count  60214.000000                     60214.000000   \n",
              "mean       0.522686                         0.004185   \n",
              "std        0.499489                         0.064557   \n",
              "min        0.000000                         0.000000   \n",
              "25%        0.000000                         0.000000   \n",
              "50%        1.000000                         0.000000   \n",
              "75%        1.000000                         0.000000   \n",
              "max        1.000000                         1.000000   \n",
              "\n",
              "       Actions_at_arrest___Combative__  Actions_at_arrest___Resisted__d  \\\n",
              "count                     60214.000000                     60214.000000   \n",
              "mean                          0.045288                         0.039227   \n",
              "std                           0.207938                         0.194136   \n",
              "min                           0.000000                         0.000000   \n",
              "25%                           0.000000                         0.000000   \n",
              "50%                           0.000000                         0.000000   \n",
              "75%                           0.000000                         0.000000   \n",
              "max                           1.000000                         1.000000   \n",
              "\n",
              "       Actions_at_arrest___Mental_inst  Actions_at_arrest___Assaulted_o  \\\n",
              "count                      60214.00000                     60214.000000   \n",
              "mean                           0.03446                         0.006460   \n",
              "std                            0.18241                         0.080117   \n",
              "min                            0.00000                         0.000000   \n",
              "25%                            0.00000                         0.000000   \n",
              "50%                            0.00000                         0.000000   \n",
              "75%                            0.00000                         0.000000   \n",
              "max                            1.00000                         1.000000   \n",
              "\n",
              "       Actions_at_arrest___Cooperative  SearchReason_CauseInjury  \\\n",
              "count                     60214.000000              60214.000000   \n",
              "mean                          0.446524                  0.092703   \n",
              "std                           0.497136                  0.290018   \n",
              "min                           0.000000                  0.000000   \n",
              "25%                           0.000000                  0.000000   \n",
              "50%                           0.000000                  0.000000   \n",
              "75%                           1.000000                  0.000000   \n",
              "max                           1.000000                  1.000000   \n",
              "\n",
              "       SearchReason_AssistEscape  SearchReason_PossessWeapons  \\\n",
              "count               60214.000000                 60214.000000   \n",
              "mean                    0.041386                     0.054937   \n",
              "std                     0.199182                     0.227860   \n",
              "min                     0.000000                     0.000000   \n",
              "25%                     0.000000                     0.000000   \n",
              "50%                     0.000000                     0.000000   \n",
              "75%                     0.000000                     0.000000   \n",
              "max                     1.000000                     1.000000   \n",
              "\n",
              "       SearchReason_PossessEvidence    ItemsFound      ObjectId  \n",
              "count                  60214.000000  60214.000000  60214.000000  \n",
              "mean                       0.050702      0.045106  32576.013120  \n",
              "std                        0.219391      0.207538  18896.577278  \n",
              "min                        0.000000      0.000000      1.000000  \n",
              "25%                        0.000000      0.000000  16155.250000  \n",
              "50%                        0.000000      0.000000  32545.000000  \n",
              "75%                        0.000000      0.000000  48978.750000  \n",
              "max                        1.000000      1.000000  65276.000000  "
            ],
            "text/html": [
              "\n",
              "  <div id=\"df-7197cf49-1248-475f-9e10-2b2ad03a2c74\">\n",
              "    <div class=\"colab-df-container\">\n",
              "      <div>\n",
              "<style scoped>\n",
              "    .dataframe tbody tr th:only-of-type {\n",
              "        vertical-align: middle;\n",
              "    }\n",
              "\n",
              "    .dataframe tbody tr th {\n",
              "        vertical-align: top;\n",
              "    }\n",
              "\n",
              "    .dataframe thead th {\n",
              "        text-align: right;\n",
              "    }\n",
              "</style>\n",
              "<table border=\"1\" class=\"dataframe\">\n",
              "  <thead>\n",
              "    <tr style=\"text-align: right;\">\n",
              "      <th></th>\n",
              "      <th>Arrest_Year</th>\n",
              "      <th>EventID</th>\n",
              "      <th>ArrestID</th>\n",
              "      <th>PersonID</th>\n",
              "      <th>StripSearch</th>\n",
              "      <th>Booked</th>\n",
              "      <th>Actions_at_arrest___Concealed_i</th>\n",
              "      <th>Actions_at_arrest___Combative__</th>\n",
              "      <th>Actions_at_arrest___Resisted__d</th>\n",
              "      <th>Actions_at_arrest___Mental_inst</th>\n",
              "      <th>Actions_at_arrest___Assaulted_o</th>\n",
              "      <th>Actions_at_arrest___Cooperative</th>\n",
              "      <th>SearchReason_CauseInjury</th>\n",
              "      <th>SearchReason_AssistEscape</th>\n",
              "      <th>SearchReason_PossessWeapons</th>\n",
              "      <th>SearchReason_PossessEvidence</th>\n",
              "      <th>ItemsFound</th>\n",
              "      <th>ObjectId</th>\n",
              "    </tr>\n",
              "  </thead>\n",
              "  <tbody>\n",
              "    <tr>\n",
              "      <th>count</th>\n",
              "      <td>60214.000000</td>\n",
              "      <td>6.021400e+04</td>\n",
              "      <td>6.021400e+04</td>\n",
              "      <td>60214.000000</td>\n",
              "      <td>60214.000000</td>\n",
              "      <td>60214.000000</td>\n",
              "      <td>60214.000000</td>\n",
              "      <td>60214.000000</td>\n",
              "      <td>60214.000000</td>\n",
              "      <td>60214.00000</td>\n",
              "      <td>60214.000000</td>\n",
              "      <td>60214.000000</td>\n",
              "      <td>60214.000000</td>\n",
              "      <td>60214.000000</td>\n",
              "      <td>60214.000000</td>\n",
              "      <td>60214.000000</td>\n",
              "      <td>60214.000000</td>\n",
              "      <td>60214.000000</td>\n",
              "    </tr>\n",
              "    <tr>\n",
              "      <th>mean</th>\n",
              "      <td>2020.512339</td>\n",
              "      <td>1.030005e+06</td>\n",
              "      <td>5.989662e+06</td>\n",
              "      <td>318584.185339</td>\n",
              "      <td>0.120653</td>\n",
              "      <td>0.522686</td>\n",
              "      <td>0.004185</td>\n",
              "      <td>0.045288</td>\n",
              "      <td>0.039227</td>\n",
              "      <td>0.03446</td>\n",
              "      <td>0.006460</td>\n",
              "      <td>0.446524</td>\n",
              "      <td>0.092703</td>\n",
              "      <td>0.041386</td>\n",
              "      <td>0.054937</td>\n",
              "      <td>0.050702</td>\n",
              "      <td>0.045106</td>\n",
              "      <td>32576.013120</td>\n",
              "    </tr>\n",
              "    <tr>\n",
              "      <th>std</th>\n",
              "      <td>0.499852</td>\n",
              "      <td>1.731831e+04</td>\n",
              "      <td>5.065369e+05</td>\n",
              "      <td>10824.009603</td>\n",
              "      <td>0.325726</td>\n",
              "      <td>0.499489</td>\n",
              "      <td>0.064557</td>\n",
              "      <td>0.207938</td>\n",
              "      <td>0.194136</td>\n",
              "      <td>0.18241</td>\n",
              "      <td>0.080117</td>\n",
              "      <td>0.497136</td>\n",
              "      <td>0.290018</td>\n",
              "      <td>0.199182</td>\n",
              "      <td>0.227860</td>\n",
              "      <td>0.219391</td>\n",
              "      <td>0.207538</td>\n",
              "      <td>18896.577278</td>\n",
              "    </tr>\n",
              "    <tr>\n",
              "      <th>min</th>\n",
              "      <td>2020.000000</td>\n",
              "      <td>1.000000e+06</td>\n",
              "      <td>0.000000e+00</td>\n",
              "      <td>300000.000000</td>\n",
              "      <td>0.000000</td>\n",
              "      <td>0.000000</td>\n",
              "      <td>0.000000</td>\n",
              "      <td>0.000000</td>\n",
              "      <td>0.000000</td>\n",
              "      <td>0.00000</td>\n",
              "      <td>0.000000</td>\n",
              "      <td>0.000000</td>\n",
              "      <td>0.000000</td>\n",
              "      <td>0.000000</td>\n",
              "      <td>0.000000</td>\n",
              "      <td>0.000000</td>\n",
              "      <td>0.000000</td>\n",
              "      <td>1.000000</td>\n",
              "    </tr>\n",
              "    <tr>\n",
              "      <th>25%</th>\n",
              "      <td>2020.000000</td>\n",
              "      <td>1.015006e+06</td>\n",
              "      <td>6.015893e+06</td>\n",
              "      <td>309176.250000</td>\n",
              "      <td>0.000000</td>\n",
              "      <td>0.000000</td>\n",
              "      <td>0.000000</td>\n",
              "      <td>0.000000</td>\n",
              "      <td>0.000000</td>\n",
              "      <td>0.00000</td>\n",
              "      <td>0.000000</td>\n",
              "      <td>0.000000</td>\n",
              "      <td>0.000000</td>\n",
              "      <td>0.000000</td>\n",
              "      <td>0.000000</td>\n",
              "      <td>0.000000</td>\n",
              "      <td>0.000000</td>\n",
              "      <td>16155.250000</td>\n",
              "    </tr>\n",
              "    <tr>\n",
              "      <th>50%</th>\n",
              "      <td>2021.000000</td>\n",
              "      <td>1.030034e+06</td>\n",
              "      <td>6.032216e+06</td>\n",
              "      <td>318593.000000</td>\n",
              "      <td>0.000000</td>\n",
              "      <td>1.000000</td>\n",
              "      <td>0.000000</td>\n",
              "      <td>0.000000</td>\n",
              "      <td>0.000000</td>\n",
              "      <td>0.00000</td>\n",
              "      <td>0.000000</td>\n",
              "      <td>0.000000</td>\n",
              "      <td>0.000000</td>\n",
              "      <td>0.000000</td>\n",
              "      <td>0.000000</td>\n",
              "      <td>0.000000</td>\n",
              "      <td>0.000000</td>\n",
              "      <td>32545.000000</td>\n",
              "    </tr>\n",
              "    <tr>\n",
              "      <th>75%</th>\n",
              "      <td>2021.000000</td>\n",
              "      <td>1.045015e+06</td>\n",
              "      <td>6.048549e+06</td>\n",
              "      <td>327907.750000</td>\n",
              "      <td>0.000000</td>\n",
              "      <td>1.000000</td>\n",
              "      <td>0.000000</td>\n",
              "      <td>0.000000</td>\n",
              "      <td>0.000000</td>\n",
              "      <td>0.00000</td>\n",
              "      <td>0.000000</td>\n",
              "      <td>1.000000</td>\n",
              "      <td>0.000000</td>\n",
              "      <td>0.000000</td>\n",
              "      <td>0.000000</td>\n",
              "      <td>0.000000</td>\n",
              "      <td>0.000000</td>\n",
              "      <td>48978.750000</td>\n",
              "    </tr>\n",
              "    <tr>\n",
              "      <th>max</th>\n",
              "      <td>2021.000000</td>\n",
              "      <td>1.060002e+06</td>\n",
              "      <td>6.064804e+06</td>\n",
              "      <td>337346.000000</td>\n",
              "      <td>1.000000</td>\n",
              "      <td>1.000000</td>\n",
              "      <td>1.000000</td>\n",
              "      <td>1.000000</td>\n",
              "      <td>1.000000</td>\n",
              "      <td>1.00000</td>\n",
              "      <td>1.000000</td>\n",
              "      <td>1.000000</td>\n",
              "      <td>1.000000</td>\n",
              "      <td>1.000000</td>\n",
              "      <td>1.000000</td>\n",
              "      <td>1.000000</td>\n",
              "      <td>1.000000</td>\n",
              "      <td>65276.000000</td>\n",
              "    </tr>\n",
              "  </tbody>\n",
              "</table>\n",
              "</div>\n",
              "      <button class=\"colab-df-convert\" onclick=\"convertToInteractive('df-7197cf49-1248-475f-9e10-2b2ad03a2c74')\"\n",
              "              title=\"Convert this dataframe to an interactive table.\"\n",
              "              style=\"display:none;\">\n",
              "        \n",
              "  <svg xmlns=\"http://www.w3.org/2000/svg\" height=\"24px\"viewBox=\"0 0 24 24\"\n",
              "       width=\"24px\">\n",
              "    <path d=\"M0 0h24v24H0V0z\" fill=\"none\"/>\n",
              "    <path d=\"M18.56 5.44l.94 2.06.94-2.06 2.06-.94-2.06-.94-.94-2.06-.94 2.06-2.06.94zm-11 1L8.5 8.5l.94-2.06 2.06-.94-2.06-.94L8.5 2.5l-.94 2.06-2.06.94zm10 10l.94 2.06.94-2.06 2.06-.94-2.06-.94-.94-2.06-.94 2.06-2.06.94z\"/><path d=\"M17.41 7.96l-1.37-1.37c-.4-.4-.92-.59-1.43-.59-.52 0-1.04.2-1.43.59L10.3 9.45l-7.72 7.72c-.78.78-.78 2.05 0 2.83L4 21.41c.39.39.9.59 1.41.59.51 0 1.02-.2 1.41-.59l7.78-7.78 2.81-2.81c.8-.78.8-2.07 0-2.86zM5.41 20L4 18.59l7.72-7.72 1.47 1.35L5.41 20z\"/>\n",
              "  </svg>\n",
              "      </button>\n",
              "      \n",
              "  <style>\n",
              "    .colab-df-container {\n",
              "      display:flex;\n",
              "      flex-wrap:wrap;\n",
              "      gap: 12px;\n",
              "    }\n",
              "\n",
              "    .colab-df-convert {\n",
              "      background-color: #E8F0FE;\n",
              "      border: none;\n",
              "      border-radius: 50%;\n",
              "      cursor: pointer;\n",
              "      display: none;\n",
              "      fill: #1967D2;\n",
              "      height: 32px;\n",
              "      padding: 0 0 0 0;\n",
              "      width: 32px;\n",
              "    }\n",
              "\n",
              "    .colab-df-convert:hover {\n",
              "      background-color: #E2EBFA;\n",
              "      box-shadow: 0px 1px 2px rgba(60, 64, 67, 0.3), 0px 1px 3px 1px rgba(60, 64, 67, 0.15);\n",
              "      fill: #174EA6;\n",
              "    }\n",
              "\n",
              "    [theme=dark] .colab-df-convert {\n",
              "      background-color: #3B4455;\n",
              "      fill: #D2E3FC;\n",
              "    }\n",
              "\n",
              "    [theme=dark] .colab-df-convert:hover {\n",
              "      background-color: #434B5C;\n",
              "      box-shadow: 0px 1px 3px 1px rgba(0, 0, 0, 0.15);\n",
              "      filter: drop-shadow(0px 1px 2px rgba(0, 0, 0, 0.3));\n",
              "      fill: #FFFFFF;\n",
              "    }\n",
              "  </style>\n",
              "\n",
              "      <script>\n",
              "        const buttonEl =\n",
              "          document.querySelector('#df-7197cf49-1248-475f-9e10-2b2ad03a2c74 button.colab-df-convert');\n",
              "        buttonEl.style.display =\n",
              "          google.colab.kernel.accessAllowed ? 'block' : 'none';\n",
              "\n",
              "        async function convertToInteractive(key) {\n",
              "          const element = document.querySelector('#df-7197cf49-1248-475f-9e10-2b2ad03a2c74');\n",
              "          const dataTable =\n",
              "            await google.colab.kernel.invokeFunction('convertToInteractive',\n",
              "                                                     [key], {});\n",
              "          if (!dataTable) return;\n",
              "\n",
              "          const docLinkHtml = 'Like what you see? Visit the ' +\n",
              "            '<a target=\"_blank\" href=https://colab.research.google.com/notebooks/data_table.ipynb>data table notebook</a>'\n",
              "            + ' to learn more about interactive tables.';\n",
              "          element.innerHTML = '';\n",
              "          dataTable['output_type'] = 'display_data';\n",
              "          await google.colab.output.renderOutput(dataTable, element);\n",
              "          const docLink = document.createElement('div');\n",
              "          docLink.innerHTML = docLinkHtml;\n",
              "          element.appendChild(docLink);\n",
              "        }\n",
              "      </script>\n",
              "    </div>\n",
              "  </div>\n",
              "  "
            ]
          },
          "metadata": {},
          "execution_count": 10
        }
      ]
    },
    {
      "cell_type": "markdown",
      "source": [
        "## Table 1: Number of Arrests"
      ],
      "metadata": {
        "id": "0uJ-Esh0g-qO"
      }
    },
    {
      "cell_type": "code",
      "source": [
        "#Number of arrests has age group\n",
        "number_arrests = clean_dataset.groupby(['Arrest_Year','Arrest_Month', 'Perceived_Race',\"Sex\",'Youth_at_arrest__under_18_years','Age_group__at_arrest_'])['Booked'].count().reset_index()\n",
        "number_arrests = number_arrests.rename(columns={'Booked' : 'Number_arrests' })\n",
        "number_arrests.head()"
      ],
      "metadata": {
        "id": "y_WXL08ven_h",
        "colab": {
          "base_uri": "https://localhost:8080/",
          "height": 206
        },
        "outputId": "ac6efdaf-c6b1-4034-9099-4d2db5058b2c"
      },
      "execution_count": null,
      "outputs": [
        {
          "output_type": "execute_result",
          "data": {
            "text/plain": [
              "   Arrest_Year Arrest_Month Perceived_Race Sex  \\\n",
              "0         2020     Apr-June          Black   F   \n",
              "1         2020     Apr-June          Black   F   \n",
              "2         2020     Apr-June          Black   F   \n",
              "3         2020     Apr-June          Black   F   \n",
              "4         2020     Apr-June          Black   F   \n",
              "\n",
              "  Youth_at_arrest__under_18_years Age_group__at_arrest_  Number_arrests  \n",
              "0                     Not a youth   Aged 18 to 24 years              87  \n",
              "1                     Not a youth   Aged 25 to 34 years              99  \n",
              "2                     Not a youth   Aged 35 to 44 years              52  \n",
              "3                     Not a youth   Aged 45 to 54 years              26  \n",
              "4                     Not a youth   Aged 55 to 64 years               7  "
            ],
            "text/html": [
              "\n",
              "  <div id=\"df-994c6816-b58e-4cde-844a-cafd41f09eb4\">\n",
              "    <div class=\"colab-df-container\">\n",
              "      <div>\n",
              "<style scoped>\n",
              "    .dataframe tbody tr th:only-of-type {\n",
              "        vertical-align: middle;\n",
              "    }\n",
              "\n",
              "    .dataframe tbody tr th {\n",
              "        vertical-align: top;\n",
              "    }\n",
              "\n",
              "    .dataframe thead th {\n",
              "        text-align: right;\n",
              "    }\n",
              "</style>\n",
              "<table border=\"1\" class=\"dataframe\">\n",
              "  <thead>\n",
              "    <tr style=\"text-align: right;\">\n",
              "      <th></th>\n",
              "      <th>Arrest_Year</th>\n",
              "      <th>Arrest_Month</th>\n",
              "      <th>Perceived_Race</th>\n",
              "      <th>Sex</th>\n",
              "      <th>Youth_at_arrest__under_18_years</th>\n",
              "      <th>Age_group__at_arrest_</th>\n",
              "      <th>Number_arrests</th>\n",
              "    </tr>\n",
              "  </thead>\n",
              "  <tbody>\n",
              "    <tr>\n",
              "      <th>0</th>\n",
              "      <td>2020</td>\n",
              "      <td>Apr-June</td>\n",
              "      <td>Black</td>\n",
              "      <td>F</td>\n",
              "      <td>Not a youth</td>\n",
              "      <td>Aged 18 to 24 years</td>\n",
              "      <td>87</td>\n",
              "    </tr>\n",
              "    <tr>\n",
              "      <th>1</th>\n",
              "      <td>2020</td>\n",
              "      <td>Apr-June</td>\n",
              "      <td>Black</td>\n",
              "      <td>F</td>\n",
              "      <td>Not a youth</td>\n",
              "      <td>Aged 25 to 34 years</td>\n",
              "      <td>99</td>\n",
              "    </tr>\n",
              "    <tr>\n",
              "      <th>2</th>\n",
              "      <td>2020</td>\n",
              "      <td>Apr-June</td>\n",
              "      <td>Black</td>\n",
              "      <td>F</td>\n",
              "      <td>Not a youth</td>\n",
              "      <td>Aged 35 to 44 years</td>\n",
              "      <td>52</td>\n",
              "    </tr>\n",
              "    <tr>\n",
              "      <th>3</th>\n",
              "      <td>2020</td>\n",
              "      <td>Apr-June</td>\n",
              "      <td>Black</td>\n",
              "      <td>F</td>\n",
              "      <td>Not a youth</td>\n",
              "      <td>Aged 45 to 54 years</td>\n",
              "      <td>26</td>\n",
              "    </tr>\n",
              "    <tr>\n",
              "      <th>4</th>\n",
              "      <td>2020</td>\n",
              "      <td>Apr-June</td>\n",
              "      <td>Black</td>\n",
              "      <td>F</td>\n",
              "      <td>Not a youth</td>\n",
              "      <td>Aged 55 to 64 years</td>\n",
              "      <td>7</td>\n",
              "    </tr>\n",
              "  </tbody>\n",
              "</table>\n",
              "</div>\n",
              "      <button class=\"colab-df-convert\" onclick=\"convertToInteractive('df-994c6816-b58e-4cde-844a-cafd41f09eb4')\"\n",
              "              title=\"Convert this dataframe to an interactive table.\"\n",
              "              style=\"display:none;\">\n",
              "        \n",
              "  <svg xmlns=\"http://www.w3.org/2000/svg\" height=\"24px\"viewBox=\"0 0 24 24\"\n",
              "       width=\"24px\">\n",
              "    <path d=\"M0 0h24v24H0V0z\" fill=\"none\"/>\n",
              "    <path d=\"M18.56 5.44l.94 2.06.94-2.06 2.06-.94-2.06-.94-.94-2.06-.94 2.06-2.06.94zm-11 1L8.5 8.5l.94-2.06 2.06-.94-2.06-.94L8.5 2.5l-.94 2.06-2.06.94zm10 10l.94 2.06.94-2.06 2.06-.94-2.06-.94-.94-2.06-.94 2.06-2.06.94z\"/><path d=\"M17.41 7.96l-1.37-1.37c-.4-.4-.92-.59-1.43-.59-.52 0-1.04.2-1.43.59L10.3 9.45l-7.72 7.72c-.78.78-.78 2.05 0 2.83L4 21.41c.39.39.9.59 1.41.59.51 0 1.02-.2 1.41-.59l7.78-7.78 2.81-2.81c.8-.78.8-2.07 0-2.86zM5.41 20L4 18.59l7.72-7.72 1.47 1.35L5.41 20z\"/>\n",
              "  </svg>\n",
              "      </button>\n",
              "      \n",
              "  <style>\n",
              "    .colab-df-container {\n",
              "      display:flex;\n",
              "      flex-wrap:wrap;\n",
              "      gap: 12px;\n",
              "    }\n",
              "\n",
              "    .colab-df-convert {\n",
              "      background-color: #E8F0FE;\n",
              "      border: none;\n",
              "      border-radius: 50%;\n",
              "      cursor: pointer;\n",
              "      display: none;\n",
              "      fill: #1967D2;\n",
              "      height: 32px;\n",
              "      padding: 0 0 0 0;\n",
              "      width: 32px;\n",
              "    }\n",
              "\n",
              "    .colab-df-convert:hover {\n",
              "      background-color: #E2EBFA;\n",
              "      box-shadow: 0px 1px 2px rgba(60, 64, 67, 0.3), 0px 1px 3px 1px rgba(60, 64, 67, 0.15);\n",
              "      fill: #174EA6;\n",
              "    }\n",
              "\n",
              "    [theme=dark] .colab-df-convert {\n",
              "      background-color: #3B4455;\n",
              "      fill: #D2E3FC;\n",
              "    }\n",
              "\n",
              "    [theme=dark] .colab-df-convert:hover {\n",
              "      background-color: #434B5C;\n",
              "      box-shadow: 0px 1px 3px 1px rgba(0, 0, 0, 0.15);\n",
              "      filter: drop-shadow(0px 1px 2px rgba(0, 0, 0, 0.3));\n",
              "      fill: #FFFFFF;\n",
              "    }\n",
              "  </style>\n",
              "\n",
              "      <script>\n",
              "        const buttonEl =\n",
              "          document.querySelector('#df-994c6816-b58e-4cde-844a-cafd41f09eb4 button.colab-df-convert');\n",
              "        buttonEl.style.display =\n",
              "          google.colab.kernel.accessAllowed ? 'block' : 'none';\n",
              "\n",
              "        async function convertToInteractive(key) {\n",
              "          const element = document.querySelector('#df-994c6816-b58e-4cde-844a-cafd41f09eb4');\n",
              "          const dataTable =\n",
              "            await google.colab.kernel.invokeFunction('convertToInteractive',\n",
              "                                                     [key], {});\n",
              "          if (!dataTable) return;\n",
              "\n",
              "          const docLinkHtml = 'Like what you see? Visit the ' +\n",
              "            '<a target=\"_blank\" href=https://colab.research.google.com/notebooks/data_table.ipynb>data table notebook</a>'\n",
              "            + ' to learn more about interactive tables.';\n",
              "          element.innerHTML = '';\n",
              "          dataTable['output_type'] = 'display_data';\n",
              "          await google.colab.output.renderOutput(dataTable, element);\n",
              "          const docLink = document.createElement('div');\n",
              "          docLink.innerHTML = docLinkHtml;\n",
              "          element.appendChild(docLink);\n",
              "        }\n",
              "      </script>\n",
              "    </div>\n",
              "  </div>\n",
              "  "
            ]
          },
          "metadata": {},
          "execution_count": 11
        }
      ]
    },
    {
      "cell_type": "code",
      "source": [
        "number_arrests.info()"
      ],
      "metadata": {
        "colab": {
          "base_uri": "https://localhost:8080/"
        },
        "id": "iFar9L8z1DnK",
        "outputId": "86c92838-4902-490e-f417-4518bb25fc01"
      },
      "execution_count": null,
      "outputs": [
        {
          "output_type": "stream",
          "name": "stdout",
          "text": [
            "<class 'pandas.core.frame.DataFrame'>\n",
            "RangeIndex: 745 entries, 0 to 744\n",
            "Data columns (total 7 columns):\n",
            " #   Column                           Non-Null Count  Dtype \n",
            "---  ------                           --------------  ----- \n",
            " 0   Arrest_Year                      745 non-null    int64 \n",
            " 1   Arrest_Month                     745 non-null    object\n",
            " 2   Perceived_Race                   745 non-null    object\n",
            " 3   Sex                              745 non-null    object\n",
            " 4   Youth_at_arrest__under_18_years  745 non-null    object\n",
            " 5   Age_group__at_arrest_            745 non-null    object\n",
            " 6   Number_arrests                   745 non-null    int64 \n",
            "dtypes: int64(2), object(5)\n",
            "memory usage: 40.9+ KB\n"
          ]
        }
      ]
    },
    {
      "cell_type": "code",
      "source": [
        "print(number_arrests[['Number_arrests']].describe())"
      ],
      "metadata": {
        "id": "8oP8TIOshWc6",
        "colab": {
          "base_uri": "https://localhost:8080/"
        },
        "outputId": "973c498f-0f8a-4d0f-ae79-d69475c55871"
      },
      "execution_count": null,
      "outputs": [
        {
          "output_type": "stream",
          "name": "stdout",
          "text": [
            "       Number_arrests\n",
            "count      745.000000\n",
            "mean        80.824161\n",
            "std        148.911769\n",
            "min          1.000000\n",
            "25%          9.000000\n",
            "50%         24.000000\n",
            "75%         78.000000\n",
            "max        924.000000\n"
          ]
        }
      ]
    },
    {
      "cell_type": "code",
      "source": [
        "#Number of arrests 2 has age youth at arrest\n",
        "#use youth instead of age \n",
        "number_arrests2 = clean_dataset.groupby(['Perceived_Race',\"Sex\",'Arrest_Month','Youth_at_arrest__under_18_years'])['Booked'].count().reset_index()\n",
        "number_arrests2 = number_arrests2.rename(columns={'Booked' : 'Number_arrests' })\n",
        "number_arrests2.head(100)"
      ],
      "metadata": {
        "id": "zIHiz-usAcEt",
        "colab": {
          "base_uri": "https://localhost:8080/",
          "height": 423
        },
        "outputId": "c8180115-6115-40d4-a882-afa65b374934"
      },
      "execution_count": null,
      "outputs": [
        {
          "output_type": "execute_result",
          "data": {
            "text/plain": [
              "   Perceived_Race Sex Arrest_Month Youth_at_arrest__under_18_years  \\\n",
              "0           Black   F     Apr-June                     Not a youth   \n",
              "1           Black   F     Apr-June     Youth (aged 17 and younger)   \n",
              "2           Black   F      Jan-Mar                     Not a youth   \n",
              "3           Black   F      Jan-Mar     Youth (aged 17 and younger)   \n",
              "4           Black   F    July-Sept                     Not a youth   \n",
              "..            ...  ..          ...                             ...   \n",
              "95          White   F     Apr-June     Youth (aged 17 and younger)   \n",
              "96          White   F      Jan-Mar                     Not a youth   \n",
              "97          White   F      Jan-Mar     Youth (aged 17 and younger)   \n",
              "98          White   F    July-Sept                     Not a youth   \n",
              "99          White   F    July-Sept     Youth (aged 17 and younger)   \n",
              "\n",
              "    Number_arrests  \n",
              "0              652  \n",
              "1               61  \n",
              "2              760  \n",
              "3              118  \n",
              "4              677  \n",
              "..             ...  \n",
              "95              42  \n",
              "96            1707  \n",
              "97             106  \n",
              "98            1451  \n",
              "99              56  \n",
              "\n",
              "[100 rows x 5 columns]"
            ],
            "text/html": [
              "\n",
              "  <div id=\"df-a97749dd-e3fc-4b47-821a-48b07f3ebb6a\">\n",
              "    <div class=\"colab-df-container\">\n",
              "      <div>\n",
              "<style scoped>\n",
              "    .dataframe tbody tr th:only-of-type {\n",
              "        vertical-align: middle;\n",
              "    }\n",
              "\n",
              "    .dataframe tbody tr th {\n",
              "        vertical-align: top;\n",
              "    }\n",
              "\n",
              "    .dataframe thead th {\n",
              "        text-align: right;\n",
              "    }\n",
              "</style>\n",
              "<table border=\"1\" class=\"dataframe\">\n",
              "  <thead>\n",
              "    <tr style=\"text-align: right;\">\n",
              "      <th></th>\n",
              "      <th>Perceived_Race</th>\n",
              "      <th>Sex</th>\n",
              "      <th>Arrest_Month</th>\n",
              "      <th>Youth_at_arrest__under_18_years</th>\n",
              "      <th>Number_arrests</th>\n",
              "    </tr>\n",
              "  </thead>\n",
              "  <tbody>\n",
              "    <tr>\n",
              "      <th>0</th>\n",
              "      <td>Black</td>\n",
              "      <td>F</td>\n",
              "      <td>Apr-June</td>\n",
              "      <td>Not a youth</td>\n",
              "      <td>652</td>\n",
              "    </tr>\n",
              "    <tr>\n",
              "      <th>1</th>\n",
              "      <td>Black</td>\n",
              "      <td>F</td>\n",
              "      <td>Apr-June</td>\n",
              "      <td>Youth (aged 17 and younger)</td>\n",
              "      <td>61</td>\n",
              "    </tr>\n",
              "    <tr>\n",
              "      <th>2</th>\n",
              "      <td>Black</td>\n",
              "      <td>F</td>\n",
              "      <td>Jan-Mar</td>\n",
              "      <td>Not a youth</td>\n",
              "      <td>760</td>\n",
              "    </tr>\n",
              "    <tr>\n",
              "      <th>3</th>\n",
              "      <td>Black</td>\n",
              "      <td>F</td>\n",
              "      <td>Jan-Mar</td>\n",
              "      <td>Youth (aged 17 and younger)</td>\n",
              "      <td>118</td>\n",
              "    </tr>\n",
              "    <tr>\n",
              "      <th>4</th>\n",
              "      <td>Black</td>\n",
              "      <td>F</td>\n",
              "      <td>July-Sept</td>\n",
              "      <td>Not a youth</td>\n",
              "      <td>677</td>\n",
              "    </tr>\n",
              "    <tr>\n",
              "      <th>...</th>\n",
              "      <td>...</td>\n",
              "      <td>...</td>\n",
              "      <td>...</td>\n",
              "      <td>...</td>\n",
              "      <td>...</td>\n",
              "    </tr>\n",
              "    <tr>\n",
              "      <th>95</th>\n",
              "      <td>White</td>\n",
              "      <td>F</td>\n",
              "      <td>Apr-June</td>\n",
              "      <td>Youth (aged 17 and younger)</td>\n",
              "      <td>42</td>\n",
              "    </tr>\n",
              "    <tr>\n",
              "      <th>96</th>\n",
              "      <td>White</td>\n",
              "      <td>F</td>\n",
              "      <td>Jan-Mar</td>\n",
              "      <td>Not a youth</td>\n",
              "      <td>1707</td>\n",
              "    </tr>\n",
              "    <tr>\n",
              "      <th>97</th>\n",
              "      <td>White</td>\n",
              "      <td>F</td>\n",
              "      <td>Jan-Mar</td>\n",
              "      <td>Youth (aged 17 and younger)</td>\n",
              "      <td>106</td>\n",
              "    </tr>\n",
              "    <tr>\n",
              "      <th>98</th>\n",
              "      <td>White</td>\n",
              "      <td>F</td>\n",
              "      <td>July-Sept</td>\n",
              "      <td>Not a youth</td>\n",
              "      <td>1451</td>\n",
              "    </tr>\n",
              "    <tr>\n",
              "      <th>99</th>\n",
              "      <td>White</td>\n",
              "      <td>F</td>\n",
              "      <td>July-Sept</td>\n",
              "      <td>Youth (aged 17 and younger)</td>\n",
              "      <td>56</td>\n",
              "    </tr>\n",
              "  </tbody>\n",
              "</table>\n",
              "<p>100 rows × 5 columns</p>\n",
              "</div>\n",
              "      <button class=\"colab-df-convert\" onclick=\"convertToInteractive('df-a97749dd-e3fc-4b47-821a-48b07f3ebb6a')\"\n",
              "              title=\"Convert this dataframe to an interactive table.\"\n",
              "              style=\"display:none;\">\n",
              "        \n",
              "  <svg xmlns=\"http://www.w3.org/2000/svg\" height=\"24px\"viewBox=\"0 0 24 24\"\n",
              "       width=\"24px\">\n",
              "    <path d=\"M0 0h24v24H0V0z\" fill=\"none\"/>\n",
              "    <path d=\"M18.56 5.44l.94 2.06.94-2.06 2.06-.94-2.06-.94-.94-2.06-.94 2.06-2.06.94zm-11 1L8.5 8.5l.94-2.06 2.06-.94-2.06-.94L8.5 2.5l-.94 2.06-2.06.94zm10 10l.94 2.06.94-2.06 2.06-.94-2.06-.94-.94-2.06-.94 2.06-2.06.94z\"/><path d=\"M17.41 7.96l-1.37-1.37c-.4-.4-.92-.59-1.43-.59-.52 0-1.04.2-1.43.59L10.3 9.45l-7.72 7.72c-.78.78-.78 2.05 0 2.83L4 21.41c.39.39.9.59 1.41.59.51 0 1.02-.2 1.41-.59l7.78-7.78 2.81-2.81c.8-.78.8-2.07 0-2.86zM5.41 20L4 18.59l7.72-7.72 1.47 1.35L5.41 20z\"/>\n",
              "  </svg>\n",
              "      </button>\n",
              "      \n",
              "  <style>\n",
              "    .colab-df-container {\n",
              "      display:flex;\n",
              "      flex-wrap:wrap;\n",
              "      gap: 12px;\n",
              "    }\n",
              "\n",
              "    .colab-df-convert {\n",
              "      background-color: #E8F0FE;\n",
              "      border: none;\n",
              "      border-radius: 50%;\n",
              "      cursor: pointer;\n",
              "      display: none;\n",
              "      fill: #1967D2;\n",
              "      height: 32px;\n",
              "      padding: 0 0 0 0;\n",
              "      width: 32px;\n",
              "    }\n",
              "\n",
              "    .colab-df-convert:hover {\n",
              "      background-color: #E2EBFA;\n",
              "      box-shadow: 0px 1px 2px rgba(60, 64, 67, 0.3), 0px 1px 3px 1px rgba(60, 64, 67, 0.15);\n",
              "      fill: #174EA6;\n",
              "    }\n",
              "\n",
              "    [theme=dark] .colab-df-convert {\n",
              "      background-color: #3B4455;\n",
              "      fill: #D2E3FC;\n",
              "    }\n",
              "\n",
              "    [theme=dark] .colab-df-convert:hover {\n",
              "      background-color: #434B5C;\n",
              "      box-shadow: 0px 1px 3px 1px rgba(0, 0, 0, 0.15);\n",
              "      filter: drop-shadow(0px 1px 2px rgba(0, 0, 0, 0.3));\n",
              "      fill: #FFFFFF;\n",
              "    }\n",
              "  </style>\n",
              "\n",
              "      <script>\n",
              "        const buttonEl =\n",
              "          document.querySelector('#df-a97749dd-e3fc-4b47-821a-48b07f3ebb6a button.colab-df-convert');\n",
              "        buttonEl.style.display =\n",
              "          google.colab.kernel.accessAllowed ? 'block' : 'none';\n",
              "\n",
              "        async function convertToInteractive(key) {\n",
              "          const element = document.querySelector('#df-a97749dd-e3fc-4b47-821a-48b07f3ebb6a');\n",
              "          const dataTable =\n",
              "            await google.colab.kernel.invokeFunction('convertToInteractive',\n",
              "                                                     [key], {});\n",
              "          if (!dataTable) return;\n",
              "\n",
              "          const docLinkHtml = 'Like what you see? Visit the ' +\n",
              "            '<a target=\"_blank\" href=https://colab.research.google.com/notebooks/data_table.ipynb>data table notebook</a>'\n",
              "            + ' to learn more about interactive tables.';\n",
              "          element.innerHTML = '';\n",
              "          dataTable['output_type'] = 'display_data';\n",
              "          await google.colab.output.renderOutput(dataTable, element);\n",
              "          const docLink = document.createElement('div');\n",
              "          docLink.innerHTML = docLinkHtml;\n",
              "          element.appendChild(docLink);\n",
              "        }\n",
              "      </script>\n",
              "    </div>\n",
              "  </div>\n",
              "  "
            ]
          },
          "metadata": {},
          "execution_count": 14
        }
      ]
    },
    {
      "cell_type": "code",
      "source": [
        "#number of arrests 3 has year & month & race & sex \n",
        "# year & month & race & sex \n",
        "number_arrests3 = clean_dataset.groupby(['Arrest_Year', 'Arrest_Month','Perceived_Race',\"Sex\"])['Booked'].count().reset_index()\n",
        "number_arrests3 = number_arrests3.rename(columns={'Booked' : 'Number_arrests' })\n",
        "number_arrests3.head()"
      ],
      "metadata": {
        "id": "4VnomIrxEr7G",
        "colab": {
          "base_uri": "https://localhost:8080/",
          "height": 206
        },
        "outputId": "7f09906c-7533-48b1-f134-cdc8c2f9931d"
      },
      "execution_count": null,
      "outputs": [
        {
          "output_type": "execute_result",
          "data": {
            "text/plain": [
              "   Arrest_Year Arrest_Month        Perceived_Race Sex  Number_arrests\n",
              "0         2020     Apr-June                 Black   F             307\n",
              "1         2020     Apr-June                 Black   M            1534\n",
              "2         2020     Apr-June  East/Southeast Asian   F              57\n",
              "3         2020     Apr-June  East/Southeast Asian   M             369\n",
              "4         2020     Apr-June            Indigenous   F              57"
            ],
            "text/html": [
              "\n",
              "  <div id=\"df-b5c62e82-518e-4205-8f3d-58860245419b\">\n",
              "    <div class=\"colab-df-container\">\n",
              "      <div>\n",
              "<style scoped>\n",
              "    .dataframe tbody tr th:only-of-type {\n",
              "        vertical-align: middle;\n",
              "    }\n",
              "\n",
              "    .dataframe tbody tr th {\n",
              "        vertical-align: top;\n",
              "    }\n",
              "\n",
              "    .dataframe thead th {\n",
              "        text-align: right;\n",
              "    }\n",
              "</style>\n",
              "<table border=\"1\" class=\"dataframe\">\n",
              "  <thead>\n",
              "    <tr style=\"text-align: right;\">\n",
              "      <th></th>\n",
              "      <th>Arrest_Year</th>\n",
              "      <th>Arrest_Month</th>\n",
              "      <th>Perceived_Race</th>\n",
              "      <th>Sex</th>\n",
              "      <th>Number_arrests</th>\n",
              "    </tr>\n",
              "  </thead>\n",
              "  <tbody>\n",
              "    <tr>\n",
              "      <th>0</th>\n",
              "      <td>2020</td>\n",
              "      <td>Apr-June</td>\n",
              "      <td>Black</td>\n",
              "      <td>F</td>\n",
              "      <td>307</td>\n",
              "    </tr>\n",
              "    <tr>\n",
              "      <th>1</th>\n",
              "      <td>2020</td>\n",
              "      <td>Apr-June</td>\n",
              "      <td>Black</td>\n",
              "      <td>M</td>\n",
              "      <td>1534</td>\n",
              "    </tr>\n",
              "    <tr>\n",
              "      <th>2</th>\n",
              "      <td>2020</td>\n",
              "      <td>Apr-June</td>\n",
              "      <td>East/Southeast Asian</td>\n",
              "      <td>F</td>\n",
              "      <td>57</td>\n",
              "    </tr>\n",
              "    <tr>\n",
              "      <th>3</th>\n",
              "      <td>2020</td>\n",
              "      <td>Apr-June</td>\n",
              "      <td>East/Southeast Asian</td>\n",
              "      <td>M</td>\n",
              "      <td>369</td>\n",
              "    </tr>\n",
              "    <tr>\n",
              "      <th>4</th>\n",
              "      <td>2020</td>\n",
              "      <td>Apr-June</td>\n",
              "      <td>Indigenous</td>\n",
              "      <td>F</td>\n",
              "      <td>57</td>\n",
              "    </tr>\n",
              "  </tbody>\n",
              "</table>\n",
              "</div>\n",
              "      <button class=\"colab-df-convert\" onclick=\"convertToInteractive('df-b5c62e82-518e-4205-8f3d-58860245419b')\"\n",
              "              title=\"Convert this dataframe to an interactive table.\"\n",
              "              style=\"display:none;\">\n",
              "        \n",
              "  <svg xmlns=\"http://www.w3.org/2000/svg\" height=\"24px\"viewBox=\"0 0 24 24\"\n",
              "       width=\"24px\">\n",
              "    <path d=\"M0 0h24v24H0V0z\" fill=\"none\"/>\n",
              "    <path d=\"M18.56 5.44l.94 2.06.94-2.06 2.06-.94-2.06-.94-.94-2.06-.94 2.06-2.06.94zm-11 1L8.5 8.5l.94-2.06 2.06-.94-2.06-.94L8.5 2.5l-.94 2.06-2.06.94zm10 10l.94 2.06.94-2.06 2.06-.94-2.06-.94-.94-2.06-.94 2.06-2.06.94z\"/><path d=\"M17.41 7.96l-1.37-1.37c-.4-.4-.92-.59-1.43-.59-.52 0-1.04.2-1.43.59L10.3 9.45l-7.72 7.72c-.78.78-.78 2.05 0 2.83L4 21.41c.39.39.9.59 1.41.59.51 0 1.02-.2 1.41-.59l7.78-7.78 2.81-2.81c.8-.78.8-2.07 0-2.86zM5.41 20L4 18.59l7.72-7.72 1.47 1.35L5.41 20z\"/>\n",
              "  </svg>\n",
              "      </button>\n",
              "      \n",
              "  <style>\n",
              "    .colab-df-container {\n",
              "      display:flex;\n",
              "      flex-wrap:wrap;\n",
              "      gap: 12px;\n",
              "    }\n",
              "\n",
              "    .colab-df-convert {\n",
              "      background-color: #E8F0FE;\n",
              "      border: none;\n",
              "      border-radius: 50%;\n",
              "      cursor: pointer;\n",
              "      display: none;\n",
              "      fill: #1967D2;\n",
              "      height: 32px;\n",
              "      padding: 0 0 0 0;\n",
              "      width: 32px;\n",
              "    }\n",
              "\n",
              "    .colab-df-convert:hover {\n",
              "      background-color: #E2EBFA;\n",
              "      box-shadow: 0px 1px 2px rgba(60, 64, 67, 0.3), 0px 1px 3px 1px rgba(60, 64, 67, 0.15);\n",
              "      fill: #174EA6;\n",
              "    }\n",
              "\n",
              "    [theme=dark] .colab-df-convert {\n",
              "      background-color: #3B4455;\n",
              "      fill: #D2E3FC;\n",
              "    }\n",
              "\n",
              "    [theme=dark] .colab-df-convert:hover {\n",
              "      background-color: #434B5C;\n",
              "      box-shadow: 0px 1px 3px 1px rgba(0, 0, 0, 0.15);\n",
              "      filter: drop-shadow(0px 1px 2px rgba(0, 0, 0, 0.3));\n",
              "      fill: #FFFFFF;\n",
              "    }\n",
              "  </style>\n",
              "\n",
              "      <script>\n",
              "        const buttonEl =\n",
              "          document.querySelector('#df-b5c62e82-518e-4205-8f3d-58860245419b button.colab-df-convert');\n",
              "        buttonEl.style.display =\n",
              "          google.colab.kernel.accessAllowed ? 'block' : 'none';\n",
              "\n",
              "        async function convertToInteractive(key) {\n",
              "          const element = document.querySelector('#df-b5c62e82-518e-4205-8f3d-58860245419b');\n",
              "          const dataTable =\n",
              "            await google.colab.kernel.invokeFunction('convertToInteractive',\n",
              "                                                     [key], {});\n",
              "          if (!dataTable) return;\n",
              "\n",
              "          const docLinkHtml = 'Like what you see? Visit the ' +\n",
              "            '<a target=\"_blank\" href=https://colab.research.google.com/notebooks/data_table.ipynb>data table notebook</a>'\n",
              "            + ' to learn more about interactive tables.';\n",
              "          element.innerHTML = '';\n",
              "          dataTable['output_type'] = 'display_data';\n",
              "          await google.colab.output.renderOutput(dataTable, element);\n",
              "          const docLink = document.createElement('div');\n",
              "          docLink.innerHTML = docLinkHtml;\n",
              "          element.appendChild(docLink);\n",
              "        }\n",
              "      </script>\n",
              "    </div>\n",
              "  </div>\n",
              "  "
            ]
          },
          "metadata": {},
          "execution_count": 15
        }
      ]
    },
    {
      "cell_type": "code",
      "source": [
        "#number of arrests 4 has month & race \n",
        "\n",
        "# month & race \n",
        "number_arrests4 = clean_dataset.groupby(['Arrest_Month','Perceived_Race'])['Booked'].count().reset_index()\n",
        "number_arrests4 = number_arrests4.rename(columns={'Booked' : 'Number_arrests' })\n",
        "number_arrests4.head()"
      ],
      "metadata": {
        "id": "rurgZmLbO_VE",
        "colab": {
          "base_uri": "https://localhost:8080/",
          "height": 206
        },
        "outputId": "0aa1dbfa-d911-4601-f061-a1831cf17d4b"
      },
      "execution_count": null,
      "outputs": [
        {
          "output_type": "execute_result",
          "data": {
            "text/plain": [
              "  Arrest_Month        Perceived_Race  Number_arrests\n",
              "0     Apr-June                 Black            4055\n",
              "1     Apr-June  East/Southeast Asian             983\n",
              "2     Apr-June            Indigenous             422\n",
              "3     Apr-June                Latino             413\n",
              "4     Apr-June        Middle-Eastern             771"
            ],
            "text/html": [
              "\n",
              "  <div id=\"df-f59f57d5-5d4c-4718-a13d-aafc9ed14000\">\n",
              "    <div class=\"colab-df-container\">\n",
              "      <div>\n",
              "<style scoped>\n",
              "    .dataframe tbody tr th:only-of-type {\n",
              "        vertical-align: middle;\n",
              "    }\n",
              "\n",
              "    .dataframe tbody tr th {\n",
              "        vertical-align: top;\n",
              "    }\n",
              "\n",
              "    .dataframe thead th {\n",
              "        text-align: right;\n",
              "    }\n",
              "</style>\n",
              "<table border=\"1\" class=\"dataframe\">\n",
              "  <thead>\n",
              "    <tr style=\"text-align: right;\">\n",
              "      <th></th>\n",
              "      <th>Arrest_Month</th>\n",
              "      <th>Perceived_Race</th>\n",
              "      <th>Number_arrests</th>\n",
              "    </tr>\n",
              "  </thead>\n",
              "  <tbody>\n",
              "    <tr>\n",
              "      <th>0</th>\n",
              "      <td>Apr-June</td>\n",
              "      <td>Black</td>\n",
              "      <td>4055</td>\n",
              "    </tr>\n",
              "    <tr>\n",
              "      <th>1</th>\n",
              "      <td>Apr-June</td>\n",
              "      <td>East/Southeast Asian</td>\n",
              "      <td>983</td>\n",
              "    </tr>\n",
              "    <tr>\n",
              "      <th>2</th>\n",
              "      <td>Apr-June</td>\n",
              "      <td>Indigenous</td>\n",
              "      <td>422</td>\n",
              "    </tr>\n",
              "    <tr>\n",
              "      <th>3</th>\n",
              "      <td>Apr-June</td>\n",
              "      <td>Latino</td>\n",
              "      <td>413</td>\n",
              "    </tr>\n",
              "    <tr>\n",
              "      <th>4</th>\n",
              "      <td>Apr-June</td>\n",
              "      <td>Middle-Eastern</td>\n",
              "      <td>771</td>\n",
              "    </tr>\n",
              "  </tbody>\n",
              "</table>\n",
              "</div>\n",
              "      <button class=\"colab-df-convert\" onclick=\"convertToInteractive('df-f59f57d5-5d4c-4718-a13d-aafc9ed14000')\"\n",
              "              title=\"Convert this dataframe to an interactive table.\"\n",
              "              style=\"display:none;\">\n",
              "        \n",
              "  <svg xmlns=\"http://www.w3.org/2000/svg\" height=\"24px\"viewBox=\"0 0 24 24\"\n",
              "       width=\"24px\">\n",
              "    <path d=\"M0 0h24v24H0V0z\" fill=\"none\"/>\n",
              "    <path d=\"M18.56 5.44l.94 2.06.94-2.06 2.06-.94-2.06-.94-.94-2.06-.94 2.06-2.06.94zm-11 1L8.5 8.5l.94-2.06 2.06-.94-2.06-.94L8.5 2.5l-.94 2.06-2.06.94zm10 10l.94 2.06.94-2.06 2.06-.94-2.06-.94-.94-2.06-.94 2.06-2.06.94z\"/><path d=\"M17.41 7.96l-1.37-1.37c-.4-.4-.92-.59-1.43-.59-.52 0-1.04.2-1.43.59L10.3 9.45l-7.72 7.72c-.78.78-.78 2.05 0 2.83L4 21.41c.39.39.9.59 1.41.59.51 0 1.02-.2 1.41-.59l7.78-7.78 2.81-2.81c.8-.78.8-2.07 0-2.86zM5.41 20L4 18.59l7.72-7.72 1.47 1.35L5.41 20z\"/>\n",
              "  </svg>\n",
              "      </button>\n",
              "      \n",
              "  <style>\n",
              "    .colab-df-container {\n",
              "      display:flex;\n",
              "      flex-wrap:wrap;\n",
              "      gap: 12px;\n",
              "    }\n",
              "\n",
              "    .colab-df-convert {\n",
              "      background-color: #E8F0FE;\n",
              "      border: none;\n",
              "      border-radius: 50%;\n",
              "      cursor: pointer;\n",
              "      display: none;\n",
              "      fill: #1967D2;\n",
              "      height: 32px;\n",
              "      padding: 0 0 0 0;\n",
              "      width: 32px;\n",
              "    }\n",
              "\n",
              "    .colab-df-convert:hover {\n",
              "      background-color: #E2EBFA;\n",
              "      box-shadow: 0px 1px 2px rgba(60, 64, 67, 0.3), 0px 1px 3px 1px rgba(60, 64, 67, 0.15);\n",
              "      fill: #174EA6;\n",
              "    }\n",
              "\n",
              "    [theme=dark] .colab-df-convert {\n",
              "      background-color: #3B4455;\n",
              "      fill: #D2E3FC;\n",
              "    }\n",
              "\n",
              "    [theme=dark] .colab-df-convert:hover {\n",
              "      background-color: #434B5C;\n",
              "      box-shadow: 0px 1px 3px 1px rgba(0, 0, 0, 0.15);\n",
              "      filter: drop-shadow(0px 1px 2px rgba(0, 0, 0, 0.3));\n",
              "      fill: #FFFFFF;\n",
              "    }\n",
              "  </style>\n",
              "\n",
              "      <script>\n",
              "        const buttonEl =\n",
              "          document.querySelector('#df-f59f57d5-5d4c-4718-a13d-aafc9ed14000 button.colab-df-convert');\n",
              "        buttonEl.style.display =\n",
              "          google.colab.kernel.accessAllowed ? 'block' : 'none';\n",
              "\n",
              "        async function convertToInteractive(key) {\n",
              "          const element = document.querySelector('#df-f59f57d5-5d4c-4718-a13d-aafc9ed14000');\n",
              "          const dataTable =\n",
              "            await google.colab.kernel.invokeFunction('convertToInteractive',\n",
              "                                                     [key], {});\n",
              "          if (!dataTable) return;\n",
              "\n",
              "          const docLinkHtml = 'Like what you see? Visit the ' +\n",
              "            '<a target=\"_blank\" href=https://colab.research.google.com/notebooks/data_table.ipynb>data table notebook</a>'\n",
              "            + ' to learn more about interactive tables.';\n",
              "          element.innerHTML = '';\n",
              "          dataTable['output_type'] = 'display_data';\n",
              "          await google.colab.output.renderOutput(dataTable, element);\n",
              "          const docLink = document.createElement('div');\n",
              "          docLink.innerHTML = docLinkHtml;\n",
              "          element.appendChild(docLink);\n",
              "        }\n",
              "      </script>\n",
              "    </div>\n",
              "  </div>\n",
              "  "
            ]
          },
          "metadata": {},
          "execution_count": 16
        }
      ]
    },
    {
      "cell_type": "code",
      "source": [
        "#number of arrests 5 has year & month & race & sex \n",
        "\n",
        "# year & month & race & sex \n",
        "number_arrests5 = clean_dataset.groupby(['Arrest_Year','Perceived_Race'])['Booked'].count().reset_index()\n",
        "number_arrests5 = number_arrests5.rename(columns={'Booked' : 'Number_arrests' })\n",
        "number_arrests5.head()"
      ],
      "metadata": {
        "id": "jZbRF4r_ZmKU",
        "colab": {
          "base_uri": "https://localhost:8080/",
          "height": 206
        },
        "outputId": "8e32579d-25f0-4ac3-dd83-c1e9cdd5e970"
      },
      "execution_count": null,
      "outputs": [
        {
          "output_type": "execute_result",
          "data": {
            "text/plain": [
              "   Arrest_Year        Perceived_Race  Number_arrests\n",
              "0         2020                 Black            8648\n",
              "1         2020  East/Southeast Asian            2054\n",
              "2         2020            Indigenous             999\n",
              "3         2020                Latino             808\n",
              "4         2020        Middle-Eastern            1507"
            ],
            "text/html": [
              "\n",
              "  <div id=\"df-430eeb68-6d21-4475-89ee-c9ec79f5f024\">\n",
              "    <div class=\"colab-df-container\">\n",
              "      <div>\n",
              "<style scoped>\n",
              "    .dataframe tbody tr th:only-of-type {\n",
              "        vertical-align: middle;\n",
              "    }\n",
              "\n",
              "    .dataframe tbody tr th {\n",
              "        vertical-align: top;\n",
              "    }\n",
              "\n",
              "    .dataframe thead th {\n",
              "        text-align: right;\n",
              "    }\n",
              "</style>\n",
              "<table border=\"1\" class=\"dataframe\">\n",
              "  <thead>\n",
              "    <tr style=\"text-align: right;\">\n",
              "      <th></th>\n",
              "      <th>Arrest_Year</th>\n",
              "      <th>Perceived_Race</th>\n",
              "      <th>Number_arrests</th>\n",
              "    </tr>\n",
              "  </thead>\n",
              "  <tbody>\n",
              "    <tr>\n",
              "      <th>0</th>\n",
              "      <td>2020</td>\n",
              "      <td>Black</td>\n",
              "      <td>8648</td>\n",
              "    </tr>\n",
              "    <tr>\n",
              "      <th>1</th>\n",
              "      <td>2020</td>\n",
              "      <td>East/Southeast Asian</td>\n",
              "      <td>2054</td>\n",
              "    </tr>\n",
              "    <tr>\n",
              "      <th>2</th>\n",
              "      <td>2020</td>\n",
              "      <td>Indigenous</td>\n",
              "      <td>999</td>\n",
              "    </tr>\n",
              "    <tr>\n",
              "      <th>3</th>\n",
              "      <td>2020</td>\n",
              "      <td>Latino</td>\n",
              "      <td>808</td>\n",
              "    </tr>\n",
              "    <tr>\n",
              "      <th>4</th>\n",
              "      <td>2020</td>\n",
              "      <td>Middle-Eastern</td>\n",
              "      <td>1507</td>\n",
              "    </tr>\n",
              "  </tbody>\n",
              "</table>\n",
              "</div>\n",
              "      <button class=\"colab-df-convert\" onclick=\"convertToInteractive('df-430eeb68-6d21-4475-89ee-c9ec79f5f024')\"\n",
              "              title=\"Convert this dataframe to an interactive table.\"\n",
              "              style=\"display:none;\">\n",
              "        \n",
              "  <svg xmlns=\"http://www.w3.org/2000/svg\" height=\"24px\"viewBox=\"0 0 24 24\"\n",
              "       width=\"24px\">\n",
              "    <path d=\"M0 0h24v24H0V0z\" fill=\"none\"/>\n",
              "    <path d=\"M18.56 5.44l.94 2.06.94-2.06 2.06-.94-2.06-.94-.94-2.06-.94 2.06-2.06.94zm-11 1L8.5 8.5l.94-2.06 2.06-.94-2.06-.94L8.5 2.5l-.94 2.06-2.06.94zm10 10l.94 2.06.94-2.06 2.06-.94-2.06-.94-.94-2.06-.94 2.06-2.06.94z\"/><path d=\"M17.41 7.96l-1.37-1.37c-.4-.4-.92-.59-1.43-.59-.52 0-1.04.2-1.43.59L10.3 9.45l-7.72 7.72c-.78.78-.78 2.05 0 2.83L4 21.41c.39.39.9.59 1.41.59.51 0 1.02-.2 1.41-.59l7.78-7.78 2.81-2.81c.8-.78.8-2.07 0-2.86zM5.41 20L4 18.59l7.72-7.72 1.47 1.35L5.41 20z\"/>\n",
              "  </svg>\n",
              "      </button>\n",
              "      \n",
              "  <style>\n",
              "    .colab-df-container {\n",
              "      display:flex;\n",
              "      flex-wrap:wrap;\n",
              "      gap: 12px;\n",
              "    }\n",
              "\n",
              "    .colab-df-convert {\n",
              "      background-color: #E8F0FE;\n",
              "      border: none;\n",
              "      border-radius: 50%;\n",
              "      cursor: pointer;\n",
              "      display: none;\n",
              "      fill: #1967D2;\n",
              "      height: 32px;\n",
              "      padding: 0 0 0 0;\n",
              "      width: 32px;\n",
              "    }\n",
              "\n",
              "    .colab-df-convert:hover {\n",
              "      background-color: #E2EBFA;\n",
              "      box-shadow: 0px 1px 2px rgba(60, 64, 67, 0.3), 0px 1px 3px 1px rgba(60, 64, 67, 0.15);\n",
              "      fill: #174EA6;\n",
              "    }\n",
              "\n",
              "    [theme=dark] .colab-df-convert {\n",
              "      background-color: #3B4455;\n",
              "      fill: #D2E3FC;\n",
              "    }\n",
              "\n",
              "    [theme=dark] .colab-df-convert:hover {\n",
              "      background-color: #434B5C;\n",
              "      box-shadow: 0px 1px 3px 1px rgba(0, 0, 0, 0.15);\n",
              "      filter: drop-shadow(0px 1px 2px rgba(0, 0, 0, 0.3));\n",
              "      fill: #FFFFFF;\n",
              "    }\n",
              "  </style>\n",
              "\n",
              "      <script>\n",
              "        const buttonEl =\n",
              "          document.querySelector('#df-430eeb68-6d21-4475-89ee-c9ec79f5f024 button.colab-df-convert');\n",
              "        buttonEl.style.display =\n",
              "          google.colab.kernel.accessAllowed ? 'block' : 'none';\n",
              "\n",
              "        async function convertToInteractive(key) {\n",
              "          const element = document.querySelector('#df-430eeb68-6d21-4475-89ee-c9ec79f5f024');\n",
              "          const dataTable =\n",
              "            await google.colab.kernel.invokeFunction('convertToInteractive',\n",
              "                                                     [key], {});\n",
              "          if (!dataTable) return;\n",
              "\n",
              "          const docLinkHtml = 'Like what you see? Visit the ' +\n",
              "            '<a target=\"_blank\" href=https://colab.research.google.com/notebooks/data_table.ipynb>data table notebook</a>'\n",
              "            + ' to learn more about interactive tables.';\n",
              "          element.innerHTML = '';\n",
              "          dataTable['output_type'] = 'display_data';\n",
              "          await google.colab.output.renderOutput(dataTable, element);\n",
              "          const docLink = document.createElement('div');\n",
              "          docLink.innerHTML = docLinkHtml;\n",
              "          element.appendChild(docLink);\n",
              "        }\n",
              "      </script>\n",
              "    </div>\n",
              "  </div>\n",
              "  "
            ]
          },
          "metadata": {},
          "execution_count": 17
        }
      ]
    },
    {
      "cell_type": "code",
      "source": [
        "# number_arrests_sex has Sex\n",
        "# sex \n",
        "number_arrests_sex = clean_dataset.groupby([\"Sex\"])['Booked'].count().reset_index()\n",
        "number_arrests_sex = number_arrests_sex.rename(columns={'Booked' : 'Number_arrests' })\n",
        "number_arrests_sex.head()"
      ],
      "metadata": {
        "id": "GQ0FlpVmahOA",
        "colab": {
          "base_uri": "https://localhost:8080/",
          "height": 112
        },
        "outputId": "a43cd61e-d2aa-44ec-824b-016e7614ab81"
      },
      "execution_count": null,
      "outputs": [
        {
          "output_type": "execute_result",
          "data": {
            "text/plain": [
              "  Sex  Number_arrests\n",
              "0   F           11691\n",
              "1   M           48523"
            ],
            "text/html": [
              "\n",
              "  <div id=\"df-4962849f-22da-41ab-a58c-5988acff8747\">\n",
              "    <div class=\"colab-df-container\">\n",
              "      <div>\n",
              "<style scoped>\n",
              "    .dataframe tbody tr th:only-of-type {\n",
              "        vertical-align: middle;\n",
              "    }\n",
              "\n",
              "    .dataframe tbody tr th {\n",
              "        vertical-align: top;\n",
              "    }\n",
              "\n",
              "    .dataframe thead th {\n",
              "        text-align: right;\n",
              "    }\n",
              "</style>\n",
              "<table border=\"1\" class=\"dataframe\">\n",
              "  <thead>\n",
              "    <tr style=\"text-align: right;\">\n",
              "      <th></th>\n",
              "      <th>Sex</th>\n",
              "      <th>Number_arrests</th>\n",
              "    </tr>\n",
              "  </thead>\n",
              "  <tbody>\n",
              "    <tr>\n",
              "      <th>0</th>\n",
              "      <td>F</td>\n",
              "      <td>11691</td>\n",
              "    </tr>\n",
              "    <tr>\n",
              "      <th>1</th>\n",
              "      <td>M</td>\n",
              "      <td>48523</td>\n",
              "    </tr>\n",
              "  </tbody>\n",
              "</table>\n",
              "</div>\n",
              "      <button class=\"colab-df-convert\" onclick=\"convertToInteractive('df-4962849f-22da-41ab-a58c-5988acff8747')\"\n",
              "              title=\"Convert this dataframe to an interactive table.\"\n",
              "              style=\"display:none;\">\n",
              "        \n",
              "  <svg xmlns=\"http://www.w3.org/2000/svg\" height=\"24px\"viewBox=\"0 0 24 24\"\n",
              "       width=\"24px\">\n",
              "    <path d=\"M0 0h24v24H0V0z\" fill=\"none\"/>\n",
              "    <path d=\"M18.56 5.44l.94 2.06.94-2.06 2.06-.94-2.06-.94-.94-2.06-.94 2.06-2.06.94zm-11 1L8.5 8.5l.94-2.06 2.06-.94-2.06-.94L8.5 2.5l-.94 2.06-2.06.94zm10 10l.94 2.06.94-2.06 2.06-.94-2.06-.94-.94-2.06-.94 2.06-2.06.94z\"/><path d=\"M17.41 7.96l-1.37-1.37c-.4-.4-.92-.59-1.43-.59-.52 0-1.04.2-1.43.59L10.3 9.45l-7.72 7.72c-.78.78-.78 2.05 0 2.83L4 21.41c.39.39.9.59 1.41.59.51 0 1.02-.2 1.41-.59l7.78-7.78 2.81-2.81c.8-.78.8-2.07 0-2.86zM5.41 20L4 18.59l7.72-7.72 1.47 1.35L5.41 20z\"/>\n",
              "  </svg>\n",
              "      </button>\n",
              "      \n",
              "  <style>\n",
              "    .colab-df-container {\n",
              "      display:flex;\n",
              "      flex-wrap:wrap;\n",
              "      gap: 12px;\n",
              "    }\n",
              "\n",
              "    .colab-df-convert {\n",
              "      background-color: #E8F0FE;\n",
              "      border: none;\n",
              "      border-radius: 50%;\n",
              "      cursor: pointer;\n",
              "      display: none;\n",
              "      fill: #1967D2;\n",
              "      height: 32px;\n",
              "      padding: 0 0 0 0;\n",
              "      width: 32px;\n",
              "    }\n",
              "\n",
              "    .colab-df-convert:hover {\n",
              "      background-color: #E2EBFA;\n",
              "      box-shadow: 0px 1px 2px rgba(60, 64, 67, 0.3), 0px 1px 3px 1px rgba(60, 64, 67, 0.15);\n",
              "      fill: #174EA6;\n",
              "    }\n",
              "\n",
              "    [theme=dark] .colab-df-convert {\n",
              "      background-color: #3B4455;\n",
              "      fill: #D2E3FC;\n",
              "    }\n",
              "\n",
              "    [theme=dark] .colab-df-convert:hover {\n",
              "      background-color: #434B5C;\n",
              "      box-shadow: 0px 1px 3px 1px rgba(0, 0, 0, 0.15);\n",
              "      filter: drop-shadow(0px 1px 2px rgba(0, 0, 0, 0.3));\n",
              "      fill: #FFFFFF;\n",
              "    }\n",
              "  </style>\n",
              "\n",
              "      <script>\n",
              "        const buttonEl =\n",
              "          document.querySelector('#df-4962849f-22da-41ab-a58c-5988acff8747 button.colab-df-convert');\n",
              "        buttonEl.style.display =\n",
              "          google.colab.kernel.accessAllowed ? 'block' : 'none';\n",
              "\n",
              "        async function convertToInteractive(key) {\n",
              "          const element = document.querySelector('#df-4962849f-22da-41ab-a58c-5988acff8747');\n",
              "          const dataTable =\n",
              "            await google.colab.kernel.invokeFunction('convertToInteractive',\n",
              "                                                     [key], {});\n",
              "          if (!dataTable) return;\n",
              "\n",
              "          const docLinkHtml = 'Like what you see? Visit the ' +\n",
              "            '<a target=\"_blank\" href=https://colab.research.google.com/notebooks/data_table.ipynb>data table notebook</a>'\n",
              "            + ' to learn more about interactive tables.';\n",
              "          element.innerHTML = '';\n",
              "          dataTable['output_type'] = 'display_data';\n",
              "          await google.colab.output.renderOutput(dataTable, element);\n",
              "          const docLink = document.createElement('div');\n",
              "          docLink.innerHTML = docLinkHtml;\n",
              "          element.appendChild(docLink);\n",
              "        }\n",
              "      </script>\n",
              "    </div>\n",
              "  </div>\n",
              "  "
            ]
          },
          "metadata": {},
          "execution_count": 18
        }
      ]
    },
    {
      "cell_type": "code",
      "source": [
        "# number_arrests_sex_race has Sex and race\n",
        "# sex & race\n",
        "number_arrests_sex_race = clean_dataset.groupby([\"Sex\",'Perceived_Race'])['Booked'].count().reset_index()\n",
        "number_arrests_sex_race  = number_arrests_sex_race.rename(columns={'Booked' : 'Number_arrests' })\n",
        "number_arrests_sex_race.head()"
      ],
      "metadata": {
        "id": "9gMElufwd73m",
        "colab": {
          "base_uri": "https://localhost:8080/",
          "height": 206
        },
        "outputId": "cf66162b-9b88-4269-bf4c-b135f9eb3daa"
      },
      "execution_count": null,
      "outputs": [
        {
          "output_type": "execute_result",
          "data": {
            "text/plain": [
              "  Sex        Perceived_Race  Number_arrests\n",
              "0   F                 Black            3012\n",
              "1   F  East/Southeast Asian             745\n",
              "2   F            Indigenous             629\n",
              "3   F                Latino             264\n",
              "4   F        Middle-Eastern             364"
            ],
            "text/html": [
              "\n",
              "  <div id=\"df-4eedb743-95e3-4c91-9d32-c18ed7fa845f\">\n",
              "    <div class=\"colab-df-container\">\n",
              "      <div>\n",
              "<style scoped>\n",
              "    .dataframe tbody tr th:only-of-type {\n",
              "        vertical-align: middle;\n",
              "    }\n",
              "\n",
              "    .dataframe tbody tr th {\n",
              "        vertical-align: top;\n",
              "    }\n",
              "\n",
              "    .dataframe thead th {\n",
              "        text-align: right;\n",
              "    }\n",
              "</style>\n",
              "<table border=\"1\" class=\"dataframe\">\n",
              "  <thead>\n",
              "    <tr style=\"text-align: right;\">\n",
              "      <th></th>\n",
              "      <th>Sex</th>\n",
              "      <th>Perceived_Race</th>\n",
              "      <th>Number_arrests</th>\n",
              "    </tr>\n",
              "  </thead>\n",
              "  <tbody>\n",
              "    <tr>\n",
              "      <th>0</th>\n",
              "      <td>F</td>\n",
              "      <td>Black</td>\n",
              "      <td>3012</td>\n",
              "    </tr>\n",
              "    <tr>\n",
              "      <th>1</th>\n",
              "      <td>F</td>\n",
              "      <td>East/Southeast Asian</td>\n",
              "      <td>745</td>\n",
              "    </tr>\n",
              "    <tr>\n",
              "      <th>2</th>\n",
              "      <td>F</td>\n",
              "      <td>Indigenous</td>\n",
              "      <td>629</td>\n",
              "    </tr>\n",
              "    <tr>\n",
              "      <th>3</th>\n",
              "      <td>F</td>\n",
              "      <td>Latino</td>\n",
              "      <td>264</td>\n",
              "    </tr>\n",
              "    <tr>\n",
              "      <th>4</th>\n",
              "      <td>F</td>\n",
              "      <td>Middle-Eastern</td>\n",
              "      <td>364</td>\n",
              "    </tr>\n",
              "  </tbody>\n",
              "</table>\n",
              "</div>\n",
              "      <button class=\"colab-df-convert\" onclick=\"convertToInteractive('df-4eedb743-95e3-4c91-9d32-c18ed7fa845f')\"\n",
              "              title=\"Convert this dataframe to an interactive table.\"\n",
              "              style=\"display:none;\">\n",
              "        \n",
              "  <svg xmlns=\"http://www.w3.org/2000/svg\" height=\"24px\"viewBox=\"0 0 24 24\"\n",
              "       width=\"24px\">\n",
              "    <path d=\"M0 0h24v24H0V0z\" fill=\"none\"/>\n",
              "    <path d=\"M18.56 5.44l.94 2.06.94-2.06 2.06-.94-2.06-.94-.94-2.06-.94 2.06-2.06.94zm-11 1L8.5 8.5l.94-2.06 2.06-.94-2.06-.94L8.5 2.5l-.94 2.06-2.06.94zm10 10l.94 2.06.94-2.06 2.06-.94-2.06-.94-.94-2.06-.94 2.06-2.06.94z\"/><path d=\"M17.41 7.96l-1.37-1.37c-.4-.4-.92-.59-1.43-.59-.52 0-1.04.2-1.43.59L10.3 9.45l-7.72 7.72c-.78.78-.78 2.05 0 2.83L4 21.41c.39.39.9.59 1.41.59.51 0 1.02-.2 1.41-.59l7.78-7.78 2.81-2.81c.8-.78.8-2.07 0-2.86zM5.41 20L4 18.59l7.72-7.72 1.47 1.35L5.41 20z\"/>\n",
              "  </svg>\n",
              "      </button>\n",
              "      \n",
              "  <style>\n",
              "    .colab-df-container {\n",
              "      display:flex;\n",
              "      flex-wrap:wrap;\n",
              "      gap: 12px;\n",
              "    }\n",
              "\n",
              "    .colab-df-convert {\n",
              "      background-color: #E8F0FE;\n",
              "      border: none;\n",
              "      border-radius: 50%;\n",
              "      cursor: pointer;\n",
              "      display: none;\n",
              "      fill: #1967D2;\n",
              "      height: 32px;\n",
              "      padding: 0 0 0 0;\n",
              "      width: 32px;\n",
              "    }\n",
              "\n",
              "    .colab-df-convert:hover {\n",
              "      background-color: #E2EBFA;\n",
              "      box-shadow: 0px 1px 2px rgba(60, 64, 67, 0.3), 0px 1px 3px 1px rgba(60, 64, 67, 0.15);\n",
              "      fill: #174EA6;\n",
              "    }\n",
              "\n",
              "    [theme=dark] .colab-df-convert {\n",
              "      background-color: #3B4455;\n",
              "      fill: #D2E3FC;\n",
              "    }\n",
              "\n",
              "    [theme=dark] .colab-df-convert:hover {\n",
              "      background-color: #434B5C;\n",
              "      box-shadow: 0px 1px 3px 1px rgba(0, 0, 0, 0.15);\n",
              "      filter: drop-shadow(0px 1px 2px rgba(0, 0, 0, 0.3));\n",
              "      fill: #FFFFFF;\n",
              "    }\n",
              "  </style>\n",
              "\n",
              "      <script>\n",
              "        const buttonEl =\n",
              "          document.querySelector('#df-4eedb743-95e3-4c91-9d32-c18ed7fa845f button.colab-df-convert');\n",
              "        buttonEl.style.display =\n",
              "          google.colab.kernel.accessAllowed ? 'block' : 'none';\n",
              "\n",
              "        async function convertToInteractive(key) {\n",
              "          const element = document.querySelector('#df-4eedb743-95e3-4c91-9d32-c18ed7fa845f');\n",
              "          const dataTable =\n",
              "            await google.colab.kernel.invokeFunction('convertToInteractive',\n",
              "                                                     [key], {});\n",
              "          if (!dataTable) return;\n",
              "\n",
              "          const docLinkHtml = 'Like what you see? Visit the ' +\n",
              "            '<a target=\"_blank\" href=https://colab.research.google.com/notebooks/data_table.ipynb>data table notebook</a>'\n",
              "            + ' to learn more about interactive tables.';\n",
              "          element.innerHTML = '';\n",
              "          dataTable['output_type'] = 'display_data';\n",
              "          await google.colab.output.renderOutput(dataTable, element);\n",
              "          const docLink = document.createElement('div');\n",
              "          docLink.innerHTML = docLinkHtml;\n",
              "          element.appendChild(docLink);\n",
              "        }\n",
              "      </script>\n",
              "    </div>\n",
              "  </div>\n",
              "  "
            ]
          },
          "metadata": {},
          "execution_count": 19
        }
      ]
    },
    {
      "cell_type": "markdown",
      "source": [
        "## Table 2:  Negative Behavior at Arrest "
      ],
      "metadata": {
        "id": "JGQjXqSqdVhm"
      }
    },
    {
      "cell_type": "code",
      "source": [
        "#combine clean_dataset for negative behaviour at arrest \n",
        "clean_dataset['Negative_Behaviour_at_Arrest'] = (clean_dataset['Actions_at_arrest___Concealed_i'] + clean_dataset['Actions_at_arrest___Combative__']\n",
        "                                                 + clean_dataset['Actions_at_arrest___Resisted__d']+ clean_dataset['Actions_at_arrest___Mental_inst']+ clean_dataset['Actions_at_arrest___Assaulted_o'])\n",
        "\n",
        "clean_dataset.head()\n"
      ],
      "metadata": {
        "id": "LBIkOip-piLH",
        "colab": {
          "base_uri": "https://localhost:8080/",
          "height": 299
        },
        "outputId": "34747358-ad89-4f85-d404-8df311499842"
      },
      "execution_count": null,
      "outputs": [
        {
          "output_type": "execute_result",
          "data": {
            "text/plain": [
              "   Arrest_Year Arrest_Month  EventID   ArrestID  PersonID Perceived_Race Sex  \\\n",
              "0         2020    July-Sept  1005907  6017884.0    326622          White   M   \n",
              "1         2020    July-Sept  1014562  6056669.0    326622          White   M   \n",
              "3         2021      Jan-Mar  1052190  6029059.0    327535          Black   M   \n",
              "4         2021      Jan-Mar  1015512  6040372.0    327535    South Asian   M   \n",
              "5         2021     Apr-June  1019145  6060688.0    327535    South Asian   M   \n",
              "\n",
              "  Age_group__at_arrest_ Youth_at_arrest__under_18_years ArrestLocDiv  ...  \\\n",
              "0   Aged 35 to 44 years                     Not a youth           54  ...   \n",
              "1   Aged 35 to 44 years                     Not a youth           54  ...   \n",
              "3   Aged 25 to 34 years                     Not a youth           XX  ...   \n",
              "4   Aged 25 to 34 years                     Not a youth           XX  ...   \n",
              "5   Aged 25 to 34 years                     Not a youth           42  ...   \n",
              "\n",
              "   Actions_at_arrest___Mental_inst  Actions_at_arrest___Assaulted_o  \\\n",
              "0                                0                                0   \n",
              "1                                0                                0   \n",
              "3                                0                                0   \n",
              "4                                0                                0   \n",
              "5                                0                                0   \n",
              "\n",
              "  Actions_at_arrest___Cooperative  SearchReason_CauseInjury  \\\n",
              "0                               1                       0.0   \n",
              "1                               0                       0.0   \n",
              "3                               0                       0.0   \n",
              "4                               0                       0.0   \n",
              "5                               1                       0.0   \n",
              "\n",
              "   SearchReason_AssistEscape  SearchReason_PossessWeapons  \\\n",
              "0                        0.0                          0.0   \n",
              "1                        0.0                          0.0   \n",
              "3                        0.0                          0.0   \n",
              "4                        0.0                          0.0   \n",
              "5                        0.0                          0.0   \n",
              "\n",
              "   SearchReason_PossessEvidence  ItemsFound  ObjectId  \\\n",
              "0                           0.0         0.0         1   \n",
              "1                           0.0         0.0         2   \n",
              "3                           0.0         0.0         4   \n",
              "4                           0.0         0.0         5   \n",
              "5                           0.0         0.0         6   \n",
              "\n",
              "   Negative_Behaviour_at_Arrest  \n",
              "0                             0  \n",
              "1                             0  \n",
              "3                             0  \n",
              "4                             0  \n",
              "5                             0  \n",
              "\n",
              "[5 rows x 26 columns]"
            ],
            "text/html": [
              "\n",
              "  <div id=\"df-a570edb6-14b4-47d5-862a-42b443da6fb0\">\n",
              "    <div class=\"colab-df-container\">\n",
              "      <div>\n",
              "<style scoped>\n",
              "    .dataframe tbody tr th:only-of-type {\n",
              "        vertical-align: middle;\n",
              "    }\n",
              "\n",
              "    .dataframe tbody tr th {\n",
              "        vertical-align: top;\n",
              "    }\n",
              "\n",
              "    .dataframe thead th {\n",
              "        text-align: right;\n",
              "    }\n",
              "</style>\n",
              "<table border=\"1\" class=\"dataframe\">\n",
              "  <thead>\n",
              "    <tr style=\"text-align: right;\">\n",
              "      <th></th>\n",
              "      <th>Arrest_Year</th>\n",
              "      <th>Arrest_Month</th>\n",
              "      <th>EventID</th>\n",
              "      <th>ArrestID</th>\n",
              "      <th>PersonID</th>\n",
              "      <th>Perceived_Race</th>\n",
              "      <th>Sex</th>\n",
              "      <th>Age_group__at_arrest_</th>\n",
              "      <th>Youth_at_arrest__under_18_years</th>\n",
              "      <th>ArrestLocDiv</th>\n",
              "      <th>...</th>\n",
              "      <th>Actions_at_arrest___Mental_inst</th>\n",
              "      <th>Actions_at_arrest___Assaulted_o</th>\n",
              "      <th>Actions_at_arrest___Cooperative</th>\n",
              "      <th>SearchReason_CauseInjury</th>\n",
              "      <th>SearchReason_AssistEscape</th>\n",
              "      <th>SearchReason_PossessWeapons</th>\n",
              "      <th>SearchReason_PossessEvidence</th>\n",
              "      <th>ItemsFound</th>\n",
              "      <th>ObjectId</th>\n",
              "      <th>Negative_Behaviour_at_Arrest</th>\n",
              "    </tr>\n",
              "  </thead>\n",
              "  <tbody>\n",
              "    <tr>\n",
              "      <th>0</th>\n",
              "      <td>2020</td>\n",
              "      <td>July-Sept</td>\n",
              "      <td>1005907</td>\n",
              "      <td>6017884.0</td>\n",
              "      <td>326622</td>\n",
              "      <td>White</td>\n",
              "      <td>M</td>\n",
              "      <td>Aged 35 to 44 years</td>\n",
              "      <td>Not a youth</td>\n",
              "      <td>54</td>\n",
              "      <td>...</td>\n",
              "      <td>0</td>\n",
              "      <td>0</td>\n",
              "      <td>1</td>\n",
              "      <td>0.0</td>\n",
              "      <td>0.0</td>\n",
              "      <td>0.0</td>\n",
              "      <td>0.0</td>\n",
              "      <td>0.0</td>\n",
              "      <td>1</td>\n",
              "      <td>0</td>\n",
              "    </tr>\n",
              "    <tr>\n",
              "      <th>1</th>\n",
              "      <td>2020</td>\n",
              "      <td>July-Sept</td>\n",
              "      <td>1014562</td>\n",
              "      <td>6056669.0</td>\n",
              "      <td>326622</td>\n",
              "      <td>White</td>\n",
              "      <td>M</td>\n",
              "      <td>Aged 35 to 44 years</td>\n",
              "      <td>Not a youth</td>\n",
              "      <td>54</td>\n",
              "      <td>...</td>\n",
              "      <td>0</td>\n",
              "      <td>0</td>\n",
              "      <td>0</td>\n",
              "      <td>0.0</td>\n",
              "      <td>0.0</td>\n",
              "      <td>0.0</td>\n",
              "      <td>0.0</td>\n",
              "      <td>0.0</td>\n",
              "      <td>2</td>\n",
              "      <td>0</td>\n",
              "    </tr>\n",
              "    <tr>\n",
              "      <th>3</th>\n",
              "      <td>2021</td>\n",
              "      <td>Jan-Mar</td>\n",
              "      <td>1052190</td>\n",
              "      <td>6029059.0</td>\n",
              "      <td>327535</td>\n",
              "      <td>Black</td>\n",
              "      <td>M</td>\n",
              "      <td>Aged 25 to 34 years</td>\n",
              "      <td>Not a youth</td>\n",
              "      <td>XX</td>\n",
              "      <td>...</td>\n",
              "      <td>0</td>\n",
              "      <td>0</td>\n",
              "      <td>0</td>\n",
              "      <td>0.0</td>\n",
              "      <td>0.0</td>\n",
              "      <td>0.0</td>\n",
              "      <td>0.0</td>\n",
              "      <td>0.0</td>\n",
              "      <td>4</td>\n",
              "      <td>0</td>\n",
              "    </tr>\n",
              "    <tr>\n",
              "      <th>4</th>\n",
              "      <td>2021</td>\n",
              "      <td>Jan-Mar</td>\n",
              "      <td>1015512</td>\n",
              "      <td>6040372.0</td>\n",
              "      <td>327535</td>\n",
              "      <td>South Asian</td>\n",
              "      <td>M</td>\n",
              "      <td>Aged 25 to 34 years</td>\n",
              "      <td>Not a youth</td>\n",
              "      <td>XX</td>\n",
              "      <td>...</td>\n",
              "      <td>0</td>\n",
              "      <td>0</td>\n",
              "      <td>0</td>\n",
              "      <td>0.0</td>\n",
              "      <td>0.0</td>\n",
              "      <td>0.0</td>\n",
              "      <td>0.0</td>\n",
              "      <td>0.0</td>\n",
              "      <td>5</td>\n",
              "      <td>0</td>\n",
              "    </tr>\n",
              "    <tr>\n",
              "      <th>5</th>\n",
              "      <td>2021</td>\n",
              "      <td>Apr-June</td>\n",
              "      <td>1019145</td>\n",
              "      <td>6060688.0</td>\n",
              "      <td>327535</td>\n",
              "      <td>South Asian</td>\n",
              "      <td>M</td>\n",
              "      <td>Aged 25 to 34 years</td>\n",
              "      <td>Not a youth</td>\n",
              "      <td>42</td>\n",
              "      <td>...</td>\n",
              "      <td>0</td>\n",
              "      <td>0</td>\n",
              "      <td>1</td>\n",
              "      <td>0.0</td>\n",
              "      <td>0.0</td>\n",
              "      <td>0.0</td>\n",
              "      <td>0.0</td>\n",
              "      <td>0.0</td>\n",
              "      <td>6</td>\n",
              "      <td>0</td>\n",
              "    </tr>\n",
              "  </tbody>\n",
              "</table>\n",
              "<p>5 rows × 26 columns</p>\n",
              "</div>\n",
              "      <button class=\"colab-df-convert\" onclick=\"convertToInteractive('df-a570edb6-14b4-47d5-862a-42b443da6fb0')\"\n",
              "              title=\"Convert this dataframe to an interactive table.\"\n",
              "              style=\"display:none;\">\n",
              "        \n",
              "  <svg xmlns=\"http://www.w3.org/2000/svg\" height=\"24px\"viewBox=\"0 0 24 24\"\n",
              "       width=\"24px\">\n",
              "    <path d=\"M0 0h24v24H0V0z\" fill=\"none\"/>\n",
              "    <path d=\"M18.56 5.44l.94 2.06.94-2.06 2.06-.94-2.06-.94-.94-2.06-.94 2.06-2.06.94zm-11 1L8.5 8.5l.94-2.06 2.06-.94-2.06-.94L8.5 2.5l-.94 2.06-2.06.94zm10 10l.94 2.06.94-2.06 2.06-.94-2.06-.94-.94-2.06-.94 2.06-2.06.94z\"/><path d=\"M17.41 7.96l-1.37-1.37c-.4-.4-.92-.59-1.43-.59-.52 0-1.04.2-1.43.59L10.3 9.45l-7.72 7.72c-.78.78-.78 2.05 0 2.83L4 21.41c.39.39.9.59 1.41.59.51 0 1.02-.2 1.41-.59l7.78-7.78 2.81-2.81c.8-.78.8-2.07 0-2.86zM5.41 20L4 18.59l7.72-7.72 1.47 1.35L5.41 20z\"/>\n",
              "  </svg>\n",
              "      </button>\n",
              "      \n",
              "  <style>\n",
              "    .colab-df-container {\n",
              "      display:flex;\n",
              "      flex-wrap:wrap;\n",
              "      gap: 12px;\n",
              "    }\n",
              "\n",
              "    .colab-df-convert {\n",
              "      background-color: #E8F0FE;\n",
              "      border: none;\n",
              "      border-radius: 50%;\n",
              "      cursor: pointer;\n",
              "      display: none;\n",
              "      fill: #1967D2;\n",
              "      height: 32px;\n",
              "      padding: 0 0 0 0;\n",
              "      width: 32px;\n",
              "    }\n",
              "\n",
              "    .colab-df-convert:hover {\n",
              "      background-color: #E2EBFA;\n",
              "      box-shadow: 0px 1px 2px rgba(60, 64, 67, 0.3), 0px 1px 3px 1px rgba(60, 64, 67, 0.15);\n",
              "      fill: #174EA6;\n",
              "    }\n",
              "\n",
              "    [theme=dark] .colab-df-convert {\n",
              "      background-color: #3B4455;\n",
              "      fill: #D2E3FC;\n",
              "    }\n",
              "\n",
              "    [theme=dark] .colab-df-convert:hover {\n",
              "      background-color: #434B5C;\n",
              "      box-shadow: 0px 1px 3px 1px rgba(0, 0, 0, 0.15);\n",
              "      filter: drop-shadow(0px 1px 2px rgba(0, 0, 0, 0.3));\n",
              "      fill: #FFFFFF;\n",
              "    }\n",
              "  </style>\n",
              "\n",
              "      <script>\n",
              "        const buttonEl =\n",
              "          document.querySelector('#df-a570edb6-14b4-47d5-862a-42b443da6fb0 button.colab-df-convert');\n",
              "        buttonEl.style.display =\n",
              "          google.colab.kernel.accessAllowed ? 'block' : 'none';\n",
              "\n",
              "        async function convertToInteractive(key) {\n",
              "          const element = document.querySelector('#df-a570edb6-14b4-47d5-862a-42b443da6fb0');\n",
              "          const dataTable =\n",
              "            await google.colab.kernel.invokeFunction('convertToInteractive',\n",
              "                                                     [key], {});\n",
              "          if (!dataTable) return;\n",
              "\n",
              "          const docLinkHtml = 'Like what you see? Visit the ' +\n",
              "            '<a target=\"_blank\" href=https://colab.research.google.com/notebooks/data_table.ipynb>data table notebook</a>'\n",
              "            + ' to learn more about interactive tables.';\n",
              "          element.innerHTML = '';\n",
              "          dataTable['output_type'] = 'display_data';\n",
              "          await google.colab.output.renderOutput(dataTable, element);\n",
              "          const docLink = document.createElement('div');\n",
              "          docLink.innerHTML = docLinkHtml;\n",
              "          element.appendChild(docLink);\n",
              "        }\n",
              "      </script>\n",
              "    </div>\n",
              "  </div>\n",
              "  "
            ]
          },
          "metadata": {},
          "execution_count": 20
        }
      ]
    },
    {
      "cell_type": "code",
      "source": [
        "# number_arrests_sex_race has Sex and race\n",
        "# sex & race\n",
        "negativebehaviour1 = clean_dataset.groupby(['Arrest_Year', 'Perceived_Race',\"Sex\",'Youth_at_arrest__under_18_years'], as_index= False).agg({'Negative_Behaviour_at_Arrest': 'sum'})\n"
      ],
      "metadata": {
        "id": "jAtAe8qgIhLt"
      },
      "execution_count": null,
      "outputs": []
    },
    {
      "cell_type": "code",
      "source": [
        "neg_behavior_sex_race = clean_dataset.groupby([\"Sex\",'Perceived_Race'])['Negative_Behaviour_at_Arrest'].sum().reset_index()\n",
        "neg_behavior_sex_race.head()\n"
      ],
      "metadata": {
        "colab": {
          "base_uri": "https://localhost:8080/",
          "height": 206
        },
        "id": "b-oNnZkb_hhe",
        "outputId": "ca1ae570-a98f-49b7-8e34-48f30fd4c6a3"
      },
      "execution_count": null,
      "outputs": [
        {
          "output_type": "execute_result",
          "data": {
            "text/plain": [
              "  Sex        Perceived_Race  Negative_Behaviour_at_Arrest\n",
              "0   F                 Black                           484\n",
              "1   F  East/Southeast Asian                            46\n",
              "2   F            Indigenous                           105\n",
              "3   F                Latino                            34\n",
              "4   F        Middle-Eastern                            39"
            ],
            "text/html": [
              "\n",
              "  <div id=\"df-7540681e-72d1-412f-a459-980b60797cbe\">\n",
              "    <div class=\"colab-df-container\">\n",
              "      <div>\n",
              "<style scoped>\n",
              "    .dataframe tbody tr th:only-of-type {\n",
              "        vertical-align: middle;\n",
              "    }\n",
              "\n",
              "    .dataframe tbody tr th {\n",
              "        vertical-align: top;\n",
              "    }\n",
              "\n",
              "    .dataframe thead th {\n",
              "        text-align: right;\n",
              "    }\n",
              "</style>\n",
              "<table border=\"1\" class=\"dataframe\">\n",
              "  <thead>\n",
              "    <tr style=\"text-align: right;\">\n",
              "      <th></th>\n",
              "      <th>Sex</th>\n",
              "      <th>Perceived_Race</th>\n",
              "      <th>Negative_Behaviour_at_Arrest</th>\n",
              "    </tr>\n",
              "  </thead>\n",
              "  <tbody>\n",
              "    <tr>\n",
              "      <th>0</th>\n",
              "      <td>F</td>\n",
              "      <td>Black</td>\n",
              "      <td>484</td>\n",
              "    </tr>\n",
              "    <tr>\n",
              "      <th>1</th>\n",
              "      <td>F</td>\n",
              "      <td>East/Southeast Asian</td>\n",
              "      <td>46</td>\n",
              "    </tr>\n",
              "    <tr>\n",
              "      <th>2</th>\n",
              "      <td>F</td>\n",
              "      <td>Indigenous</td>\n",
              "      <td>105</td>\n",
              "    </tr>\n",
              "    <tr>\n",
              "      <th>3</th>\n",
              "      <td>F</td>\n",
              "      <td>Latino</td>\n",
              "      <td>34</td>\n",
              "    </tr>\n",
              "    <tr>\n",
              "      <th>4</th>\n",
              "      <td>F</td>\n",
              "      <td>Middle-Eastern</td>\n",
              "      <td>39</td>\n",
              "    </tr>\n",
              "  </tbody>\n",
              "</table>\n",
              "</div>\n",
              "      <button class=\"colab-df-convert\" onclick=\"convertToInteractive('df-7540681e-72d1-412f-a459-980b60797cbe')\"\n",
              "              title=\"Convert this dataframe to an interactive table.\"\n",
              "              style=\"display:none;\">\n",
              "        \n",
              "  <svg xmlns=\"http://www.w3.org/2000/svg\" height=\"24px\"viewBox=\"0 0 24 24\"\n",
              "       width=\"24px\">\n",
              "    <path d=\"M0 0h24v24H0V0z\" fill=\"none\"/>\n",
              "    <path d=\"M18.56 5.44l.94 2.06.94-2.06 2.06-.94-2.06-.94-.94-2.06-.94 2.06-2.06.94zm-11 1L8.5 8.5l.94-2.06 2.06-.94-2.06-.94L8.5 2.5l-.94 2.06-2.06.94zm10 10l.94 2.06.94-2.06 2.06-.94-2.06-.94-.94-2.06-.94 2.06-2.06.94z\"/><path d=\"M17.41 7.96l-1.37-1.37c-.4-.4-.92-.59-1.43-.59-.52 0-1.04.2-1.43.59L10.3 9.45l-7.72 7.72c-.78.78-.78 2.05 0 2.83L4 21.41c.39.39.9.59 1.41.59.51 0 1.02-.2 1.41-.59l7.78-7.78 2.81-2.81c.8-.78.8-2.07 0-2.86zM5.41 20L4 18.59l7.72-7.72 1.47 1.35L5.41 20z\"/>\n",
              "  </svg>\n",
              "      </button>\n",
              "      \n",
              "  <style>\n",
              "    .colab-df-container {\n",
              "      display:flex;\n",
              "      flex-wrap:wrap;\n",
              "      gap: 12px;\n",
              "    }\n",
              "\n",
              "    .colab-df-convert {\n",
              "      background-color: #E8F0FE;\n",
              "      border: none;\n",
              "      border-radius: 50%;\n",
              "      cursor: pointer;\n",
              "      display: none;\n",
              "      fill: #1967D2;\n",
              "      height: 32px;\n",
              "      padding: 0 0 0 0;\n",
              "      width: 32px;\n",
              "    }\n",
              "\n",
              "    .colab-df-convert:hover {\n",
              "      background-color: #E2EBFA;\n",
              "      box-shadow: 0px 1px 2px rgba(60, 64, 67, 0.3), 0px 1px 3px 1px rgba(60, 64, 67, 0.15);\n",
              "      fill: #174EA6;\n",
              "    }\n",
              "\n",
              "    [theme=dark] .colab-df-convert {\n",
              "      background-color: #3B4455;\n",
              "      fill: #D2E3FC;\n",
              "    }\n",
              "\n",
              "    [theme=dark] .colab-df-convert:hover {\n",
              "      background-color: #434B5C;\n",
              "      box-shadow: 0px 1px 3px 1px rgba(0, 0, 0, 0.15);\n",
              "      filter: drop-shadow(0px 1px 2px rgba(0, 0, 0, 0.3));\n",
              "      fill: #FFFFFF;\n",
              "    }\n",
              "  </style>\n",
              "\n",
              "      <script>\n",
              "        const buttonEl =\n",
              "          document.querySelector('#df-7540681e-72d1-412f-a459-980b60797cbe button.colab-df-convert');\n",
              "        buttonEl.style.display =\n",
              "          google.colab.kernel.accessAllowed ? 'block' : 'none';\n",
              "\n",
              "        async function convertToInteractive(key) {\n",
              "          const element = document.querySelector('#df-7540681e-72d1-412f-a459-980b60797cbe');\n",
              "          const dataTable =\n",
              "            await google.colab.kernel.invokeFunction('convertToInteractive',\n",
              "                                                     [key], {});\n",
              "          if (!dataTable) return;\n",
              "\n",
              "          const docLinkHtml = 'Like what you see? Visit the ' +\n",
              "            '<a target=\"_blank\" href=https://colab.research.google.com/notebooks/data_table.ipynb>data table notebook</a>'\n",
              "            + ' to learn more about interactive tables.';\n",
              "          element.innerHTML = '';\n",
              "          dataTable['output_type'] = 'display_data';\n",
              "          await google.colab.output.renderOutput(dataTable, element);\n",
              "          const docLink = document.createElement('div');\n",
              "          docLink.innerHTML = docLinkHtml;\n",
              "          element.appendChild(docLink);\n",
              "        }\n",
              "      </script>\n",
              "    </div>\n",
              "  </div>\n",
              "  "
            ]
          },
          "metadata": {},
          "execution_count": 22
        }
      ]
    },
    {
      "cell_type": "code",
      "source": [
        "#grouping negative behaviour at arrest \n",
        "negativebehaviour1 = clean_dataset.groupby(['Arrest_Year', 'Perceived_Race',\"Sex\",'Youth_at_arrest__under_18_years'], as_index= False).agg({'Negative_Behaviour_at_Arrest': 'sum'})\n",
        "negativebehaviour1.head()"
      ],
      "metadata": {
        "id": "CnUQL8JxqaIc",
        "colab": {
          "base_uri": "https://localhost:8080/",
          "height": 206
        },
        "outputId": "4d8bd34f-d263-4c25-c3ea-e5bfe5d029c6"
      },
      "execution_count": null,
      "outputs": [
        {
          "output_type": "execute_result",
          "data": {
            "text/plain": [
              "   Arrest_Year        Perceived_Race Sex Youth_at_arrest__under_18_years  \\\n",
              "0         2020                 Black   F                     Not a youth   \n",
              "1         2020                 Black   F     Youth (aged 17 and younger)   \n",
              "2         2020                 Black   M                     Not a youth   \n",
              "3         2020                 Black   M     Youth (aged 17 and younger)   \n",
              "4         2020  East/Southeast Asian   F                     Not a youth   \n",
              "\n",
              "   Negative_Behaviour_at_Arrest  \n",
              "0                           258  \n",
              "1                            12  \n",
              "2                          1021  \n",
              "3                            37  \n",
              "4                            14  "
            ],
            "text/html": [
              "\n",
              "  <div id=\"df-a5043b7c-794f-4491-ad5a-492a1294bfc7\">\n",
              "    <div class=\"colab-df-container\">\n",
              "      <div>\n",
              "<style scoped>\n",
              "    .dataframe tbody tr th:only-of-type {\n",
              "        vertical-align: middle;\n",
              "    }\n",
              "\n",
              "    .dataframe tbody tr th {\n",
              "        vertical-align: top;\n",
              "    }\n",
              "\n",
              "    .dataframe thead th {\n",
              "        text-align: right;\n",
              "    }\n",
              "</style>\n",
              "<table border=\"1\" class=\"dataframe\">\n",
              "  <thead>\n",
              "    <tr style=\"text-align: right;\">\n",
              "      <th></th>\n",
              "      <th>Arrest_Year</th>\n",
              "      <th>Perceived_Race</th>\n",
              "      <th>Sex</th>\n",
              "      <th>Youth_at_arrest__under_18_years</th>\n",
              "      <th>Negative_Behaviour_at_Arrest</th>\n",
              "    </tr>\n",
              "  </thead>\n",
              "  <tbody>\n",
              "    <tr>\n",
              "      <th>0</th>\n",
              "      <td>2020</td>\n",
              "      <td>Black</td>\n",
              "      <td>F</td>\n",
              "      <td>Not a youth</td>\n",
              "      <td>258</td>\n",
              "    </tr>\n",
              "    <tr>\n",
              "      <th>1</th>\n",
              "      <td>2020</td>\n",
              "      <td>Black</td>\n",
              "      <td>F</td>\n",
              "      <td>Youth (aged 17 and younger)</td>\n",
              "      <td>12</td>\n",
              "    </tr>\n",
              "    <tr>\n",
              "      <th>2</th>\n",
              "      <td>2020</td>\n",
              "      <td>Black</td>\n",
              "      <td>M</td>\n",
              "      <td>Not a youth</td>\n",
              "      <td>1021</td>\n",
              "    </tr>\n",
              "    <tr>\n",
              "      <th>3</th>\n",
              "      <td>2020</td>\n",
              "      <td>Black</td>\n",
              "      <td>M</td>\n",
              "      <td>Youth (aged 17 and younger)</td>\n",
              "      <td>37</td>\n",
              "    </tr>\n",
              "    <tr>\n",
              "      <th>4</th>\n",
              "      <td>2020</td>\n",
              "      <td>East/Southeast Asian</td>\n",
              "      <td>F</td>\n",
              "      <td>Not a youth</td>\n",
              "      <td>14</td>\n",
              "    </tr>\n",
              "  </tbody>\n",
              "</table>\n",
              "</div>\n",
              "      <button class=\"colab-df-convert\" onclick=\"convertToInteractive('df-a5043b7c-794f-4491-ad5a-492a1294bfc7')\"\n",
              "              title=\"Convert this dataframe to an interactive table.\"\n",
              "              style=\"display:none;\">\n",
              "        \n",
              "  <svg xmlns=\"http://www.w3.org/2000/svg\" height=\"24px\"viewBox=\"0 0 24 24\"\n",
              "       width=\"24px\">\n",
              "    <path d=\"M0 0h24v24H0V0z\" fill=\"none\"/>\n",
              "    <path d=\"M18.56 5.44l.94 2.06.94-2.06 2.06-.94-2.06-.94-.94-2.06-.94 2.06-2.06.94zm-11 1L8.5 8.5l.94-2.06 2.06-.94-2.06-.94L8.5 2.5l-.94 2.06-2.06.94zm10 10l.94 2.06.94-2.06 2.06-.94-2.06-.94-.94-2.06-.94 2.06-2.06.94z\"/><path d=\"M17.41 7.96l-1.37-1.37c-.4-.4-.92-.59-1.43-.59-.52 0-1.04.2-1.43.59L10.3 9.45l-7.72 7.72c-.78.78-.78 2.05 0 2.83L4 21.41c.39.39.9.59 1.41.59.51 0 1.02-.2 1.41-.59l7.78-7.78 2.81-2.81c.8-.78.8-2.07 0-2.86zM5.41 20L4 18.59l7.72-7.72 1.47 1.35L5.41 20z\"/>\n",
              "  </svg>\n",
              "      </button>\n",
              "      \n",
              "  <style>\n",
              "    .colab-df-container {\n",
              "      display:flex;\n",
              "      flex-wrap:wrap;\n",
              "      gap: 12px;\n",
              "    }\n",
              "\n",
              "    .colab-df-convert {\n",
              "      background-color: #E8F0FE;\n",
              "      border: none;\n",
              "      border-radius: 50%;\n",
              "      cursor: pointer;\n",
              "      display: none;\n",
              "      fill: #1967D2;\n",
              "      height: 32px;\n",
              "      padding: 0 0 0 0;\n",
              "      width: 32px;\n",
              "    }\n",
              "\n",
              "    .colab-df-convert:hover {\n",
              "      background-color: #E2EBFA;\n",
              "      box-shadow: 0px 1px 2px rgba(60, 64, 67, 0.3), 0px 1px 3px 1px rgba(60, 64, 67, 0.15);\n",
              "      fill: #174EA6;\n",
              "    }\n",
              "\n",
              "    [theme=dark] .colab-df-convert {\n",
              "      background-color: #3B4455;\n",
              "      fill: #D2E3FC;\n",
              "    }\n",
              "\n",
              "    [theme=dark] .colab-df-convert:hover {\n",
              "      background-color: #434B5C;\n",
              "      box-shadow: 0px 1px 3px 1px rgba(0, 0, 0, 0.15);\n",
              "      filter: drop-shadow(0px 1px 2px rgba(0, 0, 0, 0.3));\n",
              "      fill: #FFFFFF;\n",
              "    }\n",
              "  </style>\n",
              "\n",
              "      <script>\n",
              "        const buttonEl =\n",
              "          document.querySelector('#df-a5043b7c-794f-4491-ad5a-492a1294bfc7 button.colab-df-convert');\n",
              "        buttonEl.style.display =\n",
              "          google.colab.kernel.accessAllowed ? 'block' : 'none';\n",
              "\n",
              "        async function convertToInteractive(key) {\n",
              "          const element = document.querySelector('#df-a5043b7c-794f-4491-ad5a-492a1294bfc7');\n",
              "          const dataTable =\n",
              "            await google.colab.kernel.invokeFunction('convertToInteractive',\n",
              "                                                     [key], {});\n",
              "          if (!dataTable) return;\n",
              "\n",
              "          const docLinkHtml = 'Like what you see? Visit the ' +\n",
              "            '<a target=\"_blank\" href=https://colab.research.google.com/notebooks/data_table.ipynb>data table notebook</a>'\n",
              "            + ' to learn more about interactive tables.';\n",
              "          element.innerHTML = '';\n",
              "          dataTable['output_type'] = 'display_data';\n",
              "          await google.colab.output.renderOutput(dataTable, element);\n",
              "          const docLink = document.createElement('div');\n",
              "          docLink.innerHTML = docLinkHtml;\n",
              "          element.appendChild(docLink);\n",
              "        }\n",
              "      </script>\n",
              "    </div>\n",
              "  </div>\n",
              "  "
            ]
          },
          "metadata": {},
          "execution_count": 23
        }
      ]
    },
    {
      "cell_type": "code",
      "source": [
        "negativebehaviour1[\"Negative_Behaviour_at_Arrest\"].describe()"
      ],
      "metadata": {
        "colab": {
          "base_uri": "https://localhost:8080/"
        },
        "id": "_QbbCOfU4GBz",
        "outputId": "cc22cd2e-17b3-42bf-d7bb-d89e8be850e5"
      },
      "execution_count": null,
      "outputs": [
        {
          "output_type": "execute_result",
          "data": {
            "text/plain": [
              "count      56.00000\n",
              "mean      139.37500\n",
              "std       312.52721\n",
              "min         0.00000\n",
              "25%         3.75000\n",
              "50%        18.00000\n",
              "75%       135.25000\n",
              "max      1431.00000\n",
              "Name: Negative_Behaviour_at_Arrest, dtype: float64"
            ]
          },
          "metadata": {},
          "execution_count": 24
        }
      ]
    },
    {
      "cell_type": "code",
      "source": [
        "#grouping race & sex with negative behaviour at arrest \n",
        "negativebehaviour2 = clean_dataset.groupby(['Perceived_Race','Sex'], as_index= False).agg({'Negative_Behaviour_at_Arrest': 'sum'})\n",
        "negativebehaviour2.head()"
      ],
      "metadata": {
        "id": "SVdFYAB3GCVC",
        "colab": {
          "base_uri": "https://localhost:8080/",
          "height": 206
        },
        "outputId": "f2dbffe6-48a0-465e-9cd6-d8b87331dc32"
      },
      "execution_count": null,
      "outputs": [
        {
          "output_type": "execute_result",
          "data": {
            "text/plain": [
              "         Perceived_Race Sex  Negative_Behaviour_at_Arrest\n",
              "0                 Black   F                           484\n",
              "1                 Black   M                          2054\n",
              "2  East/Southeast Asian   F                            46\n",
              "3  East/Southeast Asian   M                           325\n",
              "4            Indigenous   F                           105"
            ],
            "text/html": [
              "\n",
              "  <div id=\"df-1acae7ea-3f7e-4b97-9bf6-422d75a465b0\">\n",
              "    <div class=\"colab-df-container\">\n",
              "      <div>\n",
              "<style scoped>\n",
              "    .dataframe tbody tr th:only-of-type {\n",
              "        vertical-align: middle;\n",
              "    }\n",
              "\n",
              "    .dataframe tbody tr th {\n",
              "        vertical-align: top;\n",
              "    }\n",
              "\n",
              "    .dataframe thead th {\n",
              "        text-align: right;\n",
              "    }\n",
              "</style>\n",
              "<table border=\"1\" class=\"dataframe\">\n",
              "  <thead>\n",
              "    <tr style=\"text-align: right;\">\n",
              "      <th></th>\n",
              "      <th>Perceived_Race</th>\n",
              "      <th>Sex</th>\n",
              "      <th>Negative_Behaviour_at_Arrest</th>\n",
              "    </tr>\n",
              "  </thead>\n",
              "  <tbody>\n",
              "    <tr>\n",
              "      <th>0</th>\n",
              "      <td>Black</td>\n",
              "      <td>F</td>\n",
              "      <td>484</td>\n",
              "    </tr>\n",
              "    <tr>\n",
              "      <th>1</th>\n",
              "      <td>Black</td>\n",
              "      <td>M</td>\n",
              "      <td>2054</td>\n",
              "    </tr>\n",
              "    <tr>\n",
              "      <th>2</th>\n",
              "      <td>East/Southeast Asian</td>\n",
              "      <td>F</td>\n",
              "      <td>46</td>\n",
              "    </tr>\n",
              "    <tr>\n",
              "      <th>3</th>\n",
              "      <td>East/Southeast Asian</td>\n",
              "      <td>M</td>\n",
              "      <td>325</td>\n",
              "    </tr>\n",
              "    <tr>\n",
              "      <th>4</th>\n",
              "      <td>Indigenous</td>\n",
              "      <td>F</td>\n",
              "      <td>105</td>\n",
              "    </tr>\n",
              "  </tbody>\n",
              "</table>\n",
              "</div>\n",
              "      <button class=\"colab-df-convert\" onclick=\"convertToInteractive('df-1acae7ea-3f7e-4b97-9bf6-422d75a465b0')\"\n",
              "              title=\"Convert this dataframe to an interactive table.\"\n",
              "              style=\"display:none;\">\n",
              "        \n",
              "  <svg xmlns=\"http://www.w3.org/2000/svg\" height=\"24px\"viewBox=\"0 0 24 24\"\n",
              "       width=\"24px\">\n",
              "    <path d=\"M0 0h24v24H0V0z\" fill=\"none\"/>\n",
              "    <path d=\"M18.56 5.44l.94 2.06.94-2.06 2.06-.94-2.06-.94-.94-2.06-.94 2.06-2.06.94zm-11 1L8.5 8.5l.94-2.06 2.06-.94-2.06-.94L8.5 2.5l-.94 2.06-2.06.94zm10 10l.94 2.06.94-2.06 2.06-.94-2.06-.94-.94-2.06-.94 2.06-2.06.94z\"/><path d=\"M17.41 7.96l-1.37-1.37c-.4-.4-.92-.59-1.43-.59-.52 0-1.04.2-1.43.59L10.3 9.45l-7.72 7.72c-.78.78-.78 2.05 0 2.83L4 21.41c.39.39.9.59 1.41.59.51 0 1.02-.2 1.41-.59l7.78-7.78 2.81-2.81c.8-.78.8-2.07 0-2.86zM5.41 20L4 18.59l7.72-7.72 1.47 1.35L5.41 20z\"/>\n",
              "  </svg>\n",
              "      </button>\n",
              "      \n",
              "  <style>\n",
              "    .colab-df-container {\n",
              "      display:flex;\n",
              "      flex-wrap:wrap;\n",
              "      gap: 12px;\n",
              "    }\n",
              "\n",
              "    .colab-df-convert {\n",
              "      background-color: #E8F0FE;\n",
              "      border: none;\n",
              "      border-radius: 50%;\n",
              "      cursor: pointer;\n",
              "      display: none;\n",
              "      fill: #1967D2;\n",
              "      height: 32px;\n",
              "      padding: 0 0 0 0;\n",
              "      width: 32px;\n",
              "    }\n",
              "\n",
              "    .colab-df-convert:hover {\n",
              "      background-color: #E2EBFA;\n",
              "      box-shadow: 0px 1px 2px rgba(60, 64, 67, 0.3), 0px 1px 3px 1px rgba(60, 64, 67, 0.15);\n",
              "      fill: #174EA6;\n",
              "    }\n",
              "\n",
              "    [theme=dark] .colab-df-convert {\n",
              "      background-color: #3B4455;\n",
              "      fill: #D2E3FC;\n",
              "    }\n",
              "\n",
              "    [theme=dark] .colab-df-convert:hover {\n",
              "      background-color: #434B5C;\n",
              "      box-shadow: 0px 1px 3px 1px rgba(0, 0, 0, 0.15);\n",
              "      filter: drop-shadow(0px 1px 2px rgba(0, 0, 0, 0.3));\n",
              "      fill: #FFFFFF;\n",
              "    }\n",
              "  </style>\n",
              "\n",
              "      <script>\n",
              "        const buttonEl =\n",
              "          document.querySelector('#df-1acae7ea-3f7e-4b97-9bf6-422d75a465b0 button.colab-df-convert');\n",
              "        buttonEl.style.display =\n",
              "          google.colab.kernel.accessAllowed ? 'block' : 'none';\n",
              "\n",
              "        async function convertToInteractive(key) {\n",
              "          const element = document.querySelector('#df-1acae7ea-3f7e-4b97-9bf6-422d75a465b0');\n",
              "          const dataTable =\n",
              "            await google.colab.kernel.invokeFunction('convertToInteractive',\n",
              "                                                     [key], {});\n",
              "          if (!dataTable) return;\n",
              "\n",
              "          const docLinkHtml = 'Like what you see? Visit the ' +\n",
              "            '<a target=\"_blank\" href=https://colab.research.google.com/notebooks/data_table.ipynb>data table notebook</a>'\n",
              "            + ' to learn more about interactive tables.';\n",
              "          element.innerHTML = '';\n",
              "          dataTable['output_type'] = 'display_data';\n",
              "          await google.colab.output.renderOutput(dataTable, element);\n",
              "          const docLink = document.createElement('div');\n",
              "          docLink.innerHTML = docLinkHtml;\n",
              "          element.appendChild(docLink);\n",
              "        }\n",
              "      </script>\n",
              "    </div>\n",
              "  </div>\n",
              "  "
            ]
          },
          "metadata": {},
          "execution_count": 25
        }
      ]
    },
    {
      "cell_type": "code",
      "source": [
        "#grouping age & sex with negative behaviour at arrest \n",
        "negativebehaviour3 = clean_dataset.groupby(['Age_group__at_arrest_','Sex'], as_index= False).agg({'Negative_Behaviour_at_Arrest': 'sum'})\n",
        "negativebehaviour3.head()"
      ],
      "metadata": {
        "id": "thkcju2EOJFA",
        "colab": {
          "base_uri": "https://localhost:8080/",
          "height": 206
        },
        "outputId": "997b4aca-10a2-47ec-94c2-bfa5f328d2e3"
      },
      "execution_count": null,
      "outputs": [
        {
          "output_type": "execute_result",
          "data": {
            "text/plain": [
              "       Age_group__at_arrest_ Sex  Negative_Behaviour_at_Arrest\n",
              "0    Aged 17 years and under   F                            24\n",
              "1    Aged 17 years and under   M                            89\n",
              "2  Aged 17 years and younger   F                            19\n",
              "3  Aged 17 years and younger   M                            74\n",
              "4        Aged 18 to 24 years   F                           276"
            ],
            "text/html": [
              "\n",
              "  <div id=\"df-82d8d75a-3453-42d1-9d00-fd778af60eab\">\n",
              "    <div class=\"colab-df-container\">\n",
              "      <div>\n",
              "<style scoped>\n",
              "    .dataframe tbody tr th:only-of-type {\n",
              "        vertical-align: middle;\n",
              "    }\n",
              "\n",
              "    .dataframe tbody tr th {\n",
              "        vertical-align: top;\n",
              "    }\n",
              "\n",
              "    .dataframe thead th {\n",
              "        text-align: right;\n",
              "    }\n",
              "</style>\n",
              "<table border=\"1\" class=\"dataframe\">\n",
              "  <thead>\n",
              "    <tr style=\"text-align: right;\">\n",
              "      <th></th>\n",
              "      <th>Age_group__at_arrest_</th>\n",
              "      <th>Sex</th>\n",
              "      <th>Negative_Behaviour_at_Arrest</th>\n",
              "    </tr>\n",
              "  </thead>\n",
              "  <tbody>\n",
              "    <tr>\n",
              "      <th>0</th>\n",
              "      <td>Aged 17 years and under</td>\n",
              "      <td>F</td>\n",
              "      <td>24</td>\n",
              "    </tr>\n",
              "    <tr>\n",
              "      <th>1</th>\n",
              "      <td>Aged 17 years and under</td>\n",
              "      <td>M</td>\n",
              "      <td>89</td>\n",
              "    </tr>\n",
              "    <tr>\n",
              "      <th>2</th>\n",
              "      <td>Aged 17 years and younger</td>\n",
              "      <td>F</td>\n",
              "      <td>19</td>\n",
              "    </tr>\n",
              "    <tr>\n",
              "      <th>3</th>\n",
              "      <td>Aged 17 years and younger</td>\n",
              "      <td>M</td>\n",
              "      <td>74</td>\n",
              "    </tr>\n",
              "    <tr>\n",
              "      <th>4</th>\n",
              "      <td>Aged 18 to 24 years</td>\n",
              "      <td>F</td>\n",
              "      <td>276</td>\n",
              "    </tr>\n",
              "  </tbody>\n",
              "</table>\n",
              "</div>\n",
              "      <button class=\"colab-df-convert\" onclick=\"convertToInteractive('df-82d8d75a-3453-42d1-9d00-fd778af60eab')\"\n",
              "              title=\"Convert this dataframe to an interactive table.\"\n",
              "              style=\"display:none;\">\n",
              "        \n",
              "  <svg xmlns=\"http://www.w3.org/2000/svg\" height=\"24px\"viewBox=\"0 0 24 24\"\n",
              "       width=\"24px\">\n",
              "    <path d=\"M0 0h24v24H0V0z\" fill=\"none\"/>\n",
              "    <path d=\"M18.56 5.44l.94 2.06.94-2.06 2.06-.94-2.06-.94-.94-2.06-.94 2.06-2.06.94zm-11 1L8.5 8.5l.94-2.06 2.06-.94-2.06-.94L8.5 2.5l-.94 2.06-2.06.94zm10 10l.94 2.06.94-2.06 2.06-.94-2.06-.94-.94-2.06-.94 2.06-2.06.94z\"/><path d=\"M17.41 7.96l-1.37-1.37c-.4-.4-.92-.59-1.43-.59-.52 0-1.04.2-1.43.59L10.3 9.45l-7.72 7.72c-.78.78-.78 2.05 0 2.83L4 21.41c.39.39.9.59 1.41.59.51 0 1.02-.2 1.41-.59l7.78-7.78 2.81-2.81c.8-.78.8-2.07 0-2.86zM5.41 20L4 18.59l7.72-7.72 1.47 1.35L5.41 20z\"/>\n",
              "  </svg>\n",
              "      </button>\n",
              "      \n",
              "  <style>\n",
              "    .colab-df-container {\n",
              "      display:flex;\n",
              "      flex-wrap:wrap;\n",
              "      gap: 12px;\n",
              "    }\n",
              "\n",
              "    .colab-df-convert {\n",
              "      background-color: #E8F0FE;\n",
              "      border: none;\n",
              "      border-radius: 50%;\n",
              "      cursor: pointer;\n",
              "      display: none;\n",
              "      fill: #1967D2;\n",
              "      height: 32px;\n",
              "      padding: 0 0 0 0;\n",
              "      width: 32px;\n",
              "    }\n",
              "\n",
              "    .colab-df-convert:hover {\n",
              "      background-color: #E2EBFA;\n",
              "      box-shadow: 0px 1px 2px rgba(60, 64, 67, 0.3), 0px 1px 3px 1px rgba(60, 64, 67, 0.15);\n",
              "      fill: #174EA6;\n",
              "    }\n",
              "\n",
              "    [theme=dark] .colab-df-convert {\n",
              "      background-color: #3B4455;\n",
              "      fill: #D2E3FC;\n",
              "    }\n",
              "\n",
              "    [theme=dark] .colab-df-convert:hover {\n",
              "      background-color: #434B5C;\n",
              "      box-shadow: 0px 1px 3px 1px rgba(0, 0, 0, 0.15);\n",
              "      filter: drop-shadow(0px 1px 2px rgba(0, 0, 0, 0.3));\n",
              "      fill: #FFFFFF;\n",
              "    }\n",
              "  </style>\n",
              "\n",
              "      <script>\n",
              "        const buttonEl =\n",
              "          document.querySelector('#df-82d8d75a-3453-42d1-9d00-fd778af60eab button.colab-df-convert');\n",
              "        buttonEl.style.display =\n",
              "          google.colab.kernel.accessAllowed ? 'block' : 'none';\n",
              "\n",
              "        async function convertToInteractive(key) {\n",
              "          const element = document.querySelector('#df-82d8d75a-3453-42d1-9d00-fd778af60eab');\n",
              "          const dataTable =\n",
              "            await google.colab.kernel.invokeFunction('convertToInteractive',\n",
              "                                                     [key], {});\n",
              "          if (!dataTable) return;\n",
              "\n",
              "          const docLinkHtml = 'Like what you see? Visit the ' +\n",
              "            '<a target=\"_blank\" href=https://colab.research.google.com/notebooks/data_table.ipynb>data table notebook</a>'\n",
              "            + ' to learn more about interactive tables.';\n",
              "          element.innerHTML = '';\n",
              "          dataTable['output_type'] = 'display_data';\n",
              "          await google.colab.output.renderOutput(dataTable, element);\n",
              "          const docLink = document.createElement('div');\n",
              "          docLink.innerHTML = docLinkHtml;\n",
              "          element.appendChild(docLink);\n",
              "        }\n",
              "      </script>\n",
              "    </div>\n",
              "  </div>\n",
              "  "
            ]
          },
          "metadata": {},
          "execution_count": 26
        }
      ]
    },
    {
      "cell_type": "code",
      "source": [
        "#youth\n",
        "negativebehaviour4 = clean_dataset.groupby(['Perceived_Race', 'Sex','Arrest_Month','Youth_at_arrest__under_18_years'], as_index= False).agg({'Negative_Behaviour_at_Arrest': 'sum'})\n",
        "negativebehaviour4.head()"
      ],
      "metadata": {
        "id": "Rws5G3lIBqBj",
        "colab": {
          "base_uri": "https://localhost:8080/",
          "height": 206
        },
        "outputId": "bbe6ebbd-7d75-4c8d-f926-f3a3e1799649"
      },
      "execution_count": null,
      "outputs": [
        {
          "output_type": "execute_result",
          "data": {
            "text/plain": [
              "  Perceived_Race Sex Arrest_Month Youth_at_arrest__under_18_years  \\\n",
              "0          Black   F     Apr-June                     Not a youth   \n",
              "1          Black   F     Apr-June     Youth (aged 17 and younger)   \n",
              "2          Black   F      Jan-Mar                     Not a youth   \n",
              "3          Black   F      Jan-Mar     Youth (aged 17 and younger)   \n",
              "4          Black   F    July-Sept                     Not a youth   \n",
              "\n",
              "   Negative_Behaviour_at_Arrest  \n",
              "0                           118  \n",
              "1                             3  \n",
              "2                           130  \n",
              "3                             7  \n",
              "4                           109  "
            ],
            "text/html": [
              "\n",
              "  <div id=\"df-3edeb94d-16d6-4fbb-81e0-cfd586a7d2f2\">\n",
              "    <div class=\"colab-df-container\">\n",
              "      <div>\n",
              "<style scoped>\n",
              "    .dataframe tbody tr th:only-of-type {\n",
              "        vertical-align: middle;\n",
              "    }\n",
              "\n",
              "    .dataframe tbody tr th {\n",
              "        vertical-align: top;\n",
              "    }\n",
              "\n",
              "    .dataframe thead th {\n",
              "        text-align: right;\n",
              "    }\n",
              "</style>\n",
              "<table border=\"1\" class=\"dataframe\">\n",
              "  <thead>\n",
              "    <tr style=\"text-align: right;\">\n",
              "      <th></th>\n",
              "      <th>Perceived_Race</th>\n",
              "      <th>Sex</th>\n",
              "      <th>Arrest_Month</th>\n",
              "      <th>Youth_at_arrest__under_18_years</th>\n",
              "      <th>Negative_Behaviour_at_Arrest</th>\n",
              "    </tr>\n",
              "  </thead>\n",
              "  <tbody>\n",
              "    <tr>\n",
              "      <th>0</th>\n",
              "      <td>Black</td>\n",
              "      <td>F</td>\n",
              "      <td>Apr-June</td>\n",
              "      <td>Not a youth</td>\n",
              "      <td>118</td>\n",
              "    </tr>\n",
              "    <tr>\n",
              "      <th>1</th>\n",
              "      <td>Black</td>\n",
              "      <td>F</td>\n",
              "      <td>Apr-June</td>\n",
              "      <td>Youth (aged 17 and younger)</td>\n",
              "      <td>3</td>\n",
              "    </tr>\n",
              "    <tr>\n",
              "      <th>2</th>\n",
              "      <td>Black</td>\n",
              "      <td>F</td>\n",
              "      <td>Jan-Mar</td>\n",
              "      <td>Not a youth</td>\n",
              "      <td>130</td>\n",
              "    </tr>\n",
              "    <tr>\n",
              "      <th>3</th>\n",
              "      <td>Black</td>\n",
              "      <td>F</td>\n",
              "      <td>Jan-Mar</td>\n",
              "      <td>Youth (aged 17 and younger)</td>\n",
              "      <td>7</td>\n",
              "    </tr>\n",
              "    <tr>\n",
              "      <th>4</th>\n",
              "      <td>Black</td>\n",
              "      <td>F</td>\n",
              "      <td>July-Sept</td>\n",
              "      <td>Not a youth</td>\n",
              "      <td>109</td>\n",
              "    </tr>\n",
              "  </tbody>\n",
              "</table>\n",
              "</div>\n",
              "      <button class=\"colab-df-convert\" onclick=\"convertToInteractive('df-3edeb94d-16d6-4fbb-81e0-cfd586a7d2f2')\"\n",
              "              title=\"Convert this dataframe to an interactive table.\"\n",
              "              style=\"display:none;\">\n",
              "        \n",
              "  <svg xmlns=\"http://www.w3.org/2000/svg\" height=\"24px\"viewBox=\"0 0 24 24\"\n",
              "       width=\"24px\">\n",
              "    <path d=\"M0 0h24v24H0V0z\" fill=\"none\"/>\n",
              "    <path d=\"M18.56 5.44l.94 2.06.94-2.06 2.06-.94-2.06-.94-.94-2.06-.94 2.06-2.06.94zm-11 1L8.5 8.5l.94-2.06 2.06-.94-2.06-.94L8.5 2.5l-.94 2.06-2.06.94zm10 10l.94 2.06.94-2.06 2.06-.94-2.06-.94-.94-2.06-.94 2.06-2.06.94z\"/><path d=\"M17.41 7.96l-1.37-1.37c-.4-.4-.92-.59-1.43-.59-.52 0-1.04.2-1.43.59L10.3 9.45l-7.72 7.72c-.78.78-.78 2.05 0 2.83L4 21.41c.39.39.9.59 1.41.59.51 0 1.02-.2 1.41-.59l7.78-7.78 2.81-2.81c.8-.78.8-2.07 0-2.86zM5.41 20L4 18.59l7.72-7.72 1.47 1.35L5.41 20z\"/>\n",
              "  </svg>\n",
              "      </button>\n",
              "      \n",
              "  <style>\n",
              "    .colab-df-container {\n",
              "      display:flex;\n",
              "      flex-wrap:wrap;\n",
              "      gap: 12px;\n",
              "    }\n",
              "\n",
              "    .colab-df-convert {\n",
              "      background-color: #E8F0FE;\n",
              "      border: none;\n",
              "      border-radius: 50%;\n",
              "      cursor: pointer;\n",
              "      display: none;\n",
              "      fill: #1967D2;\n",
              "      height: 32px;\n",
              "      padding: 0 0 0 0;\n",
              "      width: 32px;\n",
              "    }\n",
              "\n",
              "    .colab-df-convert:hover {\n",
              "      background-color: #E2EBFA;\n",
              "      box-shadow: 0px 1px 2px rgba(60, 64, 67, 0.3), 0px 1px 3px 1px rgba(60, 64, 67, 0.15);\n",
              "      fill: #174EA6;\n",
              "    }\n",
              "\n",
              "    [theme=dark] .colab-df-convert {\n",
              "      background-color: #3B4455;\n",
              "      fill: #D2E3FC;\n",
              "    }\n",
              "\n",
              "    [theme=dark] .colab-df-convert:hover {\n",
              "      background-color: #434B5C;\n",
              "      box-shadow: 0px 1px 3px 1px rgba(0, 0, 0, 0.15);\n",
              "      filter: drop-shadow(0px 1px 2px rgba(0, 0, 0, 0.3));\n",
              "      fill: #FFFFFF;\n",
              "    }\n",
              "  </style>\n",
              "\n",
              "      <script>\n",
              "        const buttonEl =\n",
              "          document.querySelector('#df-3edeb94d-16d6-4fbb-81e0-cfd586a7d2f2 button.colab-df-convert');\n",
              "        buttonEl.style.display =\n",
              "          google.colab.kernel.accessAllowed ? 'block' : 'none';\n",
              "\n",
              "        async function convertToInteractive(key) {\n",
              "          const element = document.querySelector('#df-3edeb94d-16d6-4fbb-81e0-cfd586a7d2f2');\n",
              "          const dataTable =\n",
              "            await google.colab.kernel.invokeFunction('convertToInteractive',\n",
              "                                                     [key], {});\n",
              "          if (!dataTable) return;\n",
              "\n",
              "          const docLinkHtml = 'Like what you see? Visit the ' +\n",
              "            '<a target=\"_blank\" href=https://colab.research.google.com/notebooks/data_table.ipynb>data table notebook</a>'\n",
              "            + ' to learn more about interactive tables.';\n",
              "          element.innerHTML = '';\n",
              "          dataTable['output_type'] = 'display_data';\n",
              "          await google.colab.output.renderOutput(dataTable, element);\n",
              "          const docLink = document.createElement('div');\n",
              "          docLink.innerHTML = docLinkHtml;\n",
              "          element.appendChild(docLink);\n",
              "        }\n",
              "      </script>\n",
              "    </div>\n",
              "  </div>\n",
              "  "
            ]
          },
          "metadata": {},
          "execution_count": 27
        }
      ]
    },
    {
      "cell_type": "code",
      "source": [
        "# add year\n",
        "negativebehaviour5 = clean_dataset.groupby(['Arrest_Year','Perceived_Race', 'Sex','Arrest_Month','Age_group__at_arrest_'], as_index= False).agg({'Negative_Behaviour_at_Arrest': 'sum'})\n",
        "negativebehaviour5.head()"
      ],
      "metadata": {
        "id": "VLPWZ2D6FHI5",
        "colab": {
          "base_uri": "https://localhost:8080/",
          "height": 206
        },
        "outputId": "94c960c8-0219-455e-ff5d-e27bc233af85"
      },
      "execution_count": null,
      "outputs": [
        {
          "output_type": "execute_result",
          "data": {
            "text/plain": [
              "   Arrest_Year Perceived_Race Sex Arrest_Month      Age_group__at_arrest_  \\\n",
              "0         2020          Black   F     Apr-June  Aged 17 years and younger   \n",
              "1         2020          Black   F     Apr-June        Aged 18 to 24 years   \n",
              "2         2020          Black   F     Apr-June        Aged 25 to 34 years   \n",
              "3         2020          Black   F     Apr-June        Aged 35 to 44 years   \n",
              "4         2020          Black   F     Apr-June        Aged 45 to 54 years   \n",
              "\n",
              "   Negative_Behaviour_at_Arrest  \n",
              "0                             2  \n",
              "1                            21  \n",
              "2                            19  \n",
              "3                            14  \n",
              "4                             5  "
            ],
            "text/html": [
              "\n",
              "  <div id=\"df-4ff90d08-ec91-4c3f-915e-2b960fb99771\">\n",
              "    <div class=\"colab-df-container\">\n",
              "      <div>\n",
              "<style scoped>\n",
              "    .dataframe tbody tr th:only-of-type {\n",
              "        vertical-align: middle;\n",
              "    }\n",
              "\n",
              "    .dataframe tbody tr th {\n",
              "        vertical-align: top;\n",
              "    }\n",
              "\n",
              "    .dataframe thead th {\n",
              "        text-align: right;\n",
              "    }\n",
              "</style>\n",
              "<table border=\"1\" class=\"dataframe\">\n",
              "  <thead>\n",
              "    <tr style=\"text-align: right;\">\n",
              "      <th></th>\n",
              "      <th>Arrest_Year</th>\n",
              "      <th>Perceived_Race</th>\n",
              "      <th>Sex</th>\n",
              "      <th>Arrest_Month</th>\n",
              "      <th>Age_group__at_arrest_</th>\n",
              "      <th>Negative_Behaviour_at_Arrest</th>\n",
              "    </tr>\n",
              "  </thead>\n",
              "  <tbody>\n",
              "    <tr>\n",
              "      <th>0</th>\n",
              "      <td>2020</td>\n",
              "      <td>Black</td>\n",
              "      <td>F</td>\n",
              "      <td>Apr-June</td>\n",
              "      <td>Aged 17 years and younger</td>\n",
              "      <td>2</td>\n",
              "    </tr>\n",
              "    <tr>\n",
              "      <th>1</th>\n",
              "      <td>2020</td>\n",
              "      <td>Black</td>\n",
              "      <td>F</td>\n",
              "      <td>Apr-June</td>\n",
              "      <td>Aged 18 to 24 years</td>\n",
              "      <td>21</td>\n",
              "    </tr>\n",
              "    <tr>\n",
              "      <th>2</th>\n",
              "      <td>2020</td>\n",
              "      <td>Black</td>\n",
              "      <td>F</td>\n",
              "      <td>Apr-June</td>\n",
              "      <td>Aged 25 to 34 years</td>\n",
              "      <td>19</td>\n",
              "    </tr>\n",
              "    <tr>\n",
              "      <th>3</th>\n",
              "      <td>2020</td>\n",
              "      <td>Black</td>\n",
              "      <td>F</td>\n",
              "      <td>Apr-June</td>\n",
              "      <td>Aged 35 to 44 years</td>\n",
              "      <td>14</td>\n",
              "    </tr>\n",
              "    <tr>\n",
              "      <th>4</th>\n",
              "      <td>2020</td>\n",
              "      <td>Black</td>\n",
              "      <td>F</td>\n",
              "      <td>Apr-June</td>\n",
              "      <td>Aged 45 to 54 years</td>\n",
              "      <td>5</td>\n",
              "    </tr>\n",
              "  </tbody>\n",
              "</table>\n",
              "</div>\n",
              "      <button class=\"colab-df-convert\" onclick=\"convertToInteractive('df-4ff90d08-ec91-4c3f-915e-2b960fb99771')\"\n",
              "              title=\"Convert this dataframe to an interactive table.\"\n",
              "              style=\"display:none;\">\n",
              "        \n",
              "  <svg xmlns=\"http://www.w3.org/2000/svg\" height=\"24px\"viewBox=\"0 0 24 24\"\n",
              "       width=\"24px\">\n",
              "    <path d=\"M0 0h24v24H0V0z\" fill=\"none\"/>\n",
              "    <path d=\"M18.56 5.44l.94 2.06.94-2.06 2.06-.94-2.06-.94-.94-2.06-.94 2.06-2.06.94zm-11 1L8.5 8.5l.94-2.06 2.06-.94-2.06-.94L8.5 2.5l-.94 2.06-2.06.94zm10 10l.94 2.06.94-2.06 2.06-.94-2.06-.94-.94-2.06-.94 2.06-2.06.94z\"/><path d=\"M17.41 7.96l-1.37-1.37c-.4-.4-.92-.59-1.43-.59-.52 0-1.04.2-1.43.59L10.3 9.45l-7.72 7.72c-.78.78-.78 2.05 0 2.83L4 21.41c.39.39.9.59 1.41.59.51 0 1.02-.2 1.41-.59l7.78-7.78 2.81-2.81c.8-.78.8-2.07 0-2.86zM5.41 20L4 18.59l7.72-7.72 1.47 1.35L5.41 20z\"/>\n",
              "  </svg>\n",
              "      </button>\n",
              "      \n",
              "  <style>\n",
              "    .colab-df-container {\n",
              "      display:flex;\n",
              "      flex-wrap:wrap;\n",
              "      gap: 12px;\n",
              "    }\n",
              "\n",
              "    .colab-df-convert {\n",
              "      background-color: #E8F0FE;\n",
              "      border: none;\n",
              "      border-radius: 50%;\n",
              "      cursor: pointer;\n",
              "      display: none;\n",
              "      fill: #1967D2;\n",
              "      height: 32px;\n",
              "      padding: 0 0 0 0;\n",
              "      width: 32px;\n",
              "    }\n",
              "\n",
              "    .colab-df-convert:hover {\n",
              "      background-color: #E2EBFA;\n",
              "      box-shadow: 0px 1px 2px rgba(60, 64, 67, 0.3), 0px 1px 3px 1px rgba(60, 64, 67, 0.15);\n",
              "      fill: #174EA6;\n",
              "    }\n",
              "\n",
              "    [theme=dark] .colab-df-convert {\n",
              "      background-color: #3B4455;\n",
              "      fill: #D2E3FC;\n",
              "    }\n",
              "\n",
              "    [theme=dark] .colab-df-convert:hover {\n",
              "      background-color: #434B5C;\n",
              "      box-shadow: 0px 1px 3px 1px rgba(0, 0, 0, 0.15);\n",
              "      filter: drop-shadow(0px 1px 2px rgba(0, 0, 0, 0.3));\n",
              "      fill: #FFFFFF;\n",
              "    }\n",
              "  </style>\n",
              "\n",
              "      <script>\n",
              "        const buttonEl =\n",
              "          document.querySelector('#df-4ff90d08-ec91-4c3f-915e-2b960fb99771 button.colab-df-convert');\n",
              "        buttonEl.style.display =\n",
              "          google.colab.kernel.accessAllowed ? 'block' : 'none';\n",
              "\n",
              "        async function convertToInteractive(key) {\n",
              "          const element = document.querySelector('#df-4ff90d08-ec91-4c3f-915e-2b960fb99771');\n",
              "          const dataTable =\n",
              "            await google.colab.kernel.invokeFunction('convertToInteractive',\n",
              "                                                     [key], {});\n",
              "          if (!dataTable) return;\n",
              "\n",
              "          const docLinkHtml = 'Like what you see? Visit the ' +\n",
              "            '<a target=\"_blank\" href=https://colab.research.google.com/notebooks/data_table.ipynb>data table notebook</a>'\n",
              "            + ' to learn more about interactive tables.';\n",
              "          element.innerHTML = '';\n",
              "          dataTable['output_type'] = 'display_data';\n",
              "          await google.colab.output.renderOutput(dataTable, element);\n",
              "          const docLink = document.createElement('div');\n",
              "          docLink.innerHTML = docLinkHtml;\n",
              "          element.appendChild(docLink);\n",
              "        }\n",
              "      </script>\n",
              "    </div>\n",
              "  </div>\n",
              "  "
            ]
          },
          "metadata": {},
          "execution_count": 28
        }
      ]
    },
    {
      "cell_type": "code",
      "source": [
        "# sex only\n",
        "negativebehaviour_sex = clean_dataset.groupby(['Sex'], as_index= False).agg({'Negative_Behaviour_at_Arrest': 'sum'})\n",
        "negativebehaviour_sex.head()"
      ],
      "metadata": {
        "id": "vHGlfK7cL8ZB",
        "colab": {
          "base_uri": "https://localhost:8080/",
          "height": 112
        },
        "outputId": "5672a9a0-3627-461c-a95f-67f3f85d63e5"
      },
      "execution_count": null,
      "outputs": [
        {
          "output_type": "execute_result",
          "data": {
            "text/plain": [
              "  Sex  Negative_Behaviour_at_Arrest\n",
              "0   F                          1544\n",
              "1   M                          6261"
            ],
            "text/html": [
              "\n",
              "  <div id=\"df-1b7267c4-7e21-4b34-8d15-fe3974d20649\">\n",
              "    <div class=\"colab-df-container\">\n",
              "      <div>\n",
              "<style scoped>\n",
              "    .dataframe tbody tr th:only-of-type {\n",
              "        vertical-align: middle;\n",
              "    }\n",
              "\n",
              "    .dataframe tbody tr th {\n",
              "        vertical-align: top;\n",
              "    }\n",
              "\n",
              "    .dataframe thead th {\n",
              "        text-align: right;\n",
              "    }\n",
              "</style>\n",
              "<table border=\"1\" class=\"dataframe\">\n",
              "  <thead>\n",
              "    <tr style=\"text-align: right;\">\n",
              "      <th></th>\n",
              "      <th>Sex</th>\n",
              "      <th>Negative_Behaviour_at_Arrest</th>\n",
              "    </tr>\n",
              "  </thead>\n",
              "  <tbody>\n",
              "    <tr>\n",
              "      <th>0</th>\n",
              "      <td>F</td>\n",
              "      <td>1544</td>\n",
              "    </tr>\n",
              "    <tr>\n",
              "      <th>1</th>\n",
              "      <td>M</td>\n",
              "      <td>6261</td>\n",
              "    </tr>\n",
              "  </tbody>\n",
              "</table>\n",
              "</div>\n",
              "      <button class=\"colab-df-convert\" onclick=\"convertToInteractive('df-1b7267c4-7e21-4b34-8d15-fe3974d20649')\"\n",
              "              title=\"Convert this dataframe to an interactive table.\"\n",
              "              style=\"display:none;\">\n",
              "        \n",
              "  <svg xmlns=\"http://www.w3.org/2000/svg\" height=\"24px\"viewBox=\"0 0 24 24\"\n",
              "       width=\"24px\">\n",
              "    <path d=\"M0 0h24v24H0V0z\" fill=\"none\"/>\n",
              "    <path d=\"M18.56 5.44l.94 2.06.94-2.06 2.06-.94-2.06-.94-.94-2.06-.94 2.06-2.06.94zm-11 1L8.5 8.5l.94-2.06 2.06-.94-2.06-.94L8.5 2.5l-.94 2.06-2.06.94zm10 10l.94 2.06.94-2.06 2.06-.94-2.06-.94-.94-2.06-.94 2.06-2.06.94z\"/><path d=\"M17.41 7.96l-1.37-1.37c-.4-.4-.92-.59-1.43-.59-.52 0-1.04.2-1.43.59L10.3 9.45l-7.72 7.72c-.78.78-.78 2.05 0 2.83L4 21.41c.39.39.9.59 1.41.59.51 0 1.02-.2 1.41-.59l7.78-7.78 2.81-2.81c.8-.78.8-2.07 0-2.86zM5.41 20L4 18.59l7.72-7.72 1.47 1.35L5.41 20z\"/>\n",
              "  </svg>\n",
              "      </button>\n",
              "      \n",
              "  <style>\n",
              "    .colab-df-container {\n",
              "      display:flex;\n",
              "      flex-wrap:wrap;\n",
              "      gap: 12px;\n",
              "    }\n",
              "\n",
              "    .colab-df-convert {\n",
              "      background-color: #E8F0FE;\n",
              "      border: none;\n",
              "      border-radius: 50%;\n",
              "      cursor: pointer;\n",
              "      display: none;\n",
              "      fill: #1967D2;\n",
              "      height: 32px;\n",
              "      padding: 0 0 0 0;\n",
              "      width: 32px;\n",
              "    }\n",
              "\n",
              "    .colab-df-convert:hover {\n",
              "      background-color: #E2EBFA;\n",
              "      box-shadow: 0px 1px 2px rgba(60, 64, 67, 0.3), 0px 1px 3px 1px rgba(60, 64, 67, 0.15);\n",
              "      fill: #174EA6;\n",
              "    }\n",
              "\n",
              "    [theme=dark] .colab-df-convert {\n",
              "      background-color: #3B4455;\n",
              "      fill: #D2E3FC;\n",
              "    }\n",
              "\n",
              "    [theme=dark] .colab-df-convert:hover {\n",
              "      background-color: #434B5C;\n",
              "      box-shadow: 0px 1px 3px 1px rgba(0, 0, 0, 0.15);\n",
              "      filter: drop-shadow(0px 1px 2px rgba(0, 0, 0, 0.3));\n",
              "      fill: #FFFFFF;\n",
              "    }\n",
              "  </style>\n",
              "\n",
              "      <script>\n",
              "        const buttonEl =\n",
              "          document.querySelector('#df-1b7267c4-7e21-4b34-8d15-fe3974d20649 button.colab-df-convert');\n",
              "        buttonEl.style.display =\n",
              "          google.colab.kernel.accessAllowed ? 'block' : 'none';\n",
              "\n",
              "        async function convertToInteractive(key) {\n",
              "          const element = document.querySelector('#df-1b7267c4-7e21-4b34-8d15-fe3974d20649');\n",
              "          const dataTable =\n",
              "            await google.colab.kernel.invokeFunction('convertToInteractive',\n",
              "                                                     [key], {});\n",
              "          if (!dataTable) return;\n",
              "\n",
              "          const docLinkHtml = 'Like what you see? Visit the ' +\n",
              "            '<a target=\"_blank\" href=https://colab.research.google.com/notebooks/data_table.ipynb>data table notebook</a>'\n",
              "            + ' to learn more about interactive tables.';\n",
              "          element.innerHTML = '';\n",
              "          dataTable['output_type'] = 'display_data';\n",
              "          await google.colab.output.renderOutput(dataTable, element);\n",
              "          const docLink = document.createElement('div');\n",
              "          docLink.innerHTML = docLinkHtml;\n",
              "          element.appendChild(docLink);\n",
              "        }\n",
              "      </script>\n",
              "    </div>\n",
              "  </div>\n",
              "  "
            ]
          },
          "metadata": {},
          "execution_count": 29
        }
      ]
    },
    {
      "cell_type": "markdown",
      "source": [
        "# **EDA**"
      ],
      "metadata": {
        "id": "FeZXE9BvujPW"
      }
    },
    {
      "cell_type": "markdown",
      "source": [
        "## Number of Arrests"
      ],
      "metadata": {
        "id": "cO9MewhAiGl8"
      }
    },
    {
      "cell_type": "code",
      "source": [
        "arrests_sex_boxplot = px.box(number_arrests, x=\"Number_arrests\", y=\"Sex\"\n",
        "            \n",
        "            ,labels={\n",
        "                    \"Sex\": \"Sex\",\n",
        "                    'Number_arrests': \"Number of Arrests\",\n",
        "                             }         \n",
        "            , height = 500, width = 900\n",
        "             , title= \"Boxplot: Number of Arrests by Sex\"\n",
        "            )\n",
        "\n",
        "arrests_sex_boxplot.show()"
      ],
      "metadata": {
        "id": "D3A0le3d63_U",
        "colab": {
          "base_uri": "https://localhost:8080/",
          "height": 517
        },
        "outputId": "b5a29a34-b20a-48ff-c000-9e63aed50c99"
      },
      "execution_count": null,
      "outputs": [
        {
          "output_type": "display_data",
          "data": {
            "text/html": [
              "<html>\n",
              "<head><meta charset=\"utf-8\" /></head>\n",
              "<body>\n",
              "    <div>            <script src=\"https://cdnjs.cloudflare.com/ajax/libs/mathjax/2.7.5/MathJax.js?config=TeX-AMS-MML_SVG\"></script><script type=\"text/javascript\">if (window.MathJax && window.MathJax.Hub && window.MathJax.Hub.Config) {window.MathJax.Hub.Config({SVG: {font: \"STIX-Web\"}});}</script>                <script type=\"text/javascript\">window.PlotlyConfig = {MathJaxConfig: 'local'};</script>\n",
              "        <script src=\"https://cdn.plot.ly/plotly-2.18.2.min.js\"></script>                <div id=\"6b7215f2-90a8-4bff-b726-d168339093b7\" class=\"plotly-graph-div\" style=\"height:500px; width:900px;\"></div>            <script type=\"text/javascript\">                                    window.PLOTLYENV=window.PLOTLYENV || {};                                    if (document.getElementById(\"6b7215f2-90a8-4bff-b726-d168339093b7\")) {                    Plotly.newPlot(                        \"6b7215f2-90a8-4bff-b726-d168339093b7\",                        [{\"alignmentgroup\":\"True\",\"hovertemplate\":\"Number of Arrests=%{x}<br>Sex=%{y}<extra></extra>\",\"legendgroup\":\"\",\"marker\":{\"color\":\"#636efa\"},\"name\":\"\",\"notched\":false,\"offsetgroup\":\"\",\"orientation\":\"h\",\"showlegend\":false,\"x\":[87,99,52,26,7,36,383,544,304,148,63,10,82,15,8,13,7,5,5,4,77,78,88,70,30,11,15,7,36,7,6,1,23,56,38,21,7,1,7,5,8,1,29,52,39,18,7,1,5,10,14,9,5,2,1,3,75,82,61,34,24,1,19,12,17,8,5,1,1,3,72,99,85,39,20,3,15,82,185,172,74,33,9,24,237,722,656,457,259,42,70,124,141,69,47,12,4,93,494,743,369,141,69,23,218,27,22,20,14,7,2,14,115,111,100,50,26,12,33,10,43,13,11,3,3,17,76,64,30,6,5,1,11,8,4,3,3,29,51,44,9,8,3,10,10,9,10,5,3,4,12,76,103,74,47,9,4,29,26,17,15,10,10,5,10,60,100,83,68,30,11,26,118,379,239,129,61,21,86,351,924,776,536,297,78,159,99,130,69,31,9,3,37,446,693,432,179,86,13,120,11,18,28,8,11,2,5,119,134,105,55,34,16,21,11,36,11,11,8,1,20,52,71,32,7,1,2,9,16,7,1,2,27,71,55,23,18,4,10,23,11,10,12,3,70,100,87,38,19,2,19,13,16,15,7,3,3,98,127,76,63,22,8,9,93,236,195,113,56,19,27,215,815,728,474,292,90,78,56,126,54,29,12,1,29,357,626,299,165,63,21,75,18,15,27,13,10,3,2,86,113,94,60,39,22,6,8,32,18,9,5,1,23,54,58,32,9,1,2,4,9,3,4,1,2,35,57,54,20,12,2,6,5,6,11,4,1,1,3,63,114,73,51,22,3,21,8,16,15,8,2,3,3,72,120,88,59,23,10,4,78,211,176,100,44,14,25,168,645,690,434,248,80,86,102,133,101,37,6,2,25,351,682,394,179,75,19,108,11,35,24,17,9,5,4,74,142,107,59,47,13,10,22,25,19,3,3,17,56,45,20,7,2,10,10,11,6,2,1,36,73,49,26,9,2,6,11,12,6,8,1,4,85,123,85,47,28,5,16,11,18,13,4,2,82,134,87,51,33,12,10,89,270,234,129,44,14,18,248,776,798,478,266,82,69,76,138,89,49,11,25,392,665,436,179,91,23,96,15,33,27,9,10,2,2,76,124,111,62,41,18,4,6,31,20,17,2,1,4,8,58,57,23,9,10,6,10,2,1,25,72,45,21,3,4,1,10,6,8,2,1,4,81,113,78,46,21,4,25,11,19,20,7,2,3,67,112,90,54,32,11,2,96,245,228,128,44,19,20,231,769,811,488,255,59,53,83,143,71,25,13,1,32,346,690,400,197,70,14,116,16,33,22,15,10,4,6,70,148,131,60,53,15,11,13,41,25,10,7,1,7,39,65,16,7,1,2,14,23,8,2,2,1,4,33,73,44,26,14,2,6,13,17,9,8,3,2,64,134,81,49,19,8,25,10,18,16,12,6,5,66,142,104,57,33,10,9,81,240,227,117,58,16,29,218,831,833,520,286,66,66,71,150,71,22,13,2,39,324,637,416,183,67,25,173,20,26,28,14,7,3,4,76,174,161,69,44,21,29,10,39,23,11,4,1,20,50,44,35,2,5,2,4,15,9,2,2,36,83,56,34,12,3,10,13,14,13,7,2,1,2,86,134,104,46,18,8,20,16,33,19,10,1,1,78,138,92,53,26,18,11,87,281,218,135,51,19,32,247,771,783,464,285,92,102],\"x0\":\" \",\"xaxis\":\"x\",\"y\":[\"F\",\"F\",\"F\",\"F\",\"F\",\"F\",\"M\",\"M\",\"M\",\"M\",\"M\",\"M\",\"M\",\"F\",\"F\",\"F\",\"F\",\"F\",\"F\",\"F\",\"M\",\"M\",\"M\",\"M\",\"M\",\"M\",\"M\",\"F\",\"F\",\"F\",\"F\",\"F\",\"M\",\"M\",\"M\",\"M\",\"M\",\"M\",\"F\",\"F\",\"F\",\"F\",\"M\",\"M\",\"M\",\"M\",\"M\",\"M\",\"M\",\"F\",\"F\",\"F\",\"F\",\"F\",\"F\",\"F\",\"M\",\"M\",\"M\",\"M\",\"M\",\"M\",\"M\",\"F\",\"F\",\"F\",\"F\",\"F\",\"F\",\"F\",\"M\",\"M\",\"M\",\"M\",\"M\",\"M\",\"M\",\"F\",\"F\",\"F\",\"F\",\"F\",\"F\",\"F\",\"M\",\"M\",\"M\",\"M\",\"M\",\"M\",\"M\",\"F\",\"F\",\"F\",\"F\",\"F\",\"F\",\"F\",\"M\",\"M\",\"M\",\"M\",\"M\",\"M\",\"M\",\"F\",\"F\",\"F\",\"F\",\"F\",\"F\",\"F\",\"M\",\"M\",\"M\",\"M\",\"M\",\"M\",\"M\",\"F\",\"F\",\"F\",\"F\",\"F\",\"F\",\"M\",\"M\",\"M\",\"M\",\"M\",\"M\",\"F\",\"F\",\"F\",\"F\",\"F\",\"F\",\"M\",\"M\",\"M\",\"M\",\"M\",\"M\",\"M\",\"F\",\"F\",\"F\",\"F\",\"F\",\"F\",\"F\",\"M\",\"M\",\"M\",\"M\",\"M\",\"M\",\"M\",\"F\",\"F\",\"F\",\"F\",\"F\",\"F\",\"F\",\"M\",\"M\",\"M\",\"M\",\"M\",\"M\",\"M\",\"F\",\"F\",\"F\",\"F\",\"F\",\"F\",\"F\",\"M\",\"M\",\"M\",\"M\",\"M\",\"M\",\"M\",\"F\",\"F\",\"F\",\"F\",\"F\",\"F\",\"F\",\"M\",\"M\",\"M\",\"M\",\"M\",\"M\",\"M\",\"F\",\"F\",\"F\",\"F\",\"F\",\"F\",\"F\",\"M\",\"M\",\"M\",\"M\",\"M\",\"M\",\"M\",\"F\",\"F\",\"F\",\"F\",\"F\",\"F\",\"M\",\"M\",\"M\",\"M\",\"M\",\"M\",\"M\",\"F\",\"F\",\"F\",\"F\",\"F\",\"M\",\"M\",\"M\",\"M\",\"M\",\"M\",\"M\",\"F\",\"F\",\"F\",\"F\",\"F\",\"M\",\"M\",\"M\",\"M\",\"M\",\"M\",\"M\",\"F\",\"F\",\"F\",\"F\",\"F\",\"F\",\"M\",\"M\",\"M\",\"M\",\"M\",\"M\",\"M\",\"F\",\"F\",\"F\",\"F\",\"F\",\"F\",\"F\",\"M\",\"M\",\"M\",\"M\",\"M\",\"M\",\"M\",\"F\",\"F\",\"F\",\"F\",\"F\",\"F\",\"F\",\"M\",\"M\",\"M\",\"M\",\"M\",\"M\",\"M\",\"F\",\"F\",\"F\",\"F\",\"F\",\"F\",\"F\",\"M\",\"M\",\"M\",\"M\",\"M\",\"M\",\"M\",\"F\",\"F\",\"F\",\"F\",\"F\",\"F\",\"M\",\"M\",\"M\",\"M\",\"M\",\"M\",\"M\",\"F\",\"F\",\"F\",\"F\",\"F\",\"F\",\"M\",\"M\",\"M\",\"M\",\"M\",\"M\",\"M\",\"F\",\"F\",\"F\",\"F\",\"F\",\"F\",\"F\",\"M\",\"M\",\"M\",\"M\",\"M\",\"M\",\"M\",\"F\",\"F\",\"F\",\"F\",\"F\",\"F\",\"F\",\"M\",\"M\",\"M\",\"M\",\"M\",\"M\",\"M\",\"F\",\"F\",\"F\",\"F\",\"F\",\"F\",\"F\",\"M\",\"M\",\"M\",\"M\",\"M\",\"M\",\"M\",\"F\",\"F\",\"F\",\"F\",\"F\",\"F\",\"F\",\"M\",\"M\",\"M\",\"M\",\"M\",\"M\",\"M\",\"F\",\"F\",\"F\",\"F\",\"F\",\"F\",\"F\",\"M\",\"M\",\"M\",\"M\",\"M\",\"M\",\"M\",\"F\",\"F\",\"F\",\"F\",\"F\",\"M\",\"M\",\"M\",\"M\",\"M\",\"M\",\"F\",\"F\",\"F\",\"F\",\"F\",\"F\",\"M\",\"M\",\"M\",\"M\",\"M\",\"M\",\"M\",\"F\",\"F\",\"F\",\"F\",\"F\",\"F\",\"M\",\"M\",\"M\",\"M\",\"M\",\"M\",\"M\",\"F\",\"F\",\"F\",\"F\",\"F\",\"M\",\"M\",\"M\",\"M\",\"M\",\"M\",\"M\",\"F\",\"F\",\"F\",\"F\",\"F\",\"F\",\"F\",\"M\",\"M\",\"M\",\"M\",\"M\",\"M\",\"M\",\"F\",\"F\",\"F\",\"F\",\"F\",\"F\",\"M\",\"M\",\"M\",\"M\",\"M\",\"M\",\"M\",\"F\",\"F\",\"F\",\"F\",\"F\",\"F\",\"F\",\"M\",\"M\",\"M\",\"M\",\"M\",\"M\",\"M\",\"F\",\"F\",\"F\",\"F\",\"F\",\"F\",\"F\",\"M\",\"M\",\"M\",\"M\",\"M\",\"F\",\"F\",\"F\",\"F\",\"F\",\"M\",\"M\",\"M\",\"M\",\"M\",\"M\",\"M\",\"F\",\"F\",\"F\",\"F\",\"F\",\"F\",\"M\",\"M\",\"M\",\"M\",\"M\",\"M\",\"M\",\"F\",\"F\",\"F\",\"F\",\"F\",\"F\",\"M\",\"M\",\"M\",\"M\",\"M\",\"M\",\"M\",\"F\",\"F\",\"F\",\"F\",\"F\",\"F\",\"F\",\"M\",\"M\",\"M\",\"M\",\"M\",\"M\",\"M\",\"F\",\"F\",\"F\",\"F\",\"F\",\"F\",\"F\",\"M\",\"M\",\"M\",\"M\",\"M\",\"M\",\"M\",\"F\",\"F\",\"F\",\"F\",\"F\",\"F\",\"F\",\"M\",\"M\",\"M\",\"M\",\"M\",\"M\",\"M\",\"F\",\"F\",\"F\",\"F\",\"F\",\"F\",\"M\",\"M\",\"M\",\"M\",\"M\",\"M\",\"M\",\"F\",\"F\",\"F\",\"F\",\"F\",\"F\",\"F\",\"M\",\"M\",\"M\",\"M\",\"M\",\"M\",\"M\",\"F\",\"F\",\"F\",\"F\",\"F\",\"F\",\"M\",\"M\",\"M\",\"M\",\"M\",\"M\",\"M\",\"F\",\"F\",\"F\",\"F\",\"F\",\"F\",\"M\",\"M\",\"M\",\"M\",\"M\",\"M\",\"M\",\"F\",\"F\",\"F\",\"F\",\"F\",\"F\",\"F\",\"M\",\"M\",\"M\",\"M\",\"M\",\"M\",\"M\",\"F\",\"F\",\"F\",\"F\",\"F\",\"F\",\"F\",\"M\",\"M\",\"M\",\"M\",\"M\",\"M\",\"M\",\"F\",\"F\",\"F\",\"F\",\"F\",\"F\",\"F\",\"M\",\"M\",\"M\",\"M\",\"M\",\"M\",\"M\",\"F\",\"F\",\"F\",\"F\",\"F\",\"F\",\"M\",\"M\",\"M\",\"M\",\"M\",\"M\",\"M\",\"F\",\"F\",\"F\",\"F\",\"F\",\"M\",\"M\",\"M\",\"M\",\"M\",\"M\",\"M\",\"F\",\"F\",\"F\",\"F\",\"F\",\"F\",\"F\",\"M\",\"M\",\"M\",\"M\",\"M\",\"M\",\"M\",\"F\",\"F\",\"F\",\"F\",\"F\",\"F\",\"M\",\"M\",\"M\",\"M\",\"M\",\"M\",\"M\",\"F\",\"F\",\"F\",\"F\",\"F\",\"F\",\"F\",\"M\",\"M\",\"M\",\"M\",\"M\",\"M\",\"M\"],\"y0\":\" \",\"yaxis\":\"y\",\"type\":\"box\"}],                        {\"template\":{\"data\":{\"histogram2dcontour\":[{\"type\":\"histogram2dcontour\",\"colorbar\":{\"outlinewidth\":0,\"ticks\":\"\"},\"colorscale\":[[0.0,\"#0d0887\"],[0.1111111111111111,\"#46039f\"],[0.2222222222222222,\"#7201a8\"],[0.3333333333333333,\"#9c179e\"],[0.4444444444444444,\"#bd3786\"],[0.5555555555555556,\"#d8576b\"],[0.6666666666666666,\"#ed7953\"],[0.7777777777777778,\"#fb9f3a\"],[0.8888888888888888,\"#fdca26\"],[1.0,\"#f0f921\"]]}],\"choropleth\":[{\"type\":\"choropleth\",\"colorbar\":{\"outlinewidth\":0,\"ticks\":\"\"}}],\"histogram2d\":[{\"type\":\"histogram2d\",\"colorbar\":{\"outlinewidth\":0,\"ticks\":\"\"},\"colorscale\":[[0.0,\"#0d0887\"],[0.1111111111111111,\"#46039f\"],[0.2222222222222222,\"#7201a8\"],[0.3333333333333333,\"#9c179e\"],[0.4444444444444444,\"#bd3786\"],[0.5555555555555556,\"#d8576b\"],[0.6666666666666666,\"#ed7953\"],[0.7777777777777778,\"#fb9f3a\"],[0.8888888888888888,\"#fdca26\"],[1.0,\"#f0f921\"]]}],\"heatmap\":[{\"type\":\"heatmap\",\"colorbar\":{\"outlinewidth\":0,\"ticks\":\"\"},\"colorscale\":[[0.0,\"#0d0887\"],[0.1111111111111111,\"#46039f\"],[0.2222222222222222,\"#7201a8\"],[0.3333333333333333,\"#9c179e\"],[0.4444444444444444,\"#bd3786\"],[0.5555555555555556,\"#d8576b\"],[0.6666666666666666,\"#ed7953\"],[0.7777777777777778,\"#fb9f3a\"],[0.8888888888888888,\"#fdca26\"],[1.0,\"#f0f921\"]]}],\"heatmapgl\":[{\"type\":\"heatmapgl\",\"colorbar\":{\"outlinewidth\":0,\"ticks\":\"\"},\"colorscale\":[[0.0,\"#0d0887\"],[0.1111111111111111,\"#46039f\"],[0.2222222222222222,\"#7201a8\"],[0.3333333333333333,\"#9c179e\"],[0.4444444444444444,\"#bd3786\"],[0.5555555555555556,\"#d8576b\"],[0.6666666666666666,\"#ed7953\"],[0.7777777777777778,\"#fb9f3a\"],[0.8888888888888888,\"#fdca26\"],[1.0,\"#f0f921\"]]}],\"contourcarpet\":[{\"type\":\"contourcarpet\",\"colorbar\":{\"outlinewidth\":0,\"ticks\":\"\"}}],\"contour\":[{\"type\":\"contour\",\"colorbar\":{\"outlinewidth\":0,\"ticks\":\"\"},\"colorscale\":[[0.0,\"#0d0887\"],[0.1111111111111111,\"#46039f\"],[0.2222222222222222,\"#7201a8\"],[0.3333333333333333,\"#9c179e\"],[0.4444444444444444,\"#bd3786\"],[0.5555555555555556,\"#d8576b\"],[0.6666666666666666,\"#ed7953\"],[0.7777777777777778,\"#fb9f3a\"],[0.8888888888888888,\"#fdca26\"],[1.0,\"#f0f921\"]]}],\"surface\":[{\"type\":\"surface\",\"colorbar\":{\"outlinewidth\":0,\"ticks\":\"\"},\"colorscale\":[[0.0,\"#0d0887\"],[0.1111111111111111,\"#46039f\"],[0.2222222222222222,\"#7201a8\"],[0.3333333333333333,\"#9c179e\"],[0.4444444444444444,\"#bd3786\"],[0.5555555555555556,\"#d8576b\"],[0.6666666666666666,\"#ed7953\"],[0.7777777777777778,\"#fb9f3a\"],[0.8888888888888888,\"#fdca26\"],[1.0,\"#f0f921\"]]}],\"mesh3d\":[{\"type\":\"mesh3d\",\"colorbar\":{\"outlinewidth\":0,\"ticks\":\"\"}}],\"scatter\":[{\"fillpattern\":{\"fillmode\":\"overlay\",\"size\":10,\"solidity\":0.2},\"type\":\"scatter\"}],\"parcoords\":[{\"type\":\"parcoords\",\"line\":{\"colorbar\":{\"outlinewidth\":0,\"ticks\":\"\"}}}],\"scatterpolargl\":[{\"type\":\"scatterpolargl\",\"marker\":{\"colorbar\":{\"outlinewidth\":0,\"ticks\":\"\"}}}],\"bar\":[{\"error_x\":{\"color\":\"#2a3f5f\"},\"error_y\":{\"color\":\"#2a3f5f\"},\"marker\":{\"line\":{\"color\":\"#E5ECF6\",\"width\":0.5},\"pattern\":{\"fillmode\":\"overlay\",\"size\":10,\"solidity\":0.2}},\"type\":\"bar\"}],\"scattergeo\":[{\"type\":\"scattergeo\",\"marker\":{\"colorbar\":{\"outlinewidth\":0,\"ticks\":\"\"}}}],\"scatterpolar\":[{\"type\":\"scatterpolar\",\"marker\":{\"colorbar\":{\"outlinewidth\":0,\"ticks\":\"\"}}}],\"histogram\":[{\"marker\":{\"pattern\":{\"fillmode\":\"overlay\",\"size\":10,\"solidity\":0.2}},\"type\":\"histogram\"}],\"scattergl\":[{\"type\":\"scattergl\",\"marker\":{\"colorbar\":{\"outlinewidth\":0,\"ticks\":\"\"}}}],\"scatter3d\":[{\"type\":\"scatter3d\",\"line\":{\"colorbar\":{\"outlinewidth\":0,\"ticks\":\"\"}},\"marker\":{\"colorbar\":{\"outlinewidth\":0,\"ticks\":\"\"}}}],\"scattermapbox\":[{\"type\":\"scattermapbox\",\"marker\":{\"colorbar\":{\"outlinewidth\":0,\"ticks\":\"\"}}}],\"scatterternary\":[{\"type\":\"scatterternary\",\"marker\":{\"colorbar\":{\"outlinewidth\":0,\"ticks\":\"\"}}}],\"scattercarpet\":[{\"type\":\"scattercarpet\",\"marker\":{\"colorbar\":{\"outlinewidth\":0,\"ticks\":\"\"}}}],\"carpet\":[{\"aaxis\":{\"endlinecolor\":\"#2a3f5f\",\"gridcolor\":\"white\",\"linecolor\":\"white\",\"minorgridcolor\":\"white\",\"startlinecolor\":\"#2a3f5f\"},\"baxis\":{\"endlinecolor\":\"#2a3f5f\",\"gridcolor\":\"white\",\"linecolor\":\"white\",\"minorgridcolor\":\"white\",\"startlinecolor\":\"#2a3f5f\"},\"type\":\"carpet\"}],\"table\":[{\"cells\":{\"fill\":{\"color\":\"#EBF0F8\"},\"line\":{\"color\":\"white\"}},\"header\":{\"fill\":{\"color\":\"#C8D4E3\"},\"line\":{\"color\":\"white\"}},\"type\":\"table\"}],\"barpolar\":[{\"marker\":{\"line\":{\"color\":\"#E5ECF6\",\"width\":0.5},\"pattern\":{\"fillmode\":\"overlay\",\"size\":10,\"solidity\":0.2}},\"type\":\"barpolar\"}],\"pie\":[{\"automargin\":true,\"type\":\"pie\"}]},\"layout\":{\"autotypenumbers\":\"strict\",\"colorway\":[\"#636efa\",\"#EF553B\",\"#00cc96\",\"#ab63fa\",\"#FFA15A\",\"#19d3f3\",\"#FF6692\",\"#B6E880\",\"#FF97FF\",\"#FECB52\"],\"font\":{\"color\":\"#2a3f5f\"},\"hovermode\":\"closest\",\"hoverlabel\":{\"align\":\"left\"},\"paper_bgcolor\":\"white\",\"plot_bgcolor\":\"#E5ECF6\",\"polar\":{\"bgcolor\":\"#E5ECF6\",\"angularaxis\":{\"gridcolor\":\"white\",\"linecolor\":\"white\",\"ticks\":\"\"},\"radialaxis\":{\"gridcolor\":\"white\",\"linecolor\":\"white\",\"ticks\":\"\"}},\"ternary\":{\"bgcolor\":\"#E5ECF6\",\"aaxis\":{\"gridcolor\":\"white\",\"linecolor\":\"white\",\"ticks\":\"\"},\"baxis\":{\"gridcolor\":\"white\",\"linecolor\":\"white\",\"ticks\":\"\"},\"caxis\":{\"gridcolor\":\"white\",\"linecolor\":\"white\",\"ticks\":\"\"}},\"coloraxis\":{\"colorbar\":{\"outlinewidth\":0,\"ticks\":\"\"}},\"colorscale\":{\"sequential\":[[0.0,\"#0d0887\"],[0.1111111111111111,\"#46039f\"],[0.2222222222222222,\"#7201a8\"],[0.3333333333333333,\"#9c179e\"],[0.4444444444444444,\"#bd3786\"],[0.5555555555555556,\"#d8576b\"],[0.6666666666666666,\"#ed7953\"],[0.7777777777777778,\"#fb9f3a\"],[0.8888888888888888,\"#fdca26\"],[1.0,\"#f0f921\"]],\"sequentialminus\":[[0.0,\"#0d0887\"],[0.1111111111111111,\"#46039f\"],[0.2222222222222222,\"#7201a8\"],[0.3333333333333333,\"#9c179e\"],[0.4444444444444444,\"#bd3786\"],[0.5555555555555556,\"#d8576b\"],[0.6666666666666666,\"#ed7953\"],[0.7777777777777778,\"#fb9f3a\"],[0.8888888888888888,\"#fdca26\"],[1.0,\"#f0f921\"]],\"diverging\":[[0,\"#8e0152\"],[0.1,\"#c51b7d\"],[0.2,\"#de77ae\"],[0.3,\"#f1b6da\"],[0.4,\"#fde0ef\"],[0.5,\"#f7f7f7\"],[0.6,\"#e6f5d0\"],[0.7,\"#b8e186\"],[0.8,\"#7fbc41\"],[0.9,\"#4d9221\"],[1,\"#276419\"]]},\"xaxis\":{\"gridcolor\":\"white\",\"linecolor\":\"white\",\"ticks\":\"\",\"title\":{\"standoff\":15},\"zerolinecolor\":\"white\",\"automargin\":true,\"zerolinewidth\":2},\"yaxis\":{\"gridcolor\":\"white\",\"linecolor\":\"white\",\"ticks\":\"\",\"title\":{\"standoff\":15},\"zerolinecolor\":\"white\",\"automargin\":true,\"zerolinewidth\":2},\"scene\":{\"xaxis\":{\"backgroundcolor\":\"#E5ECF6\",\"gridcolor\":\"white\",\"linecolor\":\"white\",\"showbackground\":true,\"ticks\":\"\",\"zerolinecolor\":\"white\",\"gridwidth\":2},\"yaxis\":{\"backgroundcolor\":\"#E5ECF6\",\"gridcolor\":\"white\",\"linecolor\":\"white\",\"showbackground\":true,\"ticks\":\"\",\"zerolinecolor\":\"white\",\"gridwidth\":2},\"zaxis\":{\"backgroundcolor\":\"#E5ECF6\",\"gridcolor\":\"white\",\"linecolor\":\"white\",\"showbackground\":true,\"ticks\":\"\",\"zerolinecolor\":\"white\",\"gridwidth\":2}},\"shapedefaults\":{\"line\":{\"color\":\"#2a3f5f\"}},\"annotationdefaults\":{\"arrowcolor\":\"#2a3f5f\",\"arrowhead\":0,\"arrowwidth\":1},\"geo\":{\"bgcolor\":\"white\",\"landcolor\":\"#E5ECF6\",\"subunitcolor\":\"white\",\"showland\":true,\"showlakes\":true,\"lakecolor\":\"white\"},\"title\":{\"x\":0.05},\"mapbox\":{\"style\":\"light\"}}},\"xaxis\":{\"anchor\":\"y\",\"domain\":[0.0,1.0],\"title\":{\"text\":\"Number of Arrests\"}},\"yaxis\":{\"anchor\":\"x\",\"domain\":[0.0,1.0],\"title\":{\"text\":\"Sex\"}},\"legend\":{\"tracegroupgap\":0},\"title\":{\"text\":\"Boxplot: Number of Arrests by Sex\"},\"boxmode\":\"group\",\"height\":500,\"width\":900},                        {\"responsive\": true}                    ).then(function(){\n",
              "                            \n",
              "var gd = document.getElementById('6b7215f2-90a8-4bff-b726-d168339093b7');\n",
              "var x = new MutationObserver(function (mutations, observer) {{\n",
              "        var display = window.getComputedStyle(gd).display;\n",
              "        if (!display || display === 'none') {{\n",
              "            console.log([gd, 'removed!']);\n",
              "            Plotly.purge(gd);\n",
              "            observer.disconnect();\n",
              "        }}\n",
              "}});\n",
              "\n",
              "// Listen for the removal of the full notebook cells\n",
              "var notebookContainer = gd.closest('#notebook-container');\n",
              "if (notebookContainer) {{\n",
              "    x.observe(notebookContainer, {childList: true});\n",
              "}}\n",
              "\n",
              "// Listen for the clearing of the current output cell\n",
              "var outputEl = gd.closest('.output');\n",
              "if (outputEl) {{\n",
              "    x.observe(outputEl, {childList: true});\n",
              "}}\n",
              "\n",
              "                        })                };                            </script>        </div>\n",
              "</body>\n",
              "</html>"
            ]
          },
          "metadata": {}
        }
      ]
    },
    {
      "cell_type": "code",
      "source": [
        "arrests_race_boxplot = px.box(number_arrests, x=\"Number_arrests\", y=\"Perceived_Race\"\n",
        "            \n",
        "            ,labels={\n",
        "                    \"Perceived_Race\": \"Perceived Race\",\n",
        "                    'Number_arrests': \"Number of Arrests\",\n",
        "                             }         \n",
        "            , height = 800, width = 900\n",
        "             , title= \"Boxplot: Number of Arrests by Perceived Race\"\n",
        "            )\n",
        "\n",
        "arrests_race_boxplot.show()"
      ],
      "metadata": {
        "id": "e0nS1tPD_xOn",
        "colab": {
          "base_uri": "https://localhost:8080/",
          "height": 817
        },
        "outputId": "c0b13518-2007-46c4-a407-f9663e1d12e5"
      },
      "execution_count": null,
      "outputs": [
        {
          "output_type": "display_data",
          "data": {
            "text/html": [
              "<html>\n",
              "<head><meta charset=\"utf-8\" /></head>\n",
              "<body>\n",
              "    <div>            <script src=\"https://cdnjs.cloudflare.com/ajax/libs/mathjax/2.7.5/MathJax.js?config=TeX-AMS-MML_SVG\"></script><script type=\"text/javascript\">if (window.MathJax && window.MathJax.Hub && window.MathJax.Hub.Config) {window.MathJax.Hub.Config({SVG: {font: \"STIX-Web\"}});}</script>                <script type=\"text/javascript\">window.PlotlyConfig = {MathJaxConfig: 'local'};</script>\n",
              "        <script src=\"https://cdn.plot.ly/plotly-2.18.2.min.js\"></script>                <div id=\"6389bf59-d3b4-4d4b-bf35-5f693f8466c8\" class=\"plotly-graph-div\" style=\"height:800px; width:900px;\"></div>            <script type=\"text/javascript\">                                    window.PLOTLYENV=window.PLOTLYENV || {};                                    if (document.getElementById(\"6389bf59-d3b4-4d4b-bf35-5f693f8466c8\")) {                    Plotly.newPlot(                        \"6389bf59-d3b4-4d4b-bf35-5f693f8466c8\",                        [{\"alignmentgroup\":\"True\",\"hovertemplate\":\"Number of Arrests=%{x}<br>Perceived Race=%{y}<extra></extra>\",\"legendgroup\":\"\",\"marker\":{\"color\":\"#636efa\"},\"name\":\"\",\"notched\":false,\"offsetgroup\":\"\",\"orientation\":\"h\",\"showlegend\":false,\"x\":[87,99,52,26,7,36,383,544,304,148,63,10,82,15,8,13,7,5,5,4,77,78,88,70,30,11,15,7,36,7,6,1,23,56,38,21,7,1,7,5,8,1,29,52,39,18,7,1,5,10,14,9,5,2,1,3,75,82,61,34,24,1,19,12,17,8,5,1,1,3,72,99,85,39,20,3,15,82,185,172,74,33,9,24,237,722,656,457,259,42,70,124,141,69,47,12,4,93,494,743,369,141,69,23,218,27,22,20,14,7,2,14,115,111,100,50,26,12,33,10,43,13,11,3,3,17,76,64,30,6,5,1,11,8,4,3,3,29,51,44,9,8,3,10,10,9,10,5,3,4,12,76,103,74,47,9,4,29,26,17,15,10,10,5,10,60,100,83,68,30,11,26,118,379,239,129,61,21,86,351,924,776,536,297,78,159,99,130,69,31,9,3,37,446,693,432,179,86,13,120,11,18,28,8,11,2,5,119,134,105,55,34,16,21,11,36,11,11,8,1,20,52,71,32,7,1,2,9,16,7,1,2,27,71,55,23,18,4,10,23,11,10,12,3,70,100,87,38,19,2,19,13,16,15,7,3,3,98,127,76,63,22,8,9,93,236,195,113,56,19,27,215,815,728,474,292,90,78,56,126,54,29,12,1,29,357,626,299,165,63,21,75,18,15,27,13,10,3,2,86,113,94,60,39,22,6,8,32,18,9,5,1,23,54,58,32,9,1,2,4,9,3,4,1,2,35,57,54,20,12,2,6,5,6,11,4,1,1,3,63,114,73,51,22,3,21,8,16,15,8,2,3,3,72,120,88,59,23,10,4,78,211,176,100,44,14,25,168,645,690,434,248,80,86,102,133,101,37,6,2,25,351,682,394,179,75,19,108,11,35,24,17,9,5,4,74,142,107,59,47,13,10,22,25,19,3,3,17,56,45,20,7,2,10,10,11,6,2,1,36,73,49,26,9,2,6,11,12,6,8,1,4,85,123,85,47,28,5,16,11,18,13,4,2,82,134,87,51,33,12,10,89,270,234,129,44,14,18,248,776,798,478,266,82,69,76,138,89,49,11,25,392,665,436,179,91,23,96,15,33,27,9,10,2,2,76,124,111,62,41,18,4,6,31,20,17,2,1,4,8,58,57,23,9,10,6,10,2,1,25,72,45,21,3,4,1,10,6,8,2,1,4,81,113,78,46,21,4,25,11,19,20,7,2,3,67,112,90,54,32,11,2,96,245,228,128,44,19,20,231,769,811,488,255,59,53,83,143,71,25,13,1,32,346,690,400,197,70,14,116,16,33,22,15,10,4,6,70,148,131,60,53,15,11,13,41,25,10,7,1,7,39,65,16,7,1,2,14,23,8,2,2,1,4,33,73,44,26,14,2,6,13,17,9,8,3,2,64,134,81,49,19,8,25,10,18,16,12,6,5,66,142,104,57,33,10,9,81,240,227,117,58,16,29,218,831,833,520,286,66,66,71,150,71,22,13,2,39,324,637,416,183,67,25,173,20,26,28,14,7,3,4,76,174,161,69,44,21,29,10,39,23,11,4,1,20,50,44,35,2,5,2,4,15,9,2,2,36,83,56,34,12,3,10,13,14,13,7,2,1,2,86,134,104,46,18,8,20,16,33,19,10,1,1,78,138,92,53,26,18,11,87,281,218,135,51,19,32,247,771,783,464,285,92,102],\"x0\":\" \",\"xaxis\":\"x\",\"y\":[\"Black\",\"Black\",\"Black\",\"Black\",\"Black\",\"Black\",\"Black\",\"Black\",\"Black\",\"Black\",\"Black\",\"Black\",\"Black\",\"East/Southeast Asian\",\"East/Southeast Asian\",\"East/Southeast Asian\",\"East/Southeast Asian\",\"East/Southeast Asian\",\"East/Southeast Asian\",\"East/Southeast Asian\",\"East/Southeast Asian\",\"East/Southeast Asian\",\"East/Southeast Asian\",\"East/Southeast Asian\",\"East/Southeast Asian\",\"East/Southeast Asian\",\"East/Southeast Asian\",\"Indigenous\",\"Indigenous\",\"Indigenous\",\"Indigenous\",\"Indigenous\",\"Indigenous\",\"Indigenous\",\"Indigenous\",\"Indigenous\",\"Indigenous\",\"Indigenous\",\"Latino\",\"Latino\",\"Latino\",\"Latino\",\"Latino\",\"Latino\",\"Latino\",\"Latino\",\"Latino\",\"Latino\",\"Latino\",\"Middle-Eastern\",\"Middle-Eastern\",\"Middle-Eastern\",\"Middle-Eastern\",\"Middle-Eastern\",\"Middle-Eastern\",\"Middle-Eastern\",\"Middle-Eastern\",\"Middle-Eastern\",\"Middle-Eastern\",\"Middle-Eastern\",\"Middle-Eastern\",\"Middle-Eastern\",\"Middle-Eastern\",\"South Asian\",\"South Asian\",\"South Asian\",\"South Asian\",\"South Asian\",\"South Asian\",\"South Asian\",\"South Asian\",\"South Asian\",\"South Asian\",\"South Asian\",\"South Asian\",\"South Asian\",\"South Asian\",\"White\",\"White\",\"White\",\"White\",\"White\",\"White\",\"White\",\"White\",\"White\",\"White\",\"White\",\"White\",\"White\",\"White\",\"Black\",\"Black\",\"Black\",\"Black\",\"Black\",\"Black\",\"Black\",\"Black\",\"Black\",\"Black\",\"Black\",\"Black\",\"Black\",\"Black\",\"East/Southeast Asian\",\"East/Southeast Asian\",\"East/Southeast Asian\",\"East/Southeast Asian\",\"East/Southeast Asian\",\"East/Southeast Asian\",\"East/Southeast Asian\",\"East/Southeast Asian\",\"East/Southeast Asian\",\"East/Southeast Asian\",\"East/Southeast Asian\",\"East/Southeast Asian\",\"East/Southeast Asian\",\"East/Southeast Asian\",\"Indigenous\",\"Indigenous\",\"Indigenous\",\"Indigenous\",\"Indigenous\",\"Indigenous\",\"Indigenous\",\"Indigenous\",\"Indigenous\",\"Indigenous\",\"Indigenous\",\"Indigenous\",\"Latino\",\"Latino\",\"Latino\",\"Latino\",\"Latino\",\"Latino\",\"Latino\",\"Latino\",\"Latino\",\"Latino\",\"Latino\",\"Latino\",\"Latino\",\"Middle-Eastern\",\"Middle-Eastern\",\"Middle-Eastern\",\"Middle-Eastern\",\"Middle-Eastern\",\"Middle-Eastern\",\"Middle-Eastern\",\"Middle-Eastern\",\"Middle-Eastern\",\"Middle-Eastern\",\"Middle-Eastern\",\"Middle-Eastern\",\"Middle-Eastern\",\"Middle-Eastern\",\"South Asian\",\"South Asian\",\"South Asian\",\"South Asian\",\"South Asian\",\"South Asian\",\"South Asian\",\"South Asian\",\"South Asian\",\"South Asian\",\"South Asian\",\"South Asian\",\"South Asian\",\"South Asian\",\"White\",\"White\",\"White\",\"White\",\"White\",\"White\",\"White\",\"White\",\"White\",\"White\",\"White\",\"White\",\"White\",\"White\",\"Black\",\"Black\",\"Black\",\"Black\",\"Black\",\"Black\",\"Black\",\"Black\",\"Black\",\"Black\",\"Black\",\"Black\",\"Black\",\"Black\",\"East/Southeast Asian\",\"East/Southeast Asian\",\"East/Southeast Asian\",\"East/Southeast Asian\",\"East/Southeast Asian\",\"East/Southeast Asian\",\"East/Southeast Asian\",\"East/Southeast Asian\",\"East/Southeast Asian\",\"East/Southeast Asian\",\"East/Southeast Asian\",\"East/Southeast Asian\",\"East/Southeast Asian\",\"East/Southeast Asian\",\"Indigenous\",\"Indigenous\",\"Indigenous\",\"Indigenous\",\"Indigenous\",\"Indigenous\",\"Indigenous\",\"Indigenous\",\"Indigenous\",\"Indigenous\",\"Indigenous\",\"Indigenous\",\"Indigenous\",\"Latino\",\"Latino\",\"Latino\",\"Latino\",\"Latino\",\"Latino\",\"Latino\",\"Latino\",\"Latino\",\"Latino\",\"Latino\",\"Latino\",\"Middle-Eastern\",\"Middle-Eastern\",\"Middle-Eastern\",\"Middle-Eastern\",\"Middle-Eastern\",\"Middle-Eastern\",\"Middle-Eastern\",\"Middle-Eastern\",\"Middle-Eastern\",\"Middle-Eastern\",\"Middle-Eastern\",\"Middle-Eastern\",\"South Asian\",\"South Asian\",\"South Asian\",\"South Asian\",\"South Asian\",\"South Asian\",\"South Asian\",\"South Asian\",\"South Asian\",\"South Asian\",\"South Asian\",\"South Asian\",\"South Asian\",\"White\",\"White\",\"White\",\"White\",\"White\",\"White\",\"White\",\"White\",\"White\",\"White\",\"White\",\"White\",\"White\",\"White\",\"Black\",\"Black\",\"Black\",\"Black\",\"Black\",\"Black\",\"Black\",\"Black\",\"Black\",\"Black\",\"Black\",\"Black\",\"Black\",\"Black\",\"East/Southeast Asian\",\"East/Southeast Asian\",\"East/Southeast Asian\",\"East/Southeast Asian\",\"East/Southeast Asian\",\"East/Southeast Asian\",\"East/Southeast Asian\",\"East/Southeast Asian\",\"East/Southeast Asian\",\"East/Southeast Asian\",\"East/Southeast Asian\",\"East/Southeast Asian\",\"East/Southeast Asian\",\"East/Southeast Asian\",\"Indigenous\",\"Indigenous\",\"Indigenous\",\"Indigenous\",\"Indigenous\",\"Indigenous\",\"Indigenous\",\"Indigenous\",\"Indigenous\",\"Indigenous\",\"Indigenous\",\"Indigenous\",\"Indigenous\",\"Latino\",\"Latino\",\"Latino\",\"Latino\",\"Latino\",\"Latino\",\"Latino\",\"Latino\",\"Latino\",\"Latino\",\"Latino\",\"Latino\",\"Latino\",\"Middle-Eastern\",\"Middle-Eastern\",\"Middle-Eastern\",\"Middle-Eastern\",\"Middle-Eastern\",\"Middle-Eastern\",\"Middle-Eastern\",\"Middle-Eastern\",\"Middle-Eastern\",\"Middle-Eastern\",\"Middle-Eastern\",\"Middle-Eastern\",\"Middle-Eastern\",\"Middle-Eastern\",\"South Asian\",\"South Asian\",\"South Asian\",\"South Asian\",\"South Asian\",\"South Asian\",\"South Asian\",\"South Asian\",\"South Asian\",\"South Asian\",\"South Asian\",\"South Asian\",\"South Asian\",\"South Asian\",\"White\",\"White\",\"White\",\"White\",\"White\",\"White\",\"White\",\"White\",\"White\",\"White\",\"White\",\"White\",\"White\",\"White\",\"Black\",\"Black\",\"Black\",\"Black\",\"Black\",\"Black\",\"Black\",\"Black\",\"Black\",\"Black\",\"Black\",\"Black\",\"Black\",\"Black\",\"East/Southeast Asian\",\"East/Southeast Asian\",\"East/Southeast Asian\",\"East/Southeast Asian\",\"East/Southeast Asian\",\"East/Southeast Asian\",\"East/Southeast Asian\",\"East/Southeast Asian\",\"East/Southeast Asian\",\"East/Southeast Asian\",\"East/Southeast Asian\",\"East/Southeast Asian\",\"East/Southeast Asian\",\"East/Southeast Asian\",\"Indigenous\",\"Indigenous\",\"Indigenous\",\"Indigenous\",\"Indigenous\",\"Indigenous\",\"Indigenous\",\"Indigenous\",\"Indigenous\",\"Indigenous\",\"Indigenous\",\"Latino\",\"Latino\",\"Latino\",\"Latino\",\"Latino\",\"Latino\",\"Latino\",\"Latino\",\"Latino\",\"Latino\",\"Latino\",\"Latino\",\"Latino\",\"Middle-Eastern\",\"Middle-Eastern\",\"Middle-Eastern\",\"Middle-Eastern\",\"Middle-Eastern\",\"Middle-Eastern\",\"Middle-Eastern\",\"Middle-Eastern\",\"Middle-Eastern\",\"Middle-Eastern\",\"Middle-Eastern\",\"Middle-Eastern\",\"Middle-Eastern\",\"South Asian\",\"South Asian\",\"South Asian\",\"South Asian\",\"South Asian\",\"South Asian\",\"South Asian\",\"South Asian\",\"South Asian\",\"South Asian\",\"South Asian\",\"South Asian\",\"White\",\"White\",\"White\",\"White\",\"White\",\"White\",\"White\",\"White\",\"White\",\"White\",\"White\",\"White\",\"White\",\"White\",\"Black\",\"Black\",\"Black\",\"Black\",\"Black\",\"Black\",\"Black\",\"Black\",\"Black\",\"Black\",\"Black\",\"Black\",\"Black\",\"East/Southeast Asian\",\"East/Southeast Asian\",\"East/Southeast Asian\",\"East/Southeast Asian\",\"East/Southeast Asian\",\"East/Southeast Asian\",\"East/Southeast Asian\",\"East/Southeast Asian\",\"East/Southeast Asian\",\"East/Southeast Asian\",\"East/Southeast Asian\",\"East/Southeast Asian\",\"East/Southeast Asian\",\"East/Southeast Asian\",\"Indigenous\",\"Indigenous\",\"Indigenous\",\"Indigenous\",\"Indigenous\",\"Indigenous\",\"Indigenous\",\"Indigenous\",\"Indigenous\",\"Indigenous\",\"Indigenous\",\"Indigenous\",\"Latino\",\"Latino\",\"Latino\",\"Latino\",\"Latino\",\"Latino\",\"Latino\",\"Latino\",\"Latino\",\"Latino\",\"Latino\",\"Latino\",\"Middle-Eastern\",\"Middle-Eastern\",\"Middle-Eastern\",\"Middle-Eastern\",\"Middle-Eastern\",\"Middle-Eastern\",\"Middle-Eastern\",\"Middle-Eastern\",\"Middle-Eastern\",\"Middle-Eastern\",\"Middle-Eastern\",\"Middle-Eastern\",\"Middle-Eastern\",\"South Asian\",\"South Asian\",\"South Asian\",\"South Asian\",\"South Asian\",\"South Asian\",\"South Asian\",\"South Asian\",\"South Asian\",\"South Asian\",\"South Asian\",\"South Asian\",\"South Asian\",\"White\",\"White\",\"White\",\"White\",\"White\",\"White\",\"White\",\"White\",\"White\",\"White\",\"White\",\"White\",\"White\",\"White\",\"Black\",\"Black\",\"Black\",\"Black\",\"Black\",\"Black\",\"Black\",\"Black\",\"Black\",\"Black\",\"Black\",\"Black\",\"Black\",\"Black\",\"East/Southeast Asian\",\"East/Southeast Asian\",\"East/Southeast Asian\",\"East/Southeast Asian\",\"East/Southeast Asian\",\"East/Southeast Asian\",\"East/Southeast Asian\",\"East/Southeast Asian\",\"East/Southeast Asian\",\"East/Southeast Asian\",\"East/Southeast Asian\",\"East/Southeast Asian\",\"East/Southeast Asian\",\"East/Southeast Asian\",\"Indigenous\",\"Indigenous\",\"Indigenous\",\"Indigenous\",\"Indigenous\",\"Indigenous\",\"Indigenous\",\"Indigenous\",\"Indigenous\",\"Indigenous\",\"Indigenous\",\"Indigenous\",\"Indigenous\",\"Latino\",\"Latino\",\"Latino\",\"Latino\",\"Latino\",\"Latino\",\"Latino\",\"Latino\",\"Latino\",\"Latino\",\"Latino\",\"Latino\",\"Latino\",\"Latino\",\"Middle-Eastern\",\"Middle-Eastern\",\"Middle-Eastern\",\"Middle-Eastern\",\"Middle-Eastern\",\"Middle-Eastern\",\"Middle-Eastern\",\"Middle-Eastern\",\"Middle-Eastern\",\"Middle-Eastern\",\"Middle-Eastern\",\"Middle-Eastern\",\"Middle-Eastern\",\"South Asian\",\"South Asian\",\"South Asian\",\"South Asian\",\"South Asian\",\"South Asian\",\"South Asian\",\"South Asian\",\"South Asian\",\"South Asian\",\"South Asian\",\"South Asian\",\"South Asian\",\"White\",\"White\",\"White\",\"White\",\"White\",\"White\",\"White\",\"White\",\"White\",\"White\",\"White\",\"White\",\"White\",\"White\",\"Black\",\"Black\",\"Black\",\"Black\",\"Black\",\"Black\",\"Black\",\"Black\",\"Black\",\"Black\",\"Black\",\"Black\",\"Black\",\"Black\",\"East/Southeast Asian\",\"East/Southeast Asian\",\"East/Southeast Asian\",\"East/Southeast Asian\",\"East/Southeast Asian\",\"East/Southeast Asian\",\"East/Southeast Asian\",\"East/Southeast Asian\",\"East/Southeast Asian\",\"East/Southeast Asian\",\"East/Southeast Asian\",\"East/Southeast Asian\",\"East/Southeast Asian\",\"East/Southeast Asian\",\"Indigenous\",\"Indigenous\",\"Indigenous\",\"Indigenous\",\"Indigenous\",\"Indigenous\",\"Indigenous\",\"Indigenous\",\"Indigenous\",\"Indigenous\",\"Indigenous\",\"Indigenous\",\"Indigenous\",\"Latino\",\"Latino\",\"Latino\",\"Latino\",\"Latino\",\"Latino\",\"Latino\",\"Latino\",\"Latino\",\"Latino\",\"Latino\",\"Latino\",\"Middle-Eastern\",\"Middle-Eastern\",\"Middle-Eastern\",\"Middle-Eastern\",\"Middle-Eastern\",\"Middle-Eastern\",\"Middle-Eastern\",\"Middle-Eastern\",\"Middle-Eastern\",\"Middle-Eastern\",\"Middle-Eastern\",\"Middle-Eastern\",\"Middle-Eastern\",\"Middle-Eastern\",\"South Asian\",\"South Asian\",\"South Asian\",\"South Asian\",\"South Asian\",\"South Asian\",\"South Asian\",\"South Asian\",\"South Asian\",\"South Asian\",\"South Asian\",\"South Asian\",\"South Asian\",\"White\",\"White\",\"White\",\"White\",\"White\",\"White\",\"White\",\"White\",\"White\",\"White\",\"White\",\"White\",\"White\",\"White\"],\"y0\":\" \",\"yaxis\":\"y\",\"type\":\"box\"}],                        {\"template\":{\"data\":{\"histogram2dcontour\":[{\"type\":\"histogram2dcontour\",\"colorbar\":{\"outlinewidth\":0,\"ticks\":\"\"},\"colorscale\":[[0.0,\"#0d0887\"],[0.1111111111111111,\"#46039f\"],[0.2222222222222222,\"#7201a8\"],[0.3333333333333333,\"#9c179e\"],[0.4444444444444444,\"#bd3786\"],[0.5555555555555556,\"#d8576b\"],[0.6666666666666666,\"#ed7953\"],[0.7777777777777778,\"#fb9f3a\"],[0.8888888888888888,\"#fdca26\"],[1.0,\"#f0f921\"]]}],\"choropleth\":[{\"type\":\"choropleth\",\"colorbar\":{\"outlinewidth\":0,\"ticks\":\"\"}}],\"histogram2d\":[{\"type\":\"histogram2d\",\"colorbar\":{\"outlinewidth\":0,\"ticks\":\"\"},\"colorscale\":[[0.0,\"#0d0887\"],[0.1111111111111111,\"#46039f\"],[0.2222222222222222,\"#7201a8\"],[0.3333333333333333,\"#9c179e\"],[0.4444444444444444,\"#bd3786\"],[0.5555555555555556,\"#d8576b\"],[0.6666666666666666,\"#ed7953\"],[0.7777777777777778,\"#fb9f3a\"],[0.8888888888888888,\"#fdca26\"],[1.0,\"#f0f921\"]]}],\"heatmap\":[{\"type\":\"heatmap\",\"colorbar\":{\"outlinewidth\":0,\"ticks\":\"\"},\"colorscale\":[[0.0,\"#0d0887\"],[0.1111111111111111,\"#46039f\"],[0.2222222222222222,\"#7201a8\"],[0.3333333333333333,\"#9c179e\"],[0.4444444444444444,\"#bd3786\"],[0.5555555555555556,\"#d8576b\"],[0.6666666666666666,\"#ed7953\"],[0.7777777777777778,\"#fb9f3a\"],[0.8888888888888888,\"#fdca26\"],[1.0,\"#f0f921\"]]}],\"heatmapgl\":[{\"type\":\"heatmapgl\",\"colorbar\":{\"outlinewidth\":0,\"ticks\":\"\"},\"colorscale\":[[0.0,\"#0d0887\"],[0.1111111111111111,\"#46039f\"],[0.2222222222222222,\"#7201a8\"],[0.3333333333333333,\"#9c179e\"],[0.4444444444444444,\"#bd3786\"],[0.5555555555555556,\"#d8576b\"],[0.6666666666666666,\"#ed7953\"],[0.7777777777777778,\"#fb9f3a\"],[0.8888888888888888,\"#fdca26\"],[1.0,\"#f0f921\"]]}],\"contourcarpet\":[{\"type\":\"contourcarpet\",\"colorbar\":{\"outlinewidth\":0,\"ticks\":\"\"}}],\"contour\":[{\"type\":\"contour\",\"colorbar\":{\"outlinewidth\":0,\"ticks\":\"\"},\"colorscale\":[[0.0,\"#0d0887\"],[0.1111111111111111,\"#46039f\"],[0.2222222222222222,\"#7201a8\"],[0.3333333333333333,\"#9c179e\"],[0.4444444444444444,\"#bd3786\"],[0.5555555555555556,\"#d8576b\"],[0.6666666666666666,\"#ed7953\"],[0.7777777777777778,\"#fb9f3a\"],[0.8888888888888888,\"#fdca26\"],[1.0,\"#f0f921\"]]}],\"surface\":[{\"type\":\"surface\",\"colorbar\":{\"outlinewidth\":0,\"ticks\":\"\"},\"colorscale\":[[0.0,\"#0d0887\"],[0.1111111111111111,\"#46039f\"],[0.2222222222222222,\"#7201a8\"],[0.3333333333333333,\"#9c179e\"],[0.4444444444444444,\"#bd3786\"],[0.5555555555555556,\"#d8576b\"],[0.6666666666666666,\"#ed7953\"],[0.7777777777777778,\"#fb9f3a\"],[0.8888888888888888,\"#fdca26\"],[1.0,\"#f0f921\"]]}],\"mesh3d\":[{\"type\":\"mesh3d\",\"colorbar\":{\"outlinewidth\":0,\"ticks\":\"\"}}],\"scatter\":[{\"fillpattern\":{\"fillmode\":\"overlay\",\"size\":10,\"solidity\":0.2},\"type\":\"scatter\"}],\"parcoords\":[{\"type\":\"parcoords\",\"line\":{\"colorbar\":{\"outlinewidth\":0,\"ticks\":\"\"}}}],\"scatterpolargl\":[{\"type\":\"scatterpolargl\",\"marker\":{\"colorbar\":{\"outlinewidth\":0,\"ticks\":\"\"}}}],\"bar\":[{\"error_x\":{\"color\":\"#2a3f5f\"},\"error_y\":{\"color\":\"#2a3f5f\"},\"marker\":{\"line\":{\"color\":\"#E5ECF6\",\"width\":0.5},\"pattern\":{\"fillmode\":\"overlay\",\"size\":10,\"solidity\":0.2}},\"type\":\"bar\"}],\"scattergeo\":[{\"type\":\"scattergeo\",\"marker\":{\"colorbar\":{\"outlinewidth\":0,\"ticks\":\"\"}}}],\"scatterpolar\":[{\"type\":\"scatterpolar\",\"marker\":{\"colorbar\":{\"outlinewidth\":0,\"ticks\":\"\"}}}],\"histogram\":[{\"marker\":{\"pattern\":{\"fillmode\":\"overlay\",\"size\":10,\"solidity\":0.2}},\"type\":\"histogram\"}],\"scattergl\":[{\"type\":\"scattergl\",\"marker\":{\"colorbar\":{\"outlinewidth\":0,\"ticks\":\"\"}}}],\"scatter3d\":[{\"type\":\"scatter3d\",\"line\":{\"colorbar\":{\"outlinewidth\":0,\"ticks\":\"\"}},\"marker\":{\"colorbar\":{\"outlinewidth\":0,\"ticks\":\"\"}}}],\"scattermapbox\":[{\"type\":\"scattermapbox\",\"marker\":{\"colorbar\":{\"outlinewidth\":0,\"ticks\":\"\"}}}],\"scatterternary\":[{\"type\":\"scatterternary\",\"marker\":{\"colorbar\":{\"outlinewidth\":0,\"ticks\":\"\"}}}],\"scattercarpet\":[{\"type\":\"scattercarpet\",\"marker\":{\"colorbar\":{\"outlinewidth\":0,\"ticks\":\"\"}}}],\"carpet\":[{\"aaxis\":{\"endlinecolor\":\"#2a3f5f\",\"gridcolor\":\"white\",\"linecolor\":\"white\",\"minorgridcolor\":\"white\",\"startlinecolor\":\"#2a3f5f\"},\"baxis\":{\"endlinecolor\":\"#2a3f5f\",\"gridcolor\":\"white\",\"linecolor\":\"white\",\"minorgridcolor\":\"white\",\"startlinecolor\":\"#2a3f5f\"},\"type\":\"carpet\"}],\"table\":[{\"cells\":{\"fill\":{\"color\":\"#EBF0F8\"},\"line\":{\"color\":\"white\"}},\"header\":{\"fill\":{\"color\":\"#C8D4E3\"},\"line\":{\"color\":\"white\"}},\"type\":\"table\"}],\"barpolar\":[{\"marker\":{\"line\":{\"color\":\"#E5ECF6\",\"width\":0.5},\"pattern\":{\"fillmode\":\"overlay\",\"size\":10,\"solidity\":0.2}},\"type\":\"barpolar\"}],\"pie\":[{\"automargin\":true,\"type\":\"pie\"}]},\"layout\":{\"autotypenumbers\":\"strict\",\"colorway\":[\"#636efa\",\"#EF553B\",\"#00cc96\",\"#ab63fa\",\"#FFA15A\",\"#19d3f3\",\"#FF6692\",\"#B6E880\",\"#FF97FF\",\"#FECB52\"],\"font\":{\"color\":\"#2a3f5f\"},\"hovermode\":\"closest\",\"hoverlabel\":{\"align\":\"left\"},\"paper_bgcolor\":\"white\",\"plot_bgcolor\":\"#E5ECF6\",\"polar\":{\"bgcolor\":\"#E5ECF6\",\"angularaxis\":{\"gridcolor\":\"white\",\"linecolor\":\"white\",\"ticks\":\"\"},\"radialaxis\":{\"gridcolor\":\"white\",\"linecolor\":\"white\",\"ticks\":\"\"}},\"ternary\":{\"bgcolor\":\"#E5ECF6\",\"aaxis\":{\"gridcolor\":\"white\",\"linecolor\":\"white\",\"ticks\":\"\"},\"baxis\":{\"gridcolor\":\"white\",\"linecolor\":\"white\",\"ticks\":\"\"},\"caxis\":{\"gridcolor\":\"white\",\"linecolor\":\"white\",\"ticks\":\"\"}},\"coloraxis\":{\"colorbar\":{\"outlinewidth\":0,\"ticks\":\"\"}},\"colorscale\":{\"sequential\":[[0.0,\"#0d0887\"],[0.1111111111111111,\"#46039f\"],[0.2222222222222222,\"#7201a8\"],[0.3333333333333333,\"#9c179e\"],[0.4444444444444444,\"#bd3786\"],[0.5555555555555556,\"#d8576b\"],[0.6666666666666666,\"#ed7953\"],[0.7777777777777778,\"#fb9f3a\"],[0.8888888888888888,\"#fdca26\"],[1.0,\"#f0f921\"]],\"sequentialminus\":[[0.0,\"#0d0887\"],[0.1111111111111111,\"#46039f\"],[0.2222222222222222,\"#7201a8\"],[0.3333333333333333,\"#9c179e\"],[0.4444444444444444,\"#bd3786\"],[0.5555555555555556,\"#d8576b\"],[0.6666666666666666,\"#ed7953\"],[0.7777777777777778,\"#fb9f3a\"],[0.8888888888888888,\"#fdca26\"],[1.0,\"#f0f921\"]],\"diverging\":[[0,\"#8e0152\"],[0.1,\"#c51b7d\"],[0.2,\"#de77ae\"],[0.3,\"#f1b6da\"],[0.4,\"#fde0ef\"],[0.5,\"#f7f7f7\"],[0.6,\"#e6f5d0\"],[0.7,\"#b8e186\"],[0.8,\"#7fbc41\"],[0.9,\"#4d9221\"],[1,\"#276419\"]]},\"xaxis\":{\"gridcolor\":\"white\",\"linecolor\":\"white\",\"ticks\":\"\",\"title\":{\"standoff\":15},\"zerolinecolor\":\"white\",\"automargin\":true,\"zerolinewidth\":2},\"yaxis\":{\"gridcolor\":\"white\",\"linecolor\":\"white\",\"ticks\":\"\",\"title\":{\"standoff\":15},\"zerolinecolor\":\"white\",\"automargin\":true,\"zerolinewidth\":2},\"scene\":{\"xaxis\":{\"backgroundcolor\":\"#E5ECF6\",\"gridcolor\":\"white\",\"linecolor\":\"white\",\"showbackground\":true,\"ticks\":\"\",\"zerolinecolor\":\"white\",\"gridwidth\":2},\"yaxis\":{\"backgroundcolor\":\"#E5ECF6\",\"gridcolor\":\"white\",\"linecolor\":\"white\",\"showbackground\":true,\"ticks\":\"\",\"zerolinecolor\":\"white\",\"gridwidth\":2},\"zaxis\":{\"backgroundcolor\":\"#E5ECF6\",\"gridcolor\":\"white\",\"linecolor\":\"white\",\"showbackground\":true,\"ticks\":\"\",\"zerolinecolor\":\"white\",\"gridwidth\":2}},\"shapedefaults\":{\"line\":{\"color\":\"#2a3f5f\"}},\"annotationdefaults\":{\"arrowcolor\":\"#2a3f5f\",\"arrowhead\":0,\"arrowwidth\":1},\"geo\":{\"bgcolor\":\"white\",\"landcolor\":\"#E5ECF6\",\"subunitcolor\":\"white\",\"showland\":true,\"showlakes\":true,\"lakecolor\":\"white\"},\"title\":{\"x\":0.05},\"mapbox\":{\"style\":\"light\"}}},\"xaxis\":{\"anchor\":\"y\",\"domain\":[0.0,1.0],\"title\":{\"text\":\"Number of Arrests\"}},\"yaxis\":{\"anchor\":\"x\",\"domain\":[0.0,1.0],\"title\":{\"text\":\"Perceived Race\"}},\"legend\":{\"tracegroupgap\":0},\"title\":{\"text\":\"Boxplot: Number of Arrests by Perceived Race\"},\"boxmode\":\"group\",\"height\":800,\"width\":900},                        {\"responsive\": true}                    ).then(function(){\n",
              "                            \n",
              "var gd = document.getElementById('6389bf59-d3b4-4d4b-bf35-5f693f8466c8');\n",
              "var x = new MutationObserver(function (mutations, observer) {{\n",
              "        var display = window.getComputedStyle(gd).display;\n",
              "        if (!display || display === 'none') {{\n",
              "            console.log([gd, 'removed!']);\n",
              "            Plotly.purge(gd);\n",
              "            observer.disconnect();\n",
              "        }}\n",
              "}});\n",
              "\n",
              "// Listen for the removal of the full notebook cells\n",
              "var notebookContainer = gd.closest('#notebook-container');\n",
              "if (notebookContainer) {{\n",
              "    x.observe(notebookContainer, {childList: true});\n",
              "}}\n",
              "\n",
              "// Listen for the clearing of the current output cell\n",
              "var outputEl = gd.closest('.output');\n",
              "if (outputEl) {{\n",
              "    x.observe(outputEl, {childList: true});\n",
              "}}\n",
              "\n",
              "                        })                };                            </script>        </div>\n",
              "</body>\n",
              "</html>"
            ]
          },
          "metadata": {}
        }
      ]
    },
    {
      "cell_type": "code",
      "source": [
        "arrests_race_boxplot = px.box(number_arrests2, x=\"Number_arrests\", y=\"Youth_at_arrest__under_18_years\"\n",
        "            \n",
        "            ,labels={\n",
        "                    \"Perceived_Race\": \"Perceived Race\",\n",
        "                    'Youth_at_arrest__under_18_years': \"Youth or Not\",\n",
        "                             }         \n",
        "            , height = 800, width = 1100\n",
        "             , title= \"Boxplot: Number of Arrests by Youth\"\n",
        "            )\n",
        "\n",
        "arrests_race_boxplot.show()"
      ],
      "metadata": {
        "id": "J1bVOMFwBtYs",
        "colab": {
          "base_uri": "https://localhost:8080/",
          "height": 817
        },
        "outputId": "387eaeff-e959-41d8-eb62-f4f5f55a762c"
      },
      "execution_count": null,
      "outputs": [
        {
          "output_type": "display_data",
          "data": {
            "text/html": [
              "<html>\n",
              "<head><meta charset=\"utf-8\" /></head>\n",
              "<body>\n",
              "    <div>            <script src=\"https://cdnjs.cloudflare.com/ajax/libs/mathjax/2.7.5/MathJax.js?config=TeX-AMS-MML_SVG\"></script><script type=\"text/javascript\">if (window.MathJax && window.MathJax.Hub && window.MathJax.Hub.Config) {window.MathJax.Hub.Config({SVG: {font: \"STIX-Web\"}});}</script>                <script type=\"text/javascript\">window.PlotlyConfig = {MathJaxConfig: 'local'};</script>\n",
              "        <script src=\"https://cdn.plot.ly/plotly-2.18.2.min.js\"></script>                <div id=\"5ccc5ff7-9a13-40ce-8c4a-43d367da374c\" class=\"plotly-graph-div\" style=\"height:800px; width:1100px;\"></div>            <script type=\"text/javascript\">                                    window.PLOTLYENV=window.PLOTLYENV || {};                                    if (document.getElementById(\"5ccc5ff7-9a13-40ce-8c4a-43d367da374c\")) {                    Plotly.newPlot(                        \"5ccc5ff7-9a13-40ce-8c4a-43d367da374c\",                        [{\"alignmentgroup\":\"True\",\"hovertemplate\":\"Number_arrests=%{x}<br>Youth or Not=%{y}<extra></extra>\",\"legendgroup\":\"\",\"marker\":{\"color\":\"#636efa\"},\"name\":\"\",\"notched\":false,\"offsetgroup\":\"\",\"orientation\":\"h\",\"showlegend\":false,\"x\":[652,61,760,118,677,69,607,68,3152,190,3625,314,3566,236,3183,248,154,8,188,16,178,11,184,6,796,25,846,37,940,32,959,35,129,157,7,173,2,161,291,2,348,5,318,4,333,4,60,1,56,3,83,6,51,4,341,11,314,11,390,16,404,16,79,7,68,16,109,2,78,5,650,35,656,54,671,44,722,41,92,3,145,10,116,8,131,4,717,25,718,28,806,18,777,15,1335,42,1707,106,1451,56,1414,57,5021,139,5575,212,5368,144,4907,188],\"x0\":\" \",\"xaxis\":\"x\",\"y\":[\"Not a youth\",\"Youth (aged 17 and younger)\",\"Not a youth\",\"Youth (aged 17 and younger)\",\"Not a youth\",\"Youth (aged 17 and younger)\",\"Not a youth\",\"Youth (aged 17 and younger)\",\"Not a youth\",\"Youth (aged 17 and younger)\",\"Not a youth\",\"Youth (aged 17 and younger)\",\"Not a youth\",\"Youth (aged 17 and younger)\",\"Not a youth\",\"Youth (aged 17 and younger)\",\"Not a youth\",\"Youth (aged 17 and younger)\",\"Not a youth\",\"Youth (aged 17 and younger)\",\"Not a youth\",\"Youth (aged 17 and younger)\",\"Not a youth\",\"Youth (aged 17 and younger)\",\"Not a youth\",\"Youth (aged 17 and younger)\",\"Not a youth\",\"Youth (aged 17 and younger)\",\"Not a youth\",\"Youth (aged 17 and younger)\",\"Not a youth\",\"Youth (aged 17 and younger)\",\"Not a youth\",\"Not a youth\",\"Youth (aged 17 and younger)\",\"Not a youth\",\"Youth (aged 17 and younger)\",\"Not a youth\",\"Not a youth\",\"Youth (aged 17 and younger)\",\"Not a youth\",\"Youth (aged 17 and younger)\",\"Not a youth\",\"Youth (aged 17 and younger)\",\"Not a youth\",\"Youth (aged 17 and younger)\",\"Not a youth\",\"Youth (aged 17 and younger)\",\"Not a youth\",\"Youth (aged 17 and younger)\",\"Not a youth\",\"Youth (aged 17 and younger)\",\"Not a youth\",\"Youth (aged 17 and younger)\",\"Not a youth\",\"Youth (aged 17 and younger)\",\"Not a youth\",\"Youth (aged 17 and younger)\",\"Not a youth\",\"Youth (aged 17 and younger)\",\"Not a youth\",\"Youth (aged 17 and younger)\",\"Not a youth\",\"Youth (aged 17 and younger)\",\"Not a youth\",\"Youth (aged 17 and younger)\",\"Not a youth\",\"Youth (aged 17 and younger)\",\"Not a youth\",\"Youth (aged 17 and younger)\",\"Not a youth\",\"Youth (aged 17 and younger)\",\"Not a youth\",\"Youth (aged 17 and younger)\",\"Not a youth\",\"Youth (aged 17 and younger)\",\"Not a youth\",\"Youth (aged 17 and younger)\",\"Not a youth\",\"Youth (aged 17 and younger)\",\"Not a youth\",\"Youth (aged 17 and younger)\",\"Not a youth\",\"Youth (aged 17 and younger)\",\"Not a youth\",\"Youth (aged 17 and younger)\",\"Not a youth\",\"Youth (aged 17 and younger)\",\"Not a youth\",\"Youth (aged 17 and younger)\",\"Not a youth\",\"Youth (aged 17 and younger)\",\"Not a youth\",\"Youth (aged 17 and younger)\",\"Not a youth\",\"Youth (aged 17 and younger)\",\"Not a youth\",\"Youth (aged 17 and younger)\",\"Not a youth\",\"Youth (aged 17 and younger)\",\"Not a youth\",\"Youth (aged 17 and younger)\",\"Not a youth\",\"Youth (aged 17 and younger)\",\"Not a youth\",\"Youth (aged 17 and younger)\",\"Not a youth\",\"Youth (aged 17 and younger)\",\"Not a youth\",\"Youth (aged 17 and younger)\"],\"y0\":\" \",\"yaxis\":\"y\",\"type\":\"box\"}],                        {\"template\":{\"data\":{\"histogram2dcontour\":[{\"type\":\"histogram2dcontour\",\"colorbar\":{\"outlinewidth\":0,\"ticks\":\"\"},\"colorscale\":[[0.0,\"#0d0887\"],[0.1111111111111111,\"#46039f\"],[0.2222222222222222,\"#7201a8\"],[0.3333333333333333,\"#9c179e\"],[0.4444444444444444,\"#bd3786\"],[0.5555555555555556,\"#d8576b\"],[0.6666666666666666,\"#ed7953\"],[0.7777777777777778,\"#fb9f3a\"],[0.8888888888888888,\"#fdca26\"],[1.0,\"#f0f921\"]]}],\"choropleth\":[{\"type\":\"choropleth\",\"colorbar\":{\"outlinewidth\":0,\"ticks\":\"\"}}],\"histogram2d\":[{\"type\":\"histogram2d\",\"colorbar\":{\"outlinewidth\":0,\"ticks\":\"\"},\"colorscale\":[[0.0,\"#0d0887\"],[0.1111111111111111,\"#46039f\"],[0.2222222222222222,\"#7201a8\"],[0.3333333333333333,\"#9c179e\"],[0.4444444444444444,\"#bd3786\"],[0.5555555555555556,\"#d8576b\"],[0.6666666666666666,\"#ed7953\"],[0.7777777777777778,\"#fb9f3a\"],[0.8888888888888888,\"#fdca26\"],[1.0,\"#f0f921\"]]}],\"heatmap\":[{\"type\":\"heatmap\",\"colorbar\":{\"outlinewidth\":0,\"ticks\":\"\"},\"colorscale\":[[0.0,\"#0d0887\"],[0.1111111111111111,\"#46039f\"],[0.2222222222222222,\"#7201a8\"],[0.3333333333333333,\"#9c179e\"],[0.4444444444444444,\"#bd3786\"],[0.5555555555555556,\"#d8576b\"],[0.6666666666666666,\"#ed7953\"],[0.7777777777777778,\"#fb9f3a\"],[0.8888888888888888,\"#fdca26\"],[1.0,\"#f0f921\"]]}],\"heatmapgl\":[{\"type\":\"heatmapgl\",\"colorbar\":{\"outlinewidth\":0,\"ticks\":\"\"},\"colorscale\":[[0.0,\"#0d0887\"],[0.1111111111111111,\"#46039f\"],[0.2222222222222222,\"#7201a8\"],[0.3333333333333333,\"#9c179e\"],[0.4444444444444444,\"#bd3786\"],[0.5555555555555556,\"#d8576b\"],[0.6666666666666666,\"#ed7953\"],[0.7777777777777778,\"#fb9f3a\"],[0.8888888888888888,\"#fdca26\"],[1.0,\"#f0f921\"]]}],\"contourcarpet\":[{\"type\":\"contourcarpet\",\"colorbar\":{\"outlinewidth\":0,\"ticks\":\"\"}}],\"contour\":[{\"type\":\"contour\",\"colorbar\":{\"outlinewidth\":0,\"ticks\":\"\"},\"colorscale\":[[0.0,\"#0d0887\"],[0.1111111111111111,\"#46039f\"],[0.2222222222222222,\"#7201a8\"],[0.3333333333333333,\"#9c179e\"],[0.4444444444444444,\"#bd3786\"],[0.5555555555555556,\"#d8576b\"],[0.6666666666666666,\"#ed7953\"],[0.7777777777777778,\"#fb9f3a\"],[0.8888888888888888,\"#fdca26\"],[1.0,\"#f0f921\"]]}],\"surface\":[{\"type\":\"surface\",\"colorbar\":{\"outlinewidth\":0,\"ticks\":\"\"},\"colorscale\":[[0.0,\"#0d0887\"],[0.1111111111111111,\"#46039f\"],[0.2222222222222222,\"#7201a8\"],[0.3333333333333333,\"#9c179e\"],[0.4444444444444444,\"#bd3786\"],[0.5555555555555556,\"#d8576b\"],[0.6666666666666666,\"#ed7953\"],[0.7777777777777778,\"#fb9f3a\"],[0.8888888888888888,\"#fdca26\"],[1.0,\"#f0f921\"]]}],\"mesh3d\":[{\"type\":\"mesh3d\",\"colorbar\":{\"outlinewidth\":0,\"ticks\":\"\"}}],\"scatter\":[{\"fillpattern\":{\"fillmode\":\"overlay\",\"size\":10,\"solidity\":0.2},\"type\":\"scatter\"}],\"parcoords\":[{\"type\":\"parcoords\",\"line\":{\"colorbar\":{\"outlinewidth\":0,\"ticks\":\"\"}}}],\"scatterpolargl\":[{\"type\":\"scatterpolargl\",\"marker\":{\"colorbar\":{\"outlinewidth\":0,\"ticks\":\"\"}}}],\"bar\":[{\"error_x\":{\"color\":\"#2a3f5f\"},\"error_y\":{\"color\":\"#2a3f5f\"},\"marker\":{\"line\":{\"color\":\"#E5ECF6\",\"width\":0.5},\"pattern\":{\"fillmode\":\"overlay\",\"size\":10,\"solidity\":0.2}},\"type\":\"bar\"}],\"scattergeo\":[{\"type\":\"scattergeo\",\"marker\":{\"colorbar\":{\"outlinewidth\":0,\"ticks\":\"\"}}}],\"scatterpolar\":[{\"type\":\"scatterpolar\",\"marker\":{\"colorbar\":{\"outlinewidth\":0,\"ticks\":\"\"}}}],\"histogram\":[{\"marker\":{\"pattern\":{\"fillmode\":\"overlay\",\"size\":10,\"solidity\":0.2}},\"type\":\"histogram\"}],\"scattergl\":[{\"type\":\"scattergl\",\"marker\":{\"colorbar\":{\"outlinewidth\":0,\"ticks\":\"\"}}}],\"scatter3d\":[{\"type\":\"scatter3d\",\"line\":{\"colorbar\":{\"outlinewidth\":0,\"ticks\":\"\"}},\"marker\":{\"colorbar\":{\"outlinewidth\":0,\"ticks\":\"\"}}}],\"scattermapbox\":[{\"type\":\"scattermapbox\",\"marker\":{\"colorbar\":{\"outlinewidth\":0,\"ticks\":\"\"}}}],\"scatterternary\":[{\"type\":\"scatterternary\",\"marker\":{\"colorbar\":{\"outlinewidth\":0,\"ticks\":\"\"}}}],\"scattercarpet\":[{\"type\":\"scattercarpet\",\"marker\":{\"colorbar\":{\"outlinewidth\":0,\"ticks\":\"\"}}}],\"carpet\":[{\"aaxis\":{\"endlinecolor\":\"#2a3f5f\",\"gridcolor\":\"white\",\"linecolor\":\"white\",\"minorgridcolor\":\"white\",\"startlinecolor\":\"#2a3f5f\"},\"baxis\":{\"endlinecolor\":\"#2a3f5f\",\"gridcolor\":\"white\",\"linecolor\":\"white\",\"minorgridcolor\":\"white\",\"startlinecolor\":\"#2a3f5f\"},\"type\":\"carpet\"}],\"table\":[{\"cells\":{\"fill\":{\"color\":\"#EBF0F8\"},\"line\":{\"color\":\"white\"}},\"header\":{\"fill\":{\"color\":\"#C8D4E3\"},\"line\":{\"color\":\"white\"}},\"type\":\"table\"}],\"barpolar\":[{\"marker\":{\"line\":{\"color\":\"#E5ECF6\",\"width\":0.5},\"pattern\":{\"fillmode\":\"overlay\",\"size\":10,\"solidity\":0.2}},\"type\":\"barpolar\"}],\"pie\":[{\"automargin\":true,\"type\":\"pie\"}]},\"layout\":{\"autotypenumbers\":\"strict\",\"colorway\":[\"#636efa\",\"#EF553B\",\"#00cc96\",\"#ab63fa\",\"#FFA15A\",\"#19d3f3\",\"#FF6692\",\"#B6E880\",\"#FF97FF\",\"#FECB52\"],\"font\":{\"color\":\"#2a3f5f\"},\"hovermode\":\"closest\",\"hoverlabel\":{\"align\":\"left\"},\"paper_bgcolor\":\"white\",\"plot_bgcolor\":\"#E5ECF6\",\"polar\":{\"bgcolor\":\"#E5ECF6\",\"angularaxis\":{\"gridcolor\":\"white\",\"linecolor\":\"white\",\"ticks\":\"\"},\"radialaxis\":{\"gridcolor\":\"white\",\"linecolor\":\"white\",\"ticks\":\"\"}},\"ternary\":{\"bgcolor\":\"#E5ECF6\",\"aaxis\":{\"gridcolor\":\"white\",\"linecolor\":\"white\",\"ticks\":\"\"},\"baxis\":{\"gridcolor\":\"white\",\"linecolor\":\"white\",\"ticks\":\"\"},\"caxis\":{\"gridcolor\":\"white\",\"linecolor\":\"white\",\"ticks\":\"\"}},\"coloraxis\":{\"colorbar\":{\"outlinewidth\":0,\"ticks\":\"\"}},\"colorscale\":{\"sequential\":[[0.0,\"#0d0887\"],[0.1111111111111111,\"#46039f\"],[0.2222222222222222,\"#7201a8\"],[0.3333333333333333,\"#9c179e\"],[0.4444444444444444,\"#bd3786\"],[0.5555555555555556,\"#d8576b\"],[0.6666666666666666,\"#ed7953\"],[0.7777777777777778,\"#fb9f3a\"],[0.8888888888888888,\"#fdca26\"],[1.0,\"#f0f921\"]],\"sequentialminus\":[[0.0,\"#0d0887\"],[0.1111111111111111,\"#46039f\"],[0.2222222222222222,\"#7201a8\"],[0.3333333333333333,\"#9c179e\"],[0.4444444444444444,\"#bd3786\"],[0.5555555555555556,\"#d8576b\"],[0.6666666666666666,\"#ed7953\"],[0.7777777777777778,\"#fb9f3a\"],[0.8888888888888888,\"#fdca26\"],[1.0,\"#f0f921\"]],\"diverging\":[[0,\"#8e0152\"],[0.1,\"#c51b7d\"],[0.2,\"#de77ae\"],[0.3,\"#f1b6da\"],[0.4,\"#fde0ef\"],[0.5,\"#f7f7f7\"],[0.6,\"#e6f5d0\"],[0.7,\"#b8e186\"],[0.8,\"#7fbc41\"],[0.9,\"#4d9221\"],[1,\"#276419\"]]},\"xaxis\":{\"gridcolor\":\"white\",\"linecolor\":\"white\",\"ticks\":\"\",\"title\":{\"standoff\":15},\"zerolinecolor\":\"white\",\"automargin\":true,\"zerolinewidth\":2},\"yaxis\":{\"gridcolor\":\"white\",\"linecolor\":\"white\",\"ticks\":\"\",\"title\":{\"standoff\":15},\"zerolinecolor\":\"white\",\"automargin\":true,\"zerolinewidth\":2},\"scene\":{\"xaxis\":{\"backgroundcolor\":\"#E5ECF6\",\"gridcolor\":\"white\",\"linecolor\":\"white\",\"showbackground\":true,\"ticks\":\"\",\"zerolinecolor\":\"white\",\"gridwidth\":2},\"yaxis\":{\"backgroundcolor\":\"#E5ECF6\",\"gridcolor\":\"white\",\"linecolor\":\"white\",\"showbackground\":true,\"ticks\":\"\",\"zerolinecolor\":\"white\",\"gridwidth\":2},\"zaxis\":{\"backgroundcolor\":\"#E5ECF6\",\"gridcolor\":\"white\",\"linecolor\":\"white\",\"showbackground\":true,\"ticks\":\"\",\"zerolinecolor\":\"white\",\"gridwidth\":2}},\"shapedefaults\":{\"line\":{\"color\":\"#2a3f5f\"}},\"annotationdefaults\":{\"arrowcolor\":\"#2a3f5f\",\"arrowhead\":0,\"arrowwidth\":1},\"geo\":{\"bgcolor\":\"white\",\"landcolor\":\"#E5ECF6\",\"subunitcolor\":\"white\",\"showland\":true,\"showlakes\":true,\"lakecolor\":\"white\"},\"title\":{\"x\":0.05},\"mapbox\":{\"style\":\"light\"}}},\"xaxis\":{\"anchor\":\"y\",\"domain\":[0.0,1.0],\"title\":{\"text\":\"Number_arrests\"}},\"yaxis\":{\"anchor\":\"x\",\"domain\":[0.0,1.0],\"title\":{\"text\":\"Youth or Not\"}},\"legend\":{\"tracegroupgap\":0},\"title\":{\"text\":\"Boxplot: Number of Arrests by Youth\"},\"boxmode\":\"group\",\"height\":800,\"width\":1100},                        {\"responsive\": true}                    ).then(function(){\n",
              "                            \n",
              "var gd = document.getElementById('5ccc5ff7-9a13-40ce-8c4a-43d367da374c');\n",
              "var x = new MutationObserver(function (mutations, observer) {{\n",
              "        var display = window.getComputedStyle(gd).display;\n",
              "        if (!display || display === 'none') {{\n",
              "            console.log([gd, 'removed!']);\n",
              "            Plotly.purge(gd);\n",
              "            observer.disconnect();\n",
              "        }}\n",
              "}});\n",
              "\n",
              "// Listen for the removal of the full notebook cells\n",
              "var notebookContainer = gd.closest('#notebook-container');\n",
              "if (notebookContainer) {{\n",
              "    x.observe(notebookContainer, {childList: true});\n",
              "}}\n",
              "\n",
              "// Listen for the clearing of the current output cell\n",
              "var outputEl = gd.closest('.output');\n",
              "if (outputEl) {{\n",
              "    x.observe(outputEl, {childList: true});\n",
              "}}\n",
              "\n",
              "                        })                };                            </script>        </div>\n",
              "</body>\n",
              "</html>"
            ]
          },
          "metadata": {}
        }
      ]
    },
    {
      "cell_type": "code",
      "source": [
        "arrests_sex_race_bar = px.bar(number_arrests_sex_race , x=\"Perceived_Race\", color=\"Sex\",\n",
        "             y='Number_arrests',\n",
        "             labels={\n",
        "                    \"Perceived_Race\": \"Race\",\n",
        "                    'Number_arrests': \"Number of Arrests\",},\n",
        "             color_discrete_map={'M': '#537FE7', 'F': '#FFB84C' },\n",
        "             title=\"Number of Arrests by Sex & Race\",\n",
        "             barmode='group',\n",
        "             height=600, width= 1200 , text_auto='.3s')\n",
        "\n",
        "\n",
        "\n",
        "arrests_sex_race_bar.update_traces(textfont_size=17, textangle=0, textposition=\"outside\", cliponaxis=False, marker_line_width=0)\n",
        "arrests_sex_race_bar.show()"
      ],
      "metadata": {
        "id": "p0-lt_zabIqk",
        "colab": {
          "base_uri": "https://localhost:8080/",
          "height": 637
        },
        "outputId": "924890a7-1d3c-4ddb-a718-dd5e43a87a6a"
      },
      "execution_count": null,
      "outputs": [
        {
          "output_type": "display_data",
          "data": {
            "text/html": [
              "<html>\n",
              "<head><meta charset=\"utf-8\" /></head>\n",
              "<body>\n",
              "    <div>            <script src=\"https://cdnjs.cloudflare.com/ajax/libs/mathjax/2.7.5/MathJax.js?config=TeX-AMS-MML_SVG\"></script><script type=\"text/javascript\">if (window.MathJax && window.MathJax.Hub && window.MathJax.Hub.Config) {window.MathJax.Hub.Config({SVG: {font: \"STIX-Web\"}});}</script>                <script type=\"text/javascript\">window.PlotlyConfig = {MathJaxConfig: 'local'};</script>\n",
              "        <script src=\"https://cdn.plot.ly/plotly-2.18.2.min.js\"></script>                <div id=\"7c05f340-5412-49c6-8c4d-5608de98f7fc\" class=\"plotly-graph-div\" style=\"height:600px; width:1200px;\"></div>            <script type=\"text/javascript\">                                    window.PLOTLYENV=window.PLOTLYENV || {};                                    if (document.getElementById(\"7c05f340-5412-49c6-8c4d-5608de98f7fc\")) {                    Plotly.newPlot(                        \"7c05f340-5412-49c6-8c4d-5608de98f7fc\",                        [{\"alignmentgroup\":\"True\",\"hovertemplate\":\"Sex=F<br>Race=%{x}<br>Number of Arrests=%{y}<extra></extra>\",\"legendgroup\":\"F\",\"marker\":{\"color\":\"#FFB84C\",\"pattern\":{\"shape\":\"\"},\"line\":{\"width\":0}},\"name\":\"F\",\"offsetgroup\":\"F\",\"orientation\":\"v\",\"showlegend\":true,\"textposition\":\"outside\",\"texttemplate\":\"%{y:.3s}\",\"x\":[\"Black\",\"East/Southeast Asian\",\"Indigenous\",\"Latino\",\"Middle-Eastern\",\"South Asian\",\"White\"],\"xaxis\":\"x\",\"y\":[3012,745,629,264,364,509,6168],\"yaxis\":\"y\",\"type\":\"bar\",\"textfont\":{\"size\":17},\"cliponaxis\":false,\"textangle\":0},{\"alignmentgroup\":\"True\",\"hovertemplate\":\"Sex=M<br>Race=%{x}<br>Number of Arrests=%{y}<extra></extra>\",\"legendgroup\":\"M\",\"marker\":{\"color\":\"#537FE7\",\"pattern\":{\"shape\":\"\"},\"line\":{\"width\":0}},\"name\":\"M\",\"offsetgroup\":\"M\",\"orientation\":\"v\",\"showlegend\":true,\"textposition\":\"outside\",\"texttemplate\":\"%{y:.3s}\",\"x\":[\"Black\",\"East/Southeast Asian\",\"Indigenous\",\"Latino\",\"Middle-Eastern\",\"South Asian\",\"White\"],\"xaxis\":\"x\",\"y\":[14514,3670,1305,1503,2873,3104,21554],\"yaxis\":\"y\",\"type\":\"bar\",\"textfont\":{\"size\":17},\"cliponaxis\":false,\"textangle\":0}],                        {\"template\":{\"data\":{\"histogram2dcontour\":[{\"type\":\"histogram2dcontour\",\"colorbar\":{\"outlinewidth\":0,\"ticks\":\"\"},\"colorscale\":[[0.0,\"#0d0887\"],[0.1111111111111111,\"#46039f\"],[0.2222222222222222,\"#7201a8\"],[0.3333333333333333,\"#9c179e\"],[0.4444444444444444,\"#bd3786\"],[0.5555555555555556,\"#d8576b\"],[0.6666666666666666,\"#ed7953\"],[0.7777777777777778,\"#fb9f3a\"],[0.8888888888888888,\"#fdca26\"],[1.0,\"#f0f921\"]]}],\"choropleth\":[{\"type\":\"choropleth\",\"colorbar\":{\"outlinewidth\":0,\"ticks\":\"\"}}],\"histogram2d\":[{\"type\":\"histogram2d\",\"colorbar\":{\"outlinewidth\":0,\"ticks\":\"\"},\"colorscale\":[[0.0,\"#0d0887\"],[0.1111111111111111,\"#46039f\"],[0.2222222222222222,\"#7201a8\"],[0.3333333333333333,\"#9c179e\"],[0.4444444444444444,\"#bd3786\"],[0.5555555555555556,\"#d8576b\"],[0.6666666666666666,\"#ed7953\"],[0.7777777777777778,\"#fb9f3a\"],[0.8888888888888888,\"#fdca26\"],[1.0,\"#f0f921\"]]}],\"heatmap\":[{\"type\":\"heatmap\",\"colorbar\":{\"outlinewidth\":0,\"ticks\":\"\"},\"colorscale\":[[0.0,\"#0d0887\"],[0.1111111111111111,\"#46039f\"],[0.2222222222222222,\"#7201a8\"],[0.3333333333333333,\"#9c179e\"],[0.4444444444444444,\"#bd3786\"],[0.5555555555555556,\"#d8576b\"],[0.6666666666666666,\"#ed7953\"],[0.7777777777777778,\"#fb9f3a\"],[0.8888888888888888,\"#fdca26\"],[1.0,\"#f0f921\"]]}],\"heatmapgl\":[{\"type\":\"heatmapgl\",\"colorbar\":{\"outlinewidth\":0,\"ticks\":\"\"},\"colorscale\":[[0.0,\"#0d0887\"],[0.1111111111111111,\"#46039f\"],[0.2222222222222222,\"#7201a8\"],[0.3333333333333333,\"#9c179e\"],[0.4444444444444444,\"#bd3786\"],[0.5555555555555556,\"#d8576b\"],[0.6666666666666666,\"#ed7953\"],[0.7777777777777778,\"#fb9f3a\"],[0.8888888888888888,\"#fdca26\"],[1.0,\"#f0f921\"]]}],\"contourcarpet\":[{\"type\":\"contourcarpet\",\"colorbar\":{\"outlinewidth\":0,\"ticks\":\"\"}}],\"contour\":[{\"type\":\"contour\",\"colorbar\":{\"outlinewidth\":0,\"ticks\":\"\"},\"colorscale\":[[0.0,\"#0d0887\"],[0.1111111111111111,\"#46039f\"],[0.2222222222222222,\"#7201a8\"],[0.3333333333333333,\"#9c179e\"],[0.4444444444444444,\"#bd3786\"],[0.5555555555555556,\"#d8576b\"],[0.6666666666666666,\"#ed7953\"],[0.7777777777777778,\"#fb9f3a\"],[0.8888888888888888,\"#fdca26\"],[1.0,\"#f0f921\"]]}],\"surface\":[{\"type\":\"surface\",\"colorbar\":{\"outlinewidth\":0,\"ticks\":\"\"},\"colorscale\":[[0.0,\"#0d0887\"],[0.1111111111111111,\"#46039f\"],[0.2222222222222222,\"#7201a8\"],[0.3333333333333333,\"#9c179e\"],[0.4444444444444444,\"#bd3786\"],[0.5555555555555556,\"#d8576b\"],[0.6666666666666666,\"#ed7953\"],[0.7777777777777778,\"#fb9f3a\"],[0.8888888888888888,\"#fdca26\"],[1.0,\"#f0f921\"]]}],\"mesh3d\":[{\"type\":\"mesh3d\",\"colorbar\":{\"outlinewidth\":0,\"ticks\":\"\"}}],\"scatter\":[{\"fillpattern\":{\"fillmode\":\"overlay\",\"size\":10,\"solidity\":0.2},\"type\":\"scatter\"}],\"parcoords\":[{\"type\":\"parcoords\",\"line\":{\"colorbar\":{\"outlinewidth\":0,\"ticks\":\"\"}}}],\"scatterpolargl\":[{\"type\":\"scatterpolargl\",\"marker\":{\"colorbar\":{\"outlinewidth\":0,\"ticks\":\"\"}}}],\"bar\":[{\"error_x\":{\"color\":\"#2a3f5f\"},\"error_y\":{\"color\":\"#2a3f5f\"},\"marker\":{\"line\":{\"color\":\"#E5ECF6\",\"width\":0.5},\"pattern\":{\"fillmode\":\"overlay\",\"size\":10,\"solidity\":0.2}},\"type\":\"bar\"}],\"scattergeo\":[{\"type\":\"scattergeo\",\"marker\":{\"colorbar\":{\"outlinewidth\":0,\"ticks\":\"\"}}}],\"scatterpolar\":[{\"type\":\"scatterpolar\",\"marker\":{\"colorbar\":{\"outlinewidth\":0,\"ticks\":\"\"}}}],\"histogram\":[{\"marker\":{\"pattern\":{\"fillmode\":\"overlay\",\"size\":10,\"solidity\":0.2}},\"type\":\"histogram\"}],\"scattergl\":[{\"type\":\"scattergl\",\"marker\":{\"colorbar\":{\"outlinewidth\":0,\"ticks\":\"\"}}}],\"scatter3d\":[{\"type\":\"scatter3d\",\"line\":{\"colorbar\":{\"outlinewidth\":0,\"ticks\":\"\"}},\"marker\":{\"colorbar\":{\"outlinewidth\":0,\"ticks\":\"\"}}}],\"scattermapbox\":[{\"type\":\"scattermapbox\",\"marker\":{\"colorbar\":{\"outlinewidth\":0,\"ticks\":\"\"}}}],\"scatterternary\":[{\"type\":\"scatterternary\",\"marker\":{\"colorbar\":{\"outlinewidth\":0,\"ticks\":\"\"}}}],\"scattercarpet\":[{\"type\":\"scattercarpet\",\"marker\":{\"colorbar\":{\"outlinewidth\":0,\"ticks\":\"\"}}}],\"carpet\":[{\"aaxis\":{\"endlinecolor\":\"#2a3f5f\",\"gridcolor\":\"white\",\"linecolor\":\"white\",\"minorgridcolor\":\"white\",\"startlinecolor\":\"#2a3f5f\"},\"baxis\":{\"endlinecolor\":\"#2a3f5f\",\"gridcolor\":\"white\",\"linecolor\":\"white\",\"minorgridcolor\":\"white\",\"startlinecolor\":\"#2a3f5f\"},\"type\":\"carpet\"}],\"table\":[{\"cells\":{\"fill\":{\"color\":\"#EBF0F8\"},\"line\":{\"color\":\"white\"}},\"header\":{\"fill\":{\"color\":\"#C8D4E3\"},\"line\":{\"color\":\"white\"}},\"type\":\"table\"}],\"barpolar\":[{\"marker\":{\"line\":{\"color\":\"#E5ECF6\",\"width\":0.5},\"pattern\":{\"fillmode\":\"overlay\",\"size\":10,\"solidity\":0.2}},\"type\":\"barpolar\"}],\"pie\":[{\"automargin\":true,\"type\":\"pie\"}]},\"layout\":{\"autotypenumbers\":\"strict\",\"colorway\":[\"#636efa\",\"#EF553B\",\"#00cc96\",\"#ab63fa\",\"#FFA15A\",\"#19d3f3\",\"#FF6692\",\"#B6E880\",\"#FF97FF\",\"#FECB52\"],\"font\":{\"color\":\"#2a3f5f\"},\"hovermode\":\"closest\",\"hoverlabel\":{\"align\":\"left\"},\"paper_bgcolor\":\"white\",\"plot_bgcolor\":\"#E5ECF6\",\"polar\":{\"bgcolor\":\"#E5ECF6\",\"angularaxis\":{\"gridcolor\":\"white\",\"linecolor\":\"white\",\"ticks\":\"\"},\"radialaxis\":{\"gridcolor\":\"white\",\"linecolor\":\"white\",\"ticks\":\"\"}},\"ternary\":{\"bgcolor\":\"#E5ECF6\",\"aaxis\":{\"gridcolor\":\"white\",\"linecolor\":\"white\",\"ticks\":\"\"},\"baxis\":{\"gridcolor\":\"white\",\"linecolor\":\"white\",\"ticks\":\"\"},\"caxis\":{\"gridcolor\":\"white\",\"linecolor\":\"white\",\"ticks\":\"\"}},\"coloraxis\":{\"colorbar\":{\"outlinewidth\":0,\"ticks\":\"\"}},\"colorscale\":{\"sequential\":[[0.0,\"#0d0887\"],[0.1111111111111111,\"#46039f\"],[0.2222222222222222,\"#7201a8\"],[0.3333333333333333,\"#9c179e\"],[0.4444444444444444,\"#bd3786\"],[0.5555555555555556,\"#d8576b\"],[0.6666666666666666,\"#ed7953\"],[0.7777777777777778,\"#fb9f3a\"],[0.8888888888888888,\"#fdca26\"],[1.0,\"#f0f921\"]],\"sequentialminus\":[[0.0,\"#0d0887\"],[0.1111111111111111,\"#46039f\"],[0.2222222222222222,\"#7201a8\"],[0.3333333333333333,\"#9c179e\"],[0.4444444444444444,\"#bd3786\"],[0.5555555555555556,\"#d8576b\"],[0.6666666666666666,\"#ed7953\"],[0.7777777777777778,\"#fb9f3a\"],[0.8888888888888888,\"#fdca26\"],[1.0,\"#f0f921\"]],\"diverging\":[[0,\"#8e0152\"],[0.1,\"#c51b7d\"],[0.2,\"#de77ae\"],[0.3,\"#f1b6da\"],[0.4,\"#fde0ef\"],[0.5,\"#f7f7f7\"],[0.6,\"#e6f5d0\"],[0.7,\"#b8e186\"],[0.8,\"#7fbc41\"],[0.9,\"#4d9221\"],[1,\"#276419\"]]},\"xaxis\":{\"gridcolor\":\"white\",\"linecolor\":\"white\",\"ticks\":\"\",\"title\":{\"standoff\":15},\"zerolinecolor\":\"white\",\"automargin\":true,\"zerolinewidth\":2},\"yaxis\":{\"gridcolor\":\"white\",\"linecolor\":\"white\",\"ticks\":\"\",\"title\":{\"standoff\":15},\"zerolinecolor\":\"white\",\"automargin\":true,\"zerolinewidth\":2},\"scene\":{\"xaxis\":{\"backgroundcolor\":\"#E5ECF6\",\"gridcolor\":\"white\",\"linecolor\":\"white\",\"showbackground\":true,\"ticks\":\"\",\"zerolinecolor\":\"white\",\"gridwidth\":2},\"yaxis\":{\"backgroundcolor\":\"#E5ECF6\",\"gridcolor\":\"white\",\"linecolor\":\"white\",\"showbackground\":true,\"ticks\":\"\",\"zerolinecolor\":\"white\",\"gridwidth\":2},\"zaxis\":{\"backgroundcolor\":\"#E5ECF6\",\"gridcolor\":\"white\",\"linecolor\":\"white\",\"showbackground\":true,\"ticks\":\"\",\"zerolinecolor\":\"white\",\"gridwidth\":2}},\"shapedefaults\":{\"line\":{\"color\":\"#2a3f5f\"}},\"annotationdefaults\":{\"arrowcolor\":\"#2a3f5f\",\"arrowhead\":0,\"arrowwidth\":1},\"geo\":{\"bgcolor\":\"white\",\"landcolor\":\"#E5ECF6\",\"subunitcolor\":\"white\",\"showland\":true,\"showlakes\":true,\"lakecolor\":\"white\"},\"title\":{\"x\":0.05},\"mapbox\":{\"style\":\"light\"}}},\"xaxis\":{\"anchor\":\"y\",\"domain\":[0.0,1.0],\"title\":{\"text\":\"Race\"}},\"yaxis\":{\"anchor\":\"x\",\"domain\":[0.0,1.0],\"title\":{\"text\":\"Number of Arrests\"}},\"legend\":{\"title\":{\"text\":\"Sex\"},\"tracegroupgap\":0},\"title\":{\"text\":\"Number of Arrests by Sex & Race\"},\"barmode\":\"group\",\"height\":600,\"width\":1200},                        {\"responsive\": true}                    ).then(function(){\n",
              "                            \n",
              "var gd = document.getElementById('7c05f340-5412-49c6-8c4d-5608de98f7fc');\n",
              "var x = new MutationObserver(function (mutations, observer) {{\n",
              "        var display = window.getComputedStyle(gd).display;\n",
              "        if (!display || display === 'none') {{\n",
              "            console.log([gd, 'removed!']);\n",
              "            Plotly.purge(gd);\n",
              "            observer.disconnect();\n",
              "        }}\n",
              "}});\n",
              "\n",
              "// Listen for the removal of the full notebook cells\n",
              "var notebookContainer = gd.closest('#notebook-container');\n",
              "if (notebookContainer) {{\n",
              "    x.observe(notebookContainer, {childList: true});\n",
              "}}\n",
              "\n",
              "// Listen for the clearing of the current output cell\n",
              "var outputEl = gd.closest('.output');\n",
              "if (outputEl) {{\n",
              "    x.observe(outputEl, {childList: true});\n",
              "}}\n",
              "\n",
              "                        })                };                            </script>        </div>\n",
              "</body>\n",
              "</html>"
            ]
          },
          "metadata": {}
        }
      ]
    },
    {
      "cell_type": "code",
      "source": [
        "arrests_bar = px.bar(data_frame = number_arrests5\n",
        "                           ,x = \"Perceived_Race\", y = 'Number_arrests',\n",
        "                           labels={\n",
        "                           \"Perceived_Race\": \"Race\",\n",
        "                           'Number_arrests': \"Number of Arrests\",\n",
        "                             }\n",
        "\n",
        "                      , facet_col = \"Arrest_Year\"\n",
        "                      , text_auto='.3s'\n",
        "                      , title= \"Number of Arrests by Race & Year\"\n",
        "                      , facet_col_wrap = 4\n",
        "                       ,height=600, width=1000\n",
        "                                     \n",
        "                      )\n",
        "\n",
        "arrests_bar.update_traces(textfont_size=20, textangle=0, textposition=\"outside\", cliponaxis=False)"
      ],
      "metadata": {
        "colab": {
          "base_uri": "https://localhost:8080/",
          "height": 617
        },
        "id": "UaxOtFPpiJ9i",
        "outputId": "a8f89aa7-79fe-4fa7-c10a-545ffcd828eb"
      },
      "execution_count": null,
      "outputs": [
        {
          "output_type": "display_data",
          "data": {
            "text/html": [
              "<html>\n",
              "<head><meta charset=\"utf-8\" /></head>\n",
              "<body>\n",
              "    <div>            <script src=\"https://cdnjs.cloudflare.com/ajax/libs/mathjax/2.7.5/MathJax.js?config=TeX-AMS-MML_SVG\"></script><script type=\"text/javascript\">if (window.MathJax && window.MathJax.Hub && window.MathJax.Hub.Config) {window.MathJax.Hub.Config({SVG: {font: \"STIX-Web\"}});}</script>                <script type=\"text/javascript\">window.PlotlyConfig = {MathJaxConfig: 'local'};</script>\n",
              "        <script src=\"https://cdn.plot.ly/plotly-2.18.2.min.js\"></script>                <div id=\"f87bc130-0999-4d48-bd00-b8dc27c61933\" class=\"plotly-graph-div\" style=\"height:600px; width:1000px;\"></div>            <script type=\"text/javascript\">                                    window.PLOTLYENV=window.PLOTLYENV || {};                                    if (document.getElementById(\"f87bc130-0999-4d48-bd00-b8dc27c61933\")) {                    Plotly.newPlot(                        \"f87bc130-0999-4d48-bd00-b8dc27c61933\",                        [{\"alignmentgroup\":\"True\",\"hovertemplate\":\"Arrest_Year=2020<br>Race=%{x}<br>Number of Arrests=%{y}<extra></extra>\",\"legendgroup\":\"\",\"marker\":{\"color\":\"#636efa\",\"pattern\":{\"shape\":\"\"}},\"name\":\"\",\"offsetgroup\":\"\",\"orientation\":\"v\",\"showlegend\":false,\"textposition\":\"outside\",\"texttemplate\":\"%{y:.3s}\",\"x\":[\"Black\",\"East/Southeast Asian\",\"Indigenous\",\"Latino\",\"Middle-Eastern\",\"South Asian\",\"White\"],\"xaxis\":\"x\",\"y\":[8648,2054,999,808,1507,1742,13606],\"yaxis\":\"y\",\"type\":\"bar\",\"textfont\":{\"size\":20},\"cliponaxis\":false,\"textangle\":0},{\"alignmentgroup\":\"True\",\"hovertemplate\":\"Arrest_Year=2021<br>Race=%{x}<br>Number of Arrests=%{y}<extra></extra>\",\"legendgroup\":\"\",\"marker\":{\"color\":\"#636efa\",\"pattern\":{\"shape\":\"\"}},\"name\":\"\",\"offsetgroup\":\"\",\"orientation\":\"v\",\"showlegend\":false,\"textposition\":\"outside\",\"texttemplate\":\"%{y:.3s}\",\"x\":[\"Black\",\"East/Southeast Asian\",\"Indigenous\",\"Latino\",\"Middle-Eastern\",\"South Asian\",\"White\"],\"xaxis\":\"x2\",\"y\":[8878,2361,935,959,1730,1871,14116],\"yaxis\":\"y2\",\"type\":\"bar\",\"textfont\":{\"size\":20},\"cliponaxis\":false,\"textangle\":0}],                        {\"template\":{\"data\":{\"histogram2dcontour\":[{\"type\":\"histogram2dcontour\",\"colorbar\":{\"outlinewidth\":0,\"ticks\":\"\"},\"colorscale\":[[0.0,\"#0d0887\"],[0.1111111111111111,\"#46039f\"],[0.2222222222222222,\"#7201a8\"],[0.3333333333333333,\"#9c179e\"],[0.4444444444444444,\"#bd3786\"],[0.5555555555555556,\"#d8576b\"],[0.6666666666666666,\"#ed7953\"],[0.7777777777777778,\"#fb9f3a\"],[0.8888888888888888,\"#fdca26\"],[1.0,\"#f0f921\"]]}],\"choropleth\":[{\"type\":\"choropleth\",\"colorbar\":{\"outlinewidth\":0,\"ticks\":\"\"}}],\"histogram2d\":[{\"type\":\"histogram2d\",\"colorbar\":{\"outlinewidth\":0,\"ticks\":\"\"},\"colorscale\":[[0.0,\"#0d0887\"],[0.1111111111111111,\"#46039f\"],[0.2222222222222222,\"#7201a8\"],[0.3333333333333333,\"#9c179e\"],[0.4444444444444444,\"#bd3786\"],[0.5555555555555556,\"#d8576b\"],[0.6666666666666666,\"#ed7953\"],[0.7777777777777778,\"#fb9f3a\"],[0.8888888888888888,\"#fdca26\"],[1.0,\"#f0f921\"]]}],\"heatmap\":[{\"type\":\"heatmap\",\"colorbar\":{\"outlinewidth\":0,\"ticks\":\"\"},\"colorscale\":[[0.0,\"#0d0887\"],[0.1111111111111111,\"#46039f\"],[0.2222222222222222,\"#7201a8\"],[0.3333333333333333,\"#9c179e\"],[0.4444444444444444,\"#bd3786\"],[0.5555555555555556,\"#d8576b\"],[0.6666666666666666,\"#ed7953\"],[0.7777777777777778,\"#fb9f3a\"],[0.8888888888888888,\"#fdca26\"],[1.0,\"#f0f921\"]]}],\"heatmapgl\":[{\"type\":\"heatmapgl\",\"colorbar\":{\"outlinewidth\":0,\"ticks\":\"\"},\"colorscale\":[[0.0,\"#0d0887\"],[0.1111111111111111,\"#46039f\"],[0.2222222222222222,\"#7201a8\"],[0.3333333333333333,\"#9c179e\"],[0.4444444444444444,\"#bd3786\"],[0.5555555555555556,\"#d8576b\"],[0.6666666666666666,\"#ed7953\"],[0.7777777777777778,\"#fb9f3a\"],[0.8888888888888888,\"#fdca26\"],[1.0,\"#f0f921\"]]}],\"contourcarpet\":[{\"type\":\"contourcarpet\",\"colorbar\":{\"outlinewidth\":0,\"ticks\":\"\"}}],\"contour\":[{\"type\":\"contour\",\"colorbar\":{\"outlinewidth\":0,\"ticks\":\"\"},\"colorscale\":[[0.0,\"#0d0887\"],[0.1111111111111111,\"#46039f\"],[0.2222222222222222,\"#7201a8\"],[0.3333333333333333,\"#9c179e\"],[0.4444444444444444,\"#bd3786\"],[0.5555555555555556,\"#d8576b\"],[0.6666666666666666,\"#ed7953\"],[0.7777777777777778,\"#fb9f3a\"],[0.8888888888888888,\"#fdca26\"],[1.0,\"#f0f921\"]]}],\"surface\":[{\"type\":\"surface\",\"colorbar\":{\"outlinewidth\":0,\"ticks\":\"\"},\"colorscale\":[[0.0,\"#0d0887\"],[0.1111111111111111,\"#46039f\"],[0.2222222222222222,\"#7201a8\"],[0.3333333333333333,\"#9c179e\"],[0.4444444444444444,\"#bd3786\"],[0.5555555555555556,\"#d8576b\"],[0.6666666666666666,\"#ed7953\"],[0.7777777777777778,\"#fb9f3a\"],[0.8888888888888888,\"#fdca26\"],[1.0,\"#f0f921\"]]}],\"mesh3d\":[{\"type\":\"mesh3d\",\"colorbar\":{\"outlinewidth\":0,\"ticks\":\"\"}}],\"scatter\":[{\"fillpattern\":{\"fillmode\":\"overlay\",\"size\":10,\"solidity\":0.2},\"type\":\"scatter\"}],\"parcoords\":[{\"type\":\"parcoords\",\"line\":{\"colorbar\":{\"outlinewidth\":0,\"ticks\":\"\"}}}],\"scatterpolargl\":[{\"type\":\"scatterpolargl\",\"marker\":{\"colorbar\":{\"outlinewidth\":0,\"ticks\":\"\"}}}],\"bar\":[{\"error_x\":{\"color\":\"#2a3f5f\"},\"error_y\":{\"color\":\"#2a3f5f\"},\"marker\":{\"line\":{\"color\":\"#E5ECF6\",\"width\":0.5},\"pattern\":{\"fillmode\":\"overlay\",\"size\":10,\"solidity\":0.2}},\"type\":\"bar\"}],\"scattergeo\":[{\"type\":\"scattergeo\",\"marker\":{\"colorbar\":{\"outlinewidth\":0,\"ticks\":\"\"}}}],\"scatterpolar\":[{\"type\":\"scatterpolar\",\"marker\":{\"colorbar\":{\"outlinewidth\":0,\"ticks\":\"\"}}}],\"histogram\":[{\"marker\":{\"pattern\":{\"fillmode\":\"overlay\",\"size\":10,\"solidity\":0.2}},\"type\":\"histogram\"}],\"scattergl\":[{\"type\":\"scattergl\",\"marker\":{\"colorbar\":{\"outlinewidth\":0,\"ticks\":\"\"}}}],\"scatter3d\":[{\"type\":\"scatter3d\",\"line\":{\"colorbar\":{\"outlinewidth\":0,\"ticks\":\"\"}},\"marker\":{\"colorbar\":{\"outlinewidth\":0,\"ticks\":\"\"}}}],\"scattermapbox\":[{\"type\":\"scattermapbox\",\"marker\":{\"colorbar\":{\"outlinewidth\":0,\"ticks\":\"\"}}}],\"scatterternary\":[{\"type\":\"scatterternary\",\"marker\":{\"colorbar\":{\"outlinewidth\":0,\"ticks\":\"\"}}}],\"scattercarpet\":[{\"type\":\"scattercarpet\",\"marker\":{\"colorbar\":{\"outlinewidth\":0,\"ticks\":\"\"}}}],\"carpet\":[{\"aaxis\":{\"endlinecolor\":\"#2a3f5f\",\"gridcolor\":\"white\",\"linecolor\":\"white\",\"minorgridcolor\":\"white\",\"startlinecolor\":\"#2a3f5f\"},\"baxis\":{\"endlinecolor\":\"#2a3f5f\",\"gridcolor\":\"white\",\"linecolor\":\"white\",\"minorgridcolor\":\"white\",\"startlinecolor\":\"#2a3f5f\"},\"type\":\"carpet\"}],\"table\":[{\"cells\":{\"fill\":{\"color\":\"#EBF0F8\"},\"line\":{\"color\":\"white\"}},\"header\":{\"fill\":{\"color\":\"#C8D4E3\"},\"line\":{\"color\":\"white\"}},\"type\":\"table\"}],\"barpolar\":[{\"marker\":{\"line\":{\"color\":\"#E5ECF6\",\"width\":0.5},\"pattern\":{\"fillmode\":\"overlay\",\"size\":10,\"solidity\":0.2}},\"type\":\"barpolar\"}],\"pie\":[{\"automargin\":true,\"type\":\"pie\"}]},\"layout\":{\"autotypenumbers\":\"strict\",\"colorway\":[\"#636efa\",\"#EF553B\",\"#00cc96\",\"#ab63fa\",\"#FFA15A\",\"#19d3f3\",\"#FF6692\",\"#B6E880\",\"#FF97FF\",\"#FECB52\"],\"font\":{\"color\":\"#2a3f5f\"},\"hovermode\":\"closest\",\"hoverlabel\":{\"align\":\"left\"},\"paper_bgcolor\":\"white\",\"plot_bgcolor\":\"#E5ECF6\",\"polar\":{\"bgcolor\":\"#E5ECF6\",\"angularaxis\":{\"gridcolor\":\"white\",\"linecolor\":\"white\",\"ticks\":\"\"},\"radialaxis\":{\"gridcolor\":\"white\",\"linecolor\":\"white\",\"ticks\":\"\"}},\"ternary\":{\"bgcolor\":\"#E5ECF6\",\"aaxis\":{\"gridcolor\":\"white\",\"linecolor\":\"white\",\"ticks\":\"\"},\"baxis\":{\"gridcolor\":\"white\",\"linecolor\":\"white\",\"ticks\":\"\"},\"caxis\":{\"gridcolor\":\"white\",\"linecolor\":\"white\",\"ticks\":\"\"}},\"coloraxis\":{\"colorbar\":{\"outlinewidth\":0,\"ticks\":\"\"}},\"colorscale\":{\"sequential\":[[0.0,\"#0d0887\"],[0.1111111111111111,\"#46039f\"],[0.2222222222222222,\"#7201a8\"],[0.3333333333333333,\"#9c179e\"],[0.4444444444444444,\"#bd3786\"],[0.5555555555555556,\"#d8576b\"],[0.6666666666666666,\"#ed7953\"],[0.7777777777777778,\"#fb9f3a\"],[0.8888888888888888,\"#fdca26\"],[1.0,\"#f0f921\"]],\"sequentialminus\":[[0.0,\"#0d0887\"],[0.1111111111111111,\"#46039f\"],[0.2222222222222222,\"#7201a8\"],[0.3333333333333333,\"#9c179e\"],[0.4444444444444444,\"#bd3786\"],[0.5555555555555556,\"#d8576b\"],[0.6666666666666666,\"#ed7953\"],[0.7777777777777778,\"#fb9f3a\"],[0.8888888888888888,\"#fdca26\"],[1.0,\"#f0f921\"]],\"diverging\":[[0,\"#8e0152\"],[0.1,\"#c51b7d\"],[0.2,\"#de77ae\"],[0.3,\"#f1b6da\"],[0.4,\"#fde0ef\"],[0.5,\"#f7f7f7\"],[0.6,\"#e6f5d0\"],[0.7,\"#b8e186\"],[0.8,\"#7fbc41\"],[0.9,\"#4d9221\"],[1,\"#276419\"]]},\"xaxis\":{\"gridcolor\":\"white\",\"linecolor\":\"white\",\"ticks\":\"\",\"title\":{\"standoff\":15},\"zerolinecolor\":\"white\",\"automargin\":true,\"zerolinewidth\":2},\"yaxis\":{\"gridcolor\":\"white\",\"linecolor\":\"white\",\"ticks\":\"\",\"title\":{\"standoff\":15},\"zerolinecolor\":\"white\",\"automargin\":true,\"zerolinewidth\":2},\"scene\":{\"xaxis\":{\"backgroundcolor\":\"#E5ECF6\",\"gridcolor\":\"white\",\"linecolor\":\"white\",\"showbackground\":true,\"ticks\":\"\",\"zerolinecolor\":\"white\",\"gridwidth\":2},\"yaxis\":{\"backgroundcolor\":\"#E5ECF6\",\"gridcolor\":\"white\",\"linecolor\":\"white\",\"showbackground\":true,\"ticks\":\"\",\"zerolinecolor\":\"white\",\"gridwidth\":2},\"zaxis\":{\"backgroundcolor\":\"#E5ECF6\",\"gridcolor\":\"white\",\"linecolor\":\"white\",\"showbackground\":true,\"ticks\":\"\",\"zerolinecolor\":\"white\",\"gridwidth\":2}},\"shapedefaults\":{\"line\":{\"color\":\"#2a3f5f\"}},\"annotationdefaults\":{\"arrowcolor\":\"#2a3f5f\",\"arrowhead\":0,\"arrowwidth\":1},\"geo\":{\"bgcolor\":\"white\",\"landcolor\":\"#E5ECF6\",\"subunitcolor\":\"white\",\"showland\":true,\"showlakes\":true,\"lakecolor\":\"white\"},\"title\":{\"x\":0.05},\"mapbox\":{\"style\":\"light\"}}},\"xaxis\":{\"anchor\":\"y\",\"domain\":[0.0,0.49],\"title\":{\"text\":\"Race\"}},\"yaxis\":{\"anchor\":\"x\",\"domain\":[0.0,1.0],\"title\":{\"text\":\"Number of Arrests\"}},\"xaxis2\":{\"anchor\":\"y2\",\"domain\":[0.51,1.0],\"matches\":\"x\",\"title\":{\"text\":\"Race\"}},\"yaxis2\":{\"anchor\":\"x2\",\"domain\":[0.0,1.0],\"matches\":\"y\",\"showticklabels\":false},\"annotations\":[{\"font\":{},\"showarrow\":false,\"text\":\"Arrest_Year=2020\",\"x\":0.245,\"xanchor\":\"center\",\"xref\":\"paper\",\"y\":1.0,\"yanchor\":\"bottom\",\"yref\":\"paper\"},{\"font\":{},\"showarrow\":false,\"text\":\"Arrest_Year=2021\",\"x\":0.755,\"xanchor\":\"center\",\"xref\":\"paper\",\"y\":1.0,\"yanchor\":\"bottom\",\"yref\":\"paper\"}],\"legend\":{\"tracegroupgap\":0},\"title\":{\"text\":\"Number of Arrests by Race & Year\"},\"barmode\":\"relative\",\"height\":600,\"width\":1000},                        {\"responsive\": true}                    ).then(function(){\n",
              "                            \n",
              "var gd = document.getElementById('f87bc130-0999-4d48-bd00-b8dc27c61933');\n",
              "var x = new MutationObserver(function (mutations, observer) {{\n",
              "        var display = window.getComputedStyle(gd).display;\n",
              "        if (!display || display === 'none') {{\n",
              "            console.log([gd, 'removed!']);\n",
              "            Plotly.purge(gd);\n",
              "            observer.disconnect();\n",
              "        }}\n",
              "}});\n",
              "\n",
              "// Listen for the removal of the full notebook cells\n",
              "var notebookContainer = gd.closest('#notebook-container');\n",
              "if (notebookContainer) {{\n",
              "    x.observe(notebookContainer, {childList: true});\n",
              "}}\n",
              "\n",
              "// Listen for the clearing of the current output cell\n",
              "var outputEl = gd.closest('.output');\n",
              "if (outputEl) {{\n",
              "    x.observe(outputEl, {childList: true});\n",
              "}}\n",
              "\n",
              "                        })                };                            </script>        </div>\n",
              "</body>\n",
              "</html>"
            ]
          },
          "metadata": {}
        }
      ]
    },
    {
      "cell_type": "code",
      "source": [
        "arrests_bar = px.bar(data_frame = number_arrests2\n",
        "                           ,x = \"Perceived_Race\", y = 'Number_arrests',\n",
        "                           labels={\n",
        "                           \"Perceived_Race\": \"Race\",\n",
        "                           'Number_arrests': \"Number of Arrests\",\n",
        "                             }\n",
        "\n",
        "                      , facet_col = \"Youth_at_arrest__under_18_years\"\n",
        "                      , text_auto='.3s'\n",
        "                      , title= \"Number of Arrests by Race & Youth\"\n",
        "                      , facet_col_wrap = 4\n",
        "                       ,height=600, width=1000\n",
        "                                     \n",
        "                      )\n",
        "\n",
        "arrests_bar.update_traces(textfont_size=12, textangle=0, textposition=\"outside\", cliponaxis=False)"
      ],
      "metadata": {
        "colab": {
          "base_uri": "https://localhost:8080/",
          "height": 617
        },
        "id": "IN7dpn6qqX88",
        "outputId": "169aa993-efe2-412c-be66-86aac1e1d430"
      },
      "execution_count": null,
      "outputs": [
        {
          "output_type": "display_data",
          "data": {
            "text/html": [
              "<html>\n",
              "<head><meta charset=\"utf-8\" /></head>\n",
              "<body>\n",
              "    <div>            <script src=\"https://cdnjs.cloudflare.com/ajax/libs/mathjax/2.7.5/MathJax.js?config=TeX-AMS-MML_SVG\"></script><script type=\"text/javascript\">if (window.MathJax && window.MathJax.Hub && window.MathJax.Hub.Config) {window.MathJax.Hub.Config({SVG: {font: \"STIX-Web\"}});}</script>                <script type=\"text/javascript\">window.PlotlyConfig = {MathJaxConfig: 'local'};</script>\n",
              "        <script src=\"https://cdn.plot.ly/plotly-2.18.2.min.js\"></script>                <div id=\"5d5e46b4-e824-43fe-a257-32413a60b4dc\" class=\"plotly-graph-div\" style=\"height:600px; width:1000px;\"></div>            <script type=\"text/javascript\">                                    window.PLOTLYENV=window.PLOTLYENV || {};                                    if (document.getElementById(\"5d5e46b4-e824-43fe-a257-32413a60b4dc\")) {                    Plotly.newPlot(                        \"5d5e46b4-e824-43fe-a257-32413a60b4dc\",                        [{\"alignmentgroup\":\"True\",\"hovertemplate\":\"Youth_at_arrest__under_18_years=Not a youth<br>Race=%{x}<br>Number of Arrests=%{y}<extra></extra>\",\"legendgroup\":\"\",\"marker\":{\"color\":\"#636efa\",\"pattern\":{\"shape\":\"\"}},\"name\":\"\",\"offsetgroup\":\"\",\"orientation\":\"v\",\"showlegend\":false,\"textposition\":\"outside\",\"texttemplate\":\"%{y:.3s}\",\"x\":[\"Black\",\"Black\",\"Black\",\"Black\",\"Black\",\"Black\",\"Black\",\"Black\",\"East/Southeast Asian\",\"East/Southeast Asian\",\"East/Southeast Asian\",\"East/Southeast Asian\",\"East/Southeast Asian\",\"East/Southeast Asian\",\"East/Southeast Asian\",\"East/Southeast Asian\",\"Indigenous\",\"Indigenous\",\"Indigenous\",\"Indigenous\",\"Indigenous\",\"Indigenous\",\"Indigenous\",\"Indigenous\",\"Latino\",\"Latino\",\"Latino\",\"Latino\",\"Latino\",\"Latino\",\"Latino\",\"Latino\",\"Middle-Eastern\",\"Middle-Eastern\",\"Middle-Eastern\",\"Middle-Eastern\",\"Middle-Eastern\",\"Middle-Eastern\",\"Middle-Eastern\",\"Middle-Eastern\",\"South Asian\",\"South Asian\",\"South Asian\",\"South Asian\",\"South Asian\",\"South Asian\",\"South Asian\",\"South Asian\",\"White\",\"White\",\"White\",\"White\",\"White\",\"White\",\"White\",\"White\"],\"xaxis\":\"x\",\"y\":[652,760,677,607,3152,3625,3566,3183,154,188,178,184,796,846,940,959,129,157,173,161,291,348,318,333,60,56,83,51,341,314,390,404,79,68,109,78,650,656,671,722,92,145,116,131,717,718,806,777,1335,1707,1451,1414,5021,5575,5368,4907],\"yaxis\":\"y\",\"type\":\"bar\",\"textfont\":{\"size\":12},\"cliponaxis\":false,\"textangle\":0},{\"alignmentgroup\":\"True\",\"hovertemplate\":\"Youth_at_arrest__under_18_years=Youth (aged 17 and younger)<br>Race=%{x}<br>Number of Arrests=%{y}<extra></extra>\",\"legendgroup\":\"\",\"marker\":{\"color\":\"#636efa\",\"pattern\":{\"shape\":\"\"}},\"name\":\"\",\"offsetgroup\":\"\",\"orientation\":\"v\",\"showlegend\":false,\"textposition\":\"outside\",\"texttemplate\":\"%{y:.3s}\",\"x\":[\"Black\",\"Black\",\"Black\",\"Black\",\"Black\",\"Black\",\"Black\",\"Black\",\"East/Southeast Asian\",\"East/Southeast Asian\",\"East/Southeast Asian\",\"East/Southeast Asian\",\"East/Southeast Asian\",\"East/Southeast Asian\",\"East/Southeast Asian\",\"East/Southeast Asian\",\"Indigenous\",\"Indigenous\",\"Indigenous\",\"Indigenous\",\"Indigenous\",\"Indigenous\",\"Latino\",\"Latino\",\"Latino\",\"Latino\",\"Latino\",\"Latino\",\"Latino\",\"Latino\",\"Middle-Eastern\",\"Middle-Eastern\",\"Middle-Eastern\",\"Middle-Eastern\",\"Middle-Eastern\",\"Middle-Eastern\",\"Middle-Eastern\",\"Middle-Eastern\",\"South Asian\",\"South Asian\",\"South Asian\",\"South Asian\",\"South Asian\",\"South Asian\",\"South Asian\",\"South Asian\",\"White\",\"White\",\"White\",\"White\",\"White\",\"White\",\"White\",\"White\"],\"xaxis\":\"x2\",\"y\":[61,118,69,68,190,314,236,248,8,16,11,6,25,37,32,35,7,2,2,5,4,4,1,3,6,4,11,11,16,16,7,16,2,5,35,54,44,41,3,10,8,4,25,28,18,15,42,106,56,57,139,212,144,188],\"yaxis\":\"y2\",\"type\":\"bar\",\"textfont\":{\"size\":12},\"cliponaxis\":false,\"textangle\":0}],                        {\"template\":{\"data\":{\"histogram2dcontour\":[{\"type\":\"histogram2dcontour\",\"colorbar\":{\"outlinewidth\":0,\"ticks\":\"\"},\"colorscale\":[[0.0,\"#0d0887\"],[0.1111111111111111,\"#46039f\"],[0.2222222222222222,\"#7201a8\"],[0.3333333333333333,\"#9c179e\"],[0.4444444444444444,\"#bd3786\"],[0.5555555555555556,\"#d8576b\"],[0.6666666666666666,\"#ed7953\"],[0.7777777777777778,\"#fb9f3a\"],[0.8888888888888888,\"#fdca26\"],[1.0,\"#f0f921\"]]}],\"choropleth\":[{\"type\":\"choropleth\",\"colorbar\":{\"outlinewidth\":0,\"ticks\":\"\"}}],\"histogram2d\":[{\"type\":\"histogram2d\",\"colorbar\":{\"outlinewidth\":0,\"ticks\":\"\"},\"colorscale\":[[0.0,\"#0d0887\"],[0.1111111111111111,\"#46039f\"],[0.2222222222222222,\"#7201a8\"],[0.3333333333333333,\"#9c179e\"],[0.4444444444444444,\"#bd3786\"],[0.5555555555555556,\"#d8576b\"],[0.6666666666666666,\"#ed7953\"],[0.7777777777777778,\"#fb9f3a\"],[0.8888888888888888,\"#fdca26\"],[1.0,\"#f0f921\"]]}],\"heatmap\":[{\"type\":\"heatmap\",\"colorbar\":{\"outlinewidth\":0,\"ticks\":\"\"},\"colorscale\":[[0.0,\"#0d0887\"],[0.1111111111111111,\"#46039f\"],[0.2222222222222222,\"#7201a8\"],[0.3333333333333333,\"#9c179e\"],[0.4444444444444444,\"#bd3786\"],[0.5555555555555556,\"#d8576b\"],[0.6666666666666666,\"#ed7953\"],[0.7777777777777778,\"#fb9f3a\"],[0.8888888888888888,\"#fdca26\"],[1.0,\"#f0f921\"]]}],\"heatmapgl\":[{\"type\":\"heatmapgl\",\"colorbar\":{\"outlinewidth\":0,\"ticks\":\"\"},\"colorscale\":[[0.0,\"#0d0887\"],[0.1111111111111111,\"#46039f\"],[0.2222222222222222,\"#7201a8\"],[0.3333333333333333,\"#9c179e\"],[0.4444444444444444,\"#bd3786\"],[0.5555555555555556,\"#d8576b\"],[0.6666666666666666,\"#ed7953\"],[0.7777777777777778,\"#fb9f3a\"],[0.8888888888888888,\"#fdca26\"],[1.0,\"#f0f921\"]]}],\"contourcarpet\":[{\"type\":\"contourcarpet\",\"colorbar\":{\"outlinewidth\":0,\"ticks\":\"\"}}],\"contour\":[{\"type\":\"contour\",\"colorbar\":{\"outlinewidth\":0,\"ticks\":\"\"},\"colorscale\":[[0.0,\"#0d0887\"],[0.1111111111111111,\"#46039f\"],[0.2222222222222222,\"#7201a8\"],[0.3333333333333333,\"#9c179e\"],[0.4444444444444444,\"#bd3786\"],[0.5555555555555556,\"#d8576b\"],[0.6666666666666666,\"#ed7953\"],[0.7777777777777778,\"#fb9f3a\"],[0.8888888888888888,\"#fdca26\"],[1.0,\"#f0f921\"]]}],\"surface\":[{\"type\":\"surface\",\"colorbar\":{\"outlinewidth\":0,\"ticks\":\"\"},\"colorscale\":[[0.0,\"#0d0887\"],[0.1111111111111111,\"#46039f\"],[0.2222222222222222,\"#7201a8\"],[0.3333333333333333,\"#9c179e\"],[0.4444444444444444,\"#bd3786\"],[0.5555555555555556,\"#d8576b\"],[0.6666666666666666,\"#ed7953\"],[0.7777777777777778,\"#fb9f3a\"],[0.8888888888888888,\"#fdca26\"],[1.0,\"#f0f921\"]]}],\"mesh3d\":[{\"type\":\"mesh3d\",\"colorbar\":{\"outlinewidth\":0,\"ticks\":\"\"}}],\"scatter\":[{\"fillpattern\":{\"fillmode\":\"overlay\",\"size\":10,\"solidity\":0.2},\"type\":\"scatter\"}],\"parcoords\":[{\"type\":\"parcoords\",\"line\":{\"colorbar\":{\"outlinewidth\":0,\"ticks\":\"\"}}}],\"scatterpolargl\":[{\"type\":\"scatterpolargl\",\"marker\":{\"colorbar\":{\"outlinewidth\":0,\"ticks\":\"\"}}}],\"bar\":[{\"error_x\":{\"color\":\"#2a3f5f\"},\"error_y\":{\"color\":\"#2a3f5f\"},\"marker\":{\"line\":{\"color\":\"#E5ECF6\",\"width\":0.5},\"pattern\":{\"fillmode\":\"overlay\",\"size\":10,\"solidity\":0.2}},\"type\":\"bar\"}],\"scattergeo\":[{\"type\":\"scattergeo\",\"marker\":{\"colorbar\":{\"outlinewidth\":0,\"ticks\":\"\"}}}],\"scatterpolar\":[{\"type\":\"scatterpolar\",\"marker\":{\"colorbar\":{\"outlinewidth\":0,\"ticks\":\"\"}}}],\"histogram\":[{\"marker\":{\"pattern\":{\"fillmode\":\"overlay\",\"size\":10,\"solidity\":0.2}},\"type\":\"histogram\"}],\"scattergl\":[{\"type\":\"scattergl\",\"marker\":{\"colorbar\":{\"outlinewidth\":0,\"ticks\":\"\"}}}],\"scatter3d\":[{\"type\":\"scatter3d\",\"line\":{\"colorbar\":{\"outlinewidth\":0,\"ticks\":\"\"}},\"marker\":{\"colorbar\":{\"outlinewidth\":0,\"ticks\":\"\"}}}],\"scattermapbox\":[{\"type\":\"scattermapbox\",\"marker\":{\"colorbar\":{\"outlinewidth\":0,\"ticks\":\"\"}}}],\"scatterternary\":[{\"type\":\"scatterternary\",\"marker\":{\"colorbar\":{\"outlinewidth\":0,\"ticks\":\"\"}}}],\"scattercarpet\":[{\"type\":\"scattercarpet\",\"marker\":{\"colorbar\":{\"outlinewidth\":0,\"ticks\":\"\"}}}],\"carpet\":[{\"aaxis\":{\"endlinecolor\":\"#2a3f5f\",\"gridcolor\":\"white\",\"linecolor\":\"white\",\"minorgridcolor\":\"white\",\"startlinecolor\":\"#2a3f5f\"},\"baxis\":{\"endlinecolor\":\"#2a3f5f\",\"gridcolor\":\"white\",\"linecolor\":\"white\",\"minorgridcolor\":\"white\",\"startlinecolor\":\"#2a3f5f\"},\"type\":\"carpet\"}],\"table\":[{\"cells\":{\"fill\":{\"color\":\"#EBF0F8\"},\"line\":{\"color\":\"white\"}},\"header\":{\"fill\":{\"color\":\"#C8D4E3\"},\"line\":{\"color\":\"white\"}},\"type\":\"table\"}],\"barpolar\":[{\"marker\":{\"line\":{\"color\":\"#E5ECF6\",\"width\":0.5},\"pattern\":{\"fillmode\":\"overlay\",\"size\":10,\"solidity\":0.2}},\"type\":\"barpolar\"}],\"pie\":[{\"automargin\":true,\"type\":\"pie\"}]},\"layout\":{\"autotypenumbers\":\"strict\",\"colorway\":[\"#636efa\",\"#EF553B\",\"#00cc96\",\"#ab63fa\",\"#FFA15A\",\"#19d3f3\",\"#FF6692\",\"#B6E880\",\"#FF97FF\",\"#FECB52\"],\"font\":{\"color\":\"#2a3f5f\"},\"hovermode\":\"closest\",\"hoverlabel\":{\"align\":\"left\"},\"paper_bgcolor\":\"white\",\"plot_bgcolor\":\"#E5ECF6\",\"polar\":{\"bgcolor\":\"#E5ECF6\",\"angularaxis\":{\"gridcolor\":\"white\",\"linecolor\":\"white\",\"ticks\":\"\"},\"radialaxis\":{\"gridcolor\":\"white\",\"linecolor\":\"white\",\"ticks\":\"\"}},\"ternary\":{\"bgcolor\":\"#E5ECF6\",\"aaxis\":{\"gridcolor\":\"white\",\"linecolor\":\"white\",\"ticks\":\"\"},\"baxis\":{\"gridcolor\":\"white\",\"linecolor\":\"white\",\"ticks\":\"\"},\"caxis\":{\"gridcolor\":\"white\",\"linecolor\":\"white\",\"ticks\":\"\"}},\"coloraxis\":{\"colorbar\":{\"outlinewidth\":0,\"ticks\":\"\"}},\"colorscale\":{\"sequential\":[[0.0,\"#0d0887\"],[0.1111111111111111,\"#46039f\"],[0.2222222222222222,\"#7201a8\"],[0.3333333333333333,\"#9c179e\"],[0.4444444444444444,\"#bd3786\"],[0.5555555555555556,\"#d8576b\"],[0.6666666666666666,\"#ed7953\"],[0.7777777777777778,\"#fb9f3a\"],[0.8888888888888888,\"#fdca26\"],[1.0,\"#f0f921\"]],\"sequentialminus\":[[0.0,\"#0d0887\"],[0.1111111111111111,\"#46039f\"],[0.2222222222222222,\"#7201a8\"],[0.3333333333333333,\"#9c179e\"],[0.4444444444444444,\"#bd3786\"],[0.5555555555555556,\"#d8576b\"],[0.6666666666666666,\"#ed7953\"],[0.7777777777777778,\"#fb9f3a\"],[0.8888888888888888,\"#fdca26\"],[1.0,\"#f0f921\"]],\"diverging\":[[0,\"#8e0152\"],[0.1,\"#c51b7d\"],[0.2,\"#de77ae\"],[0.3,\"#f1b6da\"],[0.4,\"#fde0ef\"],[0.5,\"#f7f7f7\"],[0.6,\"#e6f5d0\"],[0.7,\"#b8e186\"],[0.8,\"#7fbc41\"],[0.9,\"#4d9221\"],[1,\"#276419\"]]},\"xaxis\":{\"gridcolor\":\"white\",\"linecolor\":\"white\",\"ticks\":\"\",\"title\":{\"standoff\":15},\"zerolinecolor\":\"white\",\"automargin\":true,\"zerolinewidth\":2},\"yaxis\":{\"gridcolor\":\"white\",\"linecolor\":\"white\",\"ticks\":\"\",\"title\":{\"standoff\":15},\"zerolinecolor\":\"white\",\"automargin\":true,\"zerolinewidth\":2},\"scene\":{\"xaxis\":{\"backgroundcolor\":\"#E5ECF6\",\"gridcolor\":\"white\",\"linecolor\":\"white\",\"showbackground\":true,\"ticks\":\"\",\"zerolinecolor\":\"white\",\"gridwidth\":2},\"yaxis\":{\"backgroundcolor\":\"#E5ECF6\",\"gridcolor\":\"white\",\"linecolor\":\"white\",\"showbackground\":true,\"ticks\":\"\",\"zerolinecolor\":\"white\",\"gridwidth\":2},\"zaxis\":{\"backgroundcolor\":\"#E5ECF6\",\"gridcolor\":\"white\",\"linecolor\":\"white\",\"showbackground\":true,\"ticks\":\"\",\"zerolinecolor\":\"white\",\"gridwidth\":2}},\"shapedefaults\":{\"line\":{\"color\":\"#2a3f5f\"}},\"annotationdefaults\":{\"arrowcolor\":\"#2a3f5f\",\"arrowhead\":0,\"arrowwidth\":1},\"geo\":{\"bgcolor\":\"white\",\"landcolor\":\"#E5ECF6\",\"subunitcolor\":\"white\",\"showland\":true,\"showlakes\":true,\"lakecolor\":\"white\"},\"title\":{\"x\":0.05},\"mapbox\":{\"style\":\"light\"}}},\"xaxis\":{\"anchor\":\"y\",\"domain\":[0.0,0.49],\"title\":{\"text\":\"Race\"}},\"yaxis\":{\"anchor\":\"x\",\"domain\":[0.0,1.0],\"title\":{\"text\":\"Number of Arrests\"}},\"xaxis2\":{\"anchor\":\"y2\",\"domain\":[0.51,1.0],\"matches\":\"x\",\"title\":{\"text\":\"Race\"}},\"yaxis2\":{\"anchor\":\"x2\",\"domain\":[0.0,1.0],\"matches\":\"y\",\"showticklabels\":false},\"annotations\":[{\"font\":{},\"showarrow\":false,\"text\":\"Youth_at_arrest__under_18_years=Not a youth\",\"x\":0.245,\"xanchor\":\"center\",\"xref\":\"paper\",\"y\":1.0,\"yanchor\":\"bottom\",\"yref\":\"paper\"},{\"font\":{},\"showarrow\":false,\"text\":\"Youth_at_arrest__under_18_years=Youth (aged 17 and younger)\",\"x\":0.755,\"xanchor\":\"center\",\"xref\":\"paper\",\"y\":1.0,\"yanchor\":\"bottom\",\"yref\":\"paper\"}],\"legend\":{\"tracegroupgap\":0},\"title\":{\"text\":\"Number of Arrests by Race & Youth\"},\"barmode\":\"relative\",\"height\":600,\"width\":1000},                        {\"responsive\": true}                    ).then(function(){\n",
              "                            \n",
              "var gd = document.getElementById('5d5e46b4-e824-43fe-a257-32413a60b4dc');\n",
              "var x = new MutationObserver(function (mutations, observer) {{\n",
              "        var display = window.getComputedStyle(gd).display;\n",
              "        if (!display || display === 'none') {{\n",
              "            console.log([gd, 'removed!']);\n",
              "            Plotly.purge(gd);\n",
              "            observer.disconnect();\n",
              "        }}\n",
              "}});\n",
              "\n",
              "// Listen for the removal of the full notebook cells\n",
              "var notebookContainer = gd.closest('#notebook-container');\n",
              "if (notebookContainer) {{\n",
              "    x.observe(notebookContainer, {childList: true});\n",
              "}}\n",
              "\n",
              "// Listen for the clearing of the current output cell\n",
              "var outputEl = gd.closest('.output');\n",
              "if (outputEl) {{\n",
              "    x.observe(outputEl, {childList: true});\n",
              "}}\n",
              "\n",
              "                        })                };                            </script>        </div>\n",
              "</body>\n",
              "</html>"
            ]
          },
          "metadata": {}
        }
      ]
    },
    {
      "cell_type": "code",
      "source": [
        "from sklearn.preprocessing import LabelEncoder\n",
        "\n",
        "# Convert categorical variables to numerical using LabelEncoder\n",
        "le = LabelEncoder()\n",
        "number_arrests['Arrest_Month'] = le.fit_transform(number_arrests['Arrest_Month'])\n",
        "number_arrests['Perceived_Race'] = le.fit_transform(number_arrests['Perceived_Race'])\n",
        "number_arrests['Sex'] = le.fit_transform(number_arrests['Sex'])\n",
        "number_arrests['Age_group__at_arrest_'] = le.fit_transform(number_arrests['Age_group__at_arrest_'])\n",
        "\n",
        "# Calculate the correlation matrix\n",
        "corr_matrix = number_arrests.corr()\n",
        "\n",
        "# Plot the correlation matrix as a heatmap\n",
        "sns.heatmap(corr_matrix, annot=True, cmap='coolwarm')\n",
        "plt.title('Correlation Matrix of Independent and Dependant Variable')\n",
        "plt.show()"
      ],
      "metadata": {
        "colab": {
          "base_uri": "https://localhost:8080/",
          "height": 681
        },
        "id": "LU4DsueghVwn",
        "outputId": "ea22cf55-b455-47c0-b4ae-f55c607792fa"
      },
      "execution_count": null,
      "outputs": [
        {
          "output_type": "display_data",
          "data": {
            "text/plain": [
              "<Figure size 640x480 with 2 Axes>"
            ],
            "image/png": "[encoded data removed]"
          },
          "metadata": {}
        }
      ]
    },
    {
      "cell_type": "code",
      "source": [
        "arrests_bar = px.bar(data_frame = number_arrests5\n",
        "                           ,x = \"Perceived_Race\", y = 'Number_arrests',\n",
        "                           labels={\n",
        "                           \"Perceived_Race\": \"Race\",\n",
        "                           'Number_arrests': \"Number of Arrests\",\n",
        "                             }\n",
        "\n",
        "                      , facet_col = \"Arrest_Year\"\n",
        "                      , text_auto='.4s'\n",
        "                      , title= \"\"\n",
        "                      , facet_col_wrap = 4\n",
        "                       ,height=600, width=1000\n",
        "                                     \n",
        "                      )\n",
        "\n",
        "arrests_bar.update_traces(textfont_size=24, textangle=0, textposition=\"inside\", cliponaxis=False)"
      ],
      "metadata": {
        "id": "Ddh9fOsUOGCd",
        "colab": {
          "base_uri": "https://localhost:8080/",
          "height": 617
        },
        "outputId": "2ba1750d-b16d-4c37-f21d-089663530988"
      },
      "execution_count": null,
      "outputs": [
        {
          "output_type": "display_data",
          "data": {
            "text/html": [
              "<html>\n",
              "<head><meta charset=\"utf-8\" /></head>\n",
              "<body>\n",
              "    <div>            <script src=\"https://cdnjs.cloudflare.com/ajax/libs/mathjax/2.7.5/MathJax.js?config=TeX-AMS-MML_SVG\"></script><script type=\"text/javascript\">if (window.MathJax && window.MathJax.Hub && window.MathJax.Hub.Config) {window.MathJax.Hub.Config({SVG: {font: \"STIX-Web\"}});}</script>                <script type=\"text/javascript\">window.PlotlyConfig = {MathJaxConfig: 'local'};</script>\n",
              "        <script src=\"https://cdn.plot.ly/plotly-2.18.2.min.js\"></script>                <div id=\"5fcfd21f-0347-45b7-8490-5b38bf25cec7\" class=\"plotly-graph-div\" style=\"height:600px; width:1000px;\"></div>            <script type=\"text/javascript\">                                    window.PLOTLYENV=window.PLOTLYENV || {};                                    if (document.getElementById(\"5fcfd21f-0347-45b7-8490-5b38bf25cec7\")) {                    Plotly.newPlot(                        \"5fcfd21f-0347-45b7-8490-5b38bf25cec7\",                        [{\"alignmentgroup\":\"True\",\"hovertemplate\":\"Arrest_Year=2020<br>Race=%{x}<br>Number of Arrests=%{y}<extra></extra>\",\"legendgroup\":\"\",\"marker\":{\"color\":\"#636efa\",\"pattern\":{\"shape\":\"\"}},\"name\":\"\",\"offsetgroup\":\"\",\"orientation\":\"v\",\"showlegend\":false,\"textposition\":\"inside\",\"texttemplate\":\"%{y:.4s}\",\"x\":[\"Black\",\"East/Southeast Asian\",\"Indigenous\",\"Latino\",\"Middle-Eastern\",\"South Asian\",\"White\"],\"xaxis\":\"x\",\"y\":[8648,2054,999,808,1507,1742,13606],\"yaxis\":\"y\",\"type\":\"bar\",\"textfont\":{\"size\":24},\"cliponaxis\":false,\"textangle\":0},{\"alignmentgroup\":\"True\",\"hovertemplate\":\"Arrest_Year=2021<br>Race=%{x}<br>Number of Arrests=%{y}<extra></extra>\",\"legendgroup\":\"\",\"marker\":{\"color\":\"#636efa\",\"pattern\":{\"shape\":\"\"}},\"name\":\"\",\"offsetgroup\":\"\",\"orientation\":\"v\",\"showlegend\":false,\"textposition\":\"inside\",\"texttemplate\":\"%{y:.4s}\",\"x\":[\"Black\",\"East/Southeast Asian\",\"Indigenous\",\"Latino\",\"Middle-Eastern\",\"South Asian\",\"White\"],\"xaxis\":\"x2\",\"y\":[8878,2361,935,959,1730,1871,14116],\"yaxis\":\"y2\",\"type\":\"bar\",\"textfont\":{\"size\":24},\"cliponaxis\":false,\"textangle\":0}],                        {\"template\":{\"data\":{\"histogram2dcontour\":[{\"type\":\"histogram2dcontour\",\"colorbar\":{\"outlinewidth\":0,\"ticks\":\"\"},\"colorscale\":[[0.0,\"#0d0887\"],[0.1111111111111111,\"#46039f\"],[0.2222222222222222,\"#7201a8\"],[0.3333333333333333,\"#9c179e\"],[0.4444444444444444,\"#bd3786\"],[0.5555555555555556,\"#d8576b\"],[0.6666666666666666,\"#ed7953\"],[0.7777777777777778,\"#fb9f3a\"],[0.8888888888888888,\"#fdca26\"],[1.0,\"#f0f921\"]]}],\"choropleth\":[{\"type\":\"choropleth\",\"colorbar\":{\"outlinewidth\":0,\"ticks\":\"\"}}],\"histogram2d\":[{\"type\":\"histogram2d\",\"colorbar\":{\"outlinewidth\":0,\"ticks\":\"\"},\"colorscale\":[[0.0,\"#0d0887\"],[0.1111111111111111,\"#46039f\"],[0.2222222222222222,\"#7201a8\"],[0.3333333333333333,\"#9c179e\"],[0.4444444444444444,\"#bd3786\"],[0.5555555555555556,\"#d8576b\"],[0.6666666666666666,\"#ed7953\"],[0.7777777777777778,\"#fb9f3a\"],[0.8888888888888888,\"#fdca26\"],[1.0,\"#f0f921\"]]}],\"heatmap\":[{\"type\":\"heatmap\",\"colorbar\":{\"outlinewidth\":0,\"ticks\":\"\"},\"colorscale\":[[0.0,\"#0d0887\"],[0.1111111111111111,\"#46039f\"],[0.2222222222222222,\"#7201a8\"],[0.3333333333333333,\"#9c179e\"],[0.4444444444444444,\"#bd3786\"],[0.5555555555555556,\"#d8576b\"],[0.6666666666666666,\"#ed7953\"],[0.7777777777777778,\"#fb9f3a\"],[0.8888888888888888,\"#fdca26\"],[1.0,\"#f0f921\"]]}],\"heatmapgl\":[{\"type\":\"heatmapgl\",\"colorbar\":{\"outlinewidth\":0,\"ticks\":\"\"},\"colorscale\":[[0.0,\"#0d0887\"],[0.1111111111111111,\"#46039f\"],[0.2222222222222222,\"#7201a8\"],[0.3333333333333333,\"#9c179e\"],[0.4444444444444444,\"#bd3786\"],[0.5555555555555556,\"#d8576b\"],[0.6666666666666666,\"#ed7953\"],[0.7777777777777778,\"#fb9f3a\"],[0.8888888888888888,\"#fdca26\"],[1.0,\"#f0f921\"]]}],\"contourcarpet\":[{\"type\":\"contourcarpet\",\"colorbar\":{\"outlinewidth\":0,\"ticks\":\"\"}}],\"contour\":[{\"type\":\"contour\",\"colorbar\":{\"outlinewidth\":0,\"ticks\":\"\"},\"colorscale\":[[0.0,\"#0d0887\"],[0.1111111111111111,\"#46039f\"],[0.2222222222222222,\"#7201a8\"],[0.3333333333333333,\"#9c179e\"],[0.4444444444444444,\"#bd3786\"],[0.5555555555555556,\"#d8576b\"],[0.6666666666666666,\"#ed7953\"],[0.7777777777777778,\"#fb9f3a\"],[0.8888888888888888,\"#fdca26\"],[1.0,\"#f0f921\"]]}],\"surface\":[{\"type\":\"surface\",\"colorbar\":{\"outlinewidth\":0,\"ticks\":\"\"},\"colorscale\":[[0.0,\"#0d0887\"],[0.1111111111111111,\"#46039f\"],[0.2222222222222222,\"#7201a8\"],[0.3333333333333333,\"#9c179e\"],[0.4444444444444444,\"#bd3786\"],[0.5555555555555556,\"#d8576b\"],[0.6666666666666666,\"#ed7953\"],[0.7777777777777778,\"#fb9f3a\"],[0.8888888888888888,\"#fdca26\"],[1.0,\"#f0f921\"]]}],\"mesh3d\":[{\"type\":\"mesh3d\",\"colorbar\":{\"outlinewidth\":0,\"ticks\":\"\"}}],\"scatter\":[{\"fillpattern\":{\"fillmode\":\"overlay\",\"size\":10,\"solidity\":0.2},\"type\":\"scatter\"}],\"parcoords\":[{\"type\":\"parcoords\",\"line\":{\"colorbar\":{\"outlinewidth\":0,\"ticks\":\"\"}}}],\"scatterpolargl\":[{\"type\":\"scatterpolargl\",\"marker\":{\"colorbar\":{\"outlinewidth\":0,\"ticks\":\"\"}}}],\"bar\":[{\"error_x\":{\"color\":\"#2a3f5f\"},\"error_y\":{\"color\":\"#2a3f5f\"},\"marker\":{\"line\":{\"color\":\"#E5ECF6\",\"width\":0.5},\"pattern\":{\"fillmode\":\"overlay\",\"size\":10,\"solidity\":0.2}},\"type\":\"bar\"}],\"scattergeo\":[{\"type\":\"scattergeo\",\"marker\":{\"colorbar\":{\"outlinewidth\":0,\"ticks\":\"\"}}}],\"scatterpolar\":[{\"type\":\"scatterpolar\",\"marker\":{\"colorbar\":{\"outlinewidth\":0,\"ticks\":\"\"}}}],\"histogram\":[{\"marker\":{\"pattern\":{\"fillmode\":\"overlay\",\"size\":10,\"solidity\":0.2}},\"type\":\"histogram\"}],\"scattergl\":[{\"type\":\"scattergl\",\"marker\":{\"colorbar\":{\"outlinewidth\":0,\"ticks\":\"\"}}}],\"scatter3d\":[{\"type\":\"scatter3d\",\"line\":{\"colorbar\":{\"outlinewidth\":0,\"ticks\":\"\"}},\"marker\":{\"colorbar\":{\"outlinewidth\":0,\"ticks\":\"\"}}}],\"scattermapbox\":[{\"type\":\"scattermapbox\",\"marker\":{\"colorbar\":{\"outlinewidth\":0,\"ticks\":\"\"}}}],\"scatterternary\":[{\"type\":\"scatterternary\",\"marker\":{\"colorbar\":{\"outlinewidth\":0,\"ticks\":\"\"}}}],\"scattercarpet\":[{\"type\":\"scattercarpet\",\"marker\":{\"colorbar\":{\"outlinewidth\":0,\"ticks\":\"\"}}}],\"carpet\":[{\"aaxis\":{\"endlinecolor\":\"#2a3f5f\",\"gridcolor\":\"white\",\"linecolor\":\"white\",\"minorgridcolor\":\"white\",\"startlinecolor\":\"#2a3f5f\"},\"baxis\":{\"endlinecolor\":\"#2a3f5f\",\"gridcolor\":\"white\",\"linecolor\":\"white\",\"minorgridcolor\":\"white\",\"startlinecolor\":\"#2a3f5f\"},\"type\":\"carpet\"}],\"table\":[{\"cells\":{\"fill\":{\"color\":\"#EBF0F8\"},\"line\":{\"color\":\"white\"}},\"header\":{\"fill\":{\"color\":\"#C8D4E3\"},\"line\":{\"color\":\"white\"}},\"type\":\"table\"}],\"barpolar\":[{\"marker\":{\"line\":{\"color\":\"#E5ECF6\",\"width\":0.5},\"pattern\":{\"fillmode\":\"overlay\",\"size\":10,\"solidity\":0.2}},\"type\":\"barpolar\"}],\"pie\":[{\"automargin\":true,\"type\":\"pie\"}]},\"layout\":{\"autotypenumbers\":\"strict\",\"colorway\":[\"#636efa\",\"#EF553B\",\"#00cc96\",\"#ab63fa\",\"#FFA15A\",\"#19d3f3\",\"#FF6692\",\"#B6E880\",\"#FF97FF\",\"#FECB52\"],\"font\":{\"color\":\"#2a3f5f\"},\"hovermode\":\"closest\",\"hoverlabel\":{\"align\":\"left\"},\"paper_bgcolor\":\"white\",\"plot_bgcolor\":\"#E5ECF6\",\"polar\":{\"bgcolor\":\"#E5ECF6\",\"angularaxis\":{\"gridcolor\":\"white\",\"linecolor\":\"white\",\"ticks\":\"\"},\"radialaxis\":{\"gridcolor\":\"white\",\"linecolor\":\"white\",\"ticks\":\"\"}},\"ternary\":{\"bgcolor\":\"#E5ECF6\",\"aaxis\":{\"gridcolor\":\"white\",\"linecolor\":\"white\",\"ticks\":\"\"},\"baxis\":{\"gridcolor\":\"white\",\"linecolor\":\"white\",\"ticks\":\"\"},\"caxis\":{\"gridcolor\":\"white\",\"linecolor\":\"white\",\"ticks\":\"\"}},\"coloraxis\":{\"colorbar\":{\"outlinewidth\":0,\"ticks\":\"\"}},\"colorscale\":{\"sequential\":[[0.0,\"#0d0887\"],[0.1111111111111111,\"#46039f\"],[0.2222222222222222,\"#7201a8\"],[0.3333333333333333,\"#9c179e\"],[0.4444444444444444,\"#bd3786\"],[0.5555555555555556,\"#d8576b\"],[0.6666666666666666,\"#ed7953\"],[0.7777777777777778,\"#fb9f3a\"],[0.8888888888888888,\"#fdca26\"],[1.0,\"#f0f921\"]],\"sequentialminus\":[[0.0,\"#0d0887\"],[0.1111111111111111,\"#46039f\"],[0.2222222222222222,\"#7201a8\"],[0.3333333333333333,\"#9c179e\"],[0.4444444444444444,\"#bd3786\"],[0.5555555555555556,\"#d8576b\"],[0.6666666666666666,\"#ed7953\"],[0.7777777777777778,\"#fb9f3a\"],[0.8888888888888888,\"#fdca26\"],[1.0,\"#f0f921\"]],\"diverging\":[[0,\"#8e0152\"],[0.1,\"#c51b7d\"],[0.2,\"#de77ae\"],[0.3,\"#f1b6da\"],[0.4,\"#fde0ef\"],[0.5,\"#f7f7f7\"],[0.6,\"#e6f5d0\"],[0.7,\"#b8e186\"],[0.8,\"#7fbc41\"],[0.9,\"#4d9221\"],[1,\"#276419\"]]},\"xaxis\":{\"gridcolor\":\"white\",\"linecolor\":\"white\",\"ticks\":\"\",\"title\":{\"standoff\":15},\"zerolinecolor\":\"white\",\"automargin\":true,\"zerolinewidth\":2},\"yaxis\":{\"gridcolor\":\"white\",\"linecolor\":\"white\",\"ticks\":\"\",\"title\":{\"standoff\":15},\"zerolinecolor\":\"white\",\"automargin\":true,\"zerolinewidth\":2},\"scene\":{\"xaxis\":{\"backgroundcolor\":\"#E5ECF6\",\"gridcolor\":\"white\",\"linecolor\":\"white\",\"showbackground\":true,\"ticks\":\"\",\"zerolinecolor\":\"white\",\"gridwidth\":2},\"yaxis\":{\"backgroundcolor\":\"#E5ECF6\",\"gridcolor\":\"white\",\"linecolor\":\"white\",\"showbackground\":true,\"ticks\":\"\",\"zerolinecolor\":\"white\",\"gridwidth\":2},\"zaxis\":{\"backgroundcolor\":\"#E5ECF6\",\"gridcolor\":\"white\",\"linecolor\":\"white\",\"showbackground\":true,\"ticks\":\"\",\"zerolinecolor\":\"white\",\"gridwidth\":2}},\"shapedefaults\":{\"line\":{\"color\":\"#2a3f5f\"}},\"annotationdefaults\":{\"arrowcolor\":\"#2a3f5f\",\"arrowhead\":0,\"arrowwidth\":1},\"geo\":{\"bgcolor\":\"white\",\"landcolor\":\"#E5ECF6\",\"subunitcolor\":\"white\",\"showland\":true,\"showlakes\":true,\"lakecolor\":\"white\"},\"title\":{\"x\":0.05},\"mapbox\":{\"style\":\"light\"}}},\"xaxis\":{\"anchor\":\"y\",\"domain\":[0.0,0.49],\"title\":{\"text\":\"Race\"}},\"yaxis\":{\"anchor\":\"x\",\"domain\":[0.0,1.0],\"title\":{\"text\":\"Number of Arrests\"}},\"xaxis2\":{\"anchor\":\"y2\",\"domain\":[0.51,1.0],\"matches\":\"x\",\"title\":{\"text\":\"Race\"}},\"yaxis2\":{\"anchor\":\"x2\",\"domain\":[0.0,1.0],\"matches\":\"y\",\"showticklabels\":false},\"annotations\":[{\"font\":{},\"showarrow\":false,\"text\":\"Arrest_Year=2020\",\"x\":0.245,\"xanchor\":\"center\",\"xref\":\"paper\",\"y\":1.0,\"yanchor\":\"bottom\",\"yref\":\"paper\"},{\"font\":{},\"showarrow\":false,\"text\":\"Arrest_Year=2021\",\"x\":0.755,\"xanchor\":\"center\",\"xref\":\"paper\",\"y\":1.0,\"yanchor\":\"bottom\",\"yref\":\"paper\"}],\"legend\":{\"tracegroupgap\":0},\"margin\":{\"t\":60},\"barmode\":\"relative\",\"height\":600,\"width\":1000},                        {\"responsive\": true}                    ).then(function(){\n",
              "                            \n",
              "var gd = document.getElementById('5fcfd21f-0347-45b7-8490-5b38bf25cec7');\n",
              "var x = new MutationObserver(function (mutations, observer) {{\n",
              "        var display = window.getComputedStyle(gd).display;\n",
              "        if (!display || display === 'none') {{\n",
              "            console.log([gd, 'removed!']);\n",
              "            Plotly.purge(gd);\n",
              "            observer.disconnect();\n",
              "        }}\n",
              "}});\n",
              "\n",
              "// Listen for the removal of the full notebook cells\n",
              "var notebookContainer = gd.closest('#notebook-container');\n",
              "if (notebookContainer) {{\n",
              "    x.observe(notebookContainer, {childList: true});\n",
              "}}\n",
              "\n",
              "// Listen for the clearing of the current output cell\n",
              "var outputEl = gd.closest('.output');\n",
              "if (outputEl) {{\n",
              "    x.observe(outputEl, {childList: true});\n",
              "}}\n",
              "\n",
              "                        })                };                            </script>        </div>\n",
              "</body>\n",
              "</html>"
            ]
          },
          "metadata": {}
        }
      ]
    },
    {
      "cell_type": "markdown",
      "source": [
        "## Negative Behaviour "
      ],
      "metadata": {
        "id": "cr0ewi_qh-OQ"
      }
    },
    {
      "cell_type": "code",
      "source": [
        "negative_arrest_behavior_sex_race_bar = px.bar(neg_behavior_sex_race , x=\"Perceived_Race\", color=\"Sex\",\n",
        "             y='Negative_Behaviour_at_Arrest',\n",
        "             labels={\n",
        "                    \"Perceived_Race\": \"Race\",\n",
        "                    'Negative_Behaviour_at_Arrest': \"Negative Behavior at Arrests\",},\n",
        "             color_discrete_map={'M': '#537FE7', 'F': '#FFB84C' },\n",
        "             title=\"Negative behavior at Arrests by Sex & Race\",\n",
        "             barmode='group',\n",
        "             height=600, width= 1200 , text_auto='.3s')\n",
        "\n",
        "negative_arrest_behavior_sex_race_bar.update_traces(textfont_size=17, textangle=0, textposition=\"outside\", cliponaxis=False, marker_line_width=0)\n",
        "negative_arrest_behavior_sex_race_bar.show()"
      ],
      "metadata": {
        "colab": {
          "base_uri": "https://localhost:8080/",
          "height": 637
        },
        "id": "omVke9Eq-3Nl",
        "outputId": "749056d8-6a71-4d18-d3a8-113c0f1763bf"
      },
      "execution_count": null,
      "outputs": [
        {
          "output_type": "display_data",
          "data": {
            "text/html": [
              "<html>\n",
              "<head><meta charset=\"utf-8\" /></head>\n",
              "<body>\n",
              "    <div>            <script src=\"https://cdnjs.cloudflare.com/ajax/libs/mathjax/2.7.5/MathJax.js?config=TeX-AMS-MML_SVG\"></script><script type=\"text/javascript\">if (window.MathJax && window.MathJax.Hub && window.MathJax.Hub.Config) {window.MathJax.Hub.Config({SVG: {font: \"STIX-Web\"}});}</script>                <script type=\"text/javascript\">window.PlotlyConfig = {MathJaxConfig: 'local'};</script>\n",
              "        <script src=\"https://cdn.plot.ly/plotly-2.18.2.min.js\"></script>                <div id=\"a2b7eaa9-ff56-4b8e-b598-7e7b425c6ab7\" class=\"plotly-graph-div\" style=\"height:600px; width:1200px;\"></div>            <script type=\"text/javascript\">                                    window.PLOTLYENV=window.PLOTLYENV || {};                                    if (document.getElementById(\"a2b7eaa9-ff56-4b8e-b598-7e7b425c6ab7\")) {                    Plotly.newPlot(                        \"a2b7eaa9-ff56-4b8e-b598-7e7b425c6ab7\",                        [{\"alignmentgroup\":\"True\",\"hovertemplate\":\"Sex=F<br>Race=%{x}<br>Negative Behavior at Arrests=%{y}<extra></extra>\",\"legendgroup\":\"F\",\"marker\":{\"color\":\"#FFB84C\",\"pattern\":{\"shape\":\"\"},\"line\":{\"width\":0}},\"name\":\"F\",\"offsetgroup\":\"F\",\"orientation\":\"v\",\"showlegend\":true,\"textposition\":\"outside\",\"texttemplate\":\"%{y:.3s}\",\"x\":[\"Black\",\"East/Southeast Asian\",\"Indigenous\",\"Latino\",\"Middle-Eastern\",\"South Asian\",\"White\"],\"xaxis\":\"x\",\"y\":[484,46,105,34,39,39,797],\"yaxis\":\"y\",\"type\":\"bar\",\"textfont\":{\"size\":17},\"cliponaxis\":false,\"textangle\":0},{\"alignmentgroup\":\"True\",\"hovertemplate\":\"Sex=M<br>Race=%{x}<br>Negative Behavior at Arrests=%{y}<extra></extra>\",\"legendgroup\":\"M\",\"marker\":{\"color\":\"#537FE7\",\"pattern\":{\"shape\":\"\"},\"line\":{\"width\":0}},\"name\":\"M\",\"offsetgroup\":\"M\",\"orientation\":\"v\",\"showlegend\":true,\"textposition\":\"outside\",\"texttemplate\":\"%{y:.3s}\",\"x\":[\"Black\",\"East/Southeast Asian\",\"Indigenous\",\"Latino\",\"Middle-Eastern\",\"South Asian\",\"White\"],\"xaxis\":\"x\",\"y\":[2054,325,287,157,325,285,2828],\"yaxis\":\"y\",\"type\":\"bar\",\"textfont\":{\"size\":17},\"cliponaxis\":false,\"textangle\":0}],                        {\"template\":{\"data\":{\"histogram2dcontour\":[{\"type\":\"histogram2dcontour\",\"colorbar\":{\"outlinewidth\":0,\"ticks\":\"\"},\"colorscale\":[[0.0,\"#0d0887\"],[0.1111111111111111,\"#46039f\"],[0.2222222222222222,\"#7201a8\"],[0.3333333333333333,\"#9c179e\"],[0.4444444444444444,\"#bd3786\"],[0.5555555555555556,\"#d8576b\"],[0.6666666666666666,\"#ed7953\"],[0.7777777777777778,\"#fb9f3a\"],[0.8888888888888888,\"#fdca26\"],[1.0,\"#f0f921\"]]}],\"choropleth\":[{\"type\":\"choropleth\",\"colorbar\":{\"outlinewidth\":0,\"ticks\":\"\"}}],\"histogram2d\":[{\"type\":\"histogram2d\",\"colorbar\":{\"outlinewidth\":0,\"ticks\":\"\"},\"colorscale\":[[0.0,\"#0d0887\"],[0.1111111111111111,\"#46039f\"],[0.2222222222222222,\"#7201a8\"],[0.3333333333333333,\"#9c179e\"],[0.4444444444444444,\"#bd3786\"],[0.5555555555555556,\"#d8576b\"],[0.6666666666666666,\"#ed7953\"],[0.7777777777777778,\"#fb9f3a\"],[0.8888888888888888,\"#fdca26\"],[1.0,\"#f0f921\"]]}],\"heatmap\":[{\"type\":\"heatmap\",\"colorbar\":{\"outlinewidth\":0,\"ticks\":\"\"},\"colorscale\":[[0.0,\"#0d0887\"],[0.1111111111111111,\"#46039f\"],[0.2222222222222222,\"#7201a8\"],[0.3333333333333333,\"#9c179e\"],[0.4444444444444444,\"#bd3786\"],[0.5555555555555556,\"#d8576b\"],[0.6666666666666666,\"#ed7953\"],[0.7777777777777778,\"#fb9f3a\"],[0.8888888888888888,\"#fdca26\"],[1.0,\"#f0f921\"]]}],\"heatmapgl\":[{\"type\":\"heatmapgl\",\"colorbar\":{\"outlinewidth\":0,\"ticks\":\"\"},\"colorscale\":[[0.0,\"#0d0887\"],[0.1111111111111111,\"#46039f\"],[0.2222222222222222,\"#7201a8\"],[0.3333333333333333,\"#9c179e\"],[0.4444444444444444,\"#bd3786\"],[0.5555555555555556,\"#d8576b\"],[0.6666666666666666,\"#ed7953\"],[0.7777777777777778,\"#fb9f3a\"],[0.8888888888888888,\"#fdca26\"],[1.0,\"#f0f921\"]]}],\"contourcarpet\":[{\"type\":\"contourcarpet\",\"colorbar\":{\"outlinewidth\":0,\"ticks\":\"\"}}],\"contour\":[{\"type\":\"contour\",\"colorbar\":{\"outlinewidth\":0,\"ticks\":\"\"},\"colorscale\":[[0.0,\"#0d0887\"],[0.1111111111111111,\"#46039f\"],[0.2222222222222222,\"#7201a8\"],[0.3333333333333333,\"#9c179e\"],[0.4444444444444444,\"#bd3786\"],[0.5555555555555556,\"#d8576b\"],[0.6666666666666666,\"#ed7953\"],[0.7777777777777778,\"#fb9f3a\"],[0.8888888888888888,\"#fdca26\"],[1.0,\"#f0f921\"]]}],\"surface\":[{\"type\":\"surface\",\"colorbar\":{\"outlinewidth\":0,\"ticks\":\"\"},\"colorscale\":[[0.0,\"#0d0887\"],[0.1111111111111111,\"#46039f\"],[0.2222222222222222,\"#7201a8\"],[0.3333333333333333,\"#9c179e\"],[0.4444444444444444,\"#bd3786\"],[0.5555555555555556,\"#d8576b\"],[0.6666666666666666,\"#ed7953\"],[0.7777777777777778,\"#fb9f3a\"],[0.8888888888888888,\"#fdca26\"],[1.0,\"#f0f921\"]]}],\"mesh3d\":[{\"type\":\"mesh3d\",\"colorbar\":{\"outlinewidth\":0,\"ticks\":\"\"}}],\"scatter\":[{\"fillpattern\":{\"fillmode\":\"overlay\",\"size\":10,\"solidity\":0.2},\"type\":\"scatter\"}],\"parcoords\":[{\"type\":\"parcoords\",\"line\":{\"colorbar\":{\"outlinewidth\":0,\"ticks\":\"\"}}}],\"scatterpolargl\":[{\"type\":\"scatterpolargl\",\"marker\":{\"colorbar\":{\"outlinewidth\":0,\"ticks\":\"\"}}}],\"bar\":[{\"error_x\":{\"color\":\"#2a3f5f\"},\"error_y\":{\"color\":\"#2a3f5f\"},\"marker\":{\"line\":{\"color\":\"#E5ECF6\",\"width\":0.5},\"pattern\":{\"fillmode\":\"overlay\",\"size\":10,\"solidity\":0.2}},\"type\":\"bar\"}],\"scattergeo\":[{\"type\":\"scattergeo\",\"marker\":{\"colorbar\":{\"outlinewidth\":0,\"ticks\":\"\"}}}],\"scatterpolar\":[{\"type\":\"scatterpolar\",\"marker\":{\"colorbar\":{\"outlinewidth\":0,\"ticks\":\"\"}}}],\"histogram\":[{\"marker\":{\"pattern\":{\"fillmode\":\"overlay\",\"size\":10,\"solidity\":0.2}},\"type\":\"histogram\"}],\"scattergl\":[{\"type\":\"scattergl\",\"marker\":{\"colorbar\":{\"outlinewidth\":0,\"ticks\":\"\"}}}],\"scatter3d\":[{\"type\":\"scatter3d\",\"line\":{\"colorbar\":{\"outlinewidth\":0,\"ticks\":\"\"}},\"marker\":{\"colorbar\":{\"outlinewidth\":0,\"ticks\":\"\"}}}],\"scattermapbox\":[{\"type\":\"scattermapbox\",\"marker\":{\"colorbar\":{\"outlinewidth\":0,\"ticks\":\"\"}}}],\"scatterternary\":[{\"type\":\"scatterternary\",\"marker\":{\"colorbar\":{\"outlinewidth\":0,\"ticks\":\"\"}}}],\"scattercarpet\":[{\"type\":\"scattercarpet\",\"marker\":{\"colorbar\":{\"outlinewidth\":0,\"ticks\":\"\"}}}],\"carpet\":[{\"aaxis\":{\"endlinecolor\":\"#2a3f5f\",\"gridcolor\":\"white\",\"linecolor\":\"white\",\"minorgridcolor\":\"white\",\"startlinecolor\":\"#2a3f5f\"},\"baxis\":{\"endlinecolor\":\"#2a3f5f\",\"gridcolor\":\"white\",\"linecolor\":\"white\",\"minorgridcolor\":\"white\",\"startlinecolor\":\"#2a3f5f\"},\"type\":\"carpet\"}],\"table\":[{\"cells\":{\"fill\":{\"color\":\"#EBF0F8\"},\"line\":{\"color\":\"white\"}},\"header\":{\"fill\":{\"color\":\"#C8D4E3\"},\"line\":{\"color\":\"white\"}},\"type\":\"table\"}],\"barpolar\":[{\"marker\":{\"line\":{\"color\":\"#E5ECF6\",\"width\":0.5},\"pattern\":{\"fillmode\":\"overlay\",\"size\":10,\"solidity\":0.2}},\"type\":\"barpolar\"}],\"pie\":[{\"automargin\":true,\"type\":\"pie\"}]},\"layout\":{\"autotypenumbers\":\"strict\",\"colorway\":[\"#636efa\",\"#EF553B\",\"#00cc96\",\"#ab63fa\",\"#FFA15A\",\"#19d3f3\",\"#FF6692\",\"#B6E880\",\"#FF97FF\",\"#FECB52\"],\"font\":{\"color\":\"#2a3f5f\"},\"hovermode\":\"closest\",\"hoverlabel\":{\"align\":\"left\"},\"paper_bgcolor\":\"white\",\"plot_bgcolor\":\"#E5ECF6\",\"polar\":{\"bgcolor\":\"#E5ECF6\",\"angularaxis\":{\"gridcolor\":\"white\",\"linecolor\":\"white\",\"ticks\":\"\"},\"radialaxis\":{\"gridcolor\":\"white\",\"linecolor\":\"white\",\"ticks\":\"\"}},\"ternary\":{\"bgcolor\":\"#E5ECF6\",\"aaxis\":{\"gridcolor\":\"white\",\"linecolor\":\"white\",\"ticks\":\"\"},\"baxis\":{\"gridcolor\":\"white\",\"linecolor\":\"white\",\"ticks\":\"\"},\"caxis\":{\"gridcolor\":\"white\",\"linecolor\":\"white\",\"ticks\":\"\"}},\"coloraxis\":{\"colorbar\":{\"outlinewidth\":0,\"ticks\":\"\"}},\"colorscale\":{\"sequential\":[[0.0,\"#0d0887\"],[0.1111111111111111,\"#46039f\"],[0.2222222222222222,\"#7201a8\"],[0.3333333333333333,\"#9c179e\"],[0.4444444444444444,\"#bd3786\"],[0.5555555555555556,\"#d8576b\"],[0.6666666666666666,\"#ed7953\"],[0.7777777777777778,\"#fb9f3a\"],[0.8888888888888888,\"#fdca26\"],[1.0,\"#f0f921\"]],\"sequentialminus\":[[0.0,\"#0d0887\"],[0.1111111111111111,\"#46039f\"],[0.2222222222222222,\"#7201a8\"],[0.3333333333333333,\"#9c179e\"],[0.4444444444444444,\"#bd3786\"],[0.5555555555555556,\"#d8576b\"],[0.6666666666666666,\"#ed7953\"],[0.7777777777777778,\"#fb9f3a\"],[0.8888888888888888,\"#fdca26\"],[1.0,\"#f0f921\"]],\"diverging\":[[0,\"#8e0152\"],[0.1,\"#c51b7d\"],[0.2,\"#de77ae\"],[0.3,\"#f1b6da\"],[0.4,\"#fde0ef\"],[0.5,\"#f7f7f7\"],[0.6,\"#e6f5d0\"],[0.7,\"#b8e186\"],[0.8,\"#7fbc41\"],[0.9,\"#4d9221\"],[1,\"#276419\"]]},\"xaxis\":{\"gridcolor\":\"white\",\"linecolor\":\"white\",\"ticks\":\"\",\"title\":{\"standoff\":15},\"zerolinecolor\":\"white\",\"automargin\":true,\"zerolinewidth\":2},\"yaxis\":{\"gridcolor\":\"white\",\"linecolor\":\"white\",\"ticks\":\"\",\"title\":{\"standoff\":15},\"zerolinecolor\":\"white\",\"automargin\":true,\"zerolinewidth\":2},\"scene\":{\"xaxis\":{\"backgroundcolor\":\"#E5ECF6\",\"gridcolor\":\"white\",\"linecolor\":\"white\",\"showbackground\":true,\"ticks\":\"\",\"zerolinecolor\":\"white\",\"gridwidth\":2},\"yaxis\":{\"backgroundcolor\":\"#E5ECF6\",\"gridcolor\":\"white\",\"linecolor\":\"white\",\"showbackground\":true,\"ticks\":\"\",\"zerolinecolor\":\"white\",\"gridwidth\":2},\"zaxis\":{\"backgroundcolor\":\"#E5ECF6\",\"gridcolor\":\"white\",\"linecolor\":\"white\",\"showbackground\":true,\"ticks\":\"\",\"zerolinecolor\":\"white\",\"gridwidth\":2}},\"shapedefaults\":{\"line\":{\"color\":\"#2a3f5f\"}},\"annotationdefaults\":{\"arrowcolor\":\"#2a3f5f\",\"arrowhead\":0,\"arrowwidth\":1},\"geo\":{\"bgcolor\":\"white\",\"landcolor\":\"#E5ECF6\",\"subunitcolor\":\"white\",\"showland\":true,\"showlakes\":true,\"lakecolor\":\"white\"},\"title\":{\"x\":0.05},\"mapbox\":{\"style\":\"light\"}}},\"xaxis\":{\"anchor\":\"y\",\"domain\":[0.0,1.0],\"title\":{\"text\":\"Race\"}},\"yaxis\":{\"anchor\":\"x\",\"domain\":[0.0,1.0],\"title\":{\"text\":\"Negative Behavior at Arrests\"}},\"legend\":{\"title\":{\"text\":\"Sex\"},\"tracegroupgap\":0},\"title\":{\"text\":\"Negative behavior at Arrests by Sex & Race\"},\"barmode\":\"group\",\"height\":600,\"width\":1200},                        {\"responsive\": true}                    ).then(function(){\n",
              "                            \n",
              "var gd = document.getElementById('a2b7eaa9-ff56-4b8e-b598-7e7b425c6ab7');\n",
              "var x = new MutationObserver(function (mutations, observer) {{\n",
              "        var display = window.getComputedStyle(gd).display;\n",
              "        if (!display || display === 'none') {{\n",
              "            console.log([gd, 'removed!']);\n",
              "            Plotly.purge(gd);\n",
              "            observer.disconnect();\n",
              "        }}\n",
              "}});\n",
              "\n",
              "// Listen for the removal of the full notebook cells\n",
              "var notebookContainer = gd.closest('#notebook-container');\n",
              "if (notebookContainer) {{\n",
              "    x.observe(notebookContainer, {childList: true});\n",
              "}}\n",
              "\n",
              "// Listen for the clearing of the current output cell\n",
              "var outputEl = gd.closest('.output');\n",
              "if (outputEl) {{\n",
              "    x.observe(outputEl, {childList: true});\n",
              "}}\n",
              "\n",
              "                        })                };                            </script>        </div>\n",
              "</body>\n",
              "</html>"
            ]
          },
          "metadata": {}
        }
      ]
    },
    {
      "cell_type": "code",
      "source": [
        "from sklearn.preprocessing import LabelEncoder\n",
        "\n",
        "# Convert categorical variables to numerical using LabelEncoder\n",
        "le = LabelEncoder()\n",
        "negativebehaviour5['Perceived_Race'] = le.fit_transform(negativebehaviour5['Perceived_Race'])\n",
        "negativebehaviour5['Sex'] = le.fit_transform(negativebehaviour5['Sex'])\n",
        "negativebehaviour5['Arrest_Month'] = le.fit_transform(negativebehaviour5['Arrest_Month'])\n",
        "negativebehaviour5['Age_group__at_arrest_'] = le.fit_transform(negativebehaviour5['Age_group__at_arrest_'])\n",
        "\n",
        "# Calculate the correlation matrix\n",
        "corr_matrix = negativebehaviour5.corr()\n",
        "\n",
        "# Plot the correlation matrix as a heatmap\n",
        "sns.heatmap(corr_matrix, annot=True, cmap='coolwarm')\n",
        "plt.title('Correlation Matrix of Independent and Dependant Variable')\n",
        "plt.show()\n"
      ],
      "metadata": {
        "colab": {
          "base_uri": "https://localhost:8080/",
          "height": 754
        },
        "id": "5kl9RF_q--RR",
        "outputId": "8c5aa243-2b27-48fd-a918-a25af2fba9e6"
      },
      "execution_count": null,
      "outputs": [
        {
          "output_type": "display_data",
          "data": {
            "text/plain": [
              "<Figure size 640x480 with 2 Axes>"
            ],
            "image/png": "[encoded data removed]"
          },
          "metadata": {}
        }
      ]
    },
    {
      "cell_type": "markdown",
      "source": [
        "#Shapiro Wilk Normality Test"
      ],
      "metadata": {
        "id": "gLIgzTNOjgz5"
      }
    },
    {
      "cell_type": "markdown",
      "source": [
        "## Number of arrests"
      ],
      "metadata": {
        "id": "nWCVgQMfkHiy"
      }
    },
    {
      "cell_type": "code",
      "source": [
        "#Dependant Variable\n",
        "number_arrests_quantative_column = [\"Number_arrests\"]\n",
        "\n",
        "# Loop through each column of the DataFrame and perform the Shapiro-Wilk test\n",
        "for column in number_arrests_quantative_column:\n",
        "    stat, p = shapiro(number_arrests[column])\n",
        "    alpha = 0.05\n",
        "    if p > alpha:\n",
        "        print(f'{column} is normally distributed (p={p:.3f})')\n",
        "    else:\n",
        "        print(f'{column} is not normally distributed (p={p:.3f})')"
      ],
      "metadata": {
        "id": "mmZ5qhNmkG_Z",
        "colab": {
          "base_uri": "https://localhost:8080/"
        },
        "outputId": "8b03fc84-47e5-40fa-fd04-628d554b9116"
      },
      "execution_count": null,
      "outputs": [
        {
          "output_type": "stream",
          "name": "stdout",
          "text": [
            "Number_arrests is not normally distributed (p=0.000)\n"
          ]
        }
      ]
    },
    {
      "cell_type": "markdown",
      "source": [
        "## Negative behavior at Arrests"
      ],
      "metadata": {
        "id": "jKmPB-z2kXFe"
      }
    },
    {
      "cell_type": "code",
      "source": [
        "#Store the column name of dependant variable \n",
        "negative_behavior_quantative_column = [\"Negative_Behaviour_at_Arrest\"]\n",
        "\n",
        "#Perform the Shapiro-Wilk test\n",
        "for column in negative_behavior_quantative_column:\n",
        "    stat, p = shapiro(negativebehaviour5[column])\n",
        "    alpha = 0.05\n",
        "    if p > alpha:\n",
        "        print(f'{column} is normally distributed (p={p:.3f})')\n",
        "    else:\n",
        "        print(f'{column} is not normally distributed (p={p:.3f})')"
      ],
      "metadata": {
        "colab": {
          "base_uri": "https://localhost:8080/"
        },
        "id": "pyY5isJqkama",
        "outputId": "1e28e5a2-bf0d-48fa-f8ab-2168eaacc783"
      },
      "execution_count": null,
      "outputs": [
        {
          "output_type": "stream",
          "name": "stdout",
          "text": [
            "Negative_Behaviour_at_Arrest is not normally distributed (p=0.000)\n"
          ]
        }
      ]
    },
    {
      "cell_type": "code",
      "source": [
        "#Number of arrests has age group\n",
        "number_arrests = clean_dataset.groupby(['Arrest_Year','Arrest_Month', 'Perceived_Race',\"Sex\",'Youth_at_arrest__under_18_years','Age_group__at_arrest_'])['Booked'].count().reset_index()\n",
        "number_arrests = number_arrests.rename(columns={'Booked' : 'Number_arrests' })"
      ],
      "metadata": {
        "id": "4QKQHBnmsMpY"
      },
      "execution_count": null,
      "outputs": []
    },
    {
      "cell_type": "markdown",
      "source": [
        "# Welch's T Test "
      ],
      "metadata": {
        "id": "YEPzf5GXjTqu"
      }
    },
    {
      "cell_type": "markdown",
      "source": [
        "## Number of Arrests & Sex "
      ],
      "metadata": {
        "id": "H5HD9Hazld8p"
      }
    },
    {
      "cell_type": "code",
      "source": [
        "#define male and female arrest sample\n",
        "arrests_male = number_arrests[number_arrests['Sex'] == \"M\"]['Number_arrests']\n",
        "arrests_female = number_arrests[number_arrests['Sex'] == \"F\"]['Number_arrests']"
      ],
      "metadata": {
        "id": "ZFpRCaBCl5Po"
      },
      "execution_count": null,
      "outputs": []
    },
    {
      "cell_type": "code",
      "source": [
        "# Calculate the mean and standard deviation for each group\n",
        "data = [[1, 'Mean', round(arrests_male.mean(),2), round(arrests_female.mean(),2)],\n",
        "[2, 'Standard Deviation', round(arrests_male.std(),2), round(arrests_female.std(),2)]]\n",
        "print (tabulate(data, headers=[\"Pos\", \"Statistic Type\", \"Male\", \"Female\"]))"
      ],
      "metadata": {
        "colab": {
          "base_uri": "https://localhost:8080/"
        },
        "id": "3oiRNh2fEXW_",
        "outputId": "002e79a6-154a-4567-b0cc-e02333735480"
      },
      "execution_count": null,
      "outputs": [
        {
          "output_type": "stream",
          "name": "stdout",
          "text": [
            "  Pos  Statistic Type        Male    Female\n",
            "-----  ------------------  ------  --------\n",
            "    1  Mean                125.38     32.66\n",
            "    2  Standard Deviation  189.37     54.42\n"
          ]
        }
      ]
    },
    {
      "cell_type": "code",
      "source": [
        "#If you see nan value as the result, we request you to please run the number_arrests dataframe again\n",
        "#t test \n",
        "t_statistic, p_value = ttest_ind(arrests_male, arrests_female, equal_var=False)\n",
        "print(\"t-statistic:\", t_statistic)\n",
        "print(\"p-value:\", p_value)"
      ],
      "metadata": {
        "id": "L3U0X5DViTfi",
        "colab": {
          "base_uri": "https://localhost:8080/"
        },
        "outputId": "d975fe63-9708-43b0-fc3b-06a9009c4861"
      },
      "execution_count": null,
      "outputs": [
        {
          "output_type": "stream",
          "name": "stdout",
          "text": [
            "t-statistic: 9.22966611515132\n",
            "p-value: 1.036420920232209e-18\n"
          ]
        }
      ]
    },
    {
      "cell_type": "code",
      "source": [
        "# compute confidence interval \n",
        "cm = sms.CompareMeans(sms.DescrStatsW(arrests_male), sms.DescrStatsW(arrests_female))\n",
        "print('Confidence interval for arrests by sex:',cm.tconfint_diff(usevar='unequal'))"
      ],
      "metadata": {
        "id": "ZnYdYLV5FDiD",
        "colab": {
          "base_uri": "https://localhost:8080/"
        },
        "outputId": "b0485e68-cc55-4e02-e808-8aed8c4c41ee"
      },
      "execution_count": null,
      "outputs": [
        {
          "output_type": "stream",
          "name": "stdout",
          "text": [
            "Confidence interval for arrests by sex: (72.98256771816551, 112.46944100096027)\n"
          ]
        }
      ]
    },
    {
      "cell_type": "markdown",
      "source": [
        "## Number of Arrests & Youth or Not"
      ],
      "metadata": {
        "id": "9GD8eb4WB-t6"
      }
    },
    {
      "cell_type": "code",
      "source": [
        "#define youth and not youth sample\n",
        "arrests_youth = number_arrests[number_arrests['Youth_at_arrest__under_18_years'] == \"Youth (aged 17 and younger)\"]['Number_arrests']\n",
        "arrests_notyouth = number_arrests[number_arrests['Youth_at_arrest__under_18_years'] == \"Not a youth\"]['Number_arrests']"
      ],
      "metadata": {
        "id": "BlQy-3lWMSz8"
      },
      "execution_count": null,
      "outputs": []
    },
    {
      "cell_type": "code",
      "source": [
        "# Calculate the mean and standard deviation for each group\n",
        "data = [[1, 'Mean', round(arrests_youth.mean(),2), round(arrests_notyouth.mean(),2)],\n",
        "[2, 'Standard Deviation', round(arrests_youth.std(),2), round(arrests_notyouth.std(),2)]]\n",
        "print (tabulate(data, headers=[\"Pos\", \"Statistic Type\", \"Youth\", \"Not a youth\"]))\n"
      ],
      "metadata": {
        "colab": {
          "base_uri": "https://localhost:8080/"
        },
        "id": "hbzWLL34HvWV",
        "outputId": "b444e24e-eea5-486d-901c-11bd3e87419f"
      },
      "execution_count": null,
      "outputs": [
        {
          "output_type": "stream",
          "name": "stdout",
          "text": [
            "  Pos  Statistic Type        Youth    Not a youth\n",
            "-----  ------------------  -------  -------------\n",
            "    1  Mean                  27.97          89.11\n",
            "    2  Standard Deviation    40.33         157.79\n"
          ]
        }
      ]
    },
    {
      "cell_type": "code",
      "source": [
        "#t test \n",
        "t_statistic, p_value = ttest_ind(arrests_youth, arrests_notyouth, equal_var=False)\n",
        "print(\"t-statistic:\", t_statistic)\n",
        "print(\"p-value:\", p_value)"
      ],
      "metadata": {
        "id": "a1jmsANhiXxC",
        "colab": {
          "base_uri": "https://localhost:8080/"
        },
        "outputId": "e3f310fe-927e-475a-bfdd-25d90548c0f7"
      },
      "execution_count": null,
      "outputs": [
        {
          "output_type": "stream",
          "name": "stdout",
          "text": [
            "t-statistic: -8.262083164373983\n",
            "p-value: 8.936691450051914e-16\n"
          ]
        }
      ]
    },
    {
      "cell_type": "code",
      "source": [
        "# compute confidence interval \n",
        "cm = sms.CompareMeans(sms.DescrStatsW(arrests_youth), sms.DescrStatsW(arrests_notyouth))\n",
        "print('Confidence interval for arrests by youth:',cm.tconfint_diff(usevar='unequal'))"
      ],
      "metadata": {
        "id": "cp47XPjGJFow",
        "colab": {
          "base_uri": "https://localhost:8080/"
        },
        "outputId": "4329fcef-3f5e-40ec-f941-249ffa9462e9"
      },
      "execution_count": null,
      "outputs": [
        {
          "output_type": "stream",
          "name": "stdout",
          "text": [
            "Confidence interval for arrests by youth: (-75.67649976661315, -46.60961424851509)\n"
          ]
        }
      ]
    },
    {
      "cell_type": "markdown",
      "source": [
        "## Number of Arrests & Year"
      ],
      "metadata": {
        "id": "L5epJ24NGt7B"
      }
    },
    {
      "cell_type": "code",
      "source": [
        "#define year sample\n",
        "arrests_2020 = number_arrests[number_arrests['Arrest_Year'] == 2020]['Number_arrests']\n",
        "arrests_2021 = number_arrests[number_arrests['Arrest_Year'] == 2021]['Number_arrests']\n",
        "\n",
        "# Calculate the mean and standard deviation for each group\n",
        "\n",
        "data = [[1, 'Mean', round(arrests_2020.mean(),2), round(arrests_2021.mean(),2)],\n",
        "[2, 'Standard Deviation', round(arrests_2020.std(),2), round(arrests_2021.std(),2)]]\n",
        "print (tabulate(data, headers=[\"Pos\", \"Statistic Type\", \"2020\", \"2021\"]))\n"
      ],
      "metadata": {
        "id": "eZGUsphCGdps",
        "colab": {
          "base_uri": "https://localhost:8080/"
        },
        "outputId": "1cc8d316-bdda-4fe3-fd88-4c7338728562"
      },
      "execution_count": null,
      "outputs": [
        {
          "output_type": "stream",
          "name": "stdout",
          "text": [
            "  Pos  Statistic Type        2020    2021\n",
            "-----  ------------------  ------  ------\n",
            "    1  Mean                 78.51   83.15\n",
            "    2  Standard Deviation  146.13  151.82\n"
          ]
        }
      ]
    },
    {
      "cell_type": "code",
      "source": [
        "#t test \n",
        "t_statistic, p_value = ttest_ind(arrests_2020, arrests_2021, equal_var=False)\n",
        "print(\"t-statistic:\", t_statistic)\n",
        "print(\"p-value:\", p_value)"
      ],
      "metadata": {
        "id": "m8SzR-JJX600",
        "colab": {
          "base_uri": "https://localhost:8080/"
        },
        "outputId": "2341e158-c225-4de5-8466-d9a4991fe280"
      },
      "execution_count": null,
      "outputs": [
        {
          "output_type": "stream",
          "name": "stdout",
          "text": [
            "t-statistic: -0.42496457499624135\n",
            "p-value: 0.6709858014119383\n"
          ]
        }
      ]
    },
    {
      "cell_type": "code",
      "source": [
        "# compute confidence interval \n",
        "cm = sms.CompareMeans(sms.DescrStatsW(arrests_2020), sms.DescrStatsW(arrests_2021))\n",
        "print('Confidence interval for arrests by year:',cm.tconfint_diff(usevar='unequal'))"
      ],
      "metadata": {
        "id": "6SzLiErBXa20",
        "colab": {
          "base_uri": "https://localhost:8080/"
        },
        "outputId": "684a035f-fa22-4440-98ec-ed544b4bd984"
      },
      "execution_count": null,
      "outputs": [
        {
          "output_type": "stream",
          "name": "stdout",
          "text": [
            "Confidence interval for arrests by year: (-26.07648680770064, 16.79594714758273)\n"
          ]
        }
      ]
    },
    {
      "cell_type": "markdown",
      "source": [
        "## Negative Behaviour at Arrest & Sex"
      ],
      "metadata": {
        "id": "MISnq1HwojmF"
      }
    },
    {
      "cell_type": "code",
      "source": [
        "#define sex \n",
        "negativebehaviour_male = negativebehaviour1[negativebehaviour1['Sex'] == \"M\"]['Negative_Behaviour_at_Arrest']\n",
        "negativebehaviour_female = negativebehaviour1[negativebehaviour1['Sex'] == \"F\"]['Negative_Behaviour_at_Arrest']\n",
        "\n",
        "# Calculate the mean and standard deviation for each group\n",
        "data = [[1, 'Mean', round(negativebehaviour_male.mean(),2), round(negativebehaviour_female.mean(),2)],\n",
        "[2, 'Standard Deviation', round(negativebehaviour_male.std(),2), round(negativebehaviour_female.std(),2)]]\n",
        "print (tabulate(data, headers=[\"Pos\", \"Statistic Type\", \"Male\", \"Female\"]))"
      ],
      "metadata": {
        "id": "X3vw4ygSjWr_",
        "colab": {
          "base_uri": "https://localhost:8080/"
        },
        "outputId": "ed952e8e-027e-4f60-d6b6-fc599d932004"
      },
      "execution_count": null,
      "outputs": [
        {
          "output_type": "stream",
          "name": "stdout",
          "text": [
            "  Pos  Statistic Type        Male    Female\n",
            "-----  ------------------  ------  --------\n",
            "    1  Mean                223.61     55.14\n",
            "    2  Standard Deviation  414.3     112.26\n"
          ]
        }
      ]
    },
    {
      "cell_type": "code",
      "source": [
        "#t test \n",
        "t_statistic, p_value = ttest_ind(negativebehaviour_male, negativebehaviour_female, equal_var=False)\n",
        "print(\"t-statistic:\", t_statistic)\n",
        "print(\"p-value:\", p_value)\n"
      ],
      "metadata": {
        "id": "o97ek6RNaPgK",
        "colab": {
          "base_uri": "https://localhost:8080/"
        },
        "outputId": "fea74eb8-508e-4ee1-8617-db4a722a2e08"
      },
      "execution_count": null,
      "outputs": [
        {
          "output_type": "stream",
          "name": "stdout",
          "text": [
            "t-statistic: 2.0767538690249885\n",
            "p-value: 0.046217724806053476\n"
          ]
        }
      ]
    },
    {
      "cell_type": "code",
      "source": [
        "# compute confidence interval \n",
        "cm = sms.CompareMeans(sms.DescrStatsW(negativebehaviour_male), sms.DescrStatsW(negativebehaviour_female))\n",
        "print('Confidence interval for Negative Behavior at arrests by gender:',cm.tconfint_diff(usevar='unequal'))"
      ],
      "metadata": {
        "id": "Jfuc7revOB8D",
        "colab": {
          "base_uri": "https://localhost:8080/"
        },
        "outputId": "67064645-a68a-4aff-9764-af8b15d0c6e7"
      },
      "execution_count": null,
      "outputs": [
        {
          "output_type": "stream",
          "name": "stdout",
          "text": [
            "Confidence interval for Negative Behavior at arrests by gender: (3.00862595022582, 333.91994547834565)\n"
          ]
        }
      ]
    },
    {
      "cell_type": "markdown",
      "source": [
        "## Negative Behaviour at Arrest & Youth or Not"
      ],
      "metadata": {
        "id": "-8f-fmMtDqWj"
      }
    },
    {
      "cell_type": "code",
      "source": [
        "#define youth and not youth sample\n",
        "negative_youth = negativebehaviour1[negativebehaviour1['Youth_at_arrest__under_18_years'] == \"Youth (aged 17 and younger)\"]['Negative_Behaviour_at_Arrest']\n",
        "negative_notyouth = negativebehaviour1[negativebehaviour1['Youth_at_arrest__under_18_years'] == \"Not a youth\"]['Negative_Behaviour_at_Arrest']\n",
        "\n",
        "data = [[1, 'Mean', round(negative_youth.mean(),2), round(negative_notyouth.mean(),2)],\n",
        "[2, 'Standard Deviation', round(negative_youth.std(),2), round(negative_notyouth.std(),2)]]\n",
        "print (tabulate(data, headers=[\"Pos\", \"Statistic Type\", \"Youth\", \"Not a Youth\"]))\n"
      ],
      "metadata": {
        "id": "tPoB-0n7DB3r",
        "colab": {
          "base_uri": "https://localhost:8080/"
        },
        "outputId": "b7dcab8b-3144-400d-e4a9-e11e08b2e048"
      },
      "execution_count": null,
      "outputs": [
        {
          "output_type": "stream",
          "name": "stdout",
          "text": [
            "  Pos  Statistic Type        Youth    Not a Youth\n",
            "-----  ------------------  -------  -------------\n",
            "    1  Mean                   7.36         271.39\n",
            "    2  Standard Deviation    11.28         403.35\n"
          ]
        }
      ]
    },
    {
      "cell_type": "code",
      "source": [
        "#t test \n",
        "t_statistic, p_value = ttest_ind(negative_youth, negative_notyouth, equal_var=False)\n",
        "print(\"t-statistic:\", t_statistic)\n",
        "print(\"p-value:\", p_value)"
      ],
      "metadata": {
        "id": "ZHlFwfyfd1ac",
        "colab": {
          "base_uri": "https://localhost:8080/"
        },
        "outputId": "276d6e0e-2ef6-4d93-d432-76e1a35b15bc"
      },
      "execution_count": null,
      "outputs": [
        {
          "output_type": "stream",
          "name": "stdout",
          "text": [
            "t-statistic: -3.4625311418294147\n",
            "p-value: 0.0017957612229822929\n"
          ]
        }
      ]
    },
    {
      "cell_type": "code",
      "source": [
        "cm = sms.CompareMeans(sms.DescrStatsW(negative_youth), sms.DescrStatsW(negative_notyouth))\n",
        "print('Confidence interval for Negative Behavior at arrests by Youth/Not a Youth:',cm.tconfint_diff(usevar='unequal'))"
      ],
      "metadata": {
        "id": "yJKbLdYYOSwz",
        "colab": {
          "base_uri": "https://localhost:8080/"
        },
        "outputId": "bb1556d1-6e33-48f1-bea5-969c3e2f152d"
      },
      "execution_count": null,
      "outputs": [
        {
          "output_type": "stream",
          "name": "stdout",
          "text": [
            "Confidence interval for Negative Behavior at arrests by Youth/Not a Youth: (-420.48686571513724, -107.5845628562914)\n"
          ]
        }
      ]
    },
    {
      "cell_type": "markdown",
      "source": [
        "## Negative Behaviour at Arrest & Year"
      ],
      "metadata": {
        "id": "xTna-kafGPRn"
      }
    },
    {
      "cell_type": "code",
      "source": [
        "#define year sample\n",
        "negative_2020 = negativebehaviour1[negativebehaviour1['Arrest_Year'] == 2020]['Negative_Behaviour_at_Arrest']\n",
        "negative_2021 = negativebehaviour1[negativebehaviour1['Arrest_Year'] == 2021]['Negative_Behaviour_at_Arrest']"
      ],
      "metadata": {
        "id": "rpTwit8XF3Nj"
      },
      "execution_count": null,
      "outputs": []
    },
    {
      "cell_type": "code",
      "source": [
        "data = [[1, 'Mean', round(negative_2020.mean(),2), round(negative_2021.mean(),2)],\n",
        "[2, 'Standard Deviation', round(negative_2020.std(),2), round(negative_2021.std(),2)]]\n",
        "print (tabulate(data, headers=[\"Pos\", \"Statistic Type\", \"2020\", \"2021\"]))"
      ],
      "metadata": {
        "id": "1fjZPJiHOhV_",
        "colab": {
          "base_uri": "https://localhost:8080/"
        },
        "outputId": "5a1858f4-20da-4307-ec32-c332f129ad3a"
      },
      "execution_count": null,
      "outputs": [
        {
          "output_type": "stream",
          "name": "stdout",
          "text": [
            "  Pos  Statistic Type        2020    2021\n",
            "-----  ------------------  ------  ------\n",
            "    1  Mean                137.57  141.18\n",
            "    2  Standard Deviation  313.29  317.5\n"
          ]
        }
      ]
    },
    {
      "cell_type": "code",
      "source": [
        "#t test \n",
        "t_statistic, p_value = ttest_ind(negative_2020, negative_2021, equal_var=False)\n",
        "print(\"t-statistic:\", t_statistic)\n",
        "print(\"p-value:\", p_value)"
      ],
      "metadata": {
        "id": "2CScalwCOh3o",
        "colab": {
          "base_uri": "https://localhost:8080/"
        },
        "outputId": "27cc176a-9f97-4acf-8a9c-9f9e2c47ab89"
      },
      "execution_count": null,
      "outputs": [
        {
          "output_type": "stream",
          "name": "stdout",
          "text": [
            "t-statistic: -0.042791984176792454\n",
            "p-value: 0.9660252210081918\n"
          ]
        }
      ]
    },
    {
      "cell_type": "code",
      "source": [
        "cm = sms.CompareMeans(sms.DescrStatsW(negative_2020), sms.DescrStatsW(negative_2021))\n",
        "print('Confidence interval for Negative Behavior at arrests by Year:',cm.tconfint_diff(usevar='unequal'))"
      ],
      "metadata": {
        "id": "41E-zld9Oy1b",
        "colab": {
          "base_uri": "https://localhost:8080/"
        },
        "outputId": "5493fa81-bb71-44bb-e522-e6cc202db91d"
      },
      "execution_count": null,
      "outputs": [
        {
          "output_type": "stream",
          "name": "stdout",
          "text": [
            "Confidence interval for Negative Behavior at arrests by Year: (-172.60878188309204, 165.39449616880637)\n"
          ]
        }
      ]
    },
    {
      "cell_type": "markdown",
      "source": [
        "# ANOVA"
      ],
      "metadata": {
        "id": "y_D3w__iuUL6"
      }
    },
    {
      "cell_type": "code",
      "source": [
        "#Import libraries\n",
        "from scipy.stats import f_oneway\n",
        "import scipy.stats as stats\n",
        "from statsmodels.stats.multicomp import pairwise_tukeyhsd\n",
        "import statsmodels.api as sm\n",
        "from statsmodels.formula.api import ols\n",
        "from scipy.stats import levene"
      ],
      "metadata": {
        "id": "h2kddnf0w_3s"
      },
      "execution_count": null,
      "outputs": []
    },
    {
      "cell_type": "markdown",
      "source": [
        "## Number of Arrests"
      ],
      "metadata": {
        "id": "5YltWYzPhg_W"
      }
    },
    {
      "cell_type": "markdown",
      "source": [
        "### One Way ANOVA with Sex"
      ],
      "metadata": {
        "id": "gYq0ZVDeul1R"
      }
    },
    {
      "cell_type": "code",
      "source": [
        "arrests_male = number_arrests[number_arrests['Sex'] == \"M\"]['Number_arrests']\n",
        "arrests_female = number_arrests[number_arrests['Sex'] == \"F\"]['Number_arrests']\n",
        "\n",
        "#Levene's test\n",
        "stat, p = levene(arrests_male, arrests_female)\n",
        "print('Test statistic:', stat)\n",
        "print('p-value:', p)\n",
        "\n",
        "#variances of the groups are not equal."
      ],
      "metadata": {
        "id": "-MKsbZ8FojT-",
        "colab": {
          "base_uri": "https://localhost:8080/"
        },
        "outputId": "88be19e7-8c09-4d46-943c-d76c495527fe"
      },
      "execution_count": null,
      "outputs": [
        {
          "output_type": "stream",
          "name": "stdout",
          "text": [
            "Test statistic: 63.32249565509127\n",
            "p-value: 6.554182026097647e-15\n"
          ]
        }
      ]
    },
    {
      "cell_type": "code",
      "source": [
        "#If you see nan value as the result, we request you to please run the number_arrests dataframe again\n",
        "# One-way ANOVA with sex\n",
        "statistic, pvalue = f_oneway(arrests_male, arrests_female)\n",
        "print(f'One-way ANOVA: s = {statistic}, p = {pvalue}')"
      ],
      "metadata": {
        "id": "HJK84X2gvewl",
        "colab": {
          "base_uri": "https://localhost:8080/"
        },
        "outputId": "6a0dcebe-03fc-4353-b98f-d245d3e65e6a"
      },
      "execution_count": null,
      "outputs": [
        {
          "output_type": "stream",
          "name": "stdout",
          "text": [
            "One-way ANOVA: s = 79.73922937442754, p = 3.313274967584687e-18\n"
          ]
        }
      ]
    },
    {
      "cell_type": "code",
      "source": [
        "# perform Tukey's test \n",
        "tukey_race_1aov = pairwise_tukeyhsd(number_arrests['Number_arrests'], number_arrests['Sex'])\n",
        "\n",
        "print(tukey_race_1aov.summary())"
      ],
      "metadata": {
        "id": "0-TZZWfg5TCk",
        "colab": {
          "base_uri": "https://localhost:8080/"
        },
        "outputId": "d84d1ed7-c481-410b-92be-56b100f0d774"
      },
      "execution_count": null,
      "outputs": [
        {
          "output_type": "stream",
          "name": "stdout",
          "text": [
            "Multiple Comparison of Means - Tukey HSD, FWER=0.05 \n",
            "====================================================\n",
            "group1 group2 meandiff p-adj  lower   upper   reject\n",
            "----------------------------------------------------\n",
            "     F      M   92.726   0.0 72.3405 113.1115   True\n",
            "----------------------------------------------------\n"
          ]
        }
      ]
    },
    {
      "cell_type": "markdown",
      "source": [
        "### One Way ANOVA with Race"
      ],
      "metadata": {
        "id": "YbzMRCj0xrOq"
      }
    },
    {
      "cell_type": "code",
      "source": [
        "# define sample for race\n",
        "arrests_white = number_arrests[number_arrests['Perceived_Race'] == \"White\"]['Number_arrests']\n",
        "arrests_black = number_arrests[number_arrests['Perceived_Race'] == \"Black\"]['Number_arrests']\n",
        "arrests_east_southeast = number_arrests[number_arrests['Perceived_Race'] == \"East/Southeast Asian\"]['Number_arrests']\n",
        "arrests_indigenuous = number_arrests[number_arrests['Perceived_Race'] == \"Indigenous\"]['Number_arrests']\n",
        "arrests_southasian = number_arrests[number_arrests['Perceived_Race'] == \"South Asian\"]['Number_arrests']\n",
        "arrests_middleeastern = number_arrests[number_arrests['Perceived_Race'] == \"Middle-Eastern\"]['Number_arrests']\n",
        "arrests_latino= number_arrests[number_arrests['Perceived_Race'] == \"Latino\"]['Number_arrests']"
      ],
      "metadata": {
        "id": "weSz11AlQC9v"
      },
      "execution_count": null,
      "outputs": []
    },
    {
      "cell_type": "code",
      "source": [
        "#Levene's test\n",
        "stat, p = levene(arrests_white, arrests_black,arrests_east_southeast,arrests_indigenuous,arrests_southasian,arrests_middleeastern,arrests_latino )\n",
        "print('Test statistic:', stat)\n",
        "print('p-value:', p)\n",
        "\n",
        "#variances of the groups are not equal."
      ],
      "metadata": {
        "colab": {
          "base_uri": "https://localhost:8080/"
        },
        "id": "rcIHTy2SbO01",
        "outputId": "ef682a8a-86ef-4da3-b912-0c26b3f71341"
      },
      "execution_count": null,
      "outputs": [
        {
          "output_type": "stream",
          "name": "stdout",
          "text": [
            "Test statistic: 49.46067827019771\n",
            "p-value: 3.9252399656443857e-51\n"
          ]
        }
      ]
    },
    {
      "cell_type": "code",
      "source": [
        "arrests_white_data = [arrests_white.mean(),arrests_white.std()]\n",
        "arrests_black_data = [arrests_black.mean(),arrests_black.std()]\n",
        "arrests_east_southeast_data = [arrests_east_southeast.mean(),arrests_east_southeast.std()]\n",
        "arrests_indigenuous_data = [arrests_indigenuous.mean(),arrests_indigenuous.std()]\n",
        "arrests_southasian_data = [arrests_southasian.mean(),arrests_southasian.std()]\n",
        "arrests_middleeastern_data = [arrests_middleeastern.mean(),arrests_middleeastern.std()]\n",
        "arrests_latino_data = [arrests_latino.mean(),arrests_latino.std()]\n",
        "\n",
        "\n",
        "from tabulate import tabulate\n",
        "data = [[1, 'White', round(arrests_white_data[0],2), round(arrests_white_data[1],2)],\n",
        "[2, 'Black', round(arrests_black_data[0],2), round(arrests_black_data[1],2)],\n",
        "[3, 'East/South East', round(arrests_east_southeast_data[0],2), round(arrests_east_southeast_data[1],2)],\n",
        "[4, 'Indigenuous', round(arrests_indigenuous_data[0],2), round(arrests_indigenuous_data[1],2)],\n",
        "[5, 'South Asian', round(arrests_southasian_data[0],2), round(arrests_southasian_data[1],2)],\n",
        "[6, 'Middle eastern', round(arrests_middleeastern_data[0],2), round(arrests_middleeastern_data[1],2)],\n",
        "[7, 'Latino', round(arrests_latino_data[0],2), round(arrests_latino_data[1],2)]]\n",
        "print (tabulate(data, headers=[\"Pos\", \"Ethnicity\", \"Mean\", \"Standard Deviation\"]))"
      ],
      "metadata": {
        "id": "UJPOSu1JHPK8",
        "colab": {
          "base_uri": "https://localhost:8080/"
        },
        "outputId": "cefd91df-9091-4de8-86e6-bcf20071ba59"
      },
      "execution_count": null,
      "outputs": [
        {
          "output_type": "stream",
          "name": "stdout",
          "text": [
            "  Pos  Ethnicity          Mean    Standard Deviation\n",
            "-----  ---------------  ------  --------------------\n",
            "    1  White            247.52                249.01\n",
            "    2  Black            159.33                187.13\n",
            "    3  East/South East   39.42                 41.6\n",
            "    4  Indigenuous       19.73                 19.3\n",
            "    5  South Asian       34.08                 37.29\n",
            "    6  Middle eastern    30.25                 35.31\n",
            "    7  Latino            17.67                 20.19\n"
          ]
        }
      ]
    },
    {
      "cell_type": "code",
      "source": [
        "# one way ANOVA with race\n",
        "\n",
        "statistic, pvalue = f_oneway(arrests_white,arrests_black,arrests_east_southeast, arrests_indigenuous,arrests_southasian, arrests_middleeastern, arrests_latino)\n",
        "\n",
        "print(f'One-way ANOVA: s = {statistic}, p = {pvalue}')\n"
      ],
      "metadata": {
        "id": "79jS1QTOxhU1",
        "colab": {
          "base_uri": "https://localhost:8080/"
        },
        "outputId": "e875c834-b195-4468-b88d-78565ab97da9"
      },
      "execution_count": null,
      "outputs": [
        {
          "output_type": "stream",
          "name": "stdout",
          "text": [
            "One-way ANOVA: s = 57.4394138000774, p = 2.729143455982953e-58\n"
          ]
        }
      ]
    },
    {
      "cell_type": "code",
      "source": [
        "# perform Tukey's test \n",
        "tukey_race_1aov = pairwise_tukeyhsd(number_arrests['Number_arrests'], number_arrests['Perceived_Race'])\n",
        "\n",
        "print(tukey_race_1aov.summary())"
      ],
      "metadata": {
        "id": "gH6WEWTN9WwF",
        "colab": {
          "base_uri": "https://localhost:8080/"
        },
        "outputId": "33adb3d8-a0eb-4d16-9bd9-1fbde2a65346"
      },
      "execution_count": null,
      "outputs": [
        {
          "output_type": "stream",
          "name": "stdout",
          "text": [
            "                Multiple Comparison of Means - Tukey HSD, FWER=0.05                 \n",
            "====================================================================================\n",
            "       group1               group2         meandiff p-adj    lower    upper   reject\n",
            "------------------------------------------------------------------------------------\n",
            "               Black East/Southeast Asian -119.9076    0.0 -168.8993  -70.916   True\n",
            "               Black           Indigenous -139.5926    0.0 -190.2885 -88.8966   True\n",
            "               Black               Latino -141.6573    0.0 -192.0844 -91.2301   True\n",
            "               Black       Middle-Eastern -129.0749    0.0 -178.6305 -79.5194   True\n",
            "               Black          South Asian -125.2424    0.0 -174.9163 -75.5684   True\n",
            "               Black                White   88.1906    0.0   39.1989 137.1822   True\n",
            "East/Southeast Asian           Indigenous  -19.6849 0.9112  -70.1672  30.7973  False\n",
            "East/Southeast Asian               Latino  -21.7496 0.8608  -71.9619  28.4626  False\n",
            "East/Southeast Asian       Middle-Eastern   -9.1673 0.9981  -58.5042  40.1696  False\n",
            "East/Southeast Asian          South Asian   -5.3347 0.9999  -54.7905  44.1211  False\n",
            "East/Southeast Asian                White  208.0982    0.0  159.3278 256.8687   True\n",
            "          Indigenous               Latino   -2.0647    1.0  -53.9412  49.8118  False\n",
            "          Indigenous       Middle-Eastern   10.5176 0.9965   -40.512  61.5473  False\n",
            "          Indigenous          South Asian   14.3502 0.9819  -36.7944  65.4948  False\n",
            "          Indigenous                White  227.7832    0.0  177.3009 278.2654   True\n",
            "              Latino       Middle-Eastern   12.5823 0.9905  -38.1803   63.345  False\n",
            "              Latino          South Asian   16.4149 0.9634  -34.4633  67.2931  False\n",
            "              Latino                White  229.8479    0.0  179.6356 280.0601   True\n",
            "      Middle-Eastern          South Asian    3.8326    1.0  -46.1819  53.8471  False\n",
            "      Middle-Eastern                White  217.2655    0.0  167.9286 266.6024   True\n",
            "         South Asian                White   213.433    0.0  163.9772 262.8887   True\n",
            "------------------------------------------------------------------------------------\n"
          ]
        }
      ]
    },
    {
      "cell_type": "markdown",
      "source": [
        "### Two Way ANOVA with Sex & Race"
      ],
      "metadata": {
        "id": "CvpwnhfPupj_"
      }
    },
    {
      "cell_type": "code",
      "source": [
        "#perform two-way ANOVA\n",
        "model = ols('Number_arrests ~ C(Perceived_Race) + C(Sex) + C(Perceived_Race):C(Sex)', data=number_arrests).fit()\n",
        "sm.stats.anova_lm(model, typ=2)"
      ],
      "metadata": {
        "id": "cJGhkCcu7MdM",
        "colab": {
          "base_uri": "https://localhost:8080/",
          "height": 175
        },
        "outputId": "0b0beac0-608b-48cf-9464-7f2d29011415"
      },
      "execution_count": null,
      "outputs": [
        {
          "output_type": "execute_result",
          "data": {
            "text/plain": [
              "                                sum_sq     df           F        PR(>F)\n",
              "C(Perceived_Race)         5.384718e+06    6.0   84.125941  5.181618e-80\n",
              "C(Sex)                    1.731873e+06    1.0  162.343237  1.004823e-33\n",
              "C(Perceived_Race):C(Sex)  1.716013e+06    6.0   26.809428  6.030188e-29\n",
              "Residual                  7.798286e+06  731.0         NaN           NaN"
            ],
            "text/html": [
              "\n",
              "  <div id=\"df-9d3fb3bf-8577-4f7a-9902-1447017da788\">\n",
              "    <div class=\"colab-df-container\">\n",
              "      <div>\n",
              "<style scoped>\n",
              "    .dataframe tbody tr th:only-of-type {\n",
              "        vertical-align: middle;\n",
              "    }\n",
              "\n",
              "    .dataframe tbody tr th {\n",
              "        vertical-align: top;\n",
              "    }\n",
              "\n",
              "    .dataframe thead th {\n",
              "        text-align: right;\n",
              "    }\n",
              "</style>\n",
              "<table border=\"1\" class=\"dataframe\">\n",
              "  <thead>\n",
              "    <tr style=\"text-align: right;\">\n",
              "      <th></th>\n",
              "      <th>sum_sq</th>\n",
              "      <th>df</th>\n",
              "      <th>F</th>\n",
              "      <th>PR(&gt;F)</th>\n",
              "    </tr>\n",
              "  </thead>\n",
              "  <tbody>\n",
              "    <tr>\n",
              "      <th>C(Perceived_Race)</th>\n",
              "      <td>5.384718e+06</td>\n",
              "      <td>6.0</td>\n",
              "      <td>84.125941</td>\n",
              "      <td>5.181618e-80</td>\n",
              "    </tr>\n",
              "    <tr>\n",
              "      <th>C(Sex)</th>\n",
              "      <td>1.731873e+06</td>\n",
              "      <td>1.0</td>\n",
              "      <td>162.343237</td>\n",
              "      <td>1.004823e-33</td>\n",
              "    </tr>\n",
              "    <tr>\n",
              "      <th>C(Perceived_Race):C(Sex)</th>\n",
              "      <td>1.716013e+06</td>\n",
              "      <td>6.0</td>\n",
              "      <td>26.809428</td>\n",
              "      <td>6.030188e-29</td>\n",
              "    </tr>\n",
              "    <tr>\n",
              "      <th>Residual</th>\n",
              "      <td>7.798286e+06</td>\n",
              "      <td>731.0</td>\n",
              "      <td>NaN</td>\n",
              "      <td>NaN</td>\n",
              "    </tr>\n",
              "  </tbody>\n",
              "</table>\n",
              "</div>\n",
              "      <button class=\"colab-df-convert\" onclick=\"convertToInteractive('df-9d3fb3bf-8577-4f7a-9902-1447017da788')\"\n",
              "              title=\"Convert this dataframe to an interactive table.\"\n",
              "              style=\"display:none;\">\n",
              "        \n",
              "  <svg xmlns=\"http://www.w3.org/2000/svg\" height=\"24px\"viewBox=\"0 0 24 24\"\n",
              "       width=\"24px\">\n",
              "    <path d=\"M0 0h24v24H0V0z\" fill=\"none\"/>\n",
              "    <path d=\"M18.56 5.44l.94 2.06.94-2.06 2.06-.94-2.06-.94-.94-2.06-.94 2.06-2.06.94zm-11 1L8.5 8.5l.94-2.06 2.06-.94-2.06-.94L8.5 2.5l-.94 2.06-2.06.94zm10 10l.94 2.06.94-2.06 2.06-.94-2.06-.94-.94-2.06-.94 2.06-2.06.94z\"/><path d=\"M17.41 7.96l-1.37-1.37c-.4-.4-.92-.59-1.43-.59-.52 0-1.04.2-1.43.59L10.3 9.45l-7.72 7.72c-.78.78-.78 2.05 0 2.83L4 21.41c.39.39.9.59 1.41.59.51 0 1.02-.2 1.41-.59l7.78-7.78 2.81-2.81c.8-.78.8-2.07 0-2.86zM5.41 20L4 18.59l7.72-7.72 1.47 1.35L5.41 20z\"/>\n",
              "  </svg>\n",
              "      </button>\n",
              "      \n",
              "  <style>\n",
              "    .colab-df-container {\n",
              "      display:flex;\n",
              "      flex-wrap:wrap;\n",
              "      gap: 12px;\n",
              "    }\n",
              "\n",
              "    .colab-df-convert {\n",
              "      background-color: #E8F0FE;\n",
              "      border: none;\n",
              "      border-radius: 50%;\n",
              "      cursor: pointer;\n",
              "      display: none;\n",
              "      fill: #1967D2;\n",
              "      height: 32px;\n",
              "      padding: 0 0 0 0;\n",
              "      width: 32px;\n",
              "    }\n",
              "\n",
              "    .colab-df-convert:hover {\n",
              "      background-color: #E2EBFA;\n",
              "      box-shadow: 0px 1px 2px rgba(60, 64, 67, 0.3), 0px 1px 3px 1px rgba(60, 64, 67, 0.15);\n",
              "      fill: #174EA6;\n",
              "    }\n",
              "\n",
              "    [theme=dark] .colab-df-convert {\n",
              "      background-color: #3B4455;\n",
              "      fill: #D2E3FC;\n",
              "    }\n",
              "\n",
              "    [theme=dark] .colab-df-convert:hover {\n",
              "      background-color: #434B5C;\n",
              "      box-shadow: 0px 1px 3px 1px rgba(0, 0, 0, 0.15);\n",
              "      filter: drop-shadow(0px 1px 2px rgba(0, 0, 0, 0.3));\n",
              "      fill: #FFFFFF;\n",
              "    }\n",
              "  </style>\n",
              "\n",
              "      <script>\n",
              "        const buttonEl =\n",
              "          document.querySelector('#df-9d3fb3bf-8577-4f7a-9902-1447017da788 button.colab-df-convert');\n",
              "        buttonEl.style.display =\n",
              "          google.colab.kernel.accessAllowed ? 'block' : 'none';\n",
              "\n",
              "        async function convertToInteractive(key) {\n",
              "          const element = document.querySelector('#df-9d3fb3bf-8577-4f7a-9902-1447017da788');\n",
              "          const dataTable =\n",
              "            await google.colab.kernel.invokeFunction('convertToInteractive',\n",
              "                                                     [key], {});\n",
              "          if (!dataTable) return;\n",
              "\n",
              "          const docLinkHtml = 'Like what you see? Visit the ' +\n",
              "            '<a target=\"_blank\" href=https://colab.research.google.com/notebooks/data_table.ipynb>data table notebook</a>'\n",
              "            + ' to learn more about interactive tables.';\n",
              "          element.innerHTML = '';\n",
              "          dataTable['output_type'] = 'display_data';\n",
              "          await google.colab.output.renderOutput(dataTable, element);\n",
              "          const docLink = document.createElement('div');\n",
              "          docLink.innerHTML = docLinkHtml;\n",
              "          element.appendChild(docLink);\n",
              "        }\n",
              "      </script>\n",
              "    </div>\n",
              "  </div>\n",
              "  "
            ]
          },
          "metadata": {},
          "execution_count": 73
        }
      ]
    },
    {
      "cell_type": "code",
      "source": [
        "#Tukey HSD\n",
        "#Import libraries\n",
        "import os\n",
        "import statsmodels.api as sm\n",
        "from statsmodels.stats.multicomp import MultiComparison\n",
        "\n",
        "\n",
        "mc = MultiComparison(number_arrests['Number_arrests'], number_arrests['Sex'].astype(str) + ',' +  number_arrests['Perceived_Race'].astype(str))\n",
        "tukey_result1 = mc.tukeyhsd()\n",
        "print(tukey_result1)\n"
      ],
      "metadata": {
        "colab": {
          "base_uri": "https://localhost:8080/"
        },
        "id": "DcBkTXrUnh3z",
        "outputId": "e11118e3-395a-46d9-9e3b-b7687d38d567"
      },
      "execution_count": null,
      "outputs": [
        {
          "output_type": "stream",
          "name": "stdout",
          "text": [
            "                   Multiple Comparison of Means - Tukey HSD, FWER=0.05                   \n",
            "=========================================================================================\n",
            "        group1                 group2          meandiff p-adj    lower     upper   reject\n",
            "-----------------------------------------------------------------------------------------\n",
            "               F,Black F,East/Southeast Asian  -42.4742 0.6616 -108.7628   23.8144  False\n",
            "               F,Black           F,Indigenous  -42.3948 0.7302 -111.7291   26.9395  False\n",
            "               F,Black               F,Latino  -49.7778 0.5011 -120.3645    20.809  False\n",
            "               F,Black       F,Middle-Eastern  -48.6405 0.4725 -116.5056   19.2245  False\n",
            "               F,Black          F,South Asian  -45.5978 0.5932 -113.8109   22.6154  False\n",
            "               F,Black                F,White   54.3651 0.2476  -11.9235  120.6537  False\n",
            "               F,Black                M,Black  203.4008    0.0  137.1122  269.6894   True\n",
            "               F,Black M,East/Southeast Asian    9.7579    1.0  -56.5307   76.0465  False\n",
            "               F,Black           M,Indigenous  -30.1895 0.9681  -98.0546   37.6755  False\n",
            "               F,Black               M,Latino  -28.9385 0.9726  -95.2271   37.3501  False\n",
            "               F,Black       M,Middle-Eastern   -4.4742    1.0  -70.7628   61.8144  False\n",
            "               F,Black          M,South Asian   -0.3492    1.0  -66.6378   65.9394  False\n",
            "               F,Black                M,White  329.1151    0.0  262.8265  395.4037   True\n",
            "F,East/Southeast Asian           F,Indigenous    0.0794    1.0  -68.6763   68.8352  False\n",
            "F,East/Southeast Asian               F,Latino   -7.3036    1.0  -77.3221    62.715  False\n",
            "F,East/Southeast Asian       F,Middle-Eastern   -6.1663    1.0  -73.4401   61.1075  False\n",
            "F,East/Southeast Asian          F,South Asian   -3.1236    1.0  -70.7486   64.5014  False\n",
            "F,East/Southeast Asian                F,White   96.8393 0.0001   31.1561  162.5225   True\n",
            "F,East/Southeast Asian                M,Black   245.875    0.0  180.1918  311.5582   True\n",
            "F,East/Southeast Asian M,East/Southeast Asian   52.2321  0.295  -13.4511  117.9154  False\n",
            "F,East/Southeast Asian           M,Indigenous   12.2847    1.0  -54.9892   79.5585  False\n",
            "F,East/Southeast Asian               M,Latino   13.5357    1.0  -52.1475   79.2189  False\n",
            "F,East/Southeast Asian       M,Middle-Eastern      38.0 0.7998  -27.6832  103.6832  False\n",
            "F,East/Southeast Asian          M,South Asian    42.125 0.6602  -23.5582  107.8082  False\n",
            "F,East/Southeast Asian                M,White  371.5893    0.0  305.9061  437.2725   True\n",
            "          F,Indigenous               F,Latino    -7.383    1.0  -80.2916   65.5256  False\n",
            "          F,Indigenous       F,Middle-Eastern   -6.2457    1.0  -76.5226   64.0311  False\n",
            "          F,Indigenous          F,South Asian    -3.203    1.0  -73.8161   67.4101  False\n",
            "          F,Indigenous                F,White   96.7599 0.0002   28.0041  165.5156   True\n",
            "          F,Indigenous                M,Black  245.7956    0.0  177.0398  314.5513   True\n",
            "          F,Indigenous M,East/Southeast Asian   52.1527 0.3734   -16.603  120.9085  False\n",
            "          F,Indigenous           M,Indigenous   12.2053    1.0  -58.0716   82.4821  False\n",
            "          F,Indigenous               M,Latino   13.4563    1.0  -55.2994   82.2121  False\n",
            "          F,Indigenous       M,Middle-Eastern   37.9206 0.8493  -30.8352  106.6763  False\n",
            "          F,Indigenous          M,South Asian   42.0456   0.73  -26.7102  110.8013  False\n",
            "          F,Indigenous                M,White  371.5099    0.0  302.7541  440.2656   True\n",
            "              F,Latino       F,Middle-Eastern    1.1373    1.0  -70.3755     72.65  False\n",
            "              F,Latino          F,South Asian      4.18    1.0  -67.6632   76.0232  False\n",
            "              F,Latino                F,White  104.1429 0.0001   34.1243  174.1614   True\n",
            "              F,Latino                M,Black  253.1786    0.0    183.16  323.1971   True\n",
            "              F,Latino M,East/Southeast Asian   59.5357 0.1972  -10.4828  129.5542  False\n",
            "              F,Latino           M,Indigenous   19.5882 0.9997  -51.9246    91.101  False\n",
            "              F,Latino               M,Latino   20.8393 0.9993  -49.1792   90.8578  False\n",
            "              F,Latino       M,Middle-Eastern   45.3036 0.6463   -24.715  115.3221  False\n",
            "              F,Latino          M,South Asian   49.4286 0.4992    -20.59  119.4471  False\n",
            "              F,Latino                M,White  378.8929    0.0  308.8743  448.9114   True\n",
            "      F,Middle-Eastern          F,South Asian    3.0427    1.0  -66.1282   72.2137  False\n",
            "      F,Middle-Eastern                F,White  103.0056    0.0   35.7318  170.2794   True\n",
            "      F,Middle-Eastern                M,Black  252.0413    0.0  184.7675  319.3151   True\n",
            "      F,Middle-Eastern M,East/Southeast Asian   58.3985  0.171   -8.8754  125.6723  False\n",
            "      F,Middle-Eastern           M,Indigenous    18.451 0.9998  -50.3767   87.2787  False\n",
            "      F,Middle-Eastern               M,Latino    19.702 0.9994  -47.5718   86.9759  False\n",
            "      F,Middle-Eastern       M,Middle-Eastern   44.1663  0.623  -23.1075  111.4401  False\n",
            "      F,Middle-Eastern          M,South Asian   48.2913 0.4698  -18.9825  115.5651  False\n",
            "      F,Middle-Eastern                M,White  377.7556    0.0  310.4818  445.0294   True\n",
            "         F,South Asian                F,White   99.9629 0.0001   32.3379  167.5879   True\n",
            "         F,South Asian                M,Black  248.9986    0.0  181.3736  316.6236   True\n",
            "         F,South Asian M,East/Southeast Asian   55.3557 0.2504  -12.2693  122.9807  False\n",
            "         F,South Asian           M,Indigenous   15.4082    1.0  -53.7628   84.5792  False\n",
            "         F,South Asian               M,Latino   16.6593 0.9999  -50.9657   84.2843  False\n",
            "         F,South Asian       M,Middle-Eastern   41.1236 0.7376  -26.5014  108.7486  False\n",
            "         F,South Asian          M,South Asian   45.2486 0.5916  -22.3764  112.8736  False\n",
            "         F,South Asian                M,White  374.7129    0.0  307.0879  442.3379   True\n",
            "               F,White                M,Black  149.0357    0.0   83.3525  214.7189   True\n",
            "               F,White M,East/Southeast Asian  -44.6071 0.5665 -110.2904   21.0761  False\n",
            "               F,White           M,Indigenous  -84.5546 0.0021 -151.8285  -17.2808   True\n",
            "               F,White               M,Latino  -83.3036 0.0018 -148.9868  -17.6204   True\n",
            "               F,White       M,Middle-Eastern  -58.8393 0.1354 -124.5225    6.8439  False\n",
            "               F,White          M,South Asian  -54.7143 0.2251 -120.3975   10.9689  False\n",
            "               F,White                M,White    274.75    0.0  209.0668  340.4332   True\n",
            "               M,Black M,East/Southeast Asian -193.6429    0.0 -259.3261 -127.9596   True\n",
            "               M,Black           M,Indigenous -233.5903    0.0 -300.8642 -166.3165   True\n",
            "               M,Black               M,Latino -232.3393    0.0 -298.0225 -166.6561   True\n",
            "               M,Black       M,Middle-Eastern  -207.875    0.0 -273.5582 -142.1918   True\n",
            "               M,Black          M,South Asian   -203.75    0.0 -269.4332 -138.0668   True\n",
            "               M,Black                M,White  125.7143    0.0   60.0311  191.3975   True\n",
            "M,East/Southeast Asian           M,Indigenous  -39.9475 0.7687 -107.2213   27.3264  False\n",
            "M,East/Southeast Asian               M,Latino  -38.6964 0.7784 -104.3796   26.9868  False\n",
            "M,East/Southeast Asian       M,Middle-Eastern  -14.2321    1.0  -79.9154   51.4511  False\n",
            "M,East/Southeast Asian          M,South Asian  -10.1071    1.0  -75.7904   55.5761  False\n",
            "M,East/Southeast Asian                M,White  319.3571    0.0  253.6739  385.0404   True\n",
            "          M,Indigenous               M,Latino    1.2511    1.0  -66.0228   68.5249  False\n",
            "          M,Indigenous       M,Middle-Eastern   25.7153 0.9915  -41.5585   92.9892  False\n",
            "          M,Indigenous          M,South Asian   29.8403 0.9688  -37.4335   97.1142  False\n",
            "          M,Indigenous                M,White  359.3046    0.0  292.0308  426.5785   True\n",
            "              M,Latino       M,Middle-Eastern   24.4643 0.9933  -41.2189   90.1475  False\n",
            "              M,Latino          M,South Asian   28.5893 0.9733  -37.0939   94.2725  False\n",
            "              M,Latino                M,White  358.0536    0.0  292.3704  423.7368   True\n",
            "      M,Middle-Eastern          M,South Asian     4.125    1.0  -61.5582   69.8082  False\n",
            "      M,Middle-Eastern                M,White  333.5893    0.0  267.9061  399.2725   True\n",
            "         M,South Asian                M,White  329.4643    0.0  263.7811  395.1475   True\n",
            "-----------------------------------------------------------------------------------------\n"
          ]
        }
      ]
    },
    {
      "cell_type": "markdown",
      "source": [
        "### Interaction plots: Sex and Perceived Race on number of arrests"
      ],
      "metadata": {
        "id": "IyoABB6SXET9"
      }
    },
    {
      "cell_type": "code",
      "source": [
        "from statsmodels.graphics.factorplots import interaction_plot\n",
        "\n",
        "fig, ax = plt.subplots(figsize=(12, 8))\n",
        "Race = number_arrests['Perceived_Race'].astype(\"category\")\n",
        "arrest_number = number_arrests['Number_arrests'].values\n",
        "\n",
        "sex_race_interact_arrests = interaction_plot(number_arrests['Sex'], Race, arrest_number, colors=['red','blue','green','yellow','purple','orange','black'], markers=['o','s','d','^','v','+','x'], ms=12,ax=ax)\n",
        "\n",
        "plt.ylabel('Number of arrests')\n",
        "plt.xlabel('Gender')\n",
        "plt.title('Interaction Plot: Sex and Perceived Race on number of arrests', fontweight='bold')\n",
        "plt.xticks(rotation=45, ha = 'right')\n",
        "plt.show()"
      ],
      "metadata": {
        "colab": {
          "base_uri": "https://localhost:8080/",
          "height": 760
        },
        "id": "UCdynajLcRsk",
        "outputId": "02dc5fb7-3079-4e25-8168-eab66e4a361e"
      },
      "execution_count": null,
      "outputs": [
        {
          "output_type": "display_data",
          "data": {
            "text/plain": [
              "<Figure size 1200x800 with 1 Axes>"
            ],
            "image/png": "[encoded data removed]"
          },
          "metadata": {}
        }
      ]
    },
    {
      "cell_type": "markdown",
      "source": [
        "## Negative Behaviour at Arrest ANOVA"
      ],
      "metadata": {
        "id": "qDAmi2mBW8UG"
      }
    },
    {
      "cell_type": "markdown",
      "source": [
        "### One Way ANOVA with Sex"
      ],
      "metadata": {
        "id": "GbQ0CHy68gbI"
      }
    },
    {
      "cell_type": "code",
      "source": [
        "#Levene's test\n",
        "stat, p = levene(negativebehaviour_male, negativebehaviour_female)\n",
        "print('Test statistic:', stat)\n",
        "print('p-value:', p)\n",
        "\n",
        "#variances of the groups are equal."
      ],
      "metadata": {
        "id": "RCJ-mKfCb2aP",
        "colab": {
          "base_uri": "https://localhost:8080/"
        },
        "outputId": "36667fd7-09b9-4b90-acd3-153fddd42143"
      },
      "execution_count": null,
      "outputs": [
        {
          "output_type": "stream",
          "name": "stdout",
          "text": [
            "Test statistic: 4.346256074412865\n",
            "p-value: 0.04183352650339426\n"
          ]
        }
      ]
    },
    {
      "cell_type": "code",
      "source": [
        "# One-way ANOVA with sex\n",
        "\n",
        "statistic, pvalue = f_oneway(negativebehaviour_male, negativebehaviour_female)\n",
        "\n",
        "print(f'One-way ANOVA: s = {statistic}, p = {pvalue}')"
      ],
      "metadata": {
        "id": "z4B9jj-W8nS4",
        "colab": {
          "base_uri": "https://localhost:8080/"
        },
        "outputId": "776ce412-47b9-41d2-b490-c52b6c1910b5"
      },
      "execution_count": null,
      "outputs": [
        {
          "output_type": "stream",
          "name": "stdout",
          "text": [
            "One-way ANOVA: s = 4.312906632510258, p = 0.04259676026101475\n"
          ]
        }
      ]
    },
    {
      "cell_type": "code",
      "source": [
        "# perform Tukey's test \n",
        "tukey_race_1aov = pairwise_tukeyhsd(negativebehaviour1['Negative_Behaviour_at_Arrest'], negativebehaviour1['Sex'])\n",
        "\n",
        "print(tukey_race_1aov.summary())"
      ],
      "metadata": {
        "id": "v7OJDMqp9n4Q",
        "colab": {
          "base_uri": "https://localhost:8080/"
        },
        "outputId": "c74b083b-3ed5-47a3-b185-7e115e91f01d"
      },
      "execution_count": null,
      "outputs": [
        {
          "output_type": "stream",
          "name": "stdout",
          "text": [
            "Multiple Comparison of Means - Tukey HSD, FWER=0.05 \n",
            "====================================================\n",
            "group1 group2 meandiff p-adj  lower   upper   reject\n",
            "----------------------------------------------------\n",
            "     F      M 168.4643 0.0426 5.8304 331.0982   True\n",
            "----------------------------------------------------\n"
          ]
        }
      ]
    },
    {
      "cell_type": "markdown",
      "source": [
        "### One Way ANOVA with Race"
      ],
      "metadata": {
        "id": "pbqk9pCRu5EU"
      }
    },
    {
      "cell_type": "code",
      "source": [
        "# deinfe sample for race\n",
        "negative_white = negativebehaviour1[negativebehaviour1['Perceived_Race'] == \"White\"]['Negative_Behaviour_at_Arrest']\n",
        "negative_black = negativebehaviour1[negativebehaviour1['Perceived_Race'] == \"Black\"]['Negative_Behaviour_at_Arrest']\n",
        "negative_east_southeast = negativebehaviour1[negativebehaviour1['Perceived_Race'] == \"East/Southeast Asian\"]['Negative_Behaviour_at_Arrest']\n",
        "negative_indigenuous = negativebehaviour1[negativebehaviour1['Perceived_Race'] == \"Indigenous\"]['Negative_Behaviour_at_Arrest']\n",
        "negative_southasian = negativebehaviour1[negativebehaviour1['Perceived_Race'] == \"South Asian\"]['Negative_Behaviour_at_Arrest']\n",
        "negative_middleeastern = negativebehaviour1[negativebehaviour1['Perceived_Race'] == \"Middle-Eastern\"]['Negative_Behaviour_at_Arrest']\n",
        "negative_latino\t = negativebehaviour1[negativebehaviour1['Perceived_Race'] == \"Latino\"]['Negative_Behaviour_at_Arrest']"
      ],
      "metadata": {
        "id": "R-RKCdNAx8K2"
      },
      "execution_count": null,
      "outputs": []
    },
    {
      "cell_type": "code",
      "source": [
        "#Levene's test\n",
        "stat, p = levene(negative_white, negative_black, negative_east_southeast,negative_indigenuous,negative_southasian,negative_middleeastern,negative_latino )\n",
        "print('Test statistic:', stat)\n",
        "print('p-value:', p)\n",
        "\n",
        "#variances of the groups are equal."
      ],
      "metadata": {
        "id": "yChEQJRWcJGJ",
        "colab": {
          "base_uri": "https://localhost:8080/"
        },
        "outputId": "f24293be-0c97-40d2-d56e-327255f9baf1"
      },
      "execution_count": null,
      "outputs": [
        {
          "output_type": "stream",
          "name": "stdout",
          "text": [
            "Test statistic: 4.212919138994775\n",
            "p-value: 0.0017058774553963825\n"
          ]
        }
      ]
    },
    {
      "cell_type": "code",
      "source": [
        "# One-way ANOVA with race\n",
        "\n",
        "statistic, pvalue = f_oneway(negative_white, negative_black, negative_east_southeast, negative_indigenuous, negative_southasian,negative_middleeastern, negative_latino)\n",
        "\n",
        "print(f'One-way ANOVA: s = {statistic}, p = {pvalue}')"
      ],
      "metadata": {
        "id": "DqDs4B6X88Ww",
        "colab": {
          "base_uri": "https://localhost:8080/"
        },
        "outputId": "2fa762e7-34fb-41c9-c6a3-d4a0f6a27346"
      },
      "execution_count": null,
      "outputs": [
        {
          "output_type": "stream",
          "name": "stdout",
          "text": [
            "One-way ANOVA: s = 2.9641955183350466, p = 0.015051128757066832\n"
          ]
        }
      ]
    },
    {
      "cell_type": "code",
      "source": [
        "# perform Tukey's test \n",
        "tukey_race_1aov = pairwise_tukeyhsd(negativebehaviour1['Negative_Behaviour_at_Arrest'], negativebehaviour1['Perceived_Race'])\n",
        "print(tukey_race_1aov.summary())"
      ],
      "metadata": {
        "id": "0SC2gsZ79-9d",
        "colab": {
          "base_uri": "https://localhost:8080/"
        },
        "outputId": "7497618d-9f7d-4adc-8105-e7e7e6b9c8af"
      },
      "execution_count": null,
      "outputs": [
        {
          "output_type": "stream",
          "name": "stdout",
          "text": [
            "                Multiple Comparison of Means - Tukey HSD, FWER=0.05                \n",
            "===================================================================================\n",
            "       group1               group2        meandiff p-adj    lower    upper   reject\n",
            "-----------------------------------------------------------------------------------\n",
            "               Black East/Southeast Asian -270.875 0.4836 -706.7961 165.0461  False\n",
            "               Black           Indigenous  -268.25 0.4954 -704.1711 167.6711  False\n",
            "               Black               Latino -293.375 0.3868 -729.2961 142.5461  False\n",
            "               Black       Middle-Eastern  -271.75 0.4797 -707.6711 164.1711  False\n",
            "               Black          South Asian  -276.75 0.4576 -712.6711 159.1711  False\n",
            "               Black                White  135.875 0.9605 -300.0461 571.7961  False\n",
            "East/Southeast Asian           Indigenous    2.625    1.0 -433.2961 438.5461  False\n",
            "East/Southeast Asian               Latino    -22.5    1.0 -458.4211 413.4211  False\n",
            "East/Southeast Asian       Middle-Eastern   -0.875    1.0 -436.7961 435.0461  False\n",
            "East/Southeast Asian          South Asian   -5.875    1.0 -441.7961 430.0461  False\n",
            "East/Southeast Asian                White   406.75 0.0821  -29.1711 842.6711  False\n",
            "          Indigenous               Latino  -25.125    1.0 -461.0461 410.7961  False\n",
            "          Indigenous       Middle-Eastern     -3.5    1.0 -439.4211 432.4211  False\n",
            "          Indigenous          South Asian     -8.5    1.0 -444.4211 427.4211  False\n",
            "          Indigenous                White  404.125 0.0857  -31.7961 840.0461  False\n",
            "              Latino       Middle-Eastern   21.625    1.0 -414.2961 457.5461  False\n",
            "              Latino          South Asian   16.625    1.0 -419.2961 452.5461  False\n",
            "              Latino                White   429.25 0.0562   -6.6711 865.1711  False\n",
            "      Middle-Eastern          South Asian     -5.0    1.0 -440.9211 430.9211  False\n",
            "      Middle-Eastern                White  407.625 0.0809  -28.2961 843.5461  False\n",
            "         South Asian                White  412.625 0.0745  -23.2961 848.5461  False\n",
            "-----------------------------------------------------------------------------------\n"
          ]
        }
      ]
    },
    {
      "cell_type": "markdown",
      "source": [
        "### Two Way ANOVA"
      ],
      "metadata": {
        "id": "yKaA2ZnqvABR"
      }
    },
    {
      "cell_type": "code",
      "source": [
        "#perform two-way ANOVA\n",
        "model = ols('Negative_Behaviour_at_Arrest ~ C(Perceived_Race) + C(Sex) + C(Perceived_Race):C(Sex)', data=negativebehaviour1).fit()\n",
        "sm.stats.anova_lm(model, typ=2)"
      ],
      "metadata": {
        "id": "1Gu_Z96HtiQQ",
        "colab": {
          "base_uri": "https://localhost:8080/",
          "height": 175
        },
        "outputId": "bd7201f7-6a36-486d-ae7a-54076a478fd8"
      },
      "execution_count": null,
      "outputs": [
        {
          "output_type": "execute_result",
          "data": {
            "text/plain": [
              "                                sum_sq    df         F    PR(>F)\n",
              "C(Perceived_Race)         1.430594e+06   6.0  3.246973  0.010322\n",
              "C(Sex)                    3.973230e+05   1.0  5.410748  0.024913\n",
              "C(Perceived_Race):C(Sex)  4.599604e+05   6.0  1.043957  0.411086\n",
              "Residual                  3.084152e+06  42.0       NaN       NaN"
            ],
            "text/html": [
              "\n",
              "  <div id=\"df-675d42f1-67d8-48ae-8776-a49218317d6f\">\n",
              "    <div class=\"colab-df-container\">\n",
              "      <div>\n",
              "<style scoped>\n",
              "    .dataframe tbody tr th:only-of-type {\n",
              "        vertical-align: middle;\n",
              "    }\n",
              "\n",
              "    .dataframe tbody tr th {\n",
              "        vertical-align: top;\n",
              "    }\n",
              "\n",
              "    .dataframe thead th {\n",
              "        text-align: right;\n",
              "    }\n",
              "</style>\n",
              "<table border=\"1\" class=\"dataframe\">\n",
              "  <thead>\n",
              "    <tr style=\"text-align: right;\">\n",
              "      <th></th>\n",
              "      <th>sum_sq</th>\n",
              "      <th>df</th>\n",
              "      <th>F</th>\n",
              "      <th>PR(&gt;F)</th>\n",
              "    </tr>\n",
              "  </thead>\n",
              "  <tbody>\n",
              "    <tr>\n",
              "      <th>C(Perceived_Race)</th>\n",
              "      <td>1.430594e+06</td>\n",
              "      <td>6.0</td>\n",
              "      <td>3.246973</td>\n",
              "      <td>0.010322</td>\n",
              "    </tr>\n",
              "    <tr>\n",
              "      <th>C(Sex)</th>\n",
              "      <td>3.973230e+05</td>\n",
              "      <td>1.0</td>\n",
              "      <td>5.410748</td>\n",
              "      <td>0.024913</td>\n",
              "    </tr>\n",
              "    <tr>\n",
              "      <th>C(Perceived_Race):C(Sex)</th>\n",
              "      <td>4.599604e+05</td>\n",
              "      <td>6.0</td>\n",
              "      <td>1.043957</td>\n",
              "      <td>0.411086</td>\n",
              "    </tr>\n",
              "    <tr>\n",
              "      <th>Residual</th>\n",
              "      <td>3.084152e+06</td>\n",
              "      <td>42.0</td>\n",
              "      <td>NaN</td>\n",
              "      <td>NaN</td>\n",
              "    </tr>\n",
              "  </tbody>\n",
              "</table>\n",
              "</div>\n",
              "      <button class=\"colab-df-convert\" onclick=\"convertToInteractive('df-675d42f1-67d8-48ae-8776-a49218317d6f')\"\n",
              "              title=\"Convert this dataframe to an interactive table.\"\n",
              "              style=\"display:none;\">\n",
              "        \n",
              "  <svg xmlns=\"http://www.w3.org/2000/svg\" height=\"24px\"viewBox=\"0 0 24 24\"\n",
              "       width=\"24px\">\n",
              "    <path d=\"M0 0h24v24H0V0z\" fill=\"none\"/>\n",
              "    <path d=\"M18.56 5.44l.94 2.06.94-2.06 2.06-.94-2.06-.94-.94-2.06-.94 2.06-2.06.94zm-11 1L8.5 8.5l.94-2.06 2.06-.94-2.06-.94L8.5 2.5l-.94 2.06-2.06.94zm10 10l.94 2.06.94-2.06 2.06-.94-2.06-.94-.94-2.06-.94 2.06-2.06.94z\"/><path d=\"M17.41 7.96l-1.37-1.37c-.4-.4-.92-.59-1.43-.59-.52 0-1.04.2-1.43.59L10.3 9.45l-7.72 7.72c-.78.78-.78 2.05 0 2.83L4 21.41c.39.39.9.59 1.41.59.51 0 1.02-.2 1.41-.59l7.78-7.78 2.81-2.81c.8-.78.8-2.07 0-2.86zM5.41 20L4 18.59l7.72-7.72 1.47 1.35L5.41 20z\"/>\n",
              "  </svg>\n",
              "      </button>\n",
              "      \n",
              "  <style>\n",
              "    .colab-df-container {\n",
              "      display:flex;\n",
              "      flex-wrap:wrap;\n",
              "      gap: 12px;\n",
              "    }\n",
              "\n",
              "    .colab-df-convert {\n",
              "      background-color: #E8F0FE;\n",
              "      border: none;\n",
              "      border-radius: 50%;\n",
              "      cursor: pointer;\n",
              "      display: none;\n",
              "      fill: #1967D2;\n",
              "      height: 32px;\n",
              "      padding: 0 0 0 0;\n",
              "      width: 32px;\n",
              "    }\n",
              "\n",
              "    .colab-df-convert:hover {\n",
              "      background-color: #E2EBFA;\n",
              "      box-shadow: 0px 1px 2px rgba(60, 64, 67, 0.3), 0px 1px 3px 1px rgba(60, 64, 67, 0.15);\n",
              "      fill: #174EA6;\n",
              "    }\n",
              "\n",
              "    [theme=dark] .colab-df-convert {\n",
              "      background-color: #3B4455;\n",
              "      fill: #D2E3FC;\n",
              "    }\n",
              "\n",
              "    [theme=dark] .colab-df-convert:hover {\n",
              "      background-color: #434B5C;\n",
              "      box-shadow: 0px 1px 3px 1px rgba(0, 0, 0, 0.15);\n",
              "      filter: drop-shadow(0px 1px 2px rgba(0, 0, 0, 0.3));\n",
              "      fill: #FFFFFF;\n",
              "    }\n",
              "  </style>\n",
              "\n",
              "      <script>\n",
              "        const buttonEl =\n",
              "          document.querySelector('#df-675d42f1-67d8-48ae-8776-a49218317d6f button.colab-df-convert');\n",
              "        buttonEl.style.display =\n",
              "          google.colab.kernel.accessAllowed ? 'block' : 'none';\n",
              "\n",
              "        async function convertToInteractive(key) {\n",
              "          const element = document.querySelector('#df-675d42f1-67d8-48ae-8776-a49218317d6f');\n",
              "          const dataTable =\n",
              "            await google.colab.kernel.invokeFunction('convertToInteractive',\n",
              "                                                     [key], {});\n",
              "          if (!dataTable) return;\n",
              "\n",
              "          const docLinkHtml = 'Like what you see? Visit the ' +\n",
              "            '<a target=\"_blank\" href=https://colab.research.google.com/notebooks/data_table.ipynb>data table notebook</a>'\n",
              "            + ' to learn more about interactive tables.';\n",
              "          element.innerHTML = '';\n",
              "          dataTable['output_type'] = 'display_data';\n",
              "          await google.colab.output.renderOutput(dataTable, element);\n",
              "          const docLink = document.createElement('div');\n",
              "          docLink.innerHTML = docLinkHtml;\n",
              "          element.appendChild(docLink);\n",
              "        }\n",
              "      </script>\n",
              "    </div>\n",
              "  </div>\n",
              "  "
            ]
          },
          "metadata": {},
          "execution_count": 83
        }
      ]
    },
    {
      "cell_type": "code",
      "source": [
        "#Tukey HSD\n",
        "mc = MultiComparison(negativebehaviour1['Negative_Behaviour_at_Arrest'], negativebehaviour1['Sex'].astype(str) + ',' +  negativebehaviour1['Perceived_Race'].astype(str))\n",
        "tukey_result2 = mc.tukeyhsd()\n",
        "print(tukey_result2)"
      ],
      "metadata": {
        "colab": {
          "base_uri": "https://localhost:8080/"
        },
        "id": "SRhOcrkC3Apo",
        "outputId": "2d7567b5-96d5-4c12-f615-42b65296c224"
      },
      "execution_count": null,
      "outputs": [
        {
          "output_type": "stream",
          "name": "stdout",
          "text": [
            "                   Multiple Comparison of Means - Tukey HSD, FWER=0.05                   \n",
            "=========================================================================================\n",
            "        group1                 group2         meandiff p-adj    lower      upper   reject\n",
            "-----------------------------------------------------------------------------------------\n",
            "               F,Black F,East/Southeast Asian   -109.5    1.0  -790.9216  571.9216  False\n",
            "               F,Black           F,Indigenous   -94.75    1.0  -776.1716  586.6716  False\n",
            "               F,Black               F,Latino   -112.5    1.0  -793.9216  568.9216  False\n",
            "               F,Black       F,Middle-Eastern  -111.25    1.0  -792.6716  570.1716  False\n",
            "               F,Black          F,South Asian  -111.25    1.0  -792.6716  570.1716  False\n",
            "               F,Black                F,White    78.25    1.0  -603.1716  759.6716  False\n",
            "               F,Black                M,Black    392.5 0.7295  -288.9216 1073.9216  False\n",
            "               F,Black M,East/Southeast Asian   -39.75    1.0  -721.1716  641.6716  False\n",
            "               F,Black           M,Indigenous   -49.25    1.0  -730.6716  632.1716  False\n",
            "               F,Black               M,Latino   -81.75    1.0  -763.1716  599.6716  False\n",
            "               F,Black       M,Middle-Eastern   -39.75    1.0  -721.1716  641.6716  False\n",
            "               F,Black          M,South Asian   -49.75    1.0  -731.1716  631.6716  False\n",
            "               F,Black                M,White    586.0 0.1584   -95.4216 1267.4216  False\n",
            "F,East/Southeast Asian           F,Indigenous    14.75    1.0  -666.6716  696.1716  False\n",
            "F,East/Southeast Asian               F,Latino     -3.0    1.0  -684.4216  678.4216  False\n",
            "F,East/Southeast Asian       F,Middle-Eastern    -1.75    1.0  -683.1716  679.6716  False\n",
            "F,East/Southeast Asian          F,South Asian    -1.75    1.0  -683.1716  679.6716  False\n",
            "F,East/Southeast Asian                F,White   187.75 0.9991  -493.6716  869.1716  False\n",
            "F,East/Southeast Asian                M,Black    502.0  0.359  -179.4216 1183.4216  False\n",
            "F,East/Southeast Asian M,East/Southeast Asian    69.75    1.0  -611.6716  751.1716  False\n",
            "F,East/Southeast Asian           M,Indigenous    60.25    1.0  -621.1716  741.6716  False\n",
            "F,East/Southeast Asian               M,Latino    27.75    1.0  -653.6716  709.1716  False\n",
            "F,East/Southeast Asian       M,Middle-Eastern    69.75    1.0  -611.6716  751.1716  False\n",
            "F,East/Southeast Asian          M,South Asian    59.75    1.0  -621.6716  741.1716  False\n",
            "F,East/Southeast Asian                M,White    695.5 0.0415    14.0784 1376.9216   True\n",
            "          F,Indigenous               F,Latino   -17.75    1.0  -699.1716  663.6716  False\n",
            "          F,Indigenous       F,Middle-Eastern    -16.5    1.0  -697.9216  664.9216  False\n",
            "          F,Indigenous          F,South Asian    -16.5    1.0  -697.9216  664.9216  False\n",
            "          F,Indigenous                F,White    173.0 0.9996  -508.4216  854.4216  False\n",
            "          F,Indigenous                M,Black   487.25 0.4051  -194.1716 1168.6716  False\n",
            "          F,Indigenous M,East/Southeast Asian     55.0    1.0  -626.4216  736.4216  False\n",
            "          F,Indigenous           M,Indigenous     45.5    1.0  -635.9216  726.9216  False\n",
            "          F,Indigenous               M,Latino     13.0    1.0  -668.4216  694.4216  False\n",
            "          F,Indigenous       M,Middle-Eastern     55.0    1.0  -626.4216  736.4216  False\n",
            "          F,Indigenous          M,South Asian     45.0    1.0  -636.4216  726.4216  False\n",
            "          F,Indigenous                M,White   680.75 0.0504    -0.6716 1362.1716  False\n",
            "              F,Latino       F,Middle-Eastern     1.25    1.0  -680.1716  682.6716  False\n",
            "              F,Latino          F,South Asian     1.25    1.0  -680.1716  682.6716  False\n",
            "              F,Latino                F,White   190.75  0.999  -490.6716  872.1716  False\n",
            "              F,Latino                M,Black    505.0   0.35  -176.4216 1186.4216  False\n",
            "              F,Latino M,East/Southeast Asian    72.75    1.0  -608.6716  754.1716  False\n",
            "              F,Latino           M,Indigenous    63.25    1.0  -618.1716  744.6716  False\n",
            "              F,Latino               M,Latino    30.75    1.0  -650.6716  712.1716  False\n",
            "              F,Latino       M,Middle-Eastern    72.75    1.0  -608.6716  754.1716  False\n",
            "              F,Latino          M,South Asian    62.75    1.0  -618.6716  744.1716  False\n",
            "              F,Latino                M,White    698.5 0.0399    17.0784 1379.9216   True\n",
            "      F,Middle-Eastern          F,South Asian      0.0    1.0  -681.4216  681.4216  False\n",
            "      F,Middle-Eastern                F,White    189.5 0.9991  -491.9216  870.9216  False\n",
            "      F,Middle-Eastern                M,Black   503.75 0.3538  -177.6716 1185.1716  False\n",
            "      F,Middle-Eastern M,East/Southeast Asian     71.5    1.0  -609.9216  752.9216  False\n",
            "      F,Middle-Eastern           M,Indigenous     62.0    1.0  -619.4216  743.4216  False\n",
            "      F,Middle-Eastern               M,Latino     29.5    1.0  -651.9216  710.9216  False\n",
            "      F,Middle-Eastern       M,Middle-Eastern     71.5    1.0  -609.9216  752.9216  False\n",
            "      F,Middle-Eastern          M,South Asian     61.5    1.0  -619.9216  742.9216  False\n",
            "      F,Middle-Eastern                M,White   697.25 0.0405    15.8284 1378.6716   True\n",
            "         F,South Asian                F,White    189.5 0.9991  -491.9216  870.9216  False\n",
            "         F,South Asian                M,Black   503.75 0.3538  -177.6716 1185.1716  False\n",
            "         F,South Asian M,East/Southeast Asian     71.5    1.0  -609.9216  752.9216  False\n",
            "         F,South Asian           M,Indigenous     62.0    1.0  -619.4216  743.4216  False\n",
            "         F,South Asian               M,Latino     29.5    1.0  -651.9216  710.9216  False\n",
            "         F,South Asian       M,Middle-Eastern     71.5    1.0  -609.9216  752.9216  False\n",
            "         F,South Asian          M,South Asian     61.5    1.0  -619.9216  742.9216  False\n",
            "         F,South Asian                M,White   697.25 0.0405    15.8284 1378.6716   True\n",
            "               F,White                M,Black   314.25 0.9246  -367.1716  995.6716  False\n",
            "               F,White M,East/Southeast Asian   -118.0    1.0  -799.4216  563.4216  False\n",
            "               F,White           M,Indigenous   -127.5    1.0  -808.9216  553.9216  False\n",
            "               F,White               M,Latino   -160.0 0.9998  -841.4216  521.4216  False\n",
            "               F,White       M,Middle-Eastern   -118.0    1.0  -799.4216  563.4216  False\n",
            "               F,White          M,South Asian   -128.0    1.0  -809.4216  553.4216  False\n",
            "               F,White                M,White   507.75 0.3418  -173.6716 1189.1716  False\n",
            "               M,Black M,East/Southeast Asian  -432.25 0.5938 -1113.6716  249.1716  False\n",
            "               M,Black           M,Indigenous  -441.75 0.5603 -1123.1716  239.6716  False\n",
            "               M,Black               M,Latino  -474.25 0.4478 -1155.6716  207.1716  False\n",
            "               M,Black       M,Middle-Eastern  -432.25 0.5938 -1113.6716  249.1716  False\n",
            "               M,Black          M,South Asian  -442.25 0.5585 -1123.6716  239.1716  False\n",
            "               M,Black                M,White    193.5 0.9988  -487.9216  874.9216  False\n",
            "M,East/Southeast Asian           M,Indigenous     -9.5    1.0  -690.9216  671.9216  False\n",
            "M,East/Southeast Asian               M,Latino    -42.0    1.0  -723.4216  639.4216  False\n",
            "M,East/Southeast Asian       M,Middle-Eastern      0.0    1.0  -681.4216  681.4216  False\n",
            "M,East/Southeast Asian          M,South Asian    -10.0    1.0  -691.4216  671.4216  False\n",
            "M,East/Southeast Asian                M,White   625.75 0.1004   -55.6716 1307.1716  False\n",
            "          M,Indigenous               M,Latino    -32.5    1.0  -713.9216  648.9216  False\n",
            "          M,Indigenous       M,Middle-Eastern      9.5    1.0  -671.9216  690.9216  False\n",
            "          M,Indigenous          M,South Asian     -0.5    1.0  -681.9216  680.9216  False\n",
            "          M,Indigenous                M,White   635.25 0.0896   -46.1716 1316.6716  False\n",
            "              M,Latino       M,Middle-Eastern     42.0    1.0  -639.4216  723.4216  False\n",
            "              M,Latino          M,South Asian     32.0    1.0  -649.4216  713.4216  False\n",
            "              M,Latino                M,White   667.75 0.0597   -13.6716 1349.1716  False\n",
            "      M,Middle-Eastern          M,South Asian    -10.0    1.0  -691.4216  671.4216  False\n",
            "      M,Middle-Eastern                M,White   625.75 0.1004   -55.6716 1307.1716  False\n",
            "         M,South Asian                M,White   635.75 0.0891   -45.6716 1317.1716  False\n",
            "-----------------------------------------------------------------------------------------\n"
          ]
        }
      ]
    },
    {
      "cell_type": "markdown",
      "source": [
        "### Interaction plots: Sex and Perceived Race on negative behavior at the time of arrests\n"
      ],
      "metadata": {
        "id": "we0IMZTpPPqf"
      }
    },
    {
      "cell_type": "code",
      "source": [
        "fig, ax = plt.subplots(figsize=(12, 8))\n",
        "Race = negativebehaviour1['Perceived_Race'].astype(\"category\")\n",
        "neg_behavior = negativebehaviour1['Negative_Behaviour_at_Arrest'].values\n",
        "\n",
        "sex_race_interact_arrests = interaction_plot(negativebehaviour1['Sex'], Race, neg_behavior, colors=['red','blue','green','yellow','purple','orange','black'], markers=['o','s','d','^','v','+','x'], ms=12,ax=ax)\n",
        "\n",
        "plt.ylabel('Negative Behavior at arrests')\n",
        "plt.xlabel('Gender')\n",
        "plt.title('Interaction Plot: Sex and Perceived Race on Negative Behavior at arrests', fontweight='bold')\n",
        "plt.xticks(rotation=45, ha = 'right')\n",
        "plt.show()"
      ],
      "metadata": {
        "id": "AdzeCIiMibCM",
        "colab": {
          "base_uri": "https://localhost:8080/",
          "height": 723
        },
        "outputId": "89e85452-3477-4127-8a33-1df550b56078"
      },
      "execution_count": null,
      "outputs": [
        {
          "output_type": "display_data",
          "data": {
            "text/plain": [
              "<Figure size 1200x800 with 1 Axes>"
            ],
            "image/png": "[encoded data removed]"
          },
          "metadata": {}
        }
      ]
    }
  ]
}